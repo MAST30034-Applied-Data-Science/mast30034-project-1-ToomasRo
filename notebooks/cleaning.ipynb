{
 "cells": [
  {
   "cell_type": "code",
   "execution_count": 10,
   "metadata": {},
   "outputs": [],
   "source": [
    "import pandas as pd\n",
    "import geopandas as gpd\n",
    "import numpy as np \n",
    "import os \n",
    "import matplotlib.pyplot as plt\n",
    "import seaborn as sns     "
   ]
  },
  {
   "cell_type": "code",
   "execution_count": 11,
   "metadata": {},
   "outputs": [],
   "source": [
    "# Sample connection\n",
    "from pyspark.sql import SparkSession\n",
    "\n",
    "# Create a spark session (which will run spark jobs)\n",
    "spark = (\n",
    "    SparkSession.builder.appName(\"Cleaning connection\")\n",
    "    .config(\"spark.sql.repl.eagerEval.enabled\", True) \n",
    "    .config(\"spark.sql.parquet.cacheMetadata\", \"true\")\n",
    "    .config(\"spark.sql.session.timeZone\", \"Etc/UTC\")\n",
    "    .config(\"spark.driver.memory\", \"4g\")\n",
    "    .config(\"spark.executor.memory\", \"8g\")\n",
    "    .getOrCreate()\n",
    ")"
   ]
  },
  {
   "cell_type": "markdown",
   "metadata": {},
   "source": [
    "# Preparing weather data"
   ]
  },
  {
   "cell_type": "code",
   "execution_count": 19,
   "metadata": {},
   "outputs": [
    {
     "name": "stderr",
     "output_type": "stream",
     "text": [
      "/tmp/ipykernel_223/3092311829.py:2: DtypeWarning: Columns (44,45,46) have mixed types. Specify dtype option on import or set low_memory=False.\n",
      "  df = pd.read_csv('../data/laguardia.csv')\n"
     ]
    },
    {
     "data": {
      "text/html": [
       "<div>\n",
       "<style scoped>\n",
       "    .dataframe tbody tr th:only-of-type {\n",
       "        vertical-align: middle;\n",
       "    }\n",
       "\n",
       "    .dataframe tbody tr th {\n",
       "        vertical-align: top;\n",
       "    }\n",
       "\n",
       "    .dataframe thead th {\n",
       "        text-align: right;\n",
       "    }\n",
       "</style>\n",
       "<table border=\"1\" class=\"dataframe\">\n",
       "  <thead>\n",
       "    <tr style=\"text-align: right;\">\n",
       "      <th></th>\n",
       "      <th>station</th>\n",
       "      <th>date</th>\n",
       "      <th>source</th>\n",
       "      <th>latitude</th>\n",
       "      <th>longitude</th>\n",
       "      <th>elevation</th>\n",
       "      <th>name</th>\n",
       "      <th>call_sign</th>\n",
       "      <th>quality_control</th>\n",
       "      <th>wnd</th>\n",
       "      <th>...</th>\n",
       "      <th>oc1</th>\n",
       "      <th>od1</th>\n",
       "      <th>oe1</th>\n",
       "      <th>oe2</th>\n",
       "      <th>oe3</th>\n",
       "      <th>rh1</th>\n",
       "      <th>rh2</th>\n",
       "      <th>rh3</th>\n",
       "      <th>rem</th>\n",
       "      <th>eqd</th>\n",
       "    </tr>\n",
       "  </thead>\n",
       "  <tbody>\n",
       "    <tr>\n",
       "      <th>0</th>\n",
       "      <td>72503014732</td>\n",
       "      <td>2019-01-01T00:00:00</td>\n",
       "      <td>4</td>\n",
       "      <td>40.77944</td>\n",
       "      <td>-73.88035</td>\n",
       "      <td>3.4</td>\n",
       "      <td>LAGUARDIA AIRPORT, NY US</td>\n",
       "      <td>99999</td>\n",
       "      <td>V020</td>\n",
       "      <td>130,1,N,0041,1</td>\n",
       "      <td>...</td>\n",
       "      <td>NaN</td>\n",
       "      <td>NaN</td>\n",
       "      <td>NaN</td>\n",
       "      <td>NaN</td>\n",
       "      <td>NaN</td>\n",
       "      <td>NaN</td>\n",
       "      <td>NaN</td>\n",
       "      <td>NaN</td>\n",
       "      <td>SYN09872503 11358 81308 10067 20050 30189 4020...</td>\n",
       "      <td>NaN</td>\n",
       "    </tr>\n",
       "    <tr>\n",
       "      <th>1</th>\n",
       "      <td>72503014732</td>\n",
       "      <td>2019-01-01T00:49:00</td>\n",
       "      <td>6</td>\n",
       "      <td>40.77944</td>\n",
       "      <td>-73.88035</td>\n",
       "      <td>3.4</td>\n",
       "      <td>LAGUARDIA AIRPORT, NY US</td>\n",
       "      <td>KLGA</td>\n",
       "      <td>V030</td>\n",
       "      <td>140,5,N,0067,5</td>\n",
       "      <td>...</td>\n",
       "      <td>0103,5</td>\n",
       "      <td>NaN</td>\n",
       "      <td>NaN</td>\n",
       "      <td>NaN</td>\n",
       "      <td>NaN</td>\n",
       "      <td>NaN</td>\n",
       "      <td>NaN</td>\n",
       "      <td>NaN</td>\n",
       "      <td>MET13312/31/18 19:49:03 SPECI KLGA 010049Z 140...</td>\n",
       "      <td>NaN</td>\n",
       "    </tr>\n",
       "    <tr>\n",
       "      <th>2</th>\n",
       "      <td>72503014732</td>\n",
       "      <td>2019-01-01T00:51:00</td>\n",
       "      <td>7</td>\n",
       "      <td>40.77944</td>\n",
       "      <td>-73.88035</td>\n",
       "      <td>3.4</td>\n",
       "      <td>LAGUARDIA AIRPORT, NY US</td>\n",
       "      <td>KLGA</td>\n",
       "      <td>V030</td>\n",
       "      <td>130,5,N,0067,5</td>\n",
       "      <td>...</td>\n",
       "      <td>0103,5</td>\n",
       "      <td>NaN</td>\n",
       "      <td>NaN</td>\n",
       "      <td>NaN</td>\n",
       "      <td>NaN</td>\n",
       "      <td>NaN</td>\n",
       "      <td>NaN</td>\n",
       "      <td>NaN</td>\n",
       "      <td>MET13912/31/18 19:51:01 METAR KLGA 010051Z 130...</td>\n",
       "      <td>NaN</td>\n",
       "    </tr>\n",
       "    <tr>\n",
       "      <th>3</th>\n",
       "      <td>72503014732</td>\n",
       "      <td>2019-01-01T01:15:00</td>\n",
       "      <td>7</td>\n",
       "      <td>40.77944</td>\n",
       "      <td>-73.88035</td>\n",
       "      <td>3.4</td>\n",
       "      <td>LAGUARDIA AIRPORT, NY US</td>\n",
       "      <td>KLGA</td>\n",
       "      <td>V030</td>\n",
       "      <td>140,5,N,0046,5</td>\n",
       "      <td>...</td>\n",
       "      <td>0088,5</td>\n",
       "      <td>NaN</td>\n",
       "      <td>NaN</td>\n",
       "      <td>NaN</td>\n",
       "      <td>NaN</td>\n",
       "      <td>NaN</td>\n",
       "      <td>NaN</td>\n",
       "      <td>NaN</td>\n",
       "      <td>MET11212/31/18 20:15:01 SPECI KLGA 010115Z 140...</td>\n",
       "      <td>NaN</td>\n",
       "    </tr>\n",
       "    <tr>\n",
       "      <th>4</th>\n",
       "      <td>72503014732</td>\n",
       "      <td>2019-01-01T01:25:00</td>\n",
       "      <td>7</td>\n",
       "      <td>40.77944</td>\n",
       "      <td>-73.88035</td>\n",
       "      <td>3.4</td>\n",
       "      <td>LAGUARDIA AIRPORT, NY US</td>\n",
       "      <td>KLGA</td>\n",
       "      <td>V030</td>\n",
       "      <td>130,5,N,0051,5</td>\n",
       "      <td>...</td>\n",
       "      <td>NaN</td>\n",
       "      <td>NaN</td>\n",
       "      <td>NaN</td>\n",
       "      <td>NaN</td>\n",
       "      <td>NaN</td>\n",
       "      <td>NaN</td>\n",
       "      <td>NaN</td>\n",
       "      <td>NaN</td>\n",
       "      <td>MET11912/31/18 20:25:01 SPECI KLGA 010125Z 130...</td>\n",
       "      <td>NaN</td>\n",
       "    </tr>\n",
       "  </tbody>\n",
       "</table>\n",
       "<p>5 rows × 101 columns</p>\n",
       "</div>"
      ],
      "text/plain": [
       "       station                 date  source  latitude  longitude  elevation  \\\n",
       "0  72503014732  2019-01-01T00:00:00       4  40.77944  -73.88035        3.4   \n",
       "1  72503014732  2019-01-01T00:49:00       6  40.77944  -73.88035        3.4   \n",
       "2  72503014732  2019-01-01T00:51:00       7  40.77944  -73.88035        3.4   \n",
       "3  72503014732  2019-01-01T01:15:00       7  40.77944  -73.88035        3.4   \n",
       "4  72503014732  2019-01-01T01:25:00       7  40.77944  -73.88035        3.4   \n",
       "\n",
       "                       name call_sign quality_control             wnd  ...  \\\n",
       "0  LAGUARDIA AIRPORT, NY US     99999            V020  130,1,N,0041,1  ...   \n",
       "1  LAGUARDIA AIRPORT, NY US     KLGA             V030  140,5,N,0067,5  ...   \n",
       "2  LAGUARDIA AIRPORT, NY US     KLGA             V030  130,5,N,0067,5  ...   \n",
       "3  LAGUARDIA AIRPORT, NY US     KLGA             V030  140,5,N,0046,5  ...   \n",
       "4  LAGUARDIA AIRPORT, NY US     KLGA             V030  130,5,N,0051,5  ...   \n",
       "\n",
       "      oc1  od1  oe1  oe2  oe3  rh1  rh2  rh3  \\\n",
       "0     NaN  NaN  NaN  NaN  NaN  NaN  NaN  NaN   \n",
       "1  0103,5  NaN  NaN  NaN  NaN  NaN  NaN  NaN   \n",
       "2  0103,5  NaN  NaN  NaN  NaN  NaN  NaN  NaN   \n",
       "3  0088,5  NaN  NaN  NaN  NaN  NaN  NaN  NaN   \n",
       "4     NaN  NaN  NaN  NaN  NaN  NaN  NaN  NaN   \n",
       "\n",
       "                                                 rem  eqd  \n",
       "0  SYN09872503 11358 81308 10067 20050 30189 4020...  NaN  \n",
       "1  MET13312/31/18 19:49:03 SPECI KLGA 010049Z 140...  NaN  \n",
       "2  MET13912/31/18 19:51:01 METAR KLGA 010051Z 130...  NaN  \n",
       "3  MET11212/31/18 20:15:01 SPECI KLGA 010115Z 140...  NaN  \n",
       "4  MET11912/31/18 20:25:01 SPECI KLGA 010125Z 130...  NaN  \n",
       "\n",
       "[5 rows x 101 columns]"
      ]
     },
     "execution_count": 19,
     "metadata": {},
     "output_type": "execute_result"
    }
   ],
   "source": [
    "# Looking at the weather data and keeping columns with data\n",
    "df = pd.read_csv('../data/laguardia.csv')\n",
    "df.rename(str.lower, axis='columns', inplace=True)\n",
    "df = df[df.report_type.isin(['FM-12', 'FM-15', 'FM-16'])]\n",
    "df.drop('report_type', axis=1, inplace=True)\n",
    "df.head()"
   ]
  },
  {
   "cell_type": "code",
   "execution_count": 20,
   "metadata": {},
   "outputs": [
    {
     "data": {
      "text/html": [
       "<div>\n",
       "<style scoped>\n",
       "    .dataframe tbody tr th:only-of-type {\n",
       "        vertical-align: middle;\n",
       "    }\n",
       "\n",
       "    .dataframe tbody tr th {\n",
       "        vertical-align: top;\n",
       "    }\n",
       "\n",
       "    .dataframe thead th {\n",
       "        text-align: right;\n",
       "    }\n",
       "</style>\n",
       "<table border=\"1\" class=\"dataframe\">\n",
       "  <thead>\n",
       "    <tr style=\"text-align: right;\">\n",
       "      <th></th>\n",
       "      <th>date</th>\n",
       "      <th>wnd</th>\n",
       "      <th>vis</th>\n",
       "      <th>tmp</th>\n",
       "      <th>dew</th>\n",
       "      <th>slp</th>\n",
       "      <th>ga1</th>\n",
       "    </tr>\n",
       "  </thead>\n",
       "  <tbody>\n",
       "    <tr>\n",
       "      <th>0</th>\n",
       "      <td>2019-01-01T00:00:00</td>\n",
       "      <td>130,1,N,0041,1</td>\n",
       "      <td>008000,1,9,9</td>\n",
       "      <td>+0067,1</td>\n",
       "      <td>+0050,1</td>\n",
       "      <td>10201,1</td>\n",
       "      <td>99,9,+00250,1,99,9</td>\n",
       "    </tr>\n",
       "    <tr>\n",
       "      <th>1</th>\n",
       "      <td>2019-01-01T00:49:00</td>\n",
       "      <td>140,5,N,0067,5</td>\n",
       "      <td>003219,5,N,5</td>\n",
       "      <td>+0070,5</td>\n",
       "      <td>+0050,5</td>\n",
       "      <td>99999,9</td>\n",
       "      <td>07,5,+00244,5,99,9</td>\n",
       "    </tr>\n",
       "    <tr>\n",
       "      <th>2</th>\n",
       "      <td>2019-01-01T00:51:00</td>\n",
       "      <td>130,5,N,0067,5</td>\n",
       "      <td>003219,5,N,5</td>\n",
       "      <td>+0067,5</td>\n",
       "      <td>+0050,5</td>\n",
       "      <td>10181,5</td>\n",
       "      <td>07,5,+00244,5,99,9</td>\n",
       "    </tr>\n",
       "    <tr>\n",
       "      <th>3</th>\n",
       "      <td>2019-01-01T01:15:00</td>\n",
       "      <td>140,5,N,0046,5</td>\n",
       "      <td>011265,5,N,5</td>\n",
       "      <td>+0072,5</td>\n",
       "      <td>+0056,5</td>\n",
       "      <td>99999,9</td>\n",
       "      <td>07,5,+00244,5,99,9</td>\n",
       "    </tr>\n",
       "    <tr>\n",
       "      <th>4</th>\n",
       "      <td>2019-01-01T01:25:00</td>\n",
       "      <td>130,5,N,0051,5</td>\n",
       "      <td>002414,5,N,5</td>\n",
       "      <td>+0072,5</td>\n",
       "      <td>+0056,5</td>\n",
       "      <td>99999,9</td>\n",
       "      <td>07,5,+00244,5,99,9</td>\n",
       "    </tr>\n",
       "    <tr>\n",
       "      <th>...</th>\n",
       "      <td>...</td>\n",
       "      <td>...</td>\n",
       "      <td>...</td>\n",
       "      <td>...</td>\n",
       "      <td>...</td>\n",
       "      <td>...</td>\n",
       "      <td>...</td>\n",
       "    </tr>\n",
       "    <tr>\n",
       "      <th>14076</th>\n",
       "      <td>2019-12-31T20:51:00</td>\n",
       "      <td>240,5,N,0046,5</td>\n",
       "      <td>016093,5,N,5</td>\n",
       "      <td>+0072,5</td>\n",
       "      <td>+0011,5</td>\n",
       "      <td>10028,5</td>\n",
       "      <td>04,5,+01036,5,99,9</td>\n",
       "    </tr>\n",
       "    <tr>\n",
       "      <th>14077</th>\n",
       "      <td>2019-12-31T21:00:00</td>\n",
       "      <td>240,1,N,0046,1</td>\n",
       "      <td>016000,1,9,9</td>\n",
       "      <td>+0072,1</td>\n",
       "      <td>+0011,1</td>\n",
       "      <td>10028,1</td>\n",
       "      <td>99,9,+01250,1,99,9</td>\n",
       "    </tr>\n",
       "    <tr>\n",
       "      <th>14078</th>\n",
       "      <td>2019-12-31T21:51:00</td>\n",
       "      <td>250,5,N,0062,5</td>\n",
       "      <td>016093,5,N,5</td>\n",
       "      <td>+0072,5</td>\n",
       "      <td>+0000,5</td>\n",
       "      <td>10033,5</td>\n",
       "      <td>02,5,+00914,5,99,9</td>\n",
       "    </tr>\n",
       "    <tr>\n",
       "      <th>14079</th>\n",
       "      <td>2019-12-31T22:51:00</td>\n",
       "      <td>240,5,N,0046,5</td>\n",
       "      <td>016093,5,N,5</td>\n",
       "      <td>+0072,5</td>\n",
       "      <td>+0006,5</td>\n",
       "      <td>10036,5</td>\n",
       "      <td>07,5,+00914,5,99,9</td>\n",
       "    </tr>\n",
       "    <tr>\n",
       "      <th>14080</th>\n",
       "      <td>2019-12-31T23:51:00</td>\n",
       "      <td>220,5,N,0046,5</td>\n",
       "      <td>016093,5,N,5</td>\n",
       "      <td>+0067,5</td>\n",
       "      <td>+0017,5</td>\n",
       "      <td>10033,5</td>\n",
       "      <td>04,5,+01829,5,99,9</td>\n",
       "    </tr>\n",
       "  </tbody>\n",
       "</table>\n",
       "<p>13691 rows × 7 columns</p>\n",
       "</div>"
      ],
      "text/plain": [
       "                      date             wnd           vis      tmp      dew  \\\n",
       "0      2019-01-01T00:00:00  130,1,N,0041,1  008000,1,9,9  +0067,1  +0050,1   \n",
       "1      2019-01-01T00:49:00  140,5,N,0067,5  003219,5,N,5  +0070,5  +0050,5   \n",
       "2      2019-01-01T00:51:00  130,5,N,0067,5  003219,5,N,5  +0067,5  +0050,5   \n",
       "3      2019-01-01T01:15:00  140,5,N,0046,5  011265,5,N,5  +0072,5  +0056,5   \n",
       "4      2019-01-01T01:25:00  130,5,N,0051,5  002414,5,N,5  +0072,5  +0056,5   \n",
       "...                    ...             ...           ...      ...      ...   \n",
       "14076  2019-12-31T20:51:00  240,5,N,0046,5  016093,5,N,5  +0072,5  +0011,5   \n",
       "14077  2019-12-31T21:00:00  240,1,N,0046,1  016000,1,9,9  +0072,1  +0011,1   \n",
       "14078  2019-12-31T21:51:00  250,5,N,0062,5  016093,5,N,5  +0072,5  +0000,5   \n",
       "14079  2019-12-31T22:51:00  240,5,N,0046,5  016093,5,N,5  +0072,5  +0006,5   \n",
       "14080  2019-12-31T23:51:00  220,5,N,0046,5  016093,5,N,5  +0067,5  +0017,5   \n",
       "\n",
       "           slp                 ga1  \n",
       "0      10201,1  99,9,+00250,1,99,9  \n",
       "1      99999,9  07,5,+00244,5,99,9  \n",
       "2      10181,5  07,5,+00244,5,99,9  \n",
       "3      99999,9  07,5,+00244,5,99,9  \n",
       "4      99999,9  07,5,+00244,5,99,9  \n",
       "...        ...                 ...  \n",
       "14076  10028,5  04,5,+01036,5,99,9  \n",
       "14077  10028,1  99,9,+01250,1,99,9  \n",
       "14078  10033,5  02,5,+00914,5,99,9  \n",
       "14079  10036,5  07,5,+00914,5,99,9  \n",
       "14080  10033,5  04,5,+01829,5,99,9  \n",
       "\n",
       "[13691 rows x 7 columns]"
      ]
     },
     "execution_count": 20,
     "metadata": {},
     "output_type": "execute_result"
    }
   ],
   "source": [
    "# keeping potentially relevant columns\n",
    "df = df[['date', 'wnd', 'vis', 'tmp', 'dew', 'slp', 'ga1',]]\n",
    "\n",
    "# loosely transcribed meaning of columns:\n",
    "\n",
    "# wnd = wind angle clockwise,  quality code, wind obs type, WIND-OBSERVATION speed rate (x10), quality # 9999 missing\n",
    "\n",
    "# vis = visibility distance, quality, variability, obs qual  # 999999=missing\n",
    "\n",
    "# tmp = temp (x10), #+9999=missing\n",
    "# dew = dewpoint(x10), #+9999=missing [dew point temperature The temperature to which a given parcel of air must be cooled at constant pressure and water vapor content in order for saturation to occur\n",
    "\n",
    "# slp = atm pressure (x10), # 99999 = missing           [seal level pressure]\n",
    "# ga1 = cloud cover (scale 0-8, 9&10=obstructed), quality, base height, quality, cloud type, quality\n",
    "\n",
    "\n",
    "# Maybe interesting columns:\n",
    "# mw1 = weather name, quality\n",
    "# oc1 = kui suured tuulepuhangud on (x10), quality\n",
    "\n",
    "# df.drop(['source', 'station', 'latitude', 'longitude', 'name', 'elevation', 'call_sign', 'quality_control', 'cig', 'aa1', 'aa2', 'aa3', 'ab1', 'ad1', 'ae1', 'ah1', 'ah2', 'ah3', 'ah4', 'ah5', 'ah6', 'ai1', 'ai2', 'ai3', 'ai4', 'ai5', 'ai6', 'aj1', 'ak1', 'al1', 'am1', 'an1', 'at1', 'at2', 'at3', 'at4', 'at5', 'at6', 'at7', 'at8', 'au1', 'au2', 'au3', 'au4', 'aw1', 'aw2', 'aw3', 'aw4', 'aw5','ax1', 'ax2', 'ax3', 'ax4', 'ed1', 'ga2', 'ga3', 'gd1', 'gd2', 'gd3', 'gd4', 'ge1', 'gf1', 'ka1', 'ka2', 'kb1','kb2','kb3','kc1','kc2','kd1','kd2','ke1','kg1','kg2','ma1','md1', 'mf1','mg1','mh1','mk1','mv1','mw1','mw2','mw3','oc1','od1','oe1','oe2','oe3','rh1','rh2','rh3','rem','eqd'], axis=1)\n",
    "df"
   ]
  },
  {
   "cell_type": "code",
   "execution_count": 21,
   "metadata": {},
   "outputs": [],
   "source": [
    "# spliting out the relevant information\n",
    "df['date'] = df['date'] = pd.to_datetime(df['date'])\n",
    "df['wnd'] = df['wnd'].str.split(',', expand=True)[3].astype(np.uint32)      # unit: m/s, scaling factor:10,     missing: 9999\n",
    "df['vis'] = df['vis'].str.split(',', expand=True)[0].astype(np.uint32)      # unit: m,                          \n",
    "df['tmp'] = df['tmp'].str.split(',', expand=True)[0].astype(np.int32)       # unit: C, scaling factor:10,       missing: 9999\n",
    "df['dew'] = df['dew'].str.split(',', expand=True)[0].astype(np.int32)       # unit: C, scaling factor:10,       missing: 9999\n",
    "df['atm'] = df['slp'].str.split(',', expand=True)[0].astype(np.uint32)      # unit: hP, scaling factor:10,      missing: 99999\n",
    "df['ga1'].fillna('99,x', inplace=True)\n",
    "df['cc'] = df['ga1'].str.split(',', expand=True)[0].astype(np.uint32).astype('category') # cloud coverage: unit: okta (0 clear -> 8 covered), 99 missing\n",
    "df.drop(['slp', 'ga1'], axis=1, inplace=True)"
   ]
  },
  {
   "cell_type": "code",
   "execution_count": 22,
   "metadata": {},
   "outputs": [
    {
     "data": {
      "text/html": [
       "<div>\n",
       "<style scoped>\n",
       "    .dataframe tbody tr th:only-of-type {\n",
       "        vertical-align: middle;\n",
       "    }\n",
       "\n",
       "    .dataframe tbody tr th {\n",
       "        vertical-align: top;\n",
       "    }\n",
       "\n",
       "    .dataframe thead th {\n",
       "        text-align: right;\n",
       "    }\n",
       "</style>\n",
       "<table border=\"1\" class=\"dataframe\">\n",
       "  <thead>\n",
       "    <tr style=\"text-align: right;\">\n",
       "      <th></th>\n",
       "      <th>date</th>\n",
       "      <th>wnd</th>\n",
       "      <th>vis</th>\n",
       "      <th>tmp</th>\n",
       "      <th>dew</th>\n",
       "      <th>atm</th>\n",
       "      <th>cc</th>\n",
       "    </tr>\n",
       "  </thead>\n",
       "  <tbody>\n",
       "  </tbody>\n",
       "</table>\n",
       "</div>"
      ],
      "text/plain": [
       "Empty DataFrame\n",
       "Columns: [date, wnd, vis, tmp, dew, atm, cc]\n",
       "Index: []"
      ]
     },
     "execution_count": 22,
     "metadata": {},
     "output_type": "execute_result"
    }
   ],
   "source": [
    "df[df.isnull().any(axis=1)] # no NaN left"
   ]
  },
  {
   "cell_type": "code",
   "execution_count": 23,
   "metadata": {},
   "outputs": [
    {
     "name": "stdout",
     "output_type": "stream",
     "text": [
      "date    datetime64[ns]\n",
      "wnd             uint32\n",
      "vis             uint32\n",
      "tmp              int32\n",
      "dew              int32\n",
      "atm             uint32\n",
      "cc            category\n",
      "dtype: object\n"
     ]
    },
    {
     "data": {
      "text/html": [
       "<div>\n",
       "<style scoped>\n",
       "    .dataframe tbody tr th:only-of-type {\n",
       "        vertical-align: middle;\n",
       "    }\n",
       "\n",
       "    .dataframe tbody tr th {\n",
       "        vertical-align: top;\n",
       "    }\n",
       "\n",
       "    .dataframe thead th {\n",
       "        text-align: right;\n",
       "    }\n",
       "</style>\n",
       "<table border=\"1\" class=\"dataframe\">\n",
       "  <thead>\n",
       "    <tr style=\"text-align: right;\">\n",
       "      <th></th>\n",
       "      <th>wnd</th>\n",
       "      <th>vis</th>\n",
       "      <th>tmp</th>\n",
       "      <th>dew</th>\n",
       "      <th>atm</th>\n",
       "    </tr>\n",
       "  </thead>\n",
       "  <tbody>\n",
       "    <tr>\n",
       "      <th>count</th>\n",
       "      <td>13691.000000</td>\n",
       "      <td>13691.000000</td>\n",
       "      <td>13691.000000</td>\n",
       "      <td>13691.000000</td>\n",
       "      <td>13691.000000</td>\n",
       "    </tr>\n",
       "    <tr>\n",
       "      <th>mean</th>\n",
       "      <td>49.218538</td>\n",
       "      <td>14097.872982</td>\n",
       "      <td>134.312979</td>\n",
       "      <td>62.898693</td>\n",
       "      <td>23881.401505</td>\n",
       "    </tr>\n",
       "    <tr>\n",
       "      <th>std</th>\n",
       "      <td>88.596347</td>\n",
       "      <td>9506.640887</td>\n",
       "      <td>176.095325</td>\n",
       "      <td>247.540883</td>\n",
       "      <td>32309.299094</td>\n",
       "    </tr>\n",
       "    <tr>\n",
       "      <th>min</th>\n",
       "      <td>0.000000</td>\n",
       "      <td>0.000000</td>\n",
       "      <td>-156.000000</td>\n",
       "      <td>-272.000000</td>\n",
       "      <td>9858.000000</td>\n",
       "    </tr>\n",
       "    <tr>\n",
       "      <th>25%</th>\n",
       "      <td>31.000000</td>\n",
       "      <td>16000.000000</td>\n",
       "      <td>50.000000</td>\n",
       "      <td>-17.000000</td>\n",
       "      <td>10125.000000</td>\n",
       "    </tr>\n",
       "    <tr>\n",
       "      <th>50%</th>\n",
       "      <td>46.000000</td>\n",
       "      <td>16093.000000</td>\n",
       "      <td>133.000000</td>\n",
       "      <td>72.000000</td>\n",
       "      <td>10186.000000</td>\n",
       "    </tr>\n",
       "    <tr>\n",
       "      <th>75%</th>\n",
       "      <td>62.000000</td>\n",
       "      <td>16093.000000</td>\n",
       "      <td>217.000000</td>\n",
       "      <td>144.000000</td>\n",
       "      <td>10264.000000</td>\n",
       "    </tr>\n",
       "    <tr>\n",
       "      <th>max</th>\n",
       "      <td>9999.000000</td>\n",
       "      <td>999999.000000</td>\n",
       "      <td>9999.000000</td>\n",
       "      <td>9999.000000</td>\n",
       "      <td>99999.000000</td>\n",
       "    </tr>\n",
       "  </tbody>\n",
       "</table>\n",
       "</div>"
      ],
      "text/plain": [
       "                wnd            vis           tmp           dew           atm\n",
       "count  13691.000000   13691.000000  13691.000000  13691.000000  13691.000000\n",
       "mean      49.218538   14097.872982    134.312979     62.898693  23881.401505\n",
       "std       88.596347    9506.640887    176.095325    247.540883  32309.299094\n",
       "min        0.000000       0.000000   -156.000000   -272.000000   9858.000000\n",
       "25%       31.000000   16000.000000     50.000000    -17.000000  10125.000000\n",
       "50%       46.000000   16093.000000    133.000000     72.000000  10186.000000\n",
       "75%       62.000000   16093.000000    217.000000    144.000000  10264.000000\n",
       "max     9999.000000  999999.000000   9999.000000   9999.000000  99999.000000"
      ]
     },
     "execution_count": 23,
     "metadata": {},
     "output_type": "execute_result"
    }
   ],
   "source": [
    "print(df.dtypes)\n",
    "df.describe()"
   ]
  },
  {
   "cell_type": "code",
   "execution_count": 24,
   "metadata": {},
   "outputs": [
    {
     "name": "stdout",
     "output_type": "stream",
     "text": [
      "(13691, 7)\n",
      "(11598, 7)\n"
     ]
    }
   ],
   "source": [
    "print(df.shape)\n",
    "df = df[(df['wnd'] != 9999)]\n",
    "df = df[(df['vis'] != 999999)]\n",
    "df = df[(df['tmp'] != 9999)] \n",
    "df = df[(df['dew'] != 9999)] \n",
    "df = df[(df['atm'] != 99999)]\n",
    "print(df.shape)"
   ]
  },
  {
   "cell_type": "code",
   "execution_count": null,
   "metadata": {},
   "outputs": [
    {
     "data": {
      "text/html": [
       "<div>\n",
       "<style scoped>\n",
       "    .dataframe tbody tr th:only-of-type {\n",
       "        vertical-align: middle;\n",
       "    }\n",
       "\n",
       "    .dataframe tbody tr th {\n",
       "        vertical-align: top;\n",
       "    }\n",
       "\n",
       "    .dataframe thead th {\n",
       "        text-align: right;\n",
       "    }\n",
       "</style>\n",
       "<table border=\"1\" class=\"dataframe\">\n",
       "  <thead>\n",
       "    <tr style=\"text-align: right;\">\n",
       "      <th></th>\n",
       "      <th>wnd</th>\n",
       "      <th>vis</th>\n",
       "      <th>tmp</th>\n",
       "      <th>dew</th>\n",
       "      <th>atm</th>\n",
       "    </tr>\n",
       "  </thead>\n",
       "  <tbody>\n",
       "    <tr>\n",
       "      <th>count</th>\n",
       "      <td>11598.000000</td>\n",
       "      <td>11598.000000</td>\n",
       "      <td>11598.000000</td>\n",
       "      <td>11598.000000</td>\n",
       "      <td>11598.000000</td>\n",
       "    </tr>\n",
       "    <tr>\n",
       "      <th>mean</th>\n",
       "      <td>48.211847</td>\n",
       "      <td>14861.065097</td>\n",
       "      <td>133.691499</td>\n",
       "      <td>50.988533</td>\n",
       "      <td>10168.289446</td>\n",
       "    </tr>\n",
       "    <tr>\n",
       "      <th>std</th>\n",
       "      <td>24.796421</td>\n",
       "      <td>3461.115500</td>\n",
       "      <td>100.612244</td>\n",
       "      <td>106.230097</td>\n",
       "      <td>81.400765</td>\n",
       "    </tr>\n",
       "    <tr>\n",
       "      <th>min</th>\n",
       "      <td>0.000000</td>\n",
       "      <td>0.000000</td>\n",
       "      <td>-156.000000</td>\n",
       "      <td>-272.000000</td>\n",
       "      <td>9858.000000</td>\n",
       "    </tr>\n",
       "    <tr>\n",
       "      <th>25%</th>\n",
       "      <td>31.000000</td>\n",
       "      <td>16000.000000</td>\n",
       "      <td>50.000000</td>\n",
       "      <td>-33.000000</td>\n",
       "      <td>10114.000000</td>\n",
       "    </tr>\n",
       "    <tr>\n",
       "      <th>50%</th>\n",
       "      <td>46.000000</td>\n",
       "      <td>16093.000000</td>\n",
       "      <td>133.000000</td>\n",
       "      <td>61.000000</td>\n",
       "      <td>10166.000000</td>\n",
       "    </tr>\n",
       "    <tr>\n",
       "      <th>75%</th>\n",
       "      <td>62.000000</td>\n",
       "      <td>16093.000000</td>\n",
       "      <td>222.000000</td>\n",
       "      <td>139.000000</td>\n",
       "      <td>10225.000000</td>\n",
       "    </tr>\n",
       "    <tr>\n",
       "      <th>max</th>\n",
       "      <td>175.000000</td>\n",
       "      <td>16093.000000</td>\n",
       "      <td>372.000000</td>\n",
       "      <td>239.000000</td>\n",
       "      <td>10408.000000</td>\n",
       "    </tr>\n",
       "  </tbody>\n",
       "</table>\n",
       "</div>"
      ],
      "text/plain": [
       "                wnd           vis           tmp           dew           atm\n",
       "count  11598.000000  11598.000000  11598.000000  11598.000000  11598.000000\n",
       "mean      48.211847  14861.065097    133.691499     50.988533  10168.289446\n",
       "std       24.796421   3461.115500    100.612244    106.230097     81.400765\n",
       "min        0.000000      0.000000   -156.000000   -272.000000   9858.000000\n",
       "25%       31.000000  16000.000000     50.000000    -33.000000  10114.000000\n",
       "50%       46.000000  16093.000000    133.000000     61.000000  10166.000000\n",
       "75%       62.000000  16093.000000    222.000000    139.000000  10225.000000\n",
       "max      175.000000  16093.000000    372.000000    239.000000  10408.000000"
      ]
     },
     "execution_count": 203,
     "metadata": {},
     "output_type": "execute_result"
    }
   ],
   "source": [
    "df.describe()"
   ]
  },
  {
   "cell_type": "code",
   "execution_count": null,
   "metadata": {},
   "outputs": [
    {
     "name": "stdout",
     "output_type": "stream",
     "text": [
      "Problem on date 2019-02-08, missing 1\n",
      "Problem on date 2019-03-01, missing 1\n",
      "Problem on date 2019-03-04, missing 10\n",
      "Problem on date 2019-03-13, missing 1\n",
      "Problem on date 2019-03-16, missing 2\n",
      "Problem on date 2019-05-10, missing 1\n",
      "Problem on date 2019-05-31, missing 1\n",
      "Problem on date 2019-09-20, missing 5\n",
      "Problem on date 2019-09-21, missing 16\n",
      "Problem on date 2019-09-27, missing 2\n",
      "Problem on date 2019-10-02, missing 1\n",
      "Problem on date 2019-10-25, missing 1\n",
      "Problem on date 2019-11-22, missing 1\n",
      "Some days are missing from dataset\n"
     ]
    }
   ],
   "source": [
    "day_count = 0\n",
    "\n",
    "for group,df_group in df.groupby(df['date'].dt.date):\n",
    "    day_count += 1\n",
    "    h_count = 0\n",
    "    for h, h_group in df_group.groupby(df_group['date'].dt.hour):\n",
    "        h_count += 1\n",
    "    if h_count != 24:\n",
    "        print(f\"Problem on date {group}, missing {24-h_count}\")\n",
    "if day_count != (df['date'].iloc[-1] - df['date'].iloc[0]).days:\n",
    "    print(\"Some days are missing from dataset\")\n"
   ]
  },
  {
   "cell_type": "code",
   "execution_count": null,
   "metadata": {},
   "outputs": [],
   "source": [
    "df.to_csv('../data/curated/laguardia.csv')\n",
    "# TODO missing values like 9999.. should be accounted for better than just removing rn"
   ]
  },
  {
   "cell_type": "code",
   "execution_count": null,
   "metadata": {},
   "outputs": [
    {
     "data": {
      "text/plain": [
       "Series([], Name: rh3, dtype: int64)"
      ]
     },
     "execution_count": 45,
     "metadata": {},
     "output_type": "execute_result"
    }
   ],
   "source": [
    "df['rh3'].value_counts()\n",
    "#df[df.al1.notna()].drop(['source', 'station', 'latitude', 'longitude', 'name', 'elevation', 'call_sign', 'quality_control', 'cig', 'aa1', 'aa2', 'aa3', 'ab1', 'ad1', 'ae1', 'ah1','ah2', 'ah3','ah4','ah5','ah6', 'ai1','ai2', 'ai3','ai4','ai5','ai6'] , axis=1)\n"
   ]
  },
  {
   "cell_type": "code",
   "execution_count": null,
   "metadata": {},
   "outputs": [
    {
     "data": {
      "text/html": [
       "<div>\n",
       "<style scoped>\n",
       "    .dataframe tbody tr th:only-of-type {\n",
       "        vertical-align: middle;\n",
       "    }\n",
       "\n",
       "    .dataframe tbody tr th {\n",
       "        vertical-align: top;\n",
       "    }\n",
       "\n",
       "    .dataframe thead th {\n",
       "        text-align: right;\n",
       "    }\n",
       "</style>\n",
       "<table border=\"1\" class=\"dataframe\">\n",
       "  <thead>\n",
       "    <tr style=\"text-align: right;\">\n",
       "      <th></th>\n",
       "      <th>wnd</th>\n",
       "      <th>vis</th>\n",
       "      <th>tmp</th>\n",
       "      <th>dew</th>\n",
       "      <th>atm</th>\n",
       "    </tr>\n",
       "  </thead>\n",
       "  <tbody>\n",
       "    <tr>\n",
       "      <th>count</th>\n",
       "      <td>11598.000000</td>\n",
       "      <td>11598.000000</td>\n",
       "      <td>11598.000000</td>\n",
       "      <td>11598.000000</td>\n",
       "      <td>11598.000000</td>\n",
       "    </tr>\n",
       "    <tr>\n",
       "      <th>mean</th>\n",
       "      <td>48.211847</td>\n",
       "      <td>14861.065097</td>\n",
       "      <td>133.691499</td>\n",
       "      <td>50.988533</td>\n",
       "      <td>10168.289446</td>\n",
       "    </tr>\n",
       "    <tr>\n",
       "      <th>std</th>\n",
       "      <td>24.796421</td>\n",
       "      <td>3461.115500</td>\n",
       "      <td>100.612244</td>\n",
       "      <td>106.230097</td>\n",
       "      <td>81.400765</td>\n",
       "    </tr>\n",
       "    <tr>\n",
       "      <th>min</th>\n",
       "      <td>0.000000</td>\n",
       "      <td>0.000000</td>\n",
       "      <td>-156.000000</td>\n",
       "      <td>-272.000000</td>\n",
       "      <td>9858.000000</td>\n",
       "    </tr>\n",
       "    <tr>\n",
       "      <th>25%</th>\n",
       "      <td>31.000000</td>\n",
       "      <td>16000.000000</td>\n",
       "      <td>50.000000</td>\n",
       "      <td>-33.000000</td>\n",
       "      <td>10114.000000</td>\n",
       "    </tr>\n",
       "    <tr>\n",
       "      <th>50%</th>\n",
       "      <td>46.000000</td>\n",
       "      <td>16093.000000</td>\n",
       "      <td>133.000000</td>\n",
       "      <td>61.000000</td>\n",
       "      <td>10166.000000</td>\n",
       "    </tr>\n",
       "    <tr>\n",
       "      <th>75%</th>\n",
       "      <td>62.000000</td>\n",
       "      <td>16093.000000</td>\n",
       "      <td>222.000000</td>\n",
       "      <td>139.000000</td>\n",
       "      <td>10225.000000</td>\n",
       "    </tr>\n",
       "    <tr>\n",
       "      <th>max</th>\n",
       "      <td>175.000000</td>\n",
       "      <td>16093.000000</td>\n",
       "      <td>372.000000</td>\n",
       "      <td>239.000000</td>\n",
       "      <td>10408.000000</td>\n",
       "    </tr>\n",
       "  </tbody>\n",
       "</table>\n",
       "</div>"
      ],
      "text/plain": [
       "                wnd           vis           tmp           dew           atm\n",
       "count  11598.000000  11598.000000  11598.000000  11598.000000  11598.000000\n",
       "mean      48.211847  14861.065097    133.691499     50.988533  10168.289446\n",
       "std       24.796421   3461.115500    100.612244    106.230097     81.400765\n",
       "min        0.000000      0.000000   -156.000000   -272.000000   9858.000000\n",
       "25%       31.000000  16000.000000     50.000000    -33.000000  10114.000000\n",
       "50%       46.000000  16093.000000    133.000000     61.000000  10166.000000\n",
       "75%       62.000000  16093.000000    222.000000    139.000000  10225.000000\n",
       "max      175.000000  16093.000000    372.000000    239.000000  10408.000000"
      ]
     },
     "execution_count": 223,
     "metadata": {},
     "output_type": "execute_result"
    }
   ],
   "source": [
    "df.describe()"
   ]
  },
  {
   "cell_type": "code",
   "execution_count": 1,
   "metadata": {},
   "outputs": [],
   "source": [
    "%load_ext autoreload"
   ]
  },
  {
   "cell_type": "code",
   "execution_count": 1,
   "metadata": {},
   "outputs": [],
   "source": [
    "import sys\n",
    "sys.path.append('../scripts/')\n",
    "import weather_cleaning"
   ]
  },
  {
   "cell_type": "code",
   "execution_count": 2,
   "metadata": {},
   "outputs": [
    {
     "name": "stdout",
     "output_type": "stream",
     "text": [
      "/home/toomas/ADS/mast30034-project-1-ToomasRo/notebooks\n"
     ]
    }
   ],
   "source": [
    "%run ../scripts/weather_cleaning"
   ]
  },
  {
   "cell_type": "code",
   "execution_count": 4,
   "metadata": {},
   "outputs": [
    {
     "name": "stdout",
     "output_type": "stream",
     "text": [
      "2017\n"
     ]
    },
    {
     "name": "stderr",
     "output_type": "stream",
     "text": [
      "/home/toomas/ADS/mast30034-project-1-ToomasRo/notebooks/../scripts/weather_cleaning.py:15: DtypeWarning: Columns (43,44,48,53,57,58) have mixed types. Specify dtype option on import or set low_memory=False.\n",
      "  df = pd.read_csv(f'../data/raw/weather/{year}_weather.csv')\n"
     ]
    },
    {
     "name": "stdout",
     "output_type": "stream",
     "text": [
      "2018\n"
     ]
    },
    {
     "name": "stderr",
     "output_type": "stream",
     "text": [
      "/home/toomas/ADS/mast30034-project-1-ToomasRo/notebooks/../scripts/weather_cleaning.py:15: DtypeWarning: Columns (44,45,58,89) have mixed types. Specify dtype option on import or set low_memory=False.\n",
      "  df = pd.read_csv(f'../data/raw/weather/{year}_weather.csv')\n"
     ]
    },
    {
     "name": "stdout",
     "output_type": "stream",
     "text": [
      "2019\n"
     ]
    },
    {
     "name": "stderr",
     "output_type": "stream",
     "text": [
      "/home/toomas/ADS/mast30034-project-1-ToomasRo/notebooks/../scripts/weather_cleaning.py:15: DtypeWarning: Columns (44,45,46) have mixed types. Specify dtype option on import or set low_memory=False.\n",
      "  df = pd.read_csv(f'../data/raw/weather/{year}_weather.csv')\n"
     ]
    },
    {
     "name": "stdout",
     "output_type": "stream",
     "text": [
      "                wnd           vis           tmp           dew           atm  \\\n",
      "count  34859.000000  34859.000000  34859.000000  34859.000000  34859.000000   \n",
      "mean      48.524829  14889.395221    137.383918     57.570498  10169.466192   \n",
      "std       24.795912   3469.048293     99.989353    106.765513     81.299974   \n",
      "min        0.000000      0.000000   -156.000000   -272.000000   9789.000000   \n",
      "25%       31.000000  16000.000000     56.000000    -22.000000  10119.000000   \n",
      "50%       46.000000  16093.000000    139.000000     67.000000  10168.000000   \n",
      "75%       62.000000  16093.000000    222.000000    150.000000  10221.000000   \n",
      "max      185.000000  16093.000000    378.000000    250.000000  10443.000000   \n",
      "\n",
      "                 cc  \n",
      "count  34859.000000  \n",
      "mean      28.026736  \n",
      "std       41.370429  \n",
      "min        0.000000  \n",
      "25%        2.000000  \n",
      "50%        4.000000  \n",
      "75%       99.000000  \n",
      "max       99.000000  \n"
     ]
    }
   ],
   "source": [
    "weather_cleaning.clean(range(2017, 2020))\n",
    "weather_cleaning.combine()"
   ]
  },
  {
   "cell_type": "markdown",
   "metadata": {},
   "source": [
    "# Taxi data cleaning\n"
   ]
  },
  {
   "cell_type": "code",
   "execution_count": 3,
   "metadata": {},
   "outputs": [],
   "source": [
    "from pyspark.sql.types import IntegerType, DoubleType, TimestampType\n",
    "from pyspark.sql import functions as F"
   ]
  },
  {
   "cell_type": "markdown",
   "metadata": {},
   "source": [
    "## Merging dataframes and removing conflicts\n",
    "If there is a need to change the range on which analysis is performed, the first file that is read on both cases should be updated. Works best if files naming scheme makes them sorted chronologically"
   ]
  },
  {
   "cell_type": "code",
   "execution_count": 7,
   "metadata": {},
   "outputs": [],
   "source": [
    "# FHV data, not working yet\n",
    "\n",
    "# sdf_fhv = spark.read.parquet('../data/raw/fhv/')\n",
    "# #problematic = ['congestion_surcharge', 'passenger_count', 'ratecodeID']\n",
    "\n",
    "# #sdf_fhv = sdf_fhv.drop('ratecodeID', 'passenger_count', 'ehail_fee', 'payment_type', 'congestion_surcharge', 'trip_type')   \n",
    "# new = sdf_fhv.withColumn(\"PUlocationID\",F.col(\"PUlocationID\").cast(DoubleType()))\n",
    "\n",
    "# #new.limit(5)\n",
    "# new.dtypes\n",
    "# new.printSchema()\n",
    "# new.limit(5)"
   ]
  },
  {
   "cell_type": "code",
   "execution_count": 11,
   "metadata": {},
   "outputs": [
    {
     "name": "stdout",
     "output_type": "stream",
     "text": [
      "2019_06.parquet\n"
     ]
    },
    {
     "name": "stderr",
     "output_type": "stream",
     "text": [
      "                                                                                \r"
     ]
    },
    {
     "name": "stdout",
     "output_type": "stream",
     "text": [
      "2017_06.parquet\n"
     ]
    },
    {
     "name": "stderr",
     "output_type": "stream",
     "text": [
      "                                                                                \r"
     ]
    },
    {
     "name": "stdout",
     "output_type": "stream",
     "text": [
      "2018_07.parquet\n"
     ]
    },
    {
     "name": "stderr",
     "output_type": "stream",
     "text": [
      "                                                                                \r"
     ]
    },
    {
     "name": "stdout",
     "output_type": "stream",
     "text": [
      "2017_07.parquet\n"
     ]
    },
    {
     "name": "stderr",
     "output_type": "stream",
     "text": [
      "                                                                                \r"
     ]
    },
    {
     "name": "stdout",
     "output_type": "stream",
     "text": [
      "2018_06.parquet\n"
     ]
    },
    {
     "name": "stderr",
     "output_type": "stream",
     "text": [
      "                                                                                \r"
     ]
    },
    {
     "name": "stdout",
     "output_type": "stream",
     "text": [
      "2019_08.parquet\n"
     ]
    },
    {
     "name": "stderr",
     "output_type": "stream",
     "text": [
      "                                                                                \r"
     ]
    },
    {
     "name": "stdout",
     "output_type": "stream",
     "text": [
      "2019_07.parquet\n"
     ]
    },
    {
     "name": "stderr",
     "output_type": "stream",
     "text": [
      "                                                                                \r"
     ]
    },
    {
     "name": "stdout",
     "output_type": "stream",
     "text": [
      "2017_08.parquet\n"
     ]
    },
    {
     "name": "stderr",
     "output_type": "stream",
     "text": [
      "                                                                                \r"
     ]
    },
    {
     "name": "stdout",
     "output_type": "stream",
     "text": [
      "2018_08.parquet\n"
     ]
    },
    {
     "name": "stderr",
     "output_type": "stream",
     "text": [
      "                                                                                \r"
     ]
    }
   ],
   "source": [
    "# preliminary df re-formating to combine easier with green\n",
    "for file in os.listdir('../data/raw/yellow/'):\n",
    "    print(file)\n",
    "    sdf = spark.read.parquet('../data/raw/yellow/'+file)\n",
    "    sdf = sdf.withColumn('passenger_count', sdf['passenger_count'].cast(IntegerType())) \\\n",
    "        .withColumn('congestion_surcharge', sdf['congestion_surcharge'].cast(IntegerType())) \\\n",
    "        .withColumn('ratecodeID', sdf['ratecodeID'].cast(IntegerType())) \\\n",
    "        .withColumnRenamed('tpep_pickup_datetime','pickup_datetime') \\\n",
    "        .withColumnRenamed('tpep_dropoff_datetime','dropoff_datetime') \\\n",
    "        .drop('airport_fee')    \n",
    "    sdf.write.mode('overwrite').parquet('../data/temp/yellow/'+file)\n",
    "    # congestion_surcharge: int->double, \n",
    "    # passenger_count long->double, \n",
    "    # ratecodeID long->double"
   ]
  },
  {
   "cell_type": "code",
   "execution_count": 12,
   "metadata": {},
   "outputs": [
    {
     "name": "stdout",
     "output_type": "stream",
     "text": [
      "2019_06.parquet\n"
     ]
    },
    {
     "name": "stderr",
     "output_type": "stream",
     "text": [
      "                                                                                \r"
     ]
    },
    {
     "name": "stdout",
     "output_type": "stream",
     "text": [
      "2017_06.parquet\n"
     ]
    },
    {
     "name": "stderr",
     "output_type": "stream",
     "text": [
      "                                                                                \r"
     ]
    },
    {
     "name": "stdout",
     "output_type": "stream",
     "text": [
      "2018_07.parquet\n"
     ]
    },
    {
     "name": "stderr",
     "output_type": "stream",
     "text": [
      "                                                                                \r"
     ]
    },
    {
     "name": "stdout",
     "output_type": "stream",
     "text": [
      "2017_07.parquet\n"
     ]
    },
    {
     "name": "stderr",
     "output_type": "stream",
     "text": [
      "                                                                                \r"
     ]
    },
    {
     "name": "stdout",
     "output_type": "stream",
     "text": [
      "2018_06.parquet\n"
     ]
    },
    {
     "name": "stderr",
     "output_type": "stream",
     "text": [
      "                                                                                \r"
     ]
    },
    {
     "name": "stdout",
     "output_type": "stream",
     "text": [
      "2019_08.parquet\n"
     ]
    },
    {
     "name": "stderr",
     "output_type": "stream",
     "text": [
      "                                                                                \r"
     ]
    },
    {
     "name": "stdout",
     "output_type": "stream",
     "text": [
      "2019_07.parquet\n"
     ]
    },
    {
     "name": "stderr",
     "output_type": "stream",
     "text": [
      "                                                                                \r"
     ]
    },
    {
     "name": "stdout",
     "output_type": "stream",
     "text": [
      "2017_08.parquet\n"
     ]
    },
    {
     "name": "stderr",
     "output_type": "stream",
     "text": [
      "                                                                                \r"
     ]
    },
    {
     "name": "stdout",
     "output_type": "stream",
     "text": [
      "2018_08.parquet\n"
     ]
    },
    {
     "name": "stderr",
     "output_type": "stream",
     "text": [
      "                                                                                \r"
     ]
    }
   ],
   "source": [
    "# preliminary df re-formating to combine easier with yellow\n",
    "\n",
    "for file in os.listdir('../data/raw/green/'):\n",
    "    print(file)\n",
    "    sdf = spark.read.parquet('../data/raw/green/'+file)\n",
    "    sdf = sdf.withColumn('passenger_count', sdf['passenger_count'].cast(IntegerType())) \\\n",
    "        .withColumn('ratecodeID', sdf['ratecodeID'].cast(IntegerType())) \\\n",
    "        .withColumnRenamed('lpep_pickup_datetime', 'pickup_datetime') \\\n",
    "        .withColumnRenamed('lpep_dropoff_datetime', 'dropoff_datetime') \\\n",
    "        .drop('ehail_fee', 'trip_type')\n",
    "\n",
    "    sdf.write.mode('overwrite').parquet('../data/temp/green/'+file)\n"
   ]
  },
  {
   "cell_type": "code",
   "execution_count": 13,
   "metadata": {},
   "outputs": [
    {
     "name": "stdout",
     "output_type": "stream",
     "text": [
      "70443818\n"
     ]
    }
   ],
   "source": [
    "sdf_yellow = spark.read.parquet('../data/temp/yellow/2017_06.parquet')\n",
    "\n",
    "for file in sorted(os.listdir('../data/temp/yellow/'))[1:]:\n",
    "    temp_df = spark.read.parquet('../data/temp/yellow/'+file)\n",
    "    sdf_yellow = sdf_yellow.unionByName(temp_df)\n",
    "\n",
    "# #problematic = ['congestion_surcharge', 'passenger_count', 'ratecodeID']\n",
    "# df1 = spark.read.parquet('../data/curated/yellow/2019_08.parquet')\n",
    "# df2 = spark.read.parquet('../data/curated/yellow/2017_06.parquet')\n",
    "\n",
    "# sdf_yellow = df1.unionByName(df2)\n",
    "\n",
    "sdf_yellow.limit(5)\n",
    "print(sdf_yellow.count())\n",
    "#merged_df.printSchema()"
   ]
  },
  {
   "cell_type": "code",
   "execution_count": 14,
   "metadata": {},
   "outputs": [
    {
     "name": "stdout",
     "output_type": "stream",
     "text": [
      "6284068\n"
     ]
    }
   ],
   "source": [
    "sdf_green = spark.read.parquet('../data/temp/green/2017_06.parquet')\n",
    "\n",
    "for file in sorted(os.listdir('../data/temp/green/'))[1:]:\n",
    "    temp_df = spark.read.parquet('../data/temp/green/'+file)\n",
    "    sdf_green = sdf_green.unionByName(temp_df)\n",
    "\n",
    "# #problematic = ['congestion_surcharge', 'passenger_count', 'ratecodeID']\n",
    "# df1 = spark.read.parquet('../data/curated/yellow/2019_08.parquet')\n",
    "# df2 = spark.read.parquet('../data/curated/yellow/2017_06.parquet')\n",
    "\n",
    "# sdf_yellow = df1.unionByName(df2)\n",
    "\n",
    "sdf_green.limit(5)\n",
    "print(sdf_green.count())\n",
    "#merged_df.printSchema()"
   ]
  },
  {
   "cell_type": "code",
   "execution_count": 15,
   "metadata": {},
   "outputs": [
    {
     "name": "stderr",
     "output_type": "stream",
     "text": [
      "                                                                                \r"
     ]
    },
    {
     "data": {
      "text/html": [
       "<table border='1'>\n",
       "<tr><th>VendorID</th><th>pickup_datetime</th><th>dropoff_datetime</th><th>passenger_count</th><th>trip_distance</th><th>ratecodeID</th><th>store_and_fwd_flag</th><th>PULocationID</th><th>DOLocationID</th><th>payment_type</th><th>fare_amount</th><th>extra</th><th>mta_tax</th><th>tip_amount</th><th>tolls_amount</th><th>improvement_surcharge</th><th>total_amount</th><th>congestion_surcharge</th><th>PUWeekday</th><th>PUHour</th></tr>\n",
       "<tr><td>1</td><td>2017-06-01 00:02:36</td><td>2017-06-01 00:10:02</td><td>1</td><td>1.8</td><td>1</td><td>N</td><td>161</td><td>263</td><td>1.0</td><td>8.0</td><td>0.5</td><td>0.5</td><td>1.85</td><td>0.0</td><td>0.3</td><td>11.15</td><td>null</td><td>5</td><td>0</td></tr>\n",
       "<tr><td>1</td><td>2017-06-01 00:14:14</td><td>2017-06-01 00:16:50</td><td>1</td><td>0.8</td><td>1</td><td>N</td><td>237</td><td>237</td><td>1.0</td><td>4.5</td><td>0.5</td><td>0.5</td><td>0.75</td><td>0.0</td><td>0.3</td><td>6.55</td><td>null</td><td>5</td><td>0</td></tr>\n",
       "<tr><td>1</td><td>2017-06-01 00:47:11</td><td>2017-06-01 00:57:47</td><td>1</td><td>1.7</td><td>1</td><td>N</td><td>48</td><td>233</td><td>1.0</td><td>8.5</td><td>0.5</td><td>0.5</td><td>1.0</td><td>0.0</td><td>0.3</td><td>10.8</td><td>null</td><td>5</td><td>0</td></tr>\n",
       "<tr><td>1</td><td>2017-06-01 00:14:38</td><td>2017-06-01 00:19:49</td><td>1</td><td>1.1</td><td>1</td><td>N</td><td>246</td><td>249</td><td>1.0</td><td>5.5</td><td>0.5</td><td>0.5</td><td>1.5</td><td>0.0</td><td>0.3</td><td>8.3</td><td>null</td><td>5</td><td>0</td></tr>\n",
       "<tr><td>1</td><td>2017-06-01 00:03:41</td><td>2017-06-01 00:57:09</td><td>1</td><td>14.8</td><td>1</td><td>N</td><td>166</td><td>61</td><td>2.0</td><td>48.5</td><td>0.5</td><td>0.5</td><td>0.0</td><td>0.0</td><td>0.3</td><td>49.8</td><td>null</td><td>5</td><td>0</td></tr>\n",
       "</table>\n"
      ],
      "text/plain": [
       "+--------+-------------------+-------------------+---------------+-------------+----------+------------------+------------+------------+------------+-----------+-----+-------+----------+------------+---------------------+------------+--------------------+---------+------+\n",
       "|VendorID|    pickup_datetime|   dropoff_datetime|passenger_count|trip_distance|ratecodeID|store_and_fwd_flag|PULocationID|DOLocationID|payment_type|fare_amount|extra|mta_tax|tip_amount|tolls_amount|improvement_surcharge|total_amount|congestion_surcharge|PUWeekday|PUHour|\n",
       "+--------+-------------------+-------------------+---------------+-------------+----------+------------------+------------+------------+------------+-----------+-----+-------+----------+------------+---------------------+------------+--------------------+---------+------+\n",
       "|       1|2017-06-01 00:02:36|2017-06-01 00:10:02|              1|          1.8|         1|                 N|         161|         263|         1.0|        8.0|  0.5|    0.5|      1.85|         0.0|                  0.3|       11.15|                null|        5|     0|\n",
       "|       1|2017-06-01 00:14:14|2017-06-01 00:16:50|              1|          0.8|         1|                 N|         237|         237|         1.0|        4.5|  0.5|    0.5|      0.75|         0.0|                  0.3|        6.55|                null|        5|     0|\n",
       "|       1|2017-06-01 00:47:11|2017-06-01 00:57:47|              1|          1.7|         1|                 N|          48|         233|         1.0|        8.5|  0.5|    0.5|       1.0|         0.0|                  0.3|        10.8|                null|        5|     0|\n",
       "|       1|2017-06-01 00:14:38|2017-06-01 00:19:49|              1|          1.1|         1|                 N|         246|         249|         1.0|        5.5|  0.5|    0.5|       1.5|         0.0|                  0.3|         8.3|                null|        5|     0|\n",
       "|       1|2017-06-01 00:03:41|2017-06-01 00:57:09|              1|         14.8|         1|                 N|         166|          61|         2.0|       48.5|  0.5|    0.5|       0.0|         0.0|                  0.3|        49.8|                null|        5|     0|\n",
       "+--------+-------------------+-------------------+---------------+-------------+----------+------------------+------------+------------+------------+-----------+-----+-------+----------+------------+---------------------+------------+--------------------+---------+------+"
      ]
     },
     "execution_count": 15,
     "metadata": {},
     "output_type": "execute_result"
    }
   ],
   "source": [
    "# combine both green and yellow\n",
    "sdf = sdf_yellow.unionByName(sdf_green)\n",
    "sdf = sdf.withColumn('PUWeekday', (F.dayofweek(F.col('pickup_datetime')))) \\\n",
    "        .withColumn('PUHour', F.hour(F.col('pickup_datetime')))\n",
    "sdf.limit(5)\n"
   ]
  },
  {
   "cell_type": "code",
   "execution_count": 16,
   "metadata": {},
   "outputs": [
    {
     "name": "stderr",
     "output_type": "stream",
     "text": [
      "                                                                                \r"
     ]
    }
   ],
   "source": [
    "#sdf = sdf.drop('congestion_surcharge')\n",
    "sdf.write.mode('overwrite').parquet('../data/temp/both/raw_data.parquet')"
   ]
  },
  {
   "cell_type": "markdown",
   "metadata": {},
   "source": [
    "## Exploring raw data"
   ]
  },
  {
   "cell_type": "code",
   "execution_count": null,
   "metadata": {},
   "outputs": [
    {
     "name": "stderr",
     "output_type": "stream",
     "text": [
      "                                                                                \r"
     ]
    },
    {
     "data": {
      "text/html": [
       "<table border='1'>\n",
       "<tr><th>summary</th><th>passenger_count</th><th>trip_distance</th><th>total_amount</th><th>trip_duration</th></tr>\n",
       "<tr><td>count</td><td>76490436</td><td>76727886</td><td>76727886</td><td>76727886</td></tr>\n",
       "<tr><td>mean</td><td>1.5844927854771282</td><td>3.046011726557894</td><td>17.29796580406473</td><td>17.43078280083484</td></tr>\n",
       "<tr><td>stddev</td><td>1.2321364442743832</td><td>6.99527997338513</td><td>187.24483134447192</td><td>1699.8001975945674</td></tr>\n",
       "<tr><td>min</td><td>0</td><td>0.0</td><td>-1871.8</td><td>-1.05191844333333...</td></tr>\n",
       "<tr><td>25%</td><td>1</td><td>1.0</td><td>9.3</td><td>6.633333333333334</td></tr>\n",
       "<tr><td>50%</td><td>1</td><td>1.7</td><td>12.8</td><td>11.183333333333334</td></tr>\n",
       "<tr><td>75%</td><td>2</td><td>3.2</td><td>18.96</td><td>18.45</td></tr>\n",
       "<tr><td>max</td><td>9</td><td>45977.22</td><td>907071.04</td><td>36501.183333333334</td></tr>\n",
       "</table>\n"
      ],
      "text/plain": [
       "+-------+------------------+-----------------+------------------+--------------------+\n",
       "|summary|   passenger_count|    trip_distance|      total_amount|       trip_duration|\n",
       "+-------+------------------+-----------------+------------------+--------------------+\n",
       "|  count|          76490436|         76727886|          76727886|            76727886|\n",
       "|   mean|1.5844927854771282|3.046011726557894| 17.29796580406473|   17.43078280083484|\n",
       "| stddev|1.2321364442743832| 6.99527997338513|187.24483134447192|  1699.8001975945674|\n",
       "|    min|                 0|              0.0|           -1871.8|-1.05191844333333...|\n",
       "|    25%|                 1|              1.0|               9.3|   6.633333333333334|\n",
       "|    50%|                 1|              1.7|              12.8|  11.183333333333334|\n",
       "|    75%|                 2|              3.2|             18.96|               18.45|\n",
       "|    max|                 9|         45977.22|         907071.04|  36501.183333333334|\n",
       "+-------+------------------+-----------------+------------------+--------------------+"
      ]
     },
     "execution_count": 55,
     "metadata": {},
     "output_type": "execute_result"
    }
   ],
   "source": [
    "#sdf.select().summary()\n",
    "\n",
    "sdf.select(F.col('passenger_count'),\n",
    "           F.col('trip_distance'),\n",
    "           F.col('total_amount'),\n",
    "           ((F.col('dropoff_datetime').cast('long')-F.col('pickup_datetime').cast('long'))/60).alias('trip_duration')).summary()\n"
   ]
  },
  {
   "cell_type": "code",
   "execution_count": null,
   "metadata": {},
   "outputs": [
    {
     "name": "stdout",
     "output_type": "stream",
     "text": [
      "Row(min(PULocationID)=1)\n",
      "Row(min(DOLocationID)=1)\n",
      "Row(max(PULocationID)=265)\n",
      "Row(max(DOLocationID)=265)\n"
     ]
    }
   ],
   "source": [
    "print(sdf.select(F.min(F.col(\"PULocationID\"))).limit(1).collect()[0])\n",
    "print(sdf.select(F.min(F.col(\"DOLocationID\"))).limit(1).collect()[0])\n",
    "print(sdf.select(F.max(F.col(\"PULocationID\"))).limit(1).collect()[0])\n",
    "print(sdf.select(F.max(F.col(\"DOLocationID\"))).limit(1).collect()[0])\n",
    "# ZoneID has to be in [1-263]\n"
   ]
  },
  {
   "cell_type": "code",
   "execution_count": null,
   "metadata": {},
   "outputs": [
    {
     "name": "stderr",
     "output_type": "stream",
     "text": [
      "                                                                                \r"
     ]
    },
    {
     "data": {
      "text/plain": [
       "Text(0.5, 0, 'Weekday')"
      ]
     },
     "execution_count": 71,
     "metadata": {},
     "output_type": "execute_result"
    },
    {
     "data": {
      "image/png": "[encoded data removed]",
      "text/plain": [
       "<Figure size 432x288 with 1 Axes>"
      ]
     },
     "metadata": {
      "needs_background": "light"
     },
     "output_type": "display_data"
    }
   ],
   "source": [
    "# plot of trip_count per day of week\n",
    "count_by_day = sdf.select(F.col('PUWeekday')).groupby('PUWeekday').count().sort(F.asc(\"PUWeekday\")).toPandas()\n",
    "plt.plot(count_by_day['PUWeekday'], count_by_day['count'])\n",
    "plt.title(\"trip count/day\")\n",
    "plt.ylabel(\"trip count\")\n",
    "plt.xlabel(\"Weekday\")"
   ]
  },
  {
   "cell_type": "code",
   "execution_count": null,
   "metadata": {},
   "outputs": [
    {
     "name": "stderr",
     "output_type": "stream",
     "text": [
      "                                                                                \r"
     ]
    },
    {
     "data": {
      "image/png": "[encoded data removed]",
      "text/plain": [
       "<Figure size 432x288 with 1 Axes>"
      ]
     },
     "metadata": {
      "needs_background": "light"
     },
     "output_type": "display_data"
    }
   ],
   "source": [
    "# plot of trip_count per hour of day\n",
    "count_by_hour = sdf.select(F.col('PUHour')).groupby('PUHour').count().sort(F.asc(\"PUHour\")).toPandas()\n",
    "plt.plot(count_by_hour['PUHour'], count_by_hour['count'])\n",
    "plt.title(\"Trip count/hour\")\n",
    "plt.xticks(np.arange(0, 24))\n",
    "plt.ylabel(\"trip count\")\n",
    "plt.xlabel(\"Hour\")\n",
    "plt.show()"
   ]
  },
  {
   "cell_type": "code",
   "execution_count": null,
   "metadata": {},
   "outputs": [
    {
     "name": "stderr",
     "output_type": "stream",
     "text": [
      "                                                                                \r"
     ]
    },
    {
     "data": {
      "image/png": "[encoded data removed]",
      "text/plain": [
       "<Figure size 432x288 with 1 Axes>"
      ]
     },
     "metadata": {},
     "output_type": "display_data"
    }
   ],
   "source": [
    "# plot of n of trips against passegner count\n",
    "passenger_count = sdf.select(F.col('passenger_count')).groupby('passenger_count').count().sort(F.asc(\"passenger_count\")).toPandas()\n",
    "passenger_count.iat[0, 0] = -1  # quick way to deal with NaN\n",
    "plt.bar(passenger_count['passenger_count'],passenger_count['count'])\n",
    "plt.title(\"Trip count/passenger count\")\n",
    "plt.ylabel(\"trip count\")\n",
    "plt.xlabel(\"Passenger count\")\n",
    "plt.show()"
   ]
  },
  {
   "cell_type": "code",
   "execution_count": null,
   "metadata": {},
   "outputs": [
    {
     "data": {
      "text/plain": [
       "<BarContainer object of 11 artists>"
      ]
     },
     "execution_count": 32,
     "metadata": {},
     "output_type": "execute_result"
    },
    {
     "data": {
      "image/png": "[encoded data removed]",
      "text/plain": [
       "<Figure size 432x288 with 1 Axes>"
      ]
     },
     "metadata": {},
     "output_type": "display_data"
    }
   ],
   "source": [
    "plt.bar(passenger_count['passenger_count'],passenger_count['count'])"
   ]
  },
  {
   "cell_type": "code",
   "execution_count": null,
   "metadata": {},
   "outputs": [
    {
     "name": "stderr",
     "output_type": "stream",
     "text": [
      "                                                                                \r"
     ]
    }
   ],
   "source": [
    "df = sdf.sample(False, 0.005, 42).toPandas()"
   ]
  },
  {
   "cell_type": "code",
   "execution_count": null,
   "metadata": {},
   "outputs": [
    {
     "data": {
      "text/plain": [
       "(384635, 20)"
      ]
     },
     "execution_count": 22,
     "metadata": {},
     "output_type": "execute_result"
    }
   ],
   "source": [
    "df.shape"
   ]
  },
  {
   "cell_type": "code",
   "execution_count": null,
   "metadata": {},
   "outputs": [
    {
     "data": {
      "text/plain": [
       "<AxesSubplot:xlabel='trip_distance'>"
      ]
     },
     "execution_count": 34,
     "metadata": {},
     "output_type": "execute_result"
    },
    {
     "data": {
      "image/png": "[encoded data removed]",
      "text/plain": [
       "<Figure size 432x288 with 1 Axes>"
      ]
     },
     "metadata": {},
     "output_type": "display_data"
    }
   ],
   "source": [
    "# Really unbalaned\n",
    "sns.boxplot(x=df['trip_distance'])"
   ]
  },
  {
   "cell_type": "code",
   "execution_count": null,
   "metadata": {},
   "outputs": [
    {
     "data": {
      "text/plain": [
       "<AxesSubplot:>"
      ]
     },
     "execution_count": 42,
     "metadata": {},
     "output_type": "execute_result"
    },
    {
     "data": {
      "image/png": "[encoded data removed]",
      "text/plain": [
       "<Figure size 432x288 with 1 Axes>"
      ]
     },
     "metadata": {},
     "output_type": "display_data"
    }
   ],
   "source": [
    "sns.boxplot(x=(df['dropoff_datetime']-df['pickup_datetime'])/np.timedelta64(1, 's'))"
   ]
  },
  {
   "cell_type": "code",
   "execution_count": null,
   "metadata": {},
   "outputs": [
    {
     "data": {
      "text/plain": [
       "<AxesSubplot:xlabel='PUDayofweek', ylabel='trip_distance'>"
      ]
     },
     "execution_count": 44,
     "metadata": {},
     "output_type": "execute_result"
    },
    {
     "data": {
      "image/png": "[encoded data removed]",
      "text/plain": [
       "<Figure size 432x288 with 1 Axes>"
      ]
     },
     "metadata": {},
     "output_type": "display_data"
    }
   ],
   "source": [
    "sns.lineplot(x='PUWeekday', y='trip_distance',data=df)"
   ]
  },
  {
   "cell_type": "code",
   "execution_count": null,
   "metadata": {},
   "outputs": [
    {
     "data": {
      "text/plain": [
       "<AxesSubplot:xlabel='PUHour', ylabel='trip_distance'>"
      ]
     },
     "execution_count": 47,
     "metadata": {},
     "output_type": "execute_result"
    },
    {
     "data": {
      "image/png": "[encoded data removed]",
      "text/plain": [
       "<Figure size 432x288 with 1 Axes>"
      ]
     },
     "metadata": {},
     "output_type": "display_data"
    }
   ],
   "source": [
    "sns.lineplot(x='PUHour', y='trip_distance',data=df)"
   ]
  },
  {
   "cell_type": "code",
   "execution_count": null,
   "metadata": {},
   "outputs": [
    {
     "name": "stderr",
     "output_type": "stream",
     "text": [
      "                                                                                \r"
     ]
    },
    {
     "data": {
      "text/html": [
       "<table border='1'>\n",
       "<tr><th>PUHour</th><th>avg(PUHour)</th><th>avg(trip_distance)</th></tr>\n",
       "<tr><td>12</td><td>12.0</td><td>2.832958444373077</td></tr>\n",
       "<tr><td>22</td><td>22.0</td><td>3.2414123835953395</td></tr>\n",
       "<tr><td>1</td><td>1.0</td><td>3.410588547233864</td></tr>\n",
       "<tr><td>13</td><td>13.0</td><td>2.957946121943969</td></tr>\n",
       "<tr><td>6</td><td>6.0</td><td>3.582207328988525</td></tr>\n",
       "<tr><td>16</td><td>16.0</td><td>3.0827843588484094</td></tr>\n",
       "<tr><td>3</td><td>3.0</td><td>3.423220048652608</td></tr>\n",
       "<tr><td>20</td><td>20.0</td><td>3.012102861766894</td></tr>\n",
       "<tr><td>5</td><td>5.0</td><td>4.557649421958659</td></tr>\n",
       "<tr><td>19</td><td>19.0</td><td>2.745293196482568</td></tr>\n",
       "<tr><td>15</td><td>15.0</td><td>3.03077479337325</td></tr>\n",
       "<tr><td>9</td><td>9.0</td><td>2.7489194348764943</td></tr>\n",
       "<tr><td>17</td><td>17.0</td><td>2.9423158018382933</td></tr>\n",
       "<tr><td>4</td><td>4.0</td><td>4.186661369822494</td></tr>\n",
       "<tr><td>8</td><td>8.0</td><td>2.7871584272084973</td></tr>\n",
       "<tr><td>23</td><td>23.0</td><td>3.4248492514433275</td></tr>\n",
       "<tr><td>7</td><td>7.0</td><td>3.0583179149398894</td></tr>\n",
       "<tr><td>10</td><td>10.0</td><td>2.8336887779162168</td></tr>\n",
       "<tr><td>21</td><td>21.0</td><td>3.149117461148613</td></tr>\n",
       "<tr><td>11</td><td>11.0</td><td>2.8296879866895286</td></tr>\n",
       "</table>\n",
       "only showing top 20 rows\n"
      ],
      "text/plain": [
       "+------+-----------+------------------+\n",
       "|PUHour|avg(PUHour)|avg(trip_distance)|\n",
       "+------+-----------+------------------+\n",
       "|    12|       12.0| 2.832958444373077|\n",
       "|    22|       22.0|3.2414123835953395|\n",
       "|     1|        1.0| 3.410588547233864|\n",
       "|    13|       13.0| 2.957946121943969|\n",
       "|     6|        6.0| 3.582207328988525|\n",
       "|    16|       16.0|3.0827843588484094|\n",
       "|     3|        3.0| 3.423220048652608|\n",
       "|    20|       20.0| 3.012102861766894|\n",
       "|     5|        5.0| 4.557649421958659|\n",
       "|    19|       19.0| 2.745293196482568|\n",
       "|    15|       15.0|  3.03077479337325|\n",
       "|     9|        9.0|2.7489194348764943|\n",
       "|    17|       17.0|2.9423158018382933|\n",
       "|     4|        4.0| 4.186661369822494|\n",
       "|     8|        8.0|2.7871584272084973|\n",
       "|    23|       23.0|3.4248492514433275|\n",
       "|     7|        7.0|3.0583179149398894|\n",
       "|    10|       10.0|2.8336887779162168|\n",
       "|    21|       21.0| 3.149117461148613|\n",
       "|    11|       11.0|2.8296879866895286|\n",
       "+------+-----------+------------------+\n",
       "only showing top 20 rows"
      ]
     },
     "execution_count": 64,
     "metadata": {},
     "output_type": "execute_result"
    }
   ],
   "source": [
    "sdf.select(F.col('PUHour'), F.col('trip_distance')).groupby('PUHour').avg()"
   ]
  },
  {
   "cell_type": "code",
   "execution_count": 72,
   "metadata": {},
   "outputs": [
    {
     "name": "stderr",
     "output_type": "stream",
     "text": [
      "                                                                                \r"
     ]
    }
   ],
   "source": [
    "asi = sdf.select(F.col('PUHour'), F.col('PUWeekday'), F.col('trip_distance')).groupby('PUHour', 'PUWeekday').avg().toPandas()"
   ]
  },
  {
   "cell_type": "code",
   "execution_count": 107,
   "metadata": {},
   "outputs": [],
   "source": [
    "asi = asi[['PUHour', 'PUWeekday', 'avg(trip_distance)']]\n",
    "temp = []\n",
    "for hour in range(0, 24):\n",
    "    temp2 = []\n",
    "    for day in range(1, 8):\n",
    "        temp2.append(asi[(asi['PUHour'] == hour) & (\n",
    "            asi['PUWeekday'] == day)]['avg(trip_distance)'].iloc[0])\n",
    "    temp.append(temp2)\n",
    "\n",
    "temp3 = pd.DataFrame(temp, columns=[x for x in range(1, 8)])"
   ]
  },
  {
   "cell_type": "code",
   "execution_count": 108,
   "metadata": {},
   "outputs": [
    {
     "data": {
      "text/plain": [
       "[]"
      ]
     },
     "execution_count": 108,
     "metadata": {},
     "output_type": "execute_result"
    },
    {
     "data": {
      "image/png": "[encoded data removed]",
      "text/plain": [
       "<Figure size 1080x576 with 1 Axes>"
      ]
     },
     "metadata": {},
     "output_type": "display_data"
    }
   ],
   "source": [
    "sns.set(rc = {'figure.figsize':(15,8)})\n",
    "sns.lineplot(data=temp3)\n",
    "plt.title(\"Average trip length with respect to starting time (day and hour)\")\n",
    "plt.ylabel(\"trip length\")\n",
    "plt.xlabel(\"Start time\")\n",
    "\n",
    "plt.plot()"
   ]
  },
  {
   "cell_type": "code",
   "execution_count": null,
   "metadata": {},
   "outputs": [
    {
     "data": {
      "text/plain": [
       "<AxesSubplot:xlabel='PUDayofweek', ylabel='trip_distance'>"
      ]
     },
     "metadata": {},
     "output_type": "display_data"
    },
    {
     "data": {
      "image/png": "[encoded data removed]",
      "text/plain": [
       "<Figure size 432x288 with 1 Axes>"
      ]
     },
     "metadata": {},
     "output_type": "display_data"
    }
   ],
   "source": [
    "sns.lineplot(x='PUWeekday', y='trip_distance',data=df)"
   ]
  },
  {
   "cell_type": "code",
   "execution_count": null,
   "metadata": {},
   "outputs": [
    {
     "data": {
      "text/plain": [
       "<AxesSubplot:xlabel='trip_distance', ylabel='Frequency'>"
      ]
     },
     "execution_count": 51,
     "metadata": {},
     "output_type": "execute_result"
    },
    {
     "data": {
      "image/png": "[encoded data removed]",
      "text/plain": [
       "<Figure size 432x288 with 1 Axes>"
      ]
     },
     "metadata": {},
     "output_type": "display_data"
    }
   ],
   "source": [
    "sns.histplot(data=df,\n",
    "             x=\"trip_distance\",\n",
    "             stat=\"frequency\",    # normalize the histogram so that the total area of bars is 1\n",
    "             kde=True,          # plot kernel density estimate\n",
    "             bins=50            # number of bins of the histogram\n",
    "            )"
   ]
  },
  {
   "cell_type": "code",
   "execution_count": null,
   "metadata": {},
   "outputs": [
    {
     "name": "stderr",
     "output_type": "stream",
     "text": [
      "                                                                                \r"
     ]
    },
    {
     "data": {
      "text/html": [
       "<table border='1'>\n",
       "<tr><th>VendorID</th><th>pickup_datetime</th><th>dropoff_datetime</th><th>passenger_count</th><th>trip_distance</th><th>ratecodeID</th><th>store_and_fwd_flag</th><th>PULocationID</th><th>DOLocationID</th><th>payment_type</th><th>fare_amount</th><th>extra</th><th>mta_tax</th><th>tip_amount</th><th>tolls_amount</th><th>improvement_surcharge</th><th>total_amount</th><th>congestion_surcharge</th><th>PUDayofweek</th><th>PUHour</th></tr>\n",
       "<tr><td>1</td><td>2017-06-01 00:02:36</td><td>2017-06-01 00:10:02</td><td>1</td><td>1.8</td><td>1</td><td>N</td><td>161</td><td>263</td><td>1.0</td><td>8.0</td><td>0.5</td><td>0.5</td><td>1.85</td><td>0.0</td><td>0.3</td><td>11.15</td><td>null</td><td>5</td><td>0</td></tr>\n",
       "<tr><td>1</td><td>2017-06-01 00:14:14</td><td>2017-06-01 00:16:50</td><td>1</td><td>0.8</td><td>1</td><td>N</td><td>237</td><td>237</td><td>1.0</td><td>4.5</td><td>0.5</td><td>0.5</td><td>0.75</td><td>0.0</td><td>0.3</td><td>6.55</td><td>null</td><td>5</td><td>0</td></tr>\n",
       "<tr><td>1</td><td>2017-06-01 00:47:11</td><td>2017-06-01 00:57:47</td><td>1</td><td>1.7</td><td>1</td><td>N</td><td>48</td><td>233</td><td>1.0</td><td>8.5</td><td>0.5</td><td>0.5</td><td>1.0</td><td>0.0</td><td>0.3</td><td>10.8</td><td>null</td><td>5</td><td>0</td></tr>\n",
       "<tr><td>1</td><td>2017-06-01 00:14:38</td><td>2017-06-01 00:19:49</td><td>1</td><td>1.1</td><td>1</td><td>N</td><td>246</td><td>249</td><td>1.0</td><td>5.5</td><td>0.5</td><td>0.5</td><td>1.5</td><td>0.0</td><td>0.3</td><td>8.3</td><td>null</td><td>5</td><td>0</td></tr>\n",
       "<tr><td>1</td><td>2017-06-01 00:03:41</td><td>2017-06-01 00:57:09</td><td>1</td><td>14.8</td><td>1</td><td>N</td><td>166</td><td>61</td><td>2.0</td><td>48.5</td><td>0.5</td><td>0.5</td><td>0.0</td><td>0.0</td><td>0.3</td><td>49.8</td><td>null</td><td>5</td><td>0</td></tr>\n",
       "</table>\n"
      ],
      "text/plain": [
       "+--------+-------------------+-------------------+---------------+-------------+----------+------------------+------------+------------+------------+-----------+-----+-------+----------+------------+---------------------+------------+--------------------+-----------+------+\n",
       "|VendorID|    pickup_datetime|   dropoff_datetime|passenger_count|trip_distance|ratecodeID|store_and_fwd_flag|PULocationID|DOLocationID|payment_type|fare_amount|extra|mta_tax|tip_amount|tolls_amount|improvement_surcharge|total_amount|congestion_surcharge|PUDayofweek|PUHour|\n",
       "+--------+-------------------+-------------------+---------------+-------------+----------+------------------+------------+------------+------------+-----------+-----+-------+----------+------------+---------------------+------------+--------------------+-----------+------+\n",
       "|       1|2017-06-01 00:02:36|2017-06-01 00:10:02|              1|          1.8|         1|                 N|         161|         263|         1.0|        8.0|  0.5|    0.5|      1.85|         0.0|                  0.3|       11.15|                null|          5|     0|\n",
       "|       1|2017-06-01 00:14:14|2017-06-01 00:16:50|              1|          0.8|         1|                 N|         237|         237|         1.0|        4.5|  0.5|    0.5|      0.75|         0.0|                  0.3|        6.55|                null|          5|     0|\n",
       "|       1|2017-06-01 00:47:11|2017-06-01 00:57:47|              1|          1.7|         1|                 N|          48|         233|         1.0|        8.5|  0.5|    0.5|       1.0|         0.0|                  0.3|        10.8|                null|          5|     0|\n",
       "|       1|2017-06-01 00:14:38|2017-06-01 00:19:49|              1|          1.1|         1|                 N|         246|         249|         1.0|        5.5|  0.5|    0.5|       1.5|         0.0|                  0.3|         8.3|                null|          5|     0|\n",
       "|       1|2017-06-01 00:03:41|2017-06-01 00:57:09|              1|         14.8|         1|                 N|         166|          61|         2.0|       48.5|  0.5|    0.5|       0.0|         0.0|                  0.3|        49.8|                null|          5|     0|\n",
       "+--------+-------------------+-------------------+---------------+-------------+----------+------------------+------------+------------+------------+-----------+-----+-------+----------+------------+---------------------+------------+--------------------+-----------+------+"
      ]
     },
     "execution_count": 87,
     "metadata": {},
     "output_type": "execute_result"
    }
   ],
   "source": [
    "sdf.limit(5)"
   ]
  },
  {
   "cell_type": "markdown",
   "metadata": {},
   "source": [
    "## Filtering out outliers and keeping important variables"
   ]
  },
  {
   "cell_type": "code",
   "execution_count": 12,
   "metadata": {},
   "outputs": [],
   "source": [
    "sdf = spark.read.parquet('../data/temp/both/raw_data.parquet')"
   ]
  },
  {
   "cell_type": "code",
   "execution_count": 13,
   "metadata": {},
   "outputs": [
    {
     "name": "stderr",
     "output_type": "stream",
     "text": [
      "                                                                                \r"
     ]
    },
    {
     "data": {
      "text/html": [
       "<table border='1'>\n",
       "<tr><th>VendorID</th><th>pickup_datetime</th><th>dropoff_datetime</th><th>passenger_count</th><th>trip_distance</th><th>ratecodeID</th><th>store_and_fwd_flag</th><th>PULocationID</th><th>DOLocationID</th><th>payment_type</th><th>fare_amount</th><th>extra</th><th>mta_tax</th><th>tip_amount</th><th>tolls_amount</th><th>improvement_surcharge</th><th>total_amount</th><th>congestion_surcharge</th><th>PUWeekday</th><th>PUHour</th></tr>\n",
       "<tr><td>1</td><td>2018-06-01 00:15:40</td><td>2018-06-01 00:16:46</td><td>1</td><td>0.0</td><td>1</td><td>N</td><td>145</td><td>145</td><td>2.0</td><td>3.0</td><td>0.5</td><td>0.5</td><td>0.0</td><td>0.0</td><td>0.3</td><td>4.3</td><td>null</td><td>6</td><td>0</td></tr>\n",
       "</table>\n"
      ],
      "text/plain": [
       "+--------+-------------------+-------------------+---------------+-------------+----------+------------------+------------+------------+------------+-----------+-----+-------+----------+------------+---------------------+------------+--------------------+---------+------+\n",
       "|VendorID|    pickup_datetime|   dropoff_datetime|passenger_count|trip_distance|ratecodeID|store_and_fwd_flag|PULocationID|DOLocationID|payment_type|fare_amount|extra|mta_tax|tip_amount|tolls_amount|improvement_surcharge|total_amount|congestion_surcharge|PUWeekday|PUHour|\n",
       "+--------+-------------------+-------------------+---------------+-------------+----------+------------------+------------+------------+------------+-----------+-----+-------+----------+------------+---------------------+------------+--------------------+---------+------+\n",
       "|       1|2018-06-01 00:15:40|2018-06-01 00:16:46|              1|          0.0|         1|                 N|         145|         145|         2.0|        3.0|  0.5|    0.5|       0.0|         0.0|                  0.3|         4.3|                null|        6|     0|\n",
       "+--------+-------------------+-------------------+---------------+-------------+----------+------------------+------------+------------+------------+-----------+-----+-------+----------+------------+---------------------+------------+--------------------+---------+------+"
      ]
     },
     "execution_count": 13,
     "metadata": {},
     "output_type": "execute_result"
    }
   ],
   "source": [
    "sdf.limit(1)"
   ]
  },
  {
   "cell_type": "code",
   "execution_count": 14,
   "metadata": {},
   "outputs": [
    {
     "name": "stdout",
     "output_type": "stream",
     "text": [
      "76727886\n"
     ]
    },
    {
     "name": "stderr",
     "output_type": "stream",
     "text": [
      "[Stage 30:===================================================>    (12 + 1) / 13]\r"
     ]
    },
    {
     "name": "stdout",
     "output_type": "stream",
     "text": [
      "74016294\n"
     ]
    },
    {
     "name": "stderr",
     "output_type": "stream",
     "text": [
      "                                                                                \r"
     ]
    }
   ],
   "source": [
    "trip_dist_upper = 150   # TODO make it 2-3std\n",
    "total_amount_lower = 1000\n",
    "trip_duration_uper = 5*60\n",
    "\n",
    "\n",
    "def modify_sdf(sdf):\n",
    "    return sdf \\\n",
    "        .drop('VendorID', 'ratecodeID', 'store_and_fwd_flag', 'payment_type', 'fare_amount', 'extra', 'mta_tax', 'tip_amount', 'tolls_amount', 'improvement_surcharge', 'congestion_surcharge') \\\n",
    "        .dropna(how='any') \\\n",
    "        .filter((F.month('pickup_datetime') >= 6) & (F.month('dropoff_datetime') <= 8) == True) \\\n",
    "        .filter((F.year('pickup_datetime').isin([2017, 2018, 2019])) & (F.year('dropoff_datetime').isin([2017, 2018, 2019]))) \\\n",
    "        .filter(F.col('passenger_count') > 0) \\\n",
    "        .filter((F.col('trip_distance') > 0) & (F.col('trip_distance') < trip_dist_upper)) \\\n",
    "        .filter((F.col('PULocationID') < 264) & (F.col('DOLocationID') < 264)) \\\n",
    "        .filter((F.col('total_amount') > 0) & (F.col('total_amount') < total_amount_lower)) \\\n",
    "        .withColumn('trip_duration', (F.col('dropoff_datetime').cast('long')-F.col('pickup_datetime').cast('long'))/60) \\\n",
    "        .filter((F.col('trip_duration') > 0) & (F.col('trip_duration') < trip_duration_uper)) \\\n",
    "        .withColumn('PUMonth', F.month(F.col('pickup_datetime'))) \\\n",
    "        .withColumn('PUDay', F.dayofmonth(F.col('pickup_datetime'))) \\\n",
    "        .drop('pickup_datetime', 'dropoff_datetime')\n",
    "\n",
    "\n",
    "\n",
    "\n",
    "print(sdf.count())\n",
    "#sdf.select([F.count(F.when(F.isnan(c) | F.col(c).isNull(), c)).alias(c)           for c in sdf.columns if not c in ['pickup_datetime', 'dropoff_datetime']]).show()\n",
    "new_sdf = modify_sdf(sdf)\n",
    "print(new_sdf.count())\n"
   ]
  },
  {
   "cell_type": "code",
   "execution_count": 11,
   "metadata": {},
   "outputs": [
    {
     "name": "stderr",
     "output_type": "stream",
     "text": [
      "                                                                                \r"
     ]
    },
    {
     "data": {
      "text/html": [
       "<table border='1'>\n",
       "<tr><th>summary</th><th>passenger_count</th><th>trip_distance</th><th>total_amount</th><th>trip_duration</th></tr>\n",
       "<tr><td>count</td><td>74016294</td><td>74016294</td><td>74016294</td><td>74016294</td></tr>\n",
       "<tr><td>mean</td><td>1.598887023443784</td><td>3.016778951672325</td><td>16.914594572600777</td><td>14.405820661145487</td></tr>\n",
       "<tr><td>stddev</td><td>1.232090439694568</td><td>3.7377244973172563</td><td>13.451536656736094</td><td>11.667944045012398</td></tr>\n",
       "<tr><td>min</td><td>1</td><td>0.01</td><td>0.01</td><td>0.016666666666666666</td></tr>\n",
       "<tr><td>25%</td><td>1</td><td>1.0</td><td>9.3</td><td>6.7</td></tr>\n",
       "<tr><td>50%</td><td>1</td><td>1.7</td><td>12.8</td><td>11.183333333333334</td></tr>\n",
       "<tr><td>75%</td><td>2</td><td>3.19</td><td>18.8</td><td>18.3</td></tr>\n",
       "<tr><td>max</td><td>9</td><td>145.01</td><td>989.8</td><td>299.96666666666664</td></tr>\n",
       "</table>\n"
      ],
      "text/plain": [
       "+-------+-----------------+------------------+------------------+--------------------+\n",
       "|summary|  passenger_count|     trip_distance|      total_amount|       trip_duration|\n",
       "+-------+-----------------+------------------+------------------+--------------------+\n",
       "|  count|         74016294|          74016294|          74016294|            74016294|\n",
       "|   mean|1.598887023443784| 3.016778951672325|16.914594572600777|  14.405820661145487|\n",
       "| stddev|1.232090439694568|3.7377244973172563|13.451536656736094|  11.667944045012398|\n",
       "|    min|                1|              0.01|              0.01|0.016666666666666666|\n",
       "|    25%|                1|               1.0|               9.3|                 6.7|\n",
       "|    50%|                1|               1.7|              12.8|  11.183333333333334|\n",
       "|    75%|                2|              3.19|              18.8|                18.3|\n",
       "|    max|                9|            145.01|             989.8|  299.96666666666664|\n",
       "+-------+-----------------+------------------+------------------+--------------------+"
      ]
     },
     "execution_count": 11,
     "metadata": {},
     "output_type": "execute_result"
    }
   ],
   "source": [
    "new_sdf.select(F.col('passenger_count'),\n",
    "           F.col('trip_distance'),\n",
    "           F.col('total_amount'),\n",
    "           F.col('trip_duration')).summary()"
   ]
  },
  {
   "cell_type": "code",
   "execution_count": 15,
   "metadata": {},
   "outputs": [
    {
     "name": "stderr",
     "output_type": "stream",
     "text": [
      "                                                                                \r"
     ]
    }
   ],
   "source": [
    "new_sdf.write.mode('overwrite').parquet('../data/temp/both_bit_cleaned/bit_cleaned_data.parquet')"
   ]
  },
  {
   "cell_type": "markdown",
   "metadata": {},
   "source": [
    "# New Thing"
   ]
  },
  {
   "cell_type": "code",
   "execution_count": 17,
   "metadata": {},
   "outputs": [],
   "source": [
    "sdf = spark.read.parquet('../data/temp/both_bit_cleaned/bit_cleaned_data.parquet')"
   ]
  },
  {
   "cell_type": "code",
   "execution_count": 18,
   "metadata": {},
   "outputs": [
    {
     "data": {
      "text/html": [
       "<table border='1'>\n",
       "<tr><th>passenger_count</th><th>trip_distance</th><th>PULocationID</th><th>DOLocationID</th><th>total_amount</th><th>PUWeekday</th><th>PUHour</th><th>trip_duration</th><th>PUMonth</th><th>PUDay</th></tr>\n",
       "<tr><td>1</td><td>1.2</td><td>249</td><td>90</td><td>8.15</td><td>7</td><td>0</td><td>4.416666666666667</td><td>7</td><td>1</td></tr>\n",
       "<tr><td>2</td><td>0.2</td><td>249</td><td>158</td><td>4.3</td><td>7</td><td>0</td><td>1.5666666666666667</td><td>7</td><td>1</td></tr>\n",
       "<tr><td>1</td><td>4.3</td><td>100</td><td>45</td><td>20.15</td><td>7</td><td>0</td><td>15.316666666666666</td><td>7</td><td>1</td></tr>\n",
       "<tr><td>1</td><td>8.3</td><td>138</td><td>162</td><td>40.86</td><td>7</td><td>0</td><td>23.95</td><td>7</td><td>1</td></tr>\n",
       "<tr><td>1</td><td>1.9</td><td>107</td><td>158</td><td>11.8</td><td>7</td><td>0</td><td>15.016666666666667</td><td>7</td><td>1</td></tr>\n",
       "</table>\n"
      ],
      "text/plain": [
       "+---------------+-------------+------------+------------+------------+---------+------+------------------+-------+-----+\n",
       "|passenger_count|trip_distance|PULocationID|DOLocationID|total_amount|PUWeekday|PUHour|     trip_duration|PUMonth|PUDay|\n",
       "+---------------+-------------+------------+------------+------------+---------+------+------------------+-------+-----+\n",
       "|              1|          1.2|         249|          90|        8.15|        7|     0| 4.416666666666667|      7|    1|\n",
       "|              2|          0.2|         249|         158|         4.3|        7|     0|1.5666666666666667|      7|    1|\n",
       "|              1|          4.3|         100|          45|       20.15|        7|     0|15.316666666666666|      7|    1|\n",
       "|              1|          8.3|         138|         162|       40.86|        7|     0|             23.95|      7|    1|\n",
       "|              1|          1.9|         107|         158|        11.8|        7|     0|15.016666666666667|      7|    1|\n",
       "+---------------+-------------+------------+------------+------------+---------+------+------------------+-------+-----+"
      ]
     },
     "execution_count": 18,
     "metadata": {},
     "output_type": "execute_result"
    }
   ],
   "source": [
    "sdf.limit(5)"
   ]
  },
  {
   "cell_type": "code",
   "execution_count": null,
   "metadata": {},
   "outputs": [],
   "source": []
  },
  {
   "cell_type": "code",
   "execution_count": null,
   "metadata": {},
   "outputs": [],
   "source": []
  },
  {
   "cell_type": "code",
   "execution_count": 145,
   "metadata": {},
   "outputs": [
    {
     "ename": "Py4JJavaError",
     "evalue": "An error occurred while calling o1914.count.\n: java.lang.IllegalStateException: Cannot call methods on a stopped SparkContext.\nThis stopped SparkContext was created at:\n\norg.apache.spark.api.java.JavaSparkContext.<init>(JavaSparkContext.scala:58)\nsun.reflect.NativeConstructorAccessorImpl.newInstance0(Native Method)\nsun.reflect.NativeConstructorAccessorImpl.newInstance(NativeConstructorAccessorImpl.java:62)\nsun.reflect.DelegatingConstructorAccessorImpl.newInstance(DelegatingConstructorAccessorImpl.java:45)\njava.lang.reflect.Constructor.newInstance(Constructor.java:423)\npy4j.reflection.MethodInvoker.invoke(MethodInvoker.java:247)\npy4j.reflection.ReflectionEngine.invoke(ReflectionEngine.java:357)\npy4j.Gateway.invoke(Gateway.java:238)\npy4j.commands.ConstructorCommand.invokeConstructor(ConstructorCommand.java:80)\npy4j.commands.ConstructorCommand.execute(ConstructorCommand.java:69)\npy4j.ClientServerConnection.waitForCommands(ClientServerConnection.java:182)\npy4j.ClientServerConnection.run(ClientServerConnection.java:106)\njava.lang.Thread.run(Thread.java:748)\n\nThe currently active SparkContext was created at:\n\n(No active SparkContext.)\n         \n\tat org.apache.spark.SparkContext.assertNotStopped(SparkContext.scala:120)\n\tat org.apache.spark.SparkContext.defaultParallelism(SparkContext.scala:2524)\n\tat org.apache.spark.sql.execution.adaptive.CoalesceShufflePartitions.$anonfun$apply$1(CoalesceShufflePartitions.scala:60)\n\tat scala.runtime.java8.JFunction0$mcI$sp.apply(JFunction0$mcI$sp.java:23)\n\tat scala.Option.getOrElse(Option.scala:189)\n\tat org.apache.spark.sql.execution.adaptive.CoalesceShufflePartitions.apply(CoalesceShufflePartitions.scala:57)\n\tat org.apache.spark.sql.execution.adaptive.CoalesceShufflePartitions.apply(CoalesceShufflePartitions.scala:33)\n\tat org.apache.spark.sql.execution.adaptive.AdaptiveSparkPlanExec.$anonfun$optimizeQueryStage$1(AdaptiveSparkPlanExec.scala:153)\n\tat scala.collection.LinearSeqOptimized.foldLeft(LinearSeqOptimized.scala:126)\n\tat scala.collection.LinearSeqOptimized.foldLeft$(LinearSeqOptimized.scala:122)\n\tat scala.collection.immutable.List.foldLeft(List.scala:91)\n\tat org.apache.spark.sql.execution.adaptive.AdaptiveSparkPlanExec.optimizeQueryStage(AdaptiveSparkPlanExec.scala:152)\n\tat org.apache.spark.sql.execution.adaptive.AdaptiveSparkPlanExec.newQueryStage(AdaptiveSparkPlanExec.scala:525)\n\tat org.apache.spark.sql.execution.adaptive.AdaptiveSparkPlanExec.createQueryStages(AdaptiveSparkPlanExec.scala:486)\n\tat org.apache.spark.sql.execution.adaptive.AdaptiveSparkPlanExec.$anonfun$createQueryStages$2(AdaptiveSparkPlanExec.scala:516)\n\tat scala.collection.TraversableLike.$anonfun$map$1(TraversableLike.scala:286)\n\tat scala.collection.Iterator.foreach(Iterator.scala:943)\n\tat scala.collection.Iterator.foreach$(Iterator.scala:943)\n\tat scala.collection.AbstractIterator.foreach(Iterator.scala:1431)\n\tat scala.collection.IterableLike.foreach(IterableLike.scala:74)\n\tat scala.collection.IterableLike.foreach$(IterableLike.scala:73)\n\tat scala.collection.AbstractIterable.foreach(Iterable.scala:56)\n\tat scala.collection.TraversableLike.map(TraversableLike.scala:286)\n\tat scala.collection.TraversableLike.map$(TraversableLike.scala:279)\n\tat scala.collection.AbstractTraversable.map(Traversable.scala:108)\n\tat org.apache.spark.sql.execution.adaptive.AdaptiveSparkPlanExec.createQueryStages(AdaptiveSparkPlanExec.scala:516)\n\tat org.apache.spark.sql.execution.adaptive.AdaptiveSparkPlanExec.$anonfun$getFinalPhysicalPlan$1(AdaptiveSparkPlanExec.scala:233)\n\tat org.apache.spark.sql.SparkSession.withActive(SparkSession.scala:779)\n\tat org.apache.spark.sql.execution.adaptive.AdaptiveSparkPlanExec.getFinalPhysicalPlan(AdaptiveSparkPlanExec.scala:228)\n\tat org.apache.spark.sql.execution.adaptive.AdaptiveSparkPlanExec.withFinalPlanUpdate(AdaptiveSparkPlanExec.scala:367)\n\tat org.apache.spark.sql.execution.adaptive.AdaptiveSparkPlanExec.executeCollect(AdaptiveSparkPlanExec.scala:340)\n\tat org.apache.spark.sql.Dataset.$anonfun$count$1(Dataset.scala:3161)\n\tat org.apache.spark.sql.Dataset.$anonfun$count$1$adapted(Dataset.scala:3160)\n\tat org.apache.spark.sql.Dataset.$anonfun$withAction$2(Dataset.scala:3858)\n\tat org.apache.spark.sql.execution.QueryExecution$.withInternalError(QueryExecution.scala:510)\n\tat org.apache.spark.sql.Dataset.$anonfun$withAction$1(Dataset.scala:3856)\n\tat org.apache.spark.sql.execution.SQLExecution$.$anonfun$withNewExecutionId$6(SQLExecution.scala:109)\n\tat org.apache.spark.sql.execution.SQLExecution$.withSQLConfPropagated(SQLExecution.scala:169)\n\tat org.apache.spark.sql.execution.SQLExecution$.$anonfun$withNewExecutionId$1(SQLExecution.scala:95)\n\tat org.apache.spark.sql.SparkSession.withActive(SparkSession.scala:779)\n\tat org.apache.spark.sql.execution.SQLExecution$.withNewExecutionId(SQLExecution.scala:64)\n\tat org.apache.spark.sql.Dataset.withAction(Dataset.scala:3856)\n\tat org.apache.spark.sql.Dataset.count(Dataset.scala:3160)\n\tat sun.reflect.NativeMethodAccessorImpl.invoke0(Native Method)\n\tat sun.reflect.NativeMethodAccessorImpl.invoke(NativeMethodAccessorImpl.java:62)\n\tat sun.reflect.DelegatingMethodAccessorImpl.invoke(DelegatingMethodAccessorImpl.java:43)\n\tat java.lang.reflect.Method.invoke(Method.java:498)\n\tat py4j.reflection.MethodInvoker.invoke(MethodInvoker.java:244)\n\tat py4j.reflection.ReflectionEngine.invoke(ReflectionEngine.java:357)\n\tat py4j.Gateway.invoke(Gateway.java:282)\n\tat py4j.commands.AbstractCommand.invokeMethod(AbstractCommand.java:132)\n\tat py4j.commands.CallCommand.execute(CallCommand.java:79)\n\tat py4j.ClientServerConnection.waitForCommands(ClientServerConnection.java:182)\n\tat py4j.ClientServerConnection.run(ClientServerConnection.java:106)\n\tat java.lang.Thread.run(Thread.java:748)\n",
     "output_type": "error",
     "traceback": [
      "\u001b[0;31m---------------------------------------------------------------------------\u001b[0m",
      "\u001b[0;31mPy4JJavaError\u001b[0m                             Traceback (most recent call last)",
      "\u001b[1;32m/home/toomas/ADS/mast30034-project-1-ToomasRo/notebooks/cleaning.ipynb Cell 51\u001b[0m in \u001b[0;36m<cell line: 17>\u001b[0;34m()\u001b[0m\n\u001b[1;32m     <a href='vscode-notebook-cell://wsl%2Bubuntu-20.04/home/toomas/ADS/mast30034-project-1-ToomasRo/notebooks/cleaning.ipynb#X34sdnNjb2RlLXJlbW90ZQ%3D%3D?line=9'>10</a>\u001b[0m \u001b[39mdef\u001b[39;00m \u001b[39mfilter_green\u001b[39m(sdf):\n\u001b[1;32m     <a href='vscode-notebook-cell://wsl%2Bubuntu-20.04/home/toomas/ADS/mast30034-project-1-ToomasRo/notebooks/cleaning.ipynb#X34sdnNjb2RlLXJlbW90ZQ%3D%3D?line=10'>11</a>\u001b[0m     \u001b[39mreturn\u001b[39;00m sdf \\\n\u001b[1;32m     <a href='vscode-notebook-cell://wsl%2Bubuntu-20.04/home/toomas/ADS/mast30034-project-1-ToomasRo/notebooks/cleaning.ipynb#X34sdnNjb2RlLXJlbW90ZQ%3D%3D?line=11'>12</a>\u001b[0m         \u001b[39m.\u001b[39mdrop(\u001b[39m'\u001b[39m\u001b[39mVendorID\u001b[39m\u001b[39m'\u001b[39m, \u001b[39m'\u001b[39m\u001b[39mstore_and_fwd_flag\u001b[39m\u001b[39m'\u001b[39m, \u001b[39m'\u001b[39m\u001b[39mpayment_type\u001b[39m\u001b[39m'\u001b[39m, \u001b[39m'\u001b[39m\u001b[39mfate_amount\u001b[39m\u001b[39m'\u001b[39m, \u001b[39m'\u001b[39m\u001b[39mextra\u001b[39m\u001b[39m'\u001b[39m, \u001b[39m'\u001b[39m\u001b[39mmta_tax\u001b[39m\u001b[39m'\u001b[39m, \u001b[39m'\u001b[39m\u001b[39mtip_amount\u001b[39m\u001b[39m'\u001b[39m, \u001b[39m'\u001b[39m\u001b[39mtolls_amount\u001b[39m\u001b[39m'\u001b[39m, \u001b[39m'\u001b[39m\u001b[39mcongestion_surcharge\u001b[39m\u001b[39m'\u001b[39m, \u001b[39m'\u001b[39m\u001b[39mimprovement_surcharge\u001b[39m\u001b[39m'\u001b[39m,\u001b[39m'\u001b[39m\u001b[39mairport_fee\u001b[39m\u001b[39m'\u001b[39m) \\\n\u001b[1;32m     <a href='vscode-notebook-cell://wsl%2Bubuntu-20.04/home/toomas/ADS/mast30034-project-1-ToomasRo/notebooks/cleaning.ipynb#X34sdnNjb2RlLXJlbW90ZQ%3D%3D?line=12'>13</a>\u001b[0m         \u001b[39m.\u001b[39mfilter((F\u001b[39m.\u001b[39mcol(\u001b[39m'\u001b[39m\u001b[39mtrip_distance\u001b[39m\u001b[39m'\u001b[39m) \u001b[39m>\u001b[39m \u001b[39m0\u001b[39m) \u001b[39m&\u001b[39m (F\u001b[39m.\u001b[39mcol(\u001b[39m'\u001b[39m\u001b[39mtrip_distance\u001b[39m\u001b[39m'\u001b[39m) \u001b[39m<\u001b[39m \u001b[39m150\u001b[39m)) \\\n\u001b[1;32m     <a href='vscode-notebook-cell://wsl%2Bubuntu-20.04/home/toomas/ADS/mast30034-project-1-ToomasRo/notebooks/cleaning.ipynb#X34sdnNjb2RlLXJlbW90ZQ%3D%3D?line=13'>14</a>\u001b[0m         \u001b[39m.\u001b[39mwithColumn(\u001b[39m'\u001b[39m\u001b[39mPUWeekday\u001b[39m\u001b[39m'\u001b[39m, (F\u001b[39m.\u001b[39mdayofweek(F\u001b[39m.\u001b[39mcol(\u001b[39m'\u001b[39m\u001b[39mlpep_pickup_datetime\u001b[39m\u001b[39m'\u001b[39m)))) \\\n\u001b[1;32m     <a href='vscode-notebook-cell://wsl%2Bubuntu-20.04/home/toomas/ADS/mast30034-project-1-ToomasRo/notebooks/cleaning.ipynb#X34sdnNjb2RlLXJlbW90ZQ%3D%3D?line=14'>15</a>\u001b[0m         \u001b[39m.\u001b[39mwithColumn(\u001b[39m'\u001b[39m\u001b[39mPUHour\u001b[39m\u001b[39m'\u001b[39m, F\u001b[39m.\u001b[39mhour(F\u001b[39m.\u001b[39mcol(\u001b[39m'\u001b[39m\u001b[39mlpep_pickup_datetime\u001b[39m\u001b[39m'\u001b[39m))) \n\u001b[0;32m---> <a href='vscode-notebook-cell://wsl%2Bubuntu-20.04/home/toomas/ADS/mast30034-project-1-ToomasRo/notebooks/cleaning.ipynb#X34sdnNjb2RlLXJlbW90ZQ%3D%3D?line=16'>17</a>\u001b[0m \u001b[39mprint\u001b[39m(sdf_yellow\u001b[39m.\u001b[39;49mcount())\n\u001b[1;32m     <a href='vscode-notebook-cell://wsl%2Bubuntu-20.04/home/toomas/ADS/mast30034-project-1-ToomasRo/notebooks/cleaning.ipynb#X34sdnNjb2RlLXJlbW90ZQ%3D%3D?line=17'>18</a>\u001b[0m sdf_new_yellow \u001b[39m=\u001b[39m filter_yellow(sdf_yellow)\n\u001b[1;32m     <a href='vscode-notebook-cell://wsl%2Bubuntu-20.04/home/toomas/ADS/mast30034-project-1-ToomasRo/notebooks/cleaning.ipynb#X34sdnNjb2RlLXJlbW90ZQ%3D%3D?line=18'>19</a>\u001b[0m \u001b[39mprint\u001b[39m(sdf_new_yellow\u001b[39m.\u001b[39mcount())\n",
      "File \u001b[0;32m~/ADS/adsenv/lib/python3.8/site-packages/pyspark/sql/dataframe.py:804\u001b[0m, in \u001b[0;36mDataFrame.count\u001b[0;34m(self)\u001b[0m\n\u001b[1;32m    794\u001b[0m \u001b[39mdef\u001b[39;00m \u001b[39mcount\u001b[39m(\u001b[39mself\u001b[39m) \u001b[39m-\u001b[39m\u001b[39m>\u001b[39m \u001b[39mint\u001b[39m:\n\u001b[1;32m    795\u001b[0m     \u001b[39m\"\"\"Returns the number of rows in this :class:`DataFrame`.\u001b[39;00m\n\u001b[1;32m    796\u001b[0m \n\u001b[1;32m    797\u001b[0m \u001b[39m    .. versionadded:: 1.3.0\u001b[39;00m\n\u001b[0;32m   (...)\u001b[0m\n\u001b[1;32m    802\u001b[0m \u001b[39m    2\u001b[39;00m\n\u001b[1;32m    803\u001b[0m \u001b[39m    \"\"\"\u001b[39;00m\n\u001b[0;32m--> 804\u001b[0m     \u001b[39mreturn\u001b[39;00m \u001b[39mint\u001b[39m(\u001b[39mself\u001b[39;49m\u001b[39m.\u001b[39;49m_jdf\u001b[39m.\u001b[39;49mcount())\n",
      "File \u001b[0;32m~/ADS/adsenv/lib/python3.8/site-packages/py4j/java_gateway.py:1321\u001b[0m, in \u001b[0;36mJavaMember.__call__\u001b[0;34m(self, *args)\u001b[0m\n\u001b[1;32m   1315\u001b[0m command \u001b[39m=\u001b[39m proto\u001b[39m.\u001b[39mCALL_COMMAND_NAME \u001b[39m+\u001b[39m\\\n\u001b[1;32m   1316\u001b[0m     \u001b[39mself\u001b[39m\u001b[39m.\u001b[39mcommand_header \u001b[39m+\u001b[39m\\\n\u001b[1;32m   1317\u001b[0m     args_command \u001b[39m+\u001b[39m\\\n\u001b[1;32m   1318\u001b[0m     proto\u001b[39m.\u001b[39mEND_COMMAND_PART\n\u001b[1;32m   1320\u001b[0m answer \u001b[39m=\u001b[39m \u001b[39mself\u001b[39m\u001b[39m.\u001b[39mgateway_client\u001b[39m.\u001b[39msend_command(command)\n\u001b[0;32m-> 1321\u001b[0m return_value \u001b[39m=\u001b[39m get_return_value(\n\u001b[1;32m   1322\u001b[0m     answer, \u001b[39mself\u001b[39;49m\u001b[39m.\u001b[39;49mgateway_client, \u001b[39mself\u001b[39;49m\u001b[39m.\u001b[39;49mtarget_id, \u001b[39mself\u001b[39;49m\u001b[39m.\u001b[39;49mname)\n\u001b[1;32m   1324\u001b[0m \u001b[39mfor\u001b[39;00m temp_arg \u001b[39min\u001b[39;00m temp_args:\n\u001b[1;32m   1325\u001b[0m     temp_arg\u001b[39m.\u001b[39m_detach()\n",
      "File \u001b[0;32m~/ADS/adsenv/lib/python3.8/site-packages/pyspark/sql/utils.py:190\u001b[0m, in \u001b[0;36mcapture_sql_exception.<locals>.deco\u001b[0;34m(*a, **kw)\u001b[0m\n\u001b[1;32m    188\u001b[0m \u001b[39mdef\u001b[39;00m \u001b[39mdeco\u001b[39m(\u001b[39m*\u001b[39ma: Any, \u001b[39m*\u001b[39m\u001b[39m*\u001b[39mkw: Any) \u001b[39m-\u001b[39m\u001b[39m>\u001b[39m Any:\n\u001b[1;32m    189\u001b[0m     \u001b[39mtry\u001b[39;00m:\n\u001b[0;32m--> 190\u001b[0m         \u001b[39mreturn\u001b[39;00m f(\u001b[39m*\u001b[39;49ma, \u001b[39m*\u001b[39;49m\u001b[39m*\u001b[39;49mkw)\n\u001b[1;32m    191\u001b[0m     \u001b[39mexcept\u001b[39;00m Py4JJavaError \u001b[39mas\u001b[39;00m e:\n\u001b[1;32m    192\u001b[0m         converted \u001b[39m=\u001b[39m convert_exception(e\u001b[39m.\u001b[39mjava_exception)\n",
      "File \u001b[0;32m~/ADS/adsenv/lib/python3.8/site-packages/py4j/protocol.py:326\u001b[0m, in \u001b[0;36mget_return_value\u001b[0;34m(answer, gateway_client, target_id, name)\u001b[0m\n\u001b[1;32m    324\u001b[0m value \u001b[39m=\u001b[39m OUTPUT_CONVERTER[\u001b[39mtype\u001b[39m](answer[\u001b[39m2\u001b[39m:], gateway_client)\n\u001b[1;32m    325\u001b[0m \u001b[39mif\u001b[39;00m answer[\u001b[39m1\u001b[39m] \u001b[39m==\u001b[39m REFERENCE_TYPE:\n\u001b[0;32m--> 326\u001b[0m     \u001b[39mraise\u001b[39;00m Py4JJavaError(\n\u001b[1;32m    327\u001b[0m         \u001b[39m\"\u001b[39m\u001b[39mAn error occurred while calling \u001b[39m\u001b[39m{0}\u001b[39;00m\u001b[39m{1}\u001b[39;00m\u001b[39m{2}\u001b[39;00m\u001b[39m.\u001b[39m\u001b[39m\\n\u001b[39;00m\u001b[39m\"\u001b[39m\u001b[39m.\u001b[39m\n\u001b[1;32m    328\u001b[0m         \u001b[39mformat\u001b[39m(target_id, \u001b[39m\"\u001b[39m\u001b[39m.\u001b[39m\u001b[39m\"\u001b[39m, name), value)\n\u001b[1;32m    329\u001b[0m \u001b[39melse\u001b[39;00m:\n\u001b[1;32m    330\u001b[0m     \u001b[39mraise\u001b[39;00m Py4JError(\n\u001b[1;32m    331\u001b[0m         \u001b[39m\"\u001b[39m\u001b[39mAn error occurred while calling \u001b[39m\u001b[39m{0}\u001b[39;00m\u001b[39m{1}\u001b[39;00m\u001b[39m{2}\u001b[39;00m\u001b[39m. Trace:\u001b[39m\u001b[39m\\n\u001b[39;00m\u001b[39m{3}\u001b[39;00m\u001b[39m\\n\u001b[39;00m\u001b[39m\"\u001b[39m\u001b[39m.\u001b[39m\n\u001b[1;32m    332\u001b[0m         \u001b[39mformat\u001b[39m(target_id, \u001b[39m\"\u001b[39m\u001b[39m.\u001b[39m\u001b[39m\"\u001b[39m, name, value))\n",
      "\u001b[0;31mPy4JJavaError\u001b[0m: An error occurred while calling o1914.count.\n: java.lang.IllegalStateException: Cannot call methods on a stopped SparkContext.\nThis stopped SparkContext was created at:\n\norg.apache.spark.api.java.JavaSparkContext.<init>(JavaSparkContext.scala:58)\nsun.reflect.NativeConstructorAccessorImpl.newInstance0(Native Method)\nsun.reflect.NativeConstructorAccessorImpl.newInstance(NativeConstructorAccessorImpl.java:62)\nsun.reflect.DelegatingConstructorAccessorImpl.newInstance(DelegatingConstructorAccessorImpl.java:45)\njava.lang.reflect.Constructor.newInstance(Constructor.java:423)\npy4j.reflection.MethodInvoker.invoke(MethodInvoker.java:247)\npy4j.reflection.ReflectionEngine.invoke(ReflectionEngine.java:357)\npy4j.Gateway.invoke(Gateway.java:238)\npy4j.commands.ConstructorCommand.invokeConstructor(ConstructorCommand.java:80)\npy4j.commands.ConstructorCommand.execute(ConstructorCommand.java:69)\npy4j.ClientServerConnection.waitForCommands(ClientServerConnection.java:182)\npy4j.ClientServerConnection.run(ClientServerConnection.java:106)\njava.lang.Thread.run(Thread.java:748)\n\nThe currently active SparkContext was created at:\n\n(No active SparkContext.)\n         \n\tat org.apache.spark.SparkContext.assertNotStopped(SparkContext.scala:120)\n\tat org.apache.spark.SparkContext.defaultParallelism(SparkContext.scala:2524)\n\tat org.apache.spark.sql.execution.adaptive.CoalesceShufflePartitions.$anonfun$apply$1(CoalesceShufflePartitions.scala:60)\n\tat scala.runtime.java8.JFunction0$mcI$sp.apply(JFunction0$mcI$sp.java:23)\n\tat scala.Option.getOrElse(Option.scala:189)\n\tat org.apache.spark.sql.execution.adaptive.CoalesceShufflePartitions.apply(CoalesceShufflePartitions.scala:57)\n\tat org.apache.spark.sql.execution.adaptive.CoalesceShufflePartitions.apply(CoalesceShufflePartitions.scala:33)\n\tat org.apache.spark.sql.execution.adaptive.AdaptiveSparkPlanExec.$anonfun$optimizeQueryStage$1(AdaptiveSparkPlanExec.scala:153)\n\tat scala.collection.LinearSeqOptimized.foldLeft(LinearSeqOptimized.scala:126)\n\tat scala.collection.LinearSeqOptimized.foldLeft$(LinearSeqOptimized.scala:122)\n\tat scala.collection.immutable.List.foldLeft(List.scala:91)\n\tat org.apache.spark.sql.execution.adaptive.AdaptiveSparkPlanExec.optimizeQueryStage(AdaptiveSparkPlanExec.scala:152)\n\tat org.apache.spark.sql.execution.adaptive.AdaptiveSparkPlanExec.newQueryStage(AdaptiveSparkPlanExec.scala:525)\n\tat org.apache.spark.sql.execution.adaptive.AdaptiveSparkPlanExec.createQueryStages(AdaptiveSparkPlanExec.scala:486)\n\tat org.apache.spark.sql.execution.adaptive.AdaptiveSparkPlanExec.$anonfun$createQueryStages$2(AdaptiveSparkPlanExec.scala:516)\n\tat scala.collection.TraversableLike.$anonfun$map$1(TraversableLike.scala:286)\n\tat scala.collection.Iterator.foreach(Iterator.scala:943)\n\tat scala.collection.Iterator.foreach$(Iterator.scala:943)\n\tat scala.collection.AbstractIterator.foreach(Iterator.scala:1431)\n\tat scala.collection.IterableLike.foreach(IterableLike.scala:74)\n\tat scala.collection.IterableLike.foreach$(IterableLike.scala:73)\n\tat scala.collection.AbstractIterable.foreach(Iterable.scala:56)\n\tat scala.collection.TraversableLike.map(TraversableLike.scala:286)\n\tat scala.collection.TraversableLike.map$(TraversableLike.scala:279)\n\tat scala.collection.AbstractTraversable.map(Traversable.scala:108)\n\tat org.apache.spark.sql.execution.adaptive.AdaptiveSparkPlanExec.createQueryStages(AdaptiveSparkPlanExec.scala:516)\n\tat org.apache.spark.sql.execution.adaptive.AdaptiveSparkPlanExec.$anonfun$getFinalPhysicalPlan$1(AdaptiveSparkPlanExec.scala:233)\n\tat org.apache.spark.sql.SparkSession.withActive(SparkSession.scala:779)\n\tat org.apache.spark.sql.execution.adaptive.AdaptiveSparkPlanExec.getFinalPhysicalPlan(AdaptiveSparkPlanExec.scala:228)\n\tat org.apache.spark.sql.execution.adaptive.AdaptiveSparkPlanExec.withFinalPlanUpdate(AdaptiveSparkPlanExec.scala:367)\n\tat org.apache.spark.sql.execution.adaptive.AdaptiveSparkPlanExec.executeCollect(AdaptiveSparkPlanExec.scala:340)\n\tat org.apache.spark.sql.Dataset.$anonfun$count$1(Dataset.scala:3161)\n\tat org.apache.spark.sql.Dataset.$anonfun$count$1$adapted(Dataset.scala:3160)\n\tat org.apache.spark.sql.Dataset.$anonfun$withAction$2(Dataset.scala:3858)\n\tat org.apache.spark.sql.execution.QueryExecution$.withInternalError(QueryExecution.scala:510)\n\tat org.apache.spark.sql.Dataset.$anonfun$withAction$1(Dataset.scala:3856)\n\tat org.apache.spark.sql.execution.SQLExecution$.$anonfun$withNewExecutionId$6(SQLExecution.scala:109)\n\tat org.apache.spark.sql.execution.SQLExecution$.withSQLConfPropagated(SQLExecution.scala:169)\n\tat org.apache.spark.sql.execution.SQLExecution$.$anonfun$withNewExecutionId$1(SQLExecution.scala:95)\n\tat org.apache.spark.sql.SparkSession.withActive(SparkSession.scala:779)\n\tat org.apache.spark.sql.execution.SQLExecution$.withNewExecutionId(SQLExecution.scala:64)\n\tat org.apache.spark.sql.Dataset.withAction(Dataset.scala:3856)\n\tat org.apache.spark.sql.Dataset.count(Dataset.scala:3160)\n\tat sun.reflect.NativeMethodAccessorImpl.invoke0(Native Method)\n\tat sun.reflect.NativeMethodAccessorImpl.invoke(NativeMethodAccessorImpl.java:62)\n\tat sun.reflect.DelegatingMethodAccessorImpl.invoke(DelegatingMethodAccessorImpl.java:43)\n\tat java.lang.reflect.Method.invoke(Method.java:498)\n\tat py4j.reflection.MethodInvoker.invoke(MethodInvoker.java:244)\n\tat py4j.reflection.ReflectionEngine.invoke(ReflectionEngine.java:357)\n\tat py4j.Gateway.invoke(Gateway.java:282)\n\tat py4j.commands.AbstractCommand.invokeMethod(AbstractCommand.java:132)\n\tat py4j.commands.CallCommand.execute(CallCommand.java:79)\n\tat py4j.ClientServerConnection.waitForCommands(ClientServerConnection.java:182)\n\tat py4j.ClientServerConnection.run(ClientServerConnection.java:106)\n\tat java.lang.Thread.run(Thread.java:748)\n"
     ]
    }
   ],
   "source": [
    "def filter_yellow(sdf):\n",
    "\n",
    "    return sdf \\\n",
    "            .drop('VendorID', 'store_and_fwd_flag', 'payment_type', 'fare_amount', 'extra', 'mta_tax', 'tip_amount', 'tolls_amount', 'congestion_surcharge', 'improvement_surcharge','airport_fee') \\\n",
    "            .filter((F.col('trip_distance') > 0) & (F.col('trip_distance') < 150)) \\\n",
    "            .withColumn('PUWeekday', (F.dayofweek(F.col('tpep_pickup_datetime')))) \\\n",
    "            .withColumn('PUHour', F.hour(F.col('tpep_pickup_datetime'))) \\\n",
    "            .filter(F.col('passenger_count') > 0)\n",
    "\n",
    "def filter_green(sdf):\n",
    "    return sdf \\\n",
    "        .drop('VendorID', 'store_and_fwd_flag', 'payment_type', 'fate_amount', 'extra', 'mta_tax', 'tip_amount', 'tolls_amount', 'congestion_surcharge', 'improvement_surcharge','airport_fee') \\\n",
    "        .filter((F.col('trip_distance') > 0) & (F.col('trip_distance') < 150)) \\\n",
    "        .withColumn('PUWeekday', (F.dayofweek(F.col('lpep_pickup_datetime')))) \\\n",
    "        .withColumn('PUHour', F.hour(F.col('lpep_pickup_datetime'))) \n",
    "\n",
    "print(sdf_yellow.count())\n",
    "sdf_new_yellow = filter_yellow(sdf_yellow)\n",
    "print(sdf_new_yellow.count())\n",
    "#sdf_new_green = filter_green(sdf_green)\n",
    "sdf_new_yellow.tail(5)\n"
   ]
  },
  {
   "cell_type": "code",
   "execution_count": null,
   "metadata": {},
   "outputs": [
    {
     "name": "stderr",
     "output_type": "stream",
     "text": [
      "                                                                                \r"
     ]
    },
    {
     "data": {
      "text/html": [
       "<table border='1'>\n",
       "<tr><th>VendorID</th><th>lpep_pickup_datetime</th><th>lpep_dropoff_datetime</th><th>store_and_fwd_flag</th><th>ratecodeID</th><th>PULocationID</th><th>DOLocationID</th><th>passenger_count</th><th>trip_distance</th><th>fare_amount</th><th>extra</th><th>mta_tax</th><th>tip_amount</th><th>tolls_amount</th><th>ehail_fee</th><th>improvement_surcharge</th><th>total_amount</th><th>payment_type</th><th>trip_type</th><th>congestion_surcharge</th></tr>\n",
       "<tr><td>2</td><td>2017-06-01 00:28:16</td><td>2017-06-01 00:35:25</td><td>N</td><td>1</td><td>65</td><td>40</td><td>1</td><td>1.75</td><td>7.5</td><td>0.5</td><td>0.5</td><td>1.76</td><td>0.0</td><td>null</td><td>0.3</td><td>10.56</td><td>1.0</td><td>1</td><td>null</td></tr>\n",
       "<tr><td>1</td><td>2017-06-01 00:08:33</td><td>2017-06-01 00:19:25</td><td>N</td><td>1</td><td>116</td><td>42</td><td>2</td><td>2.1</td><td>9.5</td><td>0.5</td><td>0.5</td><td>2.15</td><td>0.0</td><td>null</td><td>0.3</td><td>12.95</td><td>1.0</td><td>1</td><td>null</td></tr>\n",
       "<tr><td>2</td><td>2017-06-01 00:21:12</td><td>2017-06-01 00:27:38</td><td>N</td><td>1</td><td>112</td><td>112</td><td>1</td><td>1.24</td><td>6.5</td><td>0.5</td><td>0.5</td><td>0.0</td><td>0.0</td><td>null</td><td>0.3</td><td>7.8</td><td>2.0</td><td>1</td><td>null</td></tr>\n",
       "<tr><td>2</td><td>2017-06-01 00:04:20</td><td>2017-06-01 00:24:13</td><td>N</td><td>1</td><td>255</td><td>195</td><td>2</td><td>4.94</td><td>18.0</td><td>0.5</td><td>0.5</td><td>3.86</td><td>0.0</td><td>null</td><td>0.3</td><td>23.16</td><td>1.0</td><td>1</td><td>null</td></tr>\n",
       "<tr><td>2</td><td>2017-06-01 00:38:09</td><td>2017-06-01 00:53:08</td><td>N</td><td>1</td><td>25</td><td>62</td><td>1</td><td>3.13</td><td>13.0</td><td>0.5</td><td>0.5</td><td>2.86</td><td>0.0</td><td>null</td><td>0.3</td><td>17.16</td><td>1.0</td><td>1</td><td>null</td></tr>\n",
       "</table>\n"
      ],
      "text/plain": [
       "+--------+--------------------+---------------------+------------------+----------+------------+------------+---------------+-------------+-----------+-----+-------+----------+------------+---------+---------------------+------------+------------+---------+--------------------+\n",
       "|VendorID|lpep_pickup_datetime|lpep_dropoff_datetime|store_and_fwd_flag|ratecodeID|PULocationID|DOLocationID|passenger_count|trip_distance|fare_amount|extra|mta_tax|tip_amount|tolls_amount|ehail_fee|improvement_surcharge|total_amount|payment_type|trip_type|congestion_surcharge|\n",
       "+--------+--------------------+---------------------+------------------+----------+------------+------------+---------------+-------------+-----------+-----+-------+----------+------------+---------+---------------------+------------+------------+---------+--------------------+\n",
       "|       2| 2017-06-01 00:28:16|  2017-06-01 00:35:25|                 N|         1|          65|          40|              1|         1.75|        7.5|  0.5|    0.5|      1.76|         0.0|     null|                  0.3|       10.56|         1.0|        1|                null|\n",
       "|       1| 2017-06-01 00:08:33|  2017-06-01 00:19:25|                 N|         1|         116|          42|              2|          2.1|        9.5|  0.5|    0.5|      2.15|         0.0|     null|                  0.3|       12.95|         1.0|        1|                null|\n",
       "|       2| 2017-06-01 00:21:12|  2017-06-01 00:27:38|                 N|         1|         112|         112|              1|         1.24|        6.5|  0.5|    0.5|       0.0|         0.0|     null|                  0.3|         7.8|         2.0|        1|                null|\n",
       "|       2| 2017-06-01 00:04:20|  2017-06-01 00:24:13|                 N|         1|         255|         195|              2|         4.94|       18.0|  0.5|    0.5|      3.86|         0.0|     null|                  0.3|       23.16|         1.0|        1|                null|\n",
       "|       2| 2017-06-01 00:38:09|  2017-06-01 00:53:08|                 N|         1|          25|          62|              1|         3.13|       13.0|  0.5|    0.5|      2.86|         0.0|     null|                  0.3|       17.16|         1.0|        1|                null|\n",
       "+--------+--------------------+---------------------+------------------+----------+------------+------------+---------------+-------------+-----------+-----+-------+----------+------------+---------+---------------------+------------+------------+---------+--------------------+"
      ]
     },
     "execution_count": 6,
     "metadata": {},
     "output_type": "execute_result"
    }
   ],
   "source": [
    "sdf_green.limit(5)"
   ]
  },
  {
   "cell_type": "code",
   "execution_count": null,
   "metadata": {},
   "outputs": [
    {
     "name": "stderr",
     "output_type": "stream",
     "text": [
      "                                                                                \r"
     ]
    },
    {
     "data": {
      "text/html": [
       "<table border='1'>\n",
       "<tr><th>VendorID</th><th>tpep_pickup_datetime</th><th>tpep_dropoff_datetime</th><th>passenger_count</th><th>trip_distance</th><th>ratecodeID</th><th>store_and_fwd_flag</th><th>PULocationID</th><th>DOLocationID</th><th>payment_type</th><th>fare_amount</th><th>extra</th><th>mta_tax</th><th>tip_amount</th><th>tolls_amount</th><th>improvement_surcharge</th><th>total_amount</th><th>congestion_surcharge</th><th>airport_fee</th></tr>\n",
       "<tr><td>1</td><td>2017-06-01 00:02:36</td><td>2017-06-01 00:10:02</td><td>1</td><td>1.8</td><td>1</td><td>N</td><td>161</td><td>263</td><td>1</td><td>8.0</td><td>0.5</td><td>0.5</td><td>1.85</td><td>0.0</td><td>0.3</td><td>11.15</td><td>null</td><td>null</td></tr>\n",
       "<tr><td>1</td><td>2017-06-01 00:14:14</td><td>2017-06-01 00:16:50</td><td>1</td><td>0.8</td><td>1</td><td>N</td><td>237</td><td>237</td><td>1</td><td>4.5</td><td>0.5</td><td>0.5</td><td>0.75</td><td>0.0</td><td>0.3</td><td>6.55</td><td>null</td><td>null</td></tr>\n",
       "<tr><td>1</td><td>2017-06-01 00:47:11</td><td>2017-06-01 00:57:47</td><td>1</td><td>1.7</td><td>1</td><td>N</td><td>48</td><td>233</td><td>1</td><td>8.5</td><td>0.5</td><td>0.5</td><td>1.0</td><td>0.0</td><td>0.3</td><td>10.8</td><td>null</td><td>null</td></tr>\n",
       "<tr><td>1</td><td>2017-06-01 00:14:38</td><td>2017-06-01 00:19:49</td><td>1</td><td>1.1</td><td>1</td><td>N</td><td>246</td><td>249</td><td>1</td><td>5.5</td><td>0.5</td><td>0.5</td><td>1.5</td><td>0.0</td><td>0.3</td><td>8.3</td><td>null</td><td>null</td></tr>\n",
       "<tr><td>1</td><td>2017-06-01 00:03:41</td><td>2017-06-01 00:57:09</td><td>1</td><td>14.8</td><td>1</td><td>N</td><td>166</td><td>61</td><td>2</td><td>48.5</td><td>0.5</td><td>0.5</td><td>0.0</td><td>0.0</td><td>0.3</td><td>49.8</td><td>null</td><td>null</td></tr>\n",
       "</table>\n"
      ],
      "text/plain": [
       "+--------+--------------------+---------------------+---------------+-------------+----------+------------------+------------+------------+------------+-----------+-----+-------+----------+------------+---------------------+------------+--------------------+-----------+\n",
       "|VendorID|tpep_pickup_datetime|tpep_dropoff_datetime|passenger_count|trip_distance|ratecodeID|store_and_fwd_flag|PULocationID|DOLocationID|payment_type|fare_amount|extra|mta_tax|tip_amount|tolls_amount|improvement_surcharge|total_amount|congestion_surcharge|airport_fee|\n",
       "+--------+--------------------+---------------------+---------------+-------------+----------+------------------+------------+------------+------------+-----------+-----+-------+----------+------------+---------------------+------------+--------------------+-----------+\n",
       "|       1| 2017-06-01 00:02:36|  2017-06-01 00:10:02|              1|          1.8|         1|                 N|         161|         263|           1|        8.0|  0.5|    0.5|      1.85|         0.0|                  0.3|       11.15|                null|       null|\n",
       "|       1| 2017-06-01 00:14:14|  2017-06-01 00:16:50|              1|          0.8|         1|                 N|         237|         237|           1|        4.5|  0.5|    0.5|      0.75|         0.0|                  0.3|        6.55|                null|       null|\n",
       "|       1| 2017-06-01 00:47:11|  2017-06-01 00:57:47|              1|          1.7|         1|                 N|          48|         233|           1|        8.5|  0.5|    0.5|       1.0|         0.0|                  0.3|        10.8|                null|       null|\n",
       "|       1| 2017-06-01 00:14:38|  2017-06-01 00:19:49|              1|          1.1|         1|                 N|         246|         249|           1|        5.5|  0.5|    0.5|       1.5|         0.0|                  0.3|         8.3|                null|       null|\n",
       "|       1| 2017-06-01 00:03:41|  2017-06-01 00:57:09|              1|         14.8|         1|                 N|         166|          61|           2|       48.5|  0.5|    0.5|       0.0|         0.0|                  0.3|        49.8|                null|       null|\n",
       "+--------+--------------------+---------------------+---------------+-------------+----------+------------------+------------+------------+------------+-----------+-----+-------+----------+------------+---------------------+------------+--------------------+-----------+"
      ]
     },
     "execution_count": 7,
     "metadata": {},
     "output_type": "execute_result"
    }
   ],
   "source": [
    "sdf_yellow.limit(5)"
   ]
  }
 ],
 "metadata": {
  "kernelspec": {
   "display_name": "Python 3.8.10 ('adsenv': venv)",
   "language": "python",
   "name": "python3"
  },
  "language_info": {
   "codemirror_mode": {
    "name": "ipython",
    "version": 3
   },
   "file_extension": ".py",
   "mimetype": "text/x-python",
   "name": "python",
   "nbconvert_exporter": "python",
   "pygments_lexer": "ipython3",
   "version": "3.8.10"
  },
  "orig_nbformat": 4,
  "vscode": {
   "interpreter": {
    "hash": "c5863b7319be0ba8d88ed95044dcfd002e9d5d183ede3cf6092c3150097f8482"
   }
  }
 },
 "nbformat": 4,
 "nbformat_minor": 2
}
