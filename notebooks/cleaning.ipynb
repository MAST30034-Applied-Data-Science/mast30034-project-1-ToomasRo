{
 "cells": [
  {
   "cell_type": "code",
   "execution_count": 1,
   "metadata": {},
   "outputs": [],
   "source": [
    "import pandas as pd\n",
    "import geopandas as gpd\n",
    "import numpy as np \n",
    "import os \n",
    "import matplotlib.pyplot as plt"
   ]
  },
  {
   "cell_type": "code",
   "execution_count": 2,
   "metadata": {},
   "outputs": [
    {
     "name": "stdout",
     "output_type": "stream",
     "text": [
      "22/08/17 22:02:01 WARN Utils: Your hostname, DESKTOP-L9KIK4G resolves to a loopback address: 127.0.1.1; using 172.19.228.94 instead (on interface eth0)\n",
      "22/08/17 22:02:01 WARN Utils: Set SPARK_LOCAL_IP if you need to bind to another address\n"
     ]
    },
    {
     "name": "stderr",
     "output_type": "stream",
     "text": [
      "Setting default log level to \"WARN\".\n",
      "To adjust logging level use sc.setLogLevel(newLevel). For SparkR, use setLogLevel(newLevel).\n"
     ]
    },
    {
     "name": "stdout",
     "output_type": "stream",
     "text": [
      "22/08/17 22:02:03 WARN NativeCodeLoader: Unable to load native-hadoop library for your platform... using builtin-java classes where applicable\n"
     ]
    }
   ],
   "source": [
    "# Sample connection\n",
    "from pyspark.sql import SparkSession\n",
    "\n",
    "# Create a spark session (which will run spark jobs)\n",
    "spark = (\n",
    "    SparkSession.builder.appName(\"Cleaning connection\")\n",
    "    .config(\"spark.sql.repl.eagerEval.enabled\", True) \n",
    "    .config(\"spark.sql.parquet.cacheMetadata\", \"true\")\n",
    "    .config(\"spark.sql.session.timeZone\", \"Etc/UTC\")\n",
    "    .config(\"spark.driver.memory\", \"2g\")\n",
    "    .config(\"spark.executor.memory\", \"4g\")\n",
    "    .getOrCreate()\n",
    ")"
   ]
  },
  {
   "cell_type": "markdown",
   "metadata": {},
   "source": [
    "# Preparing weather data"
   ]
  },
  {
   "cell_type": "code",
   "execution_count": 178,
   "metadata": {},
   "outputs": [
    {
     "name": "stderr",
     "output_type": "stream",
     "text": [
      "/tmp/ipykernel_17460/3092311829.py:2: DtypeWarning: Columns (44,45,46) have mixed types. Specify dtype option on import or set low_memory=False.\n",
      "  df = pd.read_csv('../data/laguardia.csv')\n"
     ]
    },
    {
     "data": {
      "text/html": [
       "<div>\n",
       "<style scoped>\n",
       "    .dataframe tbody tr th:only-of-type {\n",
       "        vertical-align: middle;\n",
       "    }\n",
       "\n",
       "    .dataframe tbody tr th {\n",
       "        vertical-align: top;\n",
       "    }\n",
       "\n",
       "    .dataframe thead th {\n",
       "        text-align: right;\n",
       "    }\n",
       "</style>\n",
       "<table border=\"1\" class=\"dataframe\">\n",
       "  <thead>\n",
       "    <tr style=\"text-align: right;\">\n",
       "      <th></th>\n",
       "      <th>station</th>\n",
       "      <th>date</th>\n",
       "      <th>source</th>\n",
       "      <th>latitude</th>\n",
       "      <th>longitude</th>\n",
       "      <th>elevation</th>\n",
       "      <th>name</th>\n",
       "      <th>call_sign</th>\n",
       "      <th>quality_control</th>\n",
       "      <th>wnd</th>\n",
       "      <th>...</th>\n",
       "      <th>oc1</th>\n",
       "      <th>od1</th>\n",
       "      <th>oe1</th>\n",
       "      <th>oe2</th>\n",
       "      <th>oe3</th>\n",
       "      <th>rh1</th>\n",
       "      <th>rh2</th>\n",
       "      <th>rh3</th>\n",
       "      <th>rem</th>\n",
       "      <th>eqd</th>\n",
       "    </tr>\n",
       "  </thead>\n",
       "  <tbody>\n",
       "    <tr>\n",
       "      <th>0</th>\n",
       "      <td>72503014732</td>\n",
       "      <td>2019-01-01T00:00:00</td>\n",
       "      <td>4</td>\n",
       "      <td>40.77944</td>\n",
       "      <td>-73.88035</td>\n",
       "      <td>3.4</td>\n",
       "      <td>LAGUARDIA AIRPORT, NY US</td>\n",
       "      <td>99999</td>\n",
       "      <td>V020</td>\n",
       "      <td>130,1,N,0041,1</td>\n",
       "      <td>...</td>\n",
       "      <td>NaN</td>\n",
       "      <td>NaN</td>\n",
       "      <td>NaN</td>\n",
       "      <td>NaN</td>\n",
       "      <td>NaN</td>\n",
       "      <td>NaN</td>\n",
       "      <td>NaN</td>\n",
       "      <td>NaN</td>\n",
       "      <td>SYN09872503 11358 81308 10067 20050 30189 4020...</td>\n",
       "      <td>NaN</td>\n",
       "    </tr>\n",
       "    <tr>\n",
       "      <th>1</th>\n",
       "      <td>72503014732</td>\n",
       "      <td>2019-01-01T00:49:00</td>\n",
       "      <td>6</td>\n",
       "      <td>40.77944</td>\n",
       "      <td>-73.88035</td>\n",
       "      <td>3.4</td>\n",
       "      <td>LAGUARDIA AIRPORT, NY US</td>\n",
       "      <td>KLGA</td>\n",
       "      <td>V030</td>\n",
       "      <td>140,5,N,0067,5</td>\n",
       "      <td>...</td>\n",
       "      <td>0103,5</td>\n",
       "      <td>NaN</td>\n",
       "      <td>NaN</td>\n",
       "      <td>NaN</td>\n",
       "      <td>NaN</td>\n",
       "      <td>NaN</td>\n",
       "      <td>NaN</td>\n",
       "      <td>NaN</td>\n",
       "      <td>MET13312/31/18 19:49:03 SPECI KLGA 010049Z 140...</td>\n",
       "      <td>NaN</td>\n",
       "    </tr>\n",
       "    <tr>\n",
       "      <th>2</th>\n",
       "      <td>72503014732</td>\n",
       "      <td>2019-01-01T00:51:00</td>\n",
       "      <td>7</td>\n",
       "      <td>40.77944</td>\n",
       "      <td>-73.88035</td>\n",
       "      <td>3.4</td>\n",
       "      <td>LAGUARDIA AIRPORT, NY US</td>\n",
       "      <td>KLGA</td>\n",
       "      <td>V030</td>\n",
       "      <td>130,5,N,0067,5</td>\n",
       "      <td>...</td>\n",
       "      <td>0103,5</td>\n",
       "      <td>NaN</td>\n",
       "      <td>NaN</td>\n",
       "      <td>NaN</td>\n",
       "      <td>NaN</td>\n",
       "      <td>NaN</td>\n",
       "      <td>NaN</td>\n",
       "      <td>NaN</td>\n",
       "      <td>MET13912/31/18 19:51:01 METAR KLGA 010051Z 130...</td>\n",
       "      <td>NaN</td>\n",
       "    </tr>\n",
       "    <tr>\n",
       "      <th>3</th>\n",
       "      <td>72503014732</td>\n",
       "      <td>2019-01-01T01:15:00</td>\n",
       "      <td>7</td>\n",
       "      <td>40.77944</td>\n",
       "      <td>-73.88035</td>\n",
       "      <td>3.4</td>\n",
       "      <td>LAGUARDIA AIRPORT, NY US</td>\n",
       "      <td>KLGA</td>\n",
       "      <td>V030</td>\n",
       "      <td>140,5,N,0046,5</td>\n",
       "      <td>...</td>\n",
       "      <td>0088,5</td>\n",
       "      <td>NaN</td>\n",
       "      <td>NaN</td>\n",
       "      <td>NaN</td>\n",
       "      <td>NaN</td>\n",
       "      <td>NaN</td>\n",
       "      <td>NaN</td>\n",
       "      <td>NaN</td>\n",
       "      <td>MET11212/31/18 20:15:01 SPECI KLGA 010115Z 140...</td>\n",
       "      <td>NaN</td>\n",
       "    </tr>\n",
       "    <tr>\n",
       "      <th>4</th>\n",
       "      <td>72503014732</td>\n",
       "      <td>2019-01-01T01:25:00</td>\n",
       "      <td>7</td>\n",
       "      <td>40.77944</td>\n",
       "      <td>-73.88035</td>\n",
       "      <td>3.4</td>\n",
       "      <td>LAGUARDIA AIRPORT, NY US</td>\n",
       "      <td>KLGA</td>\n",
       "      <td>V030</td>\n",
       "      <td>130,5,N,0051,5</td>\n",
       "      <td>...</td>\n",
       "      <td>NaN</td>\n",
       "      <td>NaN</td>\n",
       "      <td>NaN</td>\n",
       "      <td>NaN</td>\n",
       "      <td>NaN</td>\n",
       "      <td>NaN</td>\n",
       "      <td>NaN</td>\n",
       "      <td>NaN</td>\n",
       "      <td>MET11912/31/18 20:25:01 SPECI KLGA 010125Z 130...</td>\n",
       "      <td>NaN</td>\n",
       "    </tr>\n",
       "  </tbody>\n",
       "</table>\n",
       "<p>5 rows × 101 columns</p>\n",
       "</div>"
      ],
      "text/plain": [
       "       station                 date  source  latitude  longitude  elevation  \\\n",
       "0  72503014732  2019-01-01T00:00:00       4  40.77944  -73.88035        3.4   \n",
       "1  72503014732  2019-01-01T00:49:00       6  40.77944  -73.88035        3.4   \n",
       "2  72503014732  2019-01-01T00:51:00       7  40.77944  -73.88035        3.4   \n",
       "3  72503014732  2019-01-01T01:15:00       7  40.77944  -73.88035        3.4   \n",
       "4  72503014732  2019-01-01T01:25:00       7  40.77944  -73.88035        3.4   \n",
       "\n",
       "                       name call_sign quality_control             wnd  ...  \\\n",
       "0  LAGUARDIA AIRPORT, NY US     99999            V020  130,1,N,0041,1  ...   \n",
       "1  LAGUARDIA AIRPORT, NY US     KLGA             V030  140,5,N,0067,5  ...   \n",
       "2  LAGUARDIA AIRPORT, NY US     KLGA             V030  130,5,N,0067,5  ...   \n",
       "3  LAGUARDIA AIRPORT, NY US     KLGA             V030  140,5,N,0046,5  ...   \n",
       "4  LAGUARDIA AIRPORT, NY US     KLGA             V030  130,5,N,0051,5  ...   \n",
       "\n",
       "      oc1  od1  oe1  oe2  oe3  rh1  rh2  rh3  \\\n",
       "0     NaN  NaN  NaN  NaN  NaN  NaN  NaN  NaN   \n",
       "1  0103,5  NaN  NaN  NaN  NaN  NaN  NaN  NaN   \n",
       "2  0103,5  NaN  NaN  NaN  NaN  NaN  NaN  NaN   \n",
       "3  0088,5  NaN  NaN  NaN  NaN  NaN  NaN  NaN   \n",
       "4     NaN  NaN  NaN  NaN  NaN  NaN  NaN  NaN   \n",
       "\n",
       "                                                 rem  eqd  \n",
       "0  SYN09872503 11358 81308 10067 20050 30189 4020...  NaN  \n",
       "1  MET13312/31/18 19:49:03 SPECI KLGA 010049Z 140...  NaN  \n",
       "2  MET13912/31/18 19:51:01 METAR KLGA 010051Z 130...  NaN  \n",
       "3  MET11212/31/18 20:15:01 SPECI KLGA 010115Z 140...  NaN  \n",
       "4  MET11912/31/18 20:25:01 SPECI KLGA 010125Z 130...  NaN  \n",
       "\n",
       "[5 rows x 101 columns]"
      ]
     },
     "execution_count": 178,
     "metadata": {},
     "output_type": "execute_result"
    }
   ],
   "source": [
    "# Looking at the weather data and keeping columns with data\n",
    "df = pd.read_csv('../data/laguardia.csv')\n",
    "df.rename(str.lower, axis='columns', inplace=True)\n",
    "df = df[df.report_type.isin(['FM-12', 'FM-15', 'FM-16'])]\n",
    "df.drop('report_type', axis=1, inplace=True)\n",
    "df.head()"
   ]
  },
  {
   "cell_type": "code",
   "execution_count": 179,
   "metadata": {},
   "outputs": [
    {
     "data": {
      "text/html": [
       "<div>\n",
       "<style scoped>\n",
       "    .dataframe tbody tr th:only-of-type {\n",
       "        vertical-align: middle;\n",
       "    }\n",
       "\n",
       "    .dataframe tbody tr th {\n",
       "        vertical-align: top;\n",
       "    }\n",
       "\n",
       "    .dataframe thead th {\n",
       "        text-align: right;\n",
       "    }\n",
       "</style>\n",
       "<table border=\"1\" class=\"dataframe\">\n",
       "  <thead>\n",
       "    <tr style=\"text-align: right;\">\n",
       "      <th></th>\n",
       "      <th>date</th>\n",
       "      <th>wnd</th>\n",
       "      <th>vis</th>\n",
       "      <th>tmp</th>\n",
       "      <th>dew</th>\n",
       "      <th>slp</th>\n",
       "      <th>ga1</th>\n",
       "    </tr>\n",
       "  </thead>\n",
       "  <tbody>\n",
       "    <tr>\n",
       "      <th>0</th>\n",
       "      <td>2019-01-01T00:00:00</td>\n",
       "      <td>130,1,N,0041,1</td>\n",
       "      <td>008000,1,9,9</td>\n",
       "      <td>+0067,1</td>\n",
       "      <td>+0050,1</td>\n",
       "      <td>10201,1</td>\n",
       "      <td>99,9,+00250,1,99,9</td>\n",
       "    </tr>\n",
       "    <tr>\n",
       "      <th>1</th>\n",
       "      <td>2019-01-01T00:49:00</td>\n",
       "      <td>140,5,N,0067,5</td>\n",
       "      <td>003219,5,N,5</td>\n",
       "      <td>+0070,5</td>\n",
       "      <td>+0050,5</td>\n",
       "      <td>99999,9</td>\n",
       "      <td>07,5,+00244,5,99,9</td>\n",
       "    </tr>\n",
       "    <tr>\n",
       "      <th>2</th>\n",
       "      <td>2019-01-01T00:51:00</td>\n",
       "      <td>130,5,N,0067,5</td>\n",
       "      <td>003219,5,N,5</td>\n",
       "      <td>+0067,5</td>\n",
       "      <td>+0050,5</td>\n",
       "      <td>10181,5</td>\n",
       "      <td>07,5,+00244,5,99,9</td>\n",
       "    </tr>\n",
       "    <tr>\n",
       "      <th>3</th>\n",
       "      <td>2019-01-01T01:15:00</td>\n",
       "      <td>140,5,N,0046,5</td>\n",
       "      <td>011265,5,N,5</td>\n",
       "      <td>+0072,5</td>\n",
       "      <td>+0056,5</td>\n",
       "      <td>99999,9</td>\n",
       "      <td>07,5,+00244,5,99,9</td>\n",
       "    </tr>\n",
       "    <tr>\n",
       "      <th>4</th>\n",
       "      <td>2019-01-01T01:25:00</td>\n",
       "      <td>130,5,N,0051,5</td>\n",
       "      <td>002414,5,N,5</td>\n",
       "      <td>+0072,5</td>\n",
       "      <td>+0056,5</td>\n",
       "      <td>99999,9</td>\n",
       "      <td>07,5,+00244,5,99,9</td>\n",
       "    </tr>\n",
       "    <tr>\n",
       "      <th>...</th>\n",
       "      <td>...</td>\n",
       "      <td>...</td>\n",
       "      <td>...</td>\n",
       "      <td>...</td>\n",
       "      <td>...</td>\n",
       "      <td>...</td>\n",
       "      <td>...</td>\n",
       "    </tr>\n",
       "    <tr>\n",
       "      <th>14076</th>\n",
       "      <td>2019-12-31T20:51:00</td>\n",
       "      <td>240,5,N,0046,5</td>\n",
       "      <td>016093,5,N,5</td>\n",
       "      <td>+0072,5</td>\n",
       "      <td>+0011,5</td>\n",
       "      <td>10028,5</td>\n",
       "      <td>04,5,+01036,5,99,9</td>\n",
       "    </tr>\n",
       "    <tr>\n",
       "      <th>14077</th>\n",
       "      <td>2019-12-31T21:00:00</td>\n",
       "      <td>240,1,N,0046,1</td>\n",
       "      <td>016000,1,9,9</td>\n",
       "      <td>+0072,1</td>\n",
       "      <td>+0011,1</td>\n",
       "      <td>10028,1</td>\n",
       "      <td>99,9,+01250,1,99,9</td>\n",
       "    </tr>\n",
       "    <tr>\n",
       "      <th>14078</th>\n",
       "      <td>2019-12-31T21:51:00</td>\n",
       "      <td>250,5,N,0062,5</td>\n",
       "      <td>016093,5,N,5</td>\n",
       "      <td>+0072,5</td>\n",
       "      <td>+0000,5</td>\n",
       "      <td>10033,5</td>\n",
       "      <td>02,5,+00914,5,99,9</td>\n",
       "    </tr>\n",
       "    <tr>\n",
       "      <th>14079</th>\n",
       "      <td>2019-12-31T22:51:00</td>\n",
       "      <td>240,5,N,0046,5</td>\n",
       "      <td>016093,5,N,5</td>\n",
       "      <td>+0072,5</td>\n",
       "      <td>+0006,5</td>\n",
       "      <td>10036,5</td>\n",
       "      <td>07,5,+00914,5,99,9</td>\n",
       "    </tr>\n",
       "    <tr>\n",
       "      <th>14080</th>\n",
       "      <td>2019-12-31T23:51:00</td>\n",
       "      <td>220,5,N,0046,5</td>\n",
       "      <td>016093,5,N,5</td>\n",
       "      <td>+0067,5</td>\n",
       "      <td>+0017,5</td>\n",
       "      <td>10033,5</td>\n",
       "      <td>04,5,+01829,5,99,9</td>\n",
       "    </tr>\n",
       "  </tbody>\n",
       "</table>\n",
       "<p>13691 rows × 7 columns</p>\n",
       "</div>"
      ],
      "text/plain": [
       "                      date             wnd           vis      tmp      dew  \\\n",
       "0      2019-01-01T00:00:00  130,1,N,0041,1  008000,1,9,9  +0067,1  +0050,1   \n",
       "1      2019-01-01T00:49:00  140,5,N,0067,5  003219,5,N,5  +0070,5  +0050,5   \n",
       "2      2019-01-01T00:51:00  130,5,N,0067,5  003219,5,N,5  +0067,5  +0050,5   \n",
       "3      2019-01-01T01:15:00  140,5,N,0046,5  011265,5,N,5  +0072,5  +0056,5   \n",
       "4      2019-01-01T01:25:00  130,5,N,0051,5  002414,5,N,5  +0072,5  +0056,5   \n",
       "...                    ...             ...           ...      ...      ...   \n",
       "14076  2019-12-31T20:51:00  240,5,N,0046,5  016093,5,N,5  +0072,5  +0011,5   \n",
       "14077  2019-12-31T21:00:00  240,1,N,0046,1  016000,1,9,9  +0072,1  +0011,1   \n",
       "14078  2019-12-31T21:51:00  250,5,N,0062,5  016093,5,N,5  +0072,5  +0000,5   \n",
       "14079  2019-12-31T22:51:00  240,5,N,0046,5  016093,5,N,5  +0072,5  +0006,5   \n",
       "14080  2019-12-31T23:51:00  220,5,N,0046,5  016093,5,N,5  +0067,5  +0017,5   \n",
       "\n",
       "           slp                 ga1  \n",
       "0      10201,1  99,9,+00250,1,99,9  \n",
       "1      99999,9  07,5,+00244,5,99,9  \n",
       "2      10181,5  07,5,+00244,5,99,9  \n",
       "3      99999,9  07,5,+00244,5,99,9  \n",
       "4      99999,9  07,5,+00244,5,99,9  \n",
       "...        ...                 ...  \n",
       "14076  10028,5  04,5,+01036,5,99,9  \n",
       "14077  10028,1  99,9,+01250,1,99,9  \n",
       "14078  10033,5  02,5,+00914,5,99,9  \n",
       "14079  10036,5  07,5,+00914,5,99,9  \n",
       "14080  10033,5  04,5,+01829,5,99,9  \n",
       "\n",
       "[13691 rows x 7 columns]"
      ]
     },
     "execution_count": 179,
     "metadata": {},
     "output_type": "execute_result"
    }
   ],
   "source": [
    "# keeping potentially relevant columns\n",
    "df = df[['date', 'wnd', 'vis', 'tmp', 'dew', 'slp', 'ga1',]]\n",
    "\n",
    "# loosely transcribed meaning of columns:\n",
    "\n",
    "# wnd = wind angle clockwise,  quality code, wind obs type, WIND-OBSERVATION speed rate (x10), quality # 9999 missing\n",
    "\n",
    "# vis = visibility distance, quality, variability, obs qual  # 999999=missing\n",
    "\n",
    "# tmp = temp (x10), #+9999=missing\n",
    "# dew = dewpoint(x10), #+9999=missing [dew point temperature The temperature to which a given parcel of air must be cooled at constant pressure and water vapor content in order for saturation to occur\n",
    "\n",
    "# slp = atm pressure (x10), # 99999 = missing           [seal level pressure]\n",
    "# ga1 = cloud cover (scale 0-8, 9&10=obstructed), quality, base height, quality, cloud type, quality\n",
    "\n",
    "\n",
    "# Maybe interesting columns:\n",
    "# mw1 = weather name, quality\n",
    "# oc1 = kui suured tuulepuhangud on (x10), quality\n",
    "\n",
    "# df.drop(['source', 'station', 'latitude', 'longitude', 'name', 'elevation', 'call_sign', 'quality_control', 'cig', 'aa1', 'aa2', 'aa3', 'ab1', 'ad1', 'ae1', 'ah1', 'ah2', 'ah3', 'ah4', 'ah5', 'ah6', 'ai1', 'ai2', 'ai3', 'ai4', 'ai5', 'ai6', 'aj1', 'ak1', 'al1', 'am1', 'an1', 'at1', 'at2', 'at3', 'at4', 'at5', 'at6', 'at7', 'at8', 'au1', 'au2', 'au3', 'au4', 'aw1', 'aw2', 'aw3', 'aw4', 'aw5','ax1', 'ax2', 'ax3', 'ax4', 'ed1', 'ga2', 'ga3', 'gd1', 'gd2', 'gd3', 'gd4', 'ge1', 'gf1', 'ka1', 'ka2', 'kb1','kb2','kb3','kc1','kc2','kd1','kd2','ke1','kg1','kg2','ma1','md1', 'mf1','mg1','mh1','mk1','mv1','mw1','mw2','mw3','oc1','od1','oe1','oe2','oe3','rh1','rh2','rh3','rem','eqd'], axis=1)\n",
    "df"
   ]
  },
  {
   "cell_type": "code",
   "execution_count": 180,
   "metadata": {},
   "outputs": [],
   "source": [
    "# spliting out the relevant information\n",
    "df['date'] = df['date'] = pd.to_datetime(df['date'])\n",
    "df['wnd'] = df['wnd'].str.split(',', expand=True)[3].astype(np.uint32)      # unit: m/s, scaling factor:10,     missing: 9999\n",
    "df['vis'] = df['vis'].str.split(',', expand=True)[0].astype(np.uint32)      # unit: m,                          \n",
    "df['tmp'] = df['tmp'].str.split(',', expand=True)[0].astype(np.int32)       # unit: C, scaling factor:10,       missing: 9999\n",
    "df['dew'] = df['dew'].str.split(',', expand=True)[0].astype(np.int32)       # unit: C, scaling factor:10,       missing: 9999\n",
    "df['atm'] = df['slp'].str.split(',', expand=True)[0].astype(np.uint32)      # unit: hP, scaling factor:10,      missing: 99999\n",
    "df['ga1'].fillna('99,x', inplace=True)\n",
    "df['cc'] = df['ga1'].str.split(',', expand=True)[0].astype(np.uint32).astype('category') # cloud coverage: unit: okta (0 clear -> 8 covered), 99 missing\n",
    "df.drop(['slp', 'ga1'], axis=1, inplace=True)"
   ]
  },
  {
   "cell_type": "code",
   "execution_count": 184,
   "metadata": {},
   "outputs": [
    {
     "data": {
      "text/html": [
       "<div>\n",
       "<style scoped>\n",
       "    .dataframe tbody tr th:only-of-type {\n",
       "        vertical-align: middle;\n",
       "    }\n",
       "\n",
       "    .dataframe tbody tr th {\n",
       "        vertical-align: top;\n",
       "    }\n",
       "\n",
       "    .dataframe thead th {\n",
       "        text-align: right;\n",
       "    }\n",
       "</style>\n",
       "<table border=\"1\" class=\"dataframe\">\n",
       "  <thead>\n",
       "    <tr style=\"text-align: right;\">\n",
       "      <th></th>\n",
       "      <th>date</th>\n",
       "      <th>wnd</th>\n",
       "      <th>vis</th>\n",
       "      <th>tmp</th>\n",
       "      <th>dew</th>\n",
       "      <th>atm</th>\n",
       "      <th>cc</th>\n",
       "    </tr>\n",
       "  </thead>\n",
       "  <tbody>\n",
       "  </tbody>\n",
       "</table>\n",
       "</div>"
      ],
      "text/plain": [
       "Empty DataFrame\n",
       "Columns: [date, wnd, vis, tmp, dew, atm, cc]\n",
       "Index: []"
      ]
     },
     "execution_count": 184,
     "metadata": {},
     "output_type": "execute_result"
    }
   ],
   "source": [
    "df[df.isnull().any(axis=1)] # no NaN left"
   ]
  },
  {
   "cell_type": "code",
   "execution_count": 187,
   "metadata": {},
   "outputs": [
    {
     "name": "stdout",
     "output_type": "stream",
     "text": [
      "date    datetime64[ns]\n",
      "wnd             uint32\n",
      "vis             uint32\n",
      "tmp              int32\n",
      "dew              int32\n",
      "atm             uint32\n",
      "cc            category\n",
      "dtype: object\n"
     ]
    },
    {
     "data": {
      "text/html": [
       "<div>\n",
       "<style scoped>\n",
       "    .dataframe tbody tr th:only-of-type {\n",
       "        vertical-align: middle;\n",
       "    }\n",
       "\n",
       "    .dataframe tbody tr th {\n",
       "        vertical-align: top;\n",
       "    }\n",
       "\n",
       "    .dataframe thead th {\n",
       "        text-align: right;\n",
       "    }\n",
       "</style>\n",
       "<table border=\"1\" class=\"dataframe\">\n",
       "  <thead>\n",
       "    <tr style=\"text-align: right;\">\n",
       "      <th></th>\n",
       "      <th>wnd</th>\n",
       "      <th>vis</th>\n",
       "      <th>tmp</th>\n",
       "      <th>dew</th>\n",
       "      <th>atm</th>\n",
       "    </tr>\n",
       "  </thead>\n",
       "  <tbody>\n",
       "    <tr>\n",
       "      <th>count</th>\n",
       "      <td>13691.000000</td>\n",
       "      <td>13691.000000</td>\n",
       "      <td>13691.000000</td>\n",
       "      <td>13691.000000</td>\n",
       "      <td>13691.000000</td>\n",
       "    </tr>\n",
       "    <tr>\n",
       "      <th>mean</th>\n",
       "      <td>49.218538</td>\n",
       "      <td>14097.872982</td>\n",
       "      <td>134.312979</td>\n",
       "      <td>62.898693</td>\n",
       "      <td>23881.401505</td>\n",
       "    </tr>\n",
       "    <tr>\n",
       "      <th>std</th>\n",
       "      <td>88.596347</td>\n",
       "      <td>9506.640887</td>\n",
       "      <td>176.095325</td>\n",
       "      <td>247.540883</td>\n",
       "      <td>32309.299094</td>\n",
       "    </tr>\n",
       "    <tr>\n",
       "      <th>min</th>\n",
       "      <td>0.000000</td>\n",
       "      <td>0.000000</td>\n",
       "      <td>-156.000000</td>\n",
       "      <td>-272.000000</td>\n",
       "      <td>9858.000000</td>\n",
       "    </tr>\n",
       "    <tr>\n",
       "      <th>25%</th>\n",
       "      <td>31.000000</td>\n",
       "      <td>16000.000000</td>\n",
       "      <td>50.000000</td>\n",
       "      <td>-17.000000</td>\n",
       "      <td>10125.000000</td>\n",
       "    </tr>\n",
       "    <tr>\n",
       "      <th>50%</th>\n",
       "      <td>46.000000</td>\n",
       "      <td>16093.000000</td>\n",
       "      <td>133.000000</td>\n",
       "      <td>72.000000</td>\n",
       "      <td>10186.000000</td>\n",
       "    </tr>\n",
       "    <tr>\n",
       "      <th>75%</th>\n",
       "      <td>62.000000</td>\n",
       "      <td>16093.000000</td>\n",
       "      <td>217.000000</td>\n",
       "      <td>144.000000</td>\n",
       "      <td>10264.000000</td>\n",
       "    </tr>\n",
       "    <tr>\n",
       "      <th>max</th>\n",
       "      <td>9999.000000</td>\n",
       "      <td>999999.000000</td>\n",
       "      <td>9999.000000</td>\n",
       "      <td>9999.000000</td>\n",
       "      <td>99999.000000</td>\n",
       "    </tr>\n",
       "  </tbody>\n",
       "</table>\n",
       "</div>"
      ],
      "text/plain": [
       "                wnd            vis           tmp           dew           atm\n",
       "count  13691.000000   13691.000000  13691.000000  13691.000000  13691.000000\n",
       "mean      49.218538   14097.872982    134.312979     62.898693  23881.401505\n",
       "std       88.596347    9506.640887    176.095325    247.540883  32309.299094\n",
       "min        0.000000       0.000000   -156.000000   -272.000000   9858.000000\n",
       "25%       31.000000   16000.000000     50.000000    -17.000000  10125.000000\n",
       "50%       46.000000   16093.000000    133.000000     72.000000  10186.000000\n",
       "75%       62.000000   16093.000000    217.000000    144.000000  10264.000000\n",
       "max     9999.000000  999999.000000   9999.000000   9999.000000  99999.000000"
      ]
     },
     "execution_count": 187,
     "metadata": {},
     "output_type": "execute_result"
    }
   ],
   "source": [
    "print(df.dtypes)\n",
    "df.describe()"
   ]
  },
  {
   "cell_type": "code",
   "execution_count": 202,
   "metadata": {},
   "outputs": [
    {
     "name": "stdout",
     "output_type": "stream",
     "text": [
      "(11598, 7)\n",
      "(11598, 7)\n"
     ]
    }
   ],
   "source": [
    "print(df.shape)\n",
    "df = df[(df['wnd'] != 9999)]\n",
    "df = df[(df['vis'] != 999999)]\n",
    "df = df[(df['tmp'] != 9999)] \n",
    "df = df[(df['dew'] != 9999)] \n",
    "df = df[(df['atm'] != 99999)]\n",
    "print(df.shape)"
   ]
  },
  {
   "cell_type": "code",
   "execution_count": 203,
   "metadata": {},
   "outputs": [
    {
     "data": {
      "text/html": [
       "<div>\n",
       "<style scoped>\n",
       "    .dataframe tbody tr th:only-of-type {\n",
       "        vertical-align: middle;\n",
       "    }\n",
       "\n",
       "    .dataframe tbody tr th {\n",
       "        vertical-align: top;\n",
       "    }\n",
       "\n",
       "    .dataframe thead th {\n",
       "        text-align: right;\n",
       "    }\n",
       "</style>\n",
       "<table border=\"1\" class=\"dataframe\">\n",
       "  <thead>\n",
       "    <tr style=\"text-align: right;\">\n",
       "      <th></th>\n",
       "      <th>wnd</th>\n",
       "      <th>vis</th>\n",
       "      <th>tmp</th>\n",
       "      <th>dew</th>\n",
       "      <th>atm</th>\n",
       "    </tr>\n",
       "  </thead>\n",
       "  <tbody>\n",
       "    <tr>\n",
       "      <th>count</th>\n",
       "      <td>11598.000000</td>\n",
       "      <td>11598.000000</td>\n",
       "      <td>11598.000000</td>\n",
       "      <td>11598.000000</td>\n",
       "      <td>11598.000000</td>\n",
       "    </tr>\n",
       "    <tr>\n",
       "      <th>mean</th>\n",
       "      <td>48.211847</td>\n",
       "      <td>14861.065097</td>\n",
       "      <td>133.691499</td>\n",
       "      <td>50.988533</td>\n",
       "      <td>10168.289446</td>\n",
       "    </tr>\n",
       "    <tr>\n",
       "      <th>std</th>\n",
       "      <td>24.796421</td>\n",
       "      <td>3461.115500</td>\n",
       "      <td>100.612244</td>\n",
       "      <td>106.230097</td>\n",
       "      <td>81.400765</td>\n",
       "    </tr>\n",
       "    <tr>\n",
       "      <th>min</th>\n",
       "      <td>0.000000</td>\n",
       "      <td>0.000000</td>\n",
       "      <td>-156.000000</td>\n",
       "      <td>-272.000000</td>\n",
       "      <td>9858.000000</td>\n",
       "    </tr>\n",
       "    <tr>\n",
       "      <th>25%</th>\n",
       "      <td>31.000000</td>\n",
       "      <td>16000.000000</td>\n",
       "      <td>50.000000</td>\n",
       "      <td>-33.000000</td>\n",
       "      <td>10114.000000</td>\n",
       "    </tr>\n",
       "    <tr>\n",
       "      <th>50%</th>\n",
       "      <td>46.000000</td>\n",
       "      <td>16093.000000</td>\n",
       "      <td>133.000000</td>\n",
       "      <td>61.000000</td>\n",
       "      <td>10166.000000</td>\n",
       "    </tr>\n",
       "    <tr>\n",
       "      <th>75%</th>\n",
       "      <td>62.000000</td>\n",
       "      <td>16093.000000</td>\n",
       "      <td>222.000000</td>\n",
       "      <td>139.000000</td>\n",
       "      <td>10225.000000</td>\n",
       "    </tr>\n",
       "    <tr>\n",
       "      <th>max</th>\n",
       "      <td>175.000000</td>\n",
       "      <td>16093.000000</td>\n",
       "      <td>372.000000</td>\n",
       "      <td>239.000000</td>\n",
       "      <td>10408.000000</td>\n",
       "    </tr>\n",
       "  </tbody>\n",
       "</table>\n",
       "</div>"
      ],
      "text/plain": [
       "                wnd           vis           tmp           dew           atm\n",
       "count  11598.000000  11598.000000  11598.000000  11598.000000  11598.000000\n",
       "mean      48.211847  14861.065097    133.691499     50.988533  10168.289446\n",
       "std       24.796421   3461.115500    100.612244    106.230097     81.400765\n",
       "min        0.000000      0.000000   -156.000000   -272.000000   9858.000000\n",
       "25%       31.000000  16000.000000     50.000000    -33.000000  10114.000000\n",
       "50%       46.000000  16093.000000    133.000000     61.000000  10166.000000\n",
       "75%       62.000000  16093.000000    222.000000    139.000000  10225.000000\n",
       "max      175.000000  16093.000000    372.000000    239.000000  10408.000000"
      ]
     },
     "execution_count": 203,
     "metadata": {},
     "output_type": "execute_result"
    }
   ],
   "source": [
    "df.describe()"
   ]
  },
  {
   "cell_type": "code",
   "execution_count": 220,
   "metadata": {},
   "outputs": [
    {
     "name": "stdout",
     "output_type": "stream",
     "text": [
      "Problem on date 2019-02-08, missing 1\n",
      "Problem on date 2019-03-01, missing 1\n",
      "Problem on date 2019-03-04, missing 10\n",
      "Problem on date 2019-03-13, missing 1\n",
      "Problem on date 2019-03-16, missing 2\n",
      "Problem on date 2019-05-10, missing 1\n",
      "Problem on date 2019-05-31, missing 1\n",
      "Problem on date 2019-09-20, missing 5\n",
      "Problem on date 2019-09-21, missing 16\n",
      "Problem on date 2019-09-27, missing 2\n",
      "Problem on date 2019-10-02, missing 1\n",
      "Problem on date 2019-10-25, missing 1\n",
      "Problem on date 2019-11-22, missing 1\n",
      "Some days are missing from dataset\n"
     ]
    }
   ],
   "source": [
    "day_count = 0\n",
    "\n",
    "for group,df_group in df.groupby(df['date'].dt.date):\n",
    "    day_count += 1\n",
    "    h_count = 0\n",
    "    for h, h_group in df_group.groupby(df_group['date'].dt.hour):\n",
    "        h_count += 1\n",
    "    if h_count != 24:\n",
    "        print(f\"Problem on date {group}, missing {24-h_count}\")\n",
    "if day_count != (df['date'].iloc[-1] - df['date'].iloc[0]).days:\n",
    "    print(\"Some days are missing from dataset\")\n"
   ]
  },
  {
   "cell_type": "code",
   "execution_count": 222,
   "metadata": {},
   "outputs": [],
   "source": [
    "df.to_csv('../data/curated/laguardia.csv')\n",
    "# TODO missing values like 9999.. should be accounted for better than just removing rn"
   ]
  },
  {
   "cell_type": "code",
   "execution_count": 45,
   "metadata": {},
   "outputs": [
    {
     "data": {
      "text/plain": [
       "Series([], Name: rh3, dtype: int64)"
      ]
     },
     "execution_count": 45,
     "metadata": {},
     "output_type": "execute_result"
    }
   ],
   "source": [
    "df['rh3'].value_counts()\n",
    "#df[df.al1.notna()].drop(['source', 'station', 'latitude', 'longitude', 'name', 'elevation', 'call_sign', 'quality_control', 'cig', 'aa1', 'aa2', 'aa3', 'ab1', 'ad1', 'ae1', 'ah1','ah2', 'ah3','ah4','ah5','ah6', 'ai1','ai2', 'ai3','ai4','ai5','ai6'] , axis=1)\n"
   ]
  },
  {
   "cell_type": "code",
   "execution_count": 223,
   "metadata": {},
   "outputs": [
    {
     "data": {
      "text/html": [
       "<div>\n",
       "<style scoped>\n",
       "    .dataframe tbody tr th:only-of-type {\n",
       "        vertical-align: middle;\n",
       "    }\n",
       "\n",
       "    .dataframe tbody tr th {\n",
       "        vertical-align: top;\n",
       "    }\n",
       "\n",
       "    .dataframe thead th {\n",
       "        text-align: right;\n",
       "    }\n",
       "</style>\n",
       "<table border=\"1\" class=\"dataframe\">\n",
       "  <thead>\n",
       "    <tr style=\"text-align: right;\">\n",
       "      <th></th>\n",
       "      <th>wnd</th>\n",
       "      <th>vis</th>\n",
       "      <th>tmp</th>\n",
       "      <th>dew</th>\n",
       "      <th>atm</th>\n",
       "    </tr>\n",
       "  </thead>\n",
       "  <tbody>\n",
       "    <tr>\n",
       "      <th>count</th>\n",
       "      <td>11598.000000</td>\n",
       "      <td>11598.000000</td>\n",
       "      <td>11598.000000</td>\n",
       "      <td>11598.000000</td>\n",
       "      <td>11598.000000</td>\n",
       "    </tr>\n",
       "    <tr>\n",
       "      <th>mean</th>\n",
       "      <td>48.211847</td>\n",
       "      <td>14861.065097</td>\n",
       "      <td>133.691499</td>\n",
       "      <td>50.988533</td>\n",
       "      <td>10168.289446</td>\n",
       "    </tr>\n",
       "    <tr>\n",
       "      <th>std</th>\n",
       "      <td>24.796421</td>\n",
       "      <td>3461.115500</td>\n",
       "      <td>100.612244</td>\n",
       "      <td>106.230097</td>\n",
       "      <td>81.400765</td>\n",
       "    </tr>\n",
       "    <tr>\n",
       "      <th>min</th>\n",
       "      <td>0.000000</td>\n",
       "      <td>0.000000</td>\n",
       "      <td>-156.000000</td>\n",
       "      <td>-272.000000</td>\n",
       "      <td>9858.000000</td>\n",
       "    </tr>\n",
       "    <tr>\n",
       "      <th>25%</th>\n",
       "      <td>31.000000</td>\n",
       "      <td>16000.000000</td>\n",
       "      <td>50.000000</td>\n",
       "      <td>-33.000000</td>\n",
       "      <td>10114.000000</td>\n",
       "    </tr>\n",
       "    <tr>\n",
       "      <th>50%</th>\n",
       "      <td>46.000000</td>\n",
       "      <td>16093.000000</td>\n",
       "      <td>133.000000</td>\n",
       "      <td>61.000000</td>\n",
       "      <td>10166.000000</td>\n",
       "    </tr>\n",
       "    <tr>\n",
       "      <th>75%</th>\n",
       "      <td>62.000000</td>\n",
       "      <td>16093.000000</td>\n",
       "      <td>222.000000</td>\n",
       "      <td>139.000000</td>\n",
       "      <td>10225.000000</td>\n",
       "    </tr>\n",
       "    <tr>\n",
       "      <th>max</th>\n",
       "      <td>175.000000</td>\n",
       "      <td>16093.000000</td>\n",
       "      <td>372.000000</td>\n",
       "      <td>239.000000</td>\n",
       "      <td>10408.000000</td>\n",
       "    </tr>\n",
       "  </tbody>\n",
       "</table>\n",
       "</div>"
      ],
      "text/plain": [
       "                wnd           vis           tmp           dew           atm\n",
       "count  11598.000000  11598.000000  11598.000000  11598.000000  11598.000000\n",
       "mean      48.211847  14861.065097    133.691499     50.988533  10168.289446\n",
       "std       24.796421   3461.115500    100.612244    106.230097     81.400765\n",
       "min        0.000000      0.000000   -156.000000   -272.000000   9858.000000\n",
       "25%       31.000000  16000.000000     50.000000    -33.000000  10114.000000\n",
       "50%       46.000000  16093.000000    133.000000     61.000000  10166.000000\n",
       "75%       62.000000  16093.000000    222.000000    139.000000  10225.000000\n",
       "max      175.000000  16093.000000    372.000000    239.000000  10408.000000"
      ]
     },
     "execution_count": 223,
     "metadata": {},
     "output_type": "execute_result"
    }
   ],
   "source": [
    "df.describe()"
   ]
  },
  {
   "cell_type": "markdown",
   "metadata": {},
   "source": [
    "# Taxi data cleaning\n"
   ]
  },
  {
   "cell_type": "code",
   "execution_count": 3,
   "metadata": {},
   "outputs": [],
   "source": [
    "from pyspark.sql.types import IntegerType, DoubleType, TimestampType\n",
    "from pyspark.sql import functions as F"
   ]
  },
  {
   "cell_type": "code",
   "execution_count": 249,
   "metadata": {},
   "outputs": [],
   "source": [
    "sdf_yellow_1 = spark.read.parquet('../data/raw/yellow/2017_06.parquet')\n",
    "sdf_yellow_2 = spark.read.parquet('../data/raw/yellow/2018_06.parquet')\n",
    "sdf_yellow_3 = spark.read.parquet('../data/raw/yellow/2019_06.parquet')"
   ]
  },
  {
   "cell_type": "code",
   "execution_count": 250,
   "metadata": {},
   "outputs": [
    {
     "name": "stdout",
     "output_type": "stream",
     "text": [
      "root\n",
      " |-- VendorID: long (nullable = true)\n",
      " |-- tpep_pickup_datetime: timestamp (nullable = true)\n",
      " |-- tpep_dropoff_datetime: timestamp (nullable = true)\n",
      " |-- passenger_count: long (nullable = true)\n",
      " |-- trip_distance: double (nullable = true)\n",
      " |-- RatecodeID: long (nullable = true)\n",
      " |-- store_and_fwd_flag: string (nullable = true)\n",
      " |-- PULocationID: long (nullable = true)\n",
      " |-- DOLocationID: long (nullable = true)\n",
      " |-- payment_type: long (nullable = true)\n",
      " |-- fare_amount: double (nullable = true)\n",
      " |-- extra: double (nullable = true)\n",
      " |-- mta_tax: double (nullable = true)\n",
      " |-- tip_amount: double (nullable = true)\n",
      " |-- tolls_amount: double (nullable = true)\n",
      " |-- improvement_surcharge: double (nullable = true)\n",
      " |-- total_amount: double (nullable = true)\n",
      " |-- congestion_surcharge: integer (nullable = true)\n",
      " |-- airport_fee: integer (nullable = true)\n",
      "\n"
     ]
    }
   ],
   "source": [
    "sdf_yellow_1.printSchema() \n",
    "# congestion_surcharge: int->double, \n",
    "# passenger_count long->double, \n",
    "# ratecodeID long->double"
   ]
  },
  {
   "cell_type": "code",
   "execution_count": 51,
   "metadata": {},
   "outputs": [
    {
     "name": "stdout",
     "output_type": "stream",
     "text": [
      "root\n",
      " |-- VendorID: long (nullable = true)\n",
      " |-- tpep_pickup_datetime: timestamp (nullable = true)\n",
      " |-- tpep_dropoff_datetime: timestamp (nullable = true)\n",
      " |-- passenger_count: integer (nullable = true)\n",
      " |-- trip_distance: double (nullable = true)\n",
      " |-- store_and_fwd_flag: string (nullable = true)\n",
      " |-- PULocationID: long (nullable = true)\n",
      " |-- DOLocationID: long (nullable = true)\n",
      " |-- payment_type: long (nullable = true)\n",
      " |-- fare_amount: double (nullable = true)\n",
      " |-- extra: double (nullable = true)\n",
      " |-- mta_tax: double (nullable = true)\n",
      " |-- tip_amount: double (nullable = true)\n",
      " |-- tolls_amount: double (nullable = true)\n",
      " |-- improvement_surcharge: double (nullable = true)\n",
      " |-- total_amount: double (nullable = true)\n",
      " |-- congestion_surcharge: double (nullable = true)\n",
      " |-- airport_fee: integer (nullable = true)\n",
      "\n",
      "+--------+--------------------+---------------------+---------------+-------------+------------------+------------+------------+------------+-----------+-----+-------+----------+------------+---------------------+------------+--------------------+-----------+\n",
      "|VendorID|tpep_pickup_datetime|tpep_dropoff_datetime|passenger_count|trip_distance|store_and_fwd_flag|PULocationID|DOLocationID|payment_type|fare_amount|extra|mta_tax|tip_amount|tolls_amount|improvement_surcharge|total_amount|congestion_surcharge|airport_fee|\n",
      "+--------+--------------------+---------------------+---------------+-------------+------------------+------------+------------+------------+-----------+-----+-------+----------+------------+---------------------+------------+--------------------+-----------+\n",
      "|       1| 2017-06-01 00:02:36|  2017-06-01 00:10:02|              1|          1.8|                 N|         161|         263|           1|        8.0|  0.5|    0.5|      1.85|         0.0|                  0.3|       11.15|                null|       null|\n",
      "|       1| 2017-06-01 00:14:14|  2017-06-01 00:16:50|              1|          0.8|                 N|         237|         237|           1|        4.5|  0.5|    0.5|      0.75|         0.0|                  0.3|        6.55|                null|       null|\n",
      "|       1| 2017-06-01 00:47:11|  2017-06-01 00:57:47|              1|          1.7|                 N|          48|         233|           1|        8.5|  0.5|    0.5|       1.0|         0.0|                  0.3|        10.8|                null|       null|\n",
      "|       1| 2017-06-01 00:14:38|  2017-06-01 00:19:49|              1|          1.1|                 N|         246|         249|           1|        5.5|  0.5|    0.5|       1.5|         0.0|                  0.3|         8.3|                null|       null|\n",
      "|       1| 2017-06-01 00:03:41|  2017-06-01 00:57:09|              1|         14.8|                 N|         166|          61|           2|       48.5|  0.5|    0.5|       0.0|         0.0|                  0.3|        49.8|                null|       null|\n",
      "|       1| 2017-06-01 00:01:41|  2017-06-01 00:03:03|              1|          0.0|                 N|         264|         145|           2|        3.0|  0.5|    0.5|       0.0|         0.0|                  0.3|         4.3|                null|       null|\n",
      "|       1| 2017-06-01 00:50:22|  2017-06-01 00:51:04|              1|          0.0|                 N|         145|         145|           3|        2.5|  0.5|    0.5|       0.0|         0.0|                  0.3|         3.8|                null|       null|\n",
      "|       1| 2017-06-01 00:52:48|  2017-06-01 00:52:55|              1|          0.0|                 N|         145|         145|           2|        2.5|  0.5|    0.5|       0.0|         0.0|                  0.3|         3.8|                null|       null|\n",
      "|       2| 2017-06-01 00:30:52|  2017-06-01 00:30:56|              1|          0.0|                 N|         193|         193|           1|        2.5|  0.5|    0.5|       0.0|         0.0|                  0.3|         3.8|                null|       null|\n",
      "|       2| 2017-06-01 00:40:42|  2017-06-01 00:42:59|              1|         0.61|                 N|         264|           7|           2|        4.0|  0.5|    0.5|       0.0|         0.0|                  0.3|         5.3|                null|       null|\n",
      "|       1| 2017-06-01 00:01:26|  2017-06-01 00:15:36|              3|          3.0|                 N|         161|         125|           2|       12.0|  0.5|    0.5|       0.0|         0.0|                  0.3|        13.3|                null|       null|\n",
      "|       1| 2017-06-01 00:23:28|  2017-06-01 00:46:22|              1|          5.6|                 N|         114|         238|           1|       19.5|  0.5|    0.5|      4.15|         0.0|                  0.3|       24.95|                null|       null|\n",
      "|       1| 2017-06-01 00:39:27|  2017-06-01 00:45:23|              1|          1.5|                 N|         161|         164|           1|        7.0|  0.5|    0.5|       1.0|         0.0|                  0.3|         9.3|                null|       null|\n",
      "|       1| 2017-06-01 00:48:54|  2017-06-01 00:56:19|              1|          1.2|                 N|         164|          48|           1|        7.0|  0.5|    0.5|      1.25|         0.0|                  0.3|        9.55|                null|       null|\n",
      "|       1| 2017-06-01 00:25:33|  2017-06-01 00:44:24|              1|          3.9|                 N|         142|           7|           1|       15.5|  0.5|    0.5|      3.35|         0.0|                  0.3|       20.15|                null|       null|\n",
      "|       1| 2017-06-01 00:04:28|  2017-06-01 00:09:49|              1|          0.5|                 N|         162|         229|           2|        5.5|  0.5|    0.5|       0.0|         0.0|                  0.3|         6.8|                null|       null|\n",
      "|       1| 2017-06-01 00:23:07|  2017-06-01 00:27:49|              1|          1.2|                 N|         239|         151|           2|        6.5|  0.5|    0.5|       0.0|         0.0|                  0.3|         7.8|                null|       null|\n",
      "|       2| 2017-06-01 00:24:38|  2017-06-01 00:57:41|              1|        18.79|                 N|         132|          75|           1|       52.0|  0.0|    0.5|       7.5|        5.76|                  0.3|       66.06|                null|       null|\n",
      "|       1| 2017-06-01 00:09:53|  2017-06-01 00:29:13|              1|         11.2|                 N|          87|         168|           3|       31.5|  0.5|    0.5|       0.0|         0.0|                  0.3|        32.8|                null|       null|\n",
      "|       1| 2017-06-01 00:18:24|  2017-06-01 00:38:23|              4|          8.0|                 N|          48|         244|           1|       24.5|  0.5|    0.5|      6.45|         0.0|                  0.3|       32.25|                null|       null|\n",
      "+--------+--------------------+---------------------+---------------+-------------+------------------+------------+------------+------------+-----------+-----+-------+----------+------------+---------------------+------------+--------------------+-----------+\n",
      "only showing top 20 rows\n",
      "\n"
     ]
    }
   ],
   "source": [
    "sdf_yellow = spark.read.parquet('../data/raw/yellow/')\n",
    "#problematic = ['congestion_surcharge', 'passenger_count', 'ratecodeID']\n",
    "\n",
    "# type had changed over the years\n",
    "sdf_yellow = sdf_yellow.withColumn('passenger_count', sdf_yellow['passenger_count'].cast(IntegerType())) \\\n",
    "    .withColumn('congestion_surcharge', sdf_yellow['congestion_surcharge'].cast(DoubleType())) \\\n",
    "    .drop('ratecodeID')\n",
    "\n",
    "sdf_yellow.printSchema()\n",
    "sdf_yellow.show()\n"
   ]
  },
  {
   "cell_type": "code",
   "execution_count": 64,
   "metadata": {},
   "outputs": [
    {
     "name": "stdout",
     "output_type": "stream",
     "text": [
      "+--------+--------------------+---------------------+------------------+------------+------------+---------------+-------------+-----------+-----+-------+----------+------------+---------------------+------------+------------+\n",
      "|VendorID|lpep_pickup_datetime|lpep_dropoff_datetime|store_and_fwd_flag|PULocationID|DOLocationID|passenger_count|trip_distance|fare_amount|extra|mta_tax|tip_amount|tolls_amount|improvement_surcharge|total_amount|payment_type|\n",
      "+--------+--------------------+---------------------+------------------+------------+------------+---------------+-------------+-----------+-----+-------+----------+------------+---------------------+------------+------------+\n",
      "|       2| 2017-06-01 00:28:16|  2017-06-01 00:35:25|                 N|          65|          40|              1|         1.75|        7.5|  0.5|    0.5|      1.76|         0.0|                  0.3|       10.56|           1|\n",
      "|       1| 2017-06-01 00:08:33|  2017-06-01 00:19:25|                 N|         116|          42|              2|          2.1|        9.5|  0.5|    0.5|      2.15|         0.0|                  0.3|       12.95|           1|\n",
      "|       2| 2017-06-01 00:21:12|  2017-06-01 00:27:38|                 N|         112|         112|              1|         1.24|        6.5|  0.5|    0.5|       0.0|         0.0|                  0.3|         7.8|           2|\n",
      "|       2| 2017-06-01 00:04:20|  2017-06-01 00:24:13|                 N|         255|         195|              2|         4.94|       18.0|  0.5|    0.5|      3.86|         0.0|                  0.3|       23.16|           1|\n",
      "|       2| 2017-06-01 00:38:09|  2017-06-01 00:53:08|                 N|          25|          62|              1|         3.13|       13.0|  0.5|    0.5|      2.86|         0.0|                  0.3|       17.16|           1|\n",
      "+--------+--------------------+---------------------+------------------+------------+------------+---------------+-------------+-----------+-----+-------+----------+------------+---------------------+------------+------------+\n",
      "only showing top 5 rows\n",
      "\n"
     ]
    }
   ],
   "source": [
    "sdf_green = spark.read.parquet('../data/raw/green/')\n",
    "\n",
    "# type had changed over the years and is not relevant\n",
    "sdf_green = sdf_green.drop('ratecodeID', 'ehail_fee',  'congestion_surcharge', 'trip_type') \\\n",
    "    .withColumn('passenger_count', sdf_green['passenger_count'].cast(IntegerType())) \n",
    "sdf_green.show(5)\n"
   ]
  },
  {
   "cell_type": "code",
   "execution_count": 66,
   "metadata": {},
   "outputs": [
    {
     "data": {
      "text/plain": [
       "6284068"
      ]
     },
     "execution_count": 66,
     "metadata": {},
     "output_type": "execute_result"
    }
   ],
   "source": [
    "sdf_green.count()"
   ]
  },
  {
   "cell_type": "code",
   "execution_count": 8,
   "metadata": {},
   "outputs": [
    {
     "name": "stderr",
     "output_type": "stream",
     "text": [
      "                                                                                \r"
     ]
    },
    {
     "data": {
      "text/html": [
       "<table border='1'>\n",
       "<tr><th>summary</th><th>VendorID</th><th>trip_distance</th><th>store_and_fwd_flag</th><th>PULocationID</th><th>DOLocationID</th><th>payment_type</th><th>fare_amount</th><th>extra</th><th>mta_tax</th><th>tip_amount</th><th>tolls_amount</th><th>improvement_surcharge</th><th>total_amount</th><th>airport_fee</th></tr>\n",
       "<tr><td>count</td><td>70443818</td><td>70443818</td><td>70340090</td><td>70443818</td><td>70443818</td><td>70443818</td><td>70443818</td><td>70443818</td><td>70443818</td><td>70443818</td><td>70443818</td><td>70443818</td><td>70443818</td><td>0</td></tr>\n",
       "<tr><td>mean</td><td>1.5928169026840653</td><td>3.041164661319338</td><td>null</td><td>161.751087653994</td><td>159.87422637995004</td><td>1.324177971159939</td><td>13.357372785076802</td><td>0.5667025036888226</td><td>0.4961995071022421</td><td>1.939768762395335</td><td>0.3682168029267528</td><td>0.2992284266917364</td><td>17.429006456879375</td><td>null</td></tr>\n",
       "<tr><td>stddev</td><td>0.49685036275769273</td><td>7.225769602213949</td><td>null</td><td>66.19801033388443</td><td>70.29977836720634</td><td>0.49385911837689034</td><td>195.1709253716353</td><td>1.8773658880245658</td><td>0.06362427242682651</td><td>2.7277300679029115</td><td>2.0035671751718245</td><td>0.020473872596737008</td><td>195.3789271147781</td><td>null</td></tr>\n",
       "<tr><td>min</td><td>1</td><td>0.0</td><td>N</td><td>1</td><td>1</td><td>0</td><td>-1856.0</td><td>-50.56</td><td>-0.5</td><td>-221.0</td><td>-39.74</td><td>-0.3</td><td>-1871.8</td><td>null</td></tr>\n",
       "<tr><td>max</td><td>5</td><td>45977.22</td><td>Y</td><td>265</td><td>265</td><td>5</td><td>907070.24</td><td>14000.0</td><td>212.42</td><td>1624.64</td><td>5743.51</td><td>1.26</td><td>907071.04</td><td>null</td></tr>\n",
       "</table>\n"
      ],
      "text/plain": [
       "+-------+-------------------+-----------------+------------------+-----------------+------------------+-------------------+------------------+------------------+-------------------+------------------+------------------+---------------------+------------------+-----------+\n",
       "|summary|           VendorID|    trip_distance|store_and_fwd_flag|     PULocationID|      DOLocationID|       payment_type|       fare_amount|             extra|            mta_tax|        tip_amount|      tolls_amount|improvement_surcharge|      total_amount|airport_fee|\n",
       "+-------+-------------------+-----------------+------------------+-----------------+------------------+-------------------+------------------+------------------+-------------------+------------------+------------------+---------------------+------------------+-----------+\n",
       "|  count|           70443818|         70443818|          70340090|         70443818|          70443818|           70443818|          70443818|          70443818|           70443818|          70443818|          70443818|             70443818|          70443818|          0|\n",
       "|   mean| 1.5928169026840653|3.041164661319338|              null| 161.751087653994|159.87422637995004|  1.324177971159939|13.357372785076802|0.5667025036888226| 0.4961995071022421| 1.939768762395335|0.3682168029267528|   0.2992284266917364|17.429006456879375|       null|\n",
       "| stddev|0.49685036275769273|7.225769602213949|              null|66.19801033388443| 70.29977836720634|0.49385911837689034| 195.1709253716353|1.8773658880245658|0.06362427242682651|2.7277300679029115|2.0035671751718245| 0.020473872596737008| 195.3789271147781|       null|\n",
       "|    min|                  1|              0.0|                 N|                1|                 1|                  0|           -1856.0|            -50.56|               -0.5|            -221.0|            -39.74|                 -0.3|           -1871.8|       null|\n",
       "|    max|                  5|         45977.22|                 Y|              265|               265|                  5|         907070.24|           14000.0|             212.42|           1624.64|           5743.51|                 1.26|         907071.04|       null|\n",
       "+-------+-------------------+-----------------+------------------+-----------------+------------------+-------------------+------------------+------------------+-------------------+------------------+------------------+---------------------+------------------+-----------+"
      ]
     },
     "execution_count": 8,
     "metadata": {},
     "output_type": "execute_result"
    }
   ],
   "source": [
    "sdf_yellow.summary()"
   ]
  },
  {
   "cell_type": "code",
   "execution_count": 12,
   "metadata": {},
   "outputs": [
    {
     "name": "stderr",
     "output_type": "stream",
     "text": [
      "[Stage 32:===================================================>      (8 + 1) / 9]\r"
     ]
    },
    {
     "name": "stdout",
     "output_type": "stream",
     "text": [
      "+-------+-----------------+------------------+\n",
      "|summary|    trip_distance|       fare_amount|\n",
      "+-------+-----------------+------------------+\n",
      "|  count|         70443818|          70443818|\n",
      "|   mean|3.041164661319338|13.357372785076802|\n",
      "| stddev|7.225769602213949| 195.1709253716353|\n",
      "|    min|              0.0|           -1856.0|\n",
      "|    max|         45977.22|         907070.24|\n",
      "+-------+-----------------+------------------+\n",
      "\n"
     ]
    },
    {
     "name": "stderr",
     "output_type": "stream",
     "text": [
      "                                                                                \r"
     ]
    }
   ],
   "source": [
    "sdf_yellow.describe(['trip_distance', 'fare_amount']).show()"
   ]
  },
  {
   "cell_type": "code",
   "execution_count": 7,
   "metadata": {},
   "outputs": [
    {
     "name": "stderr",
     "output_type": "stream",
     "text": [
      "[Stage 15:>                 (0 + 4) / 9][Stage 16:>                 (0 + 0) / 1]\r"
     ]
    },
    {
     "name": "stdout",
     "output_type": "stream",
     "text": [
      "22/08/17 15:14:06 WARN HeartbeatReceiver: Removing executor driver with no recent heartbeats: 1247229 ms exceeds timeout 120000 ms\n",
      "22/08/17 15:14:07 WARN SparkContext: Killing executors is not supported by current scheduler.\n"
     ]
    },
    {
     "name": "stderr",
     "output_type": "stream",
     "text": [
      "ERROR:root:Exception while sending command.age 16:>                 (0 + 0) / 1]\n",
      "Traceback (most recent call last):\n",
      "  File \"/home/toomas/ADS/adsenv/lib/python3.8/site-packages/py4j/clientserver.py\", line 516, in send_command\n",
      "    raise Py4JNetworkError(\"Answer from Java side is empty\")\n",
      "py4j.protocol.Py4JNetworkError: Answer from Java side is empty\n",
      "\n",
      "During handling of the above exception, another exception occurred:\n",
      "\n",
      "Traceback (most recent call last):\n",
      "  File \"/home/toomas/ADS/adsenv/lib/python3.8/site-packages/py4j/java_gateway.py\", line 1038, in send_command\n",
      "    response = connection.send_command(command)\n",
      "  File \"/home/toomas/ADS/adsenv/lib/python3.8/site-packages/py4j/clientserver.py\", line 539, in send_command\n",
      "    raise Py4JNetworkError(\n",
      "py4j.protocol.Py4JNetworkError: Error while sending or receiving\n"
     ]
    },
    {
     "ename": "Py4JError",
     "evalue": "An error occurred while calling o96.parquet",
     "output_type": "error",
     "traceback": [
      "\u001b[0;31m---------------------------------------------------------------------------\u001b[0m",
      "\u001b[0;31mPy4JError\u001b[0m                                 Traceback (most recent call last)",
      "\u001b[1;32m/home/toomas/ADS/mast30034-project-1-ToomasRo/notebooks/cleaning.ipynb Cell 20\u001b[0m in \u001b[0;36m<cell line: 1>\u001b[0;34m()\u001b[0m\n\u001b[0;32m----> <a href='vscode-notebook-cell://wsl%2Bubuntu-20.04/home/toomas/ADS/mast30034-project-1-ToomasRo/notebooks/cleaning.ipynb#X43sdnNjb2RlLXJlbW90ZQ%3D%3D?line=0'>1</a>\u001b[0m sdf_fhv \u001b[39m=\u001b[39m spark\u001b[39m.\u001b[39;49mread\u001b[39m.\u001b[39;49mparquet(\u001b[39m'\u001b[39;49m\u001b[39m../data/raw/fhv/\u001b[39;49m\u001b[39m'\u001b[39;49m)\n\u001b[1;32m      <a href='vscode-notebook-cell://wsl%2Bubuntu-20.04/home/toomas/ADS/mast30034-project-1-ToomasRo/notebooks/cleaning.ipynb#X43sdnNjb2RlLXJlbW90ZQ%3D%3D?line=1'>2</a>\u001b[0m \u001b[39m#problematic = ['congestion_surcharge', 'passenger_count', 'ratecodeID']\u001b[39;00m\n\u001b[1;32m      <a href='vscode-notebook-cell://wsl%2Bubuntu-20.04/home/toomas/ADS/mast30034-project-1-ToomasRo/notebooks/cleaning.ipynb#X43sdnNjb2RlLXJlbW90ZQ%3D%3D?line=2'>3</a>\u001b[0m \n\u001b[1;32m      <a href='vscode-notebook-cell://wsl%2Bubuntu-20.04/home/toomas/ADS/mast30034-project-1-ToomasRo/notebooks/cleaning.ipynb#X43sdnNjb2RlLXJlbW90ZQ%3D%3D?line=3'>4</a>\u001b[0m \u001b[39m#sdf_fhv = sdf_fhv.drop('ratecodeID', 'passenger_count', 'ehail_fee', 'payment_type', 'congestion_surcharge', 'trip_type')   \u001b[39;00m\n\u001b[1;32m      <a href='vscode-notebook-cell://wsl%2Bubuntu-20.04/home/toomas/ADS/mast30034-project-1-ToomasRo/notebooks/cleaning.ipynb#X43sdnNjb2RlLXJlbW90ZQ%3D%3D?line=4'>5</a>\u001b[0m new \u001b[39m=\u001b[39m sdf_fhv\u001b[39m.\u001b[39mwithColumn(\u001b[39m\"\u001b[39m\u001b[39mPUlocationID\u001b[39m\u001b[39m\"\u001b[39m,F\u001b[39m.\u001b[39mcol(\u001b[39m\"\u001b[39m\u001b[39mPUlocationID\u001b[39m\u001b[39m\"\u001b[39m)\u001b[39m.\u001b[39mcast(DoubleType()))\n",
      "File \u001b[0;32m~/ADS/adsenv/lib/python3.8/site-packages/pyspark/sql/readwriter.py:364\u001b[0m, in \u001b[0;36mDataFrameReader.parquet\u001b[0;34m(self, *paths, **options)\u001b[0m\n\u001b[1;32m    353\u001b[0m int96RebaseMode \u001b[39m=\u001b[39m options\u001b[39m.\u001b[39mget(\u001b[39m\"\u001b[39m\u001b[39mint96RebaseMode\u001b[39m\u001b[39m\"\u001b[39m, \u001b[39mNone\u001b[39;00m)\n\u001b[1;32m    354\u001b[0m \u001b[39mself\u001b[39m\u001b[39m.\u001b[39m_set_opts(\n\u001b[1;32m    355\u001b[0m     mergeSchema\u001b[39m=\u001b[39mmergeSchema,\n\u001b[1;32m    356\u001b[0m     pathGlobFilter\u001b[39m=\u001b[39mpathGlobFilter,\n\u001b[0;32m   (...)\u001b[0m\n\u001b[1;32m    361\u001b[0m     int96RebaseMode\u001b[39m=\u001b[39mint96RebaseMode,\n\u001b[1;32m    362\u001b[0m )\n\u001b[0;32m--> 364\u001b[0m \u001b[39mreturn\u001b[39;00m \u001b[39mself\u001b[39m\u001b[39m.\u001b[39m_df(\u001b[39mself\u001b[39;49m\u001b[39m.\u001b[39;49m_jreader\u001b[39m.\u001b[39;49mparquet(_to_seq(\u001b[39mself\u001b[39;49m\u001b[39m.\u001b[39;49m_spark\u001b[39m.\u001b[39;49m_sc, paths)))\n",
      "File \u001b[0;32m~/ADS/adsenv/lib/python3.8/site-packages/py4j/java_gateway.py:1321\u001b[0m, in \u001b[0;36mJavaMember.__call__\u001b[0;34m(self, *args)\u001b[0m\n\u001b[1;32m   1315\u001b[0m command \u001b[39m=\u001b[39m proto\u001b[39m.\u001b[39mCALL_COMMAND_NAME \u001b[39m+\u001b[39m\\\n\u001b[1;32m   1316\u001b[0m     \u001b[39mself\u001b[39m\u001b[39m.\u001b[39mcommand_header \u001b[39m+\u001b[39m\\\n\u001b[1;32m   1317\u001b[0m     args_command \u001b[39m+\u001b[39m\\\n\u001b[1;32m   1318\u001b[0m     proto\u001b[39m.\u001b[39mEND_COMMAND_PART\n\u001b[1;32m   1320\u001b[0m answer \u001b[39m=\u001b[39m \u001b[39mself\u001b[39m\u001b[39m.\u001b[39mgateway_client\u001b[39m.\u001b[39msend_command(command)\n\u001b[0;32m-> 1321\u001b[0m return_value \u001b[39m=\u001b[39m get_return_value(\n\u001b[1;32m   1322\u001b[0m     answer, \u001b[39mself\u001b[39;49m\u001b[39m.\u001b[39;49mgateway_client, \u001b[39mself\u001b[39;49m\u001b[39m.\u001b[39;49mtarget_id, \u001b[39mself\u001b[39;49m\u001b[39m.\u001b[39;49mname)\n\u001b[1;32m   1324\u001b[0m \u001b[39mfor\u001b[39;00m temp_arg \u001b[39min\u001b[39;00m temp_args:\n\u001b[1;32m   1325\u001b[0m     temp_arg\u001b[39m.\u001b[39m_detach()\n",
      "File \u001b[0;32m~/ADS/adsenv/lib/python3.8/site-packages/pyspark/sql/utils.py:190\u001b[0m, in \u001b[0;36mcapture_sql_exception.<locals>.deco\u001b[0;34m(*a, **kw)\u001b[0m\n\u001b[1;32m    188\u001b[0m \u001b[39mdef\u001b[39;00m \u001b[39mdeco\u001b[39m(\u001b[39m*\u001b[39ma: Any, \u001b[39m*\u001b[39m\u001b[39m*\u001b[39mkw: Any) \u001b[39m-\u001b[39m\u001b[39m>\u001b[39m Any:\n\u001b[1;32m    189\u001b[0m     \u001b[39mtry\u001b[39;00m:\n\u001b[0;32m--> 190\u001b[0m         \u001b[39mreturn\u001b[39;00m f(\u001b[39m*\u001b[39;49ma, \u001b[39m*\u001b[39;49m\u001b[39m*\u001b[39;49mkw)\n\u001b[1;32m    191\u001b[0m     \u001b[39mexcept\u001b[39;00m Py4JJavaError \u001b[39mas\u001b[39;00m e:\n\u001b[1;32m    192\u001b[0m         converted \u001b[39m=\u001b[39m convert_exception(e\u001b[39m.\u001b[39mjava_exception)\n",
      "File \u001b[0;32m~/ADS/adsenv/lib/python3.8/site-packages/py4j/protocol.py:334\u001b[0m, in \u001b[0;36mget_return_value\u001b[0;34m(answer, gateway_client, target_id, name)\u001b[0m\n\u001b[1;32m    330\u001b[0m             \u001b[39mraise\u001b[39;00m Py4JError(\n\u001b[1;32m    331\u001b[0m                 \u001b[39m\"\u001b[39m\u001b[39mAn error occurred while calling \u001b[39m\u001b[39m{0}\u001b[39;00m\u001b[39m{1}\u001b[39;00m\u001b[39m{2}\u001b[39;00m\u001b[39m. Trace:\u001b[39m\u001b[39m\\n\u001b[39;00m\u001b[39m{3}\u001b[39;00m\u001b[39m\\n\u001b[39;00m\u001b[39m\"\u001b[39m\u001b[39m.\u001b[39m\n\u001b[1;32m    332\u001b[0m                 \u001b[39mformat\u001b[39m(target_id, \u001b[39m\"\u001b[39m\u001b[39m.\u001b[39m\u001b[39m\"\u001b[39m, name, value))\n\u001b[1;32m    333\u001b[0m     \u001b[39melse\u001b[39;00m:\n\u001b[0;32m--> 334\u001b[0m         \u001b[39mraise\u001b[39;00m Py4JError(\n\u001b[1;32m    335\u001b[0m             \u001b[39m\"\u001b[39m\u001b[39mAn error occurred while calling \u001b[39m\u001b[39m{0}\u001b[39;00m\u001b[39m{1}\u001b[39;00m\u001b[39m{2}\u001b[39;00m\u001b[39m\"\u001b[39m\u001b[39m.\u001b[39m\n\u001b[1;32m    336\u001b[0m             \u001b[39mformat\u001b[39m(target_id, \u001b[39m\"\u001b[39m\u001b[39m.\u001b[39m\u001b[39m\"\u001b[39m, name))\n\u001b[1;32m    337\u001b[0m \u001b[39melse\u001b[39;00m:\n\u001b[1;32m    338\u001b[0m     \u001b[39mtype\u001b[39m \u001b[39m=\u001b[39m answer[\u001b[39m1\u001b[39m]\n",
      "\u001b[0;31mPy4JError\u001b[0m: An error occurred while calling o96.parquet"
     ]
    }
   ],
   "source": [
    "# FHV data, not working yet\n",
    "\n",
    "# sdf_fhv = spark.read.parquet('../data/raw/fhv/')\n",
    "# #problematic = ['congestion_surcharge', 'passenger_count', 'ratecodeID']\n",
    "\n",
    "# #sdf_fhv = sdf_fhv.drop('ratecodeID', 'passenger_count', 'ehail_fee', 'payment_type', 'congestion_surcharge', 'trip_type')   \n",
    "# new = sdf_fhv.withColumn(\"PUlocationID\",F.col(\"PUlocationID\").cast(DoubleType()))\n",
    "\n",
    "# #new.limit(5)\n",
    "# new.dtypes\n",
    "# new.printSchema()\n",
    "# new.limit(5)"
   ]
  },
  {
   "cell_type": "code",
   "execution_count": 71,
   "metadata": {},
   "outputs": [
    {
     "name": "stdout",
     "output_type": "stream",
     "text": [
      "+--------------------+---------------------+---------------+-------------+------------+------------+-----------+------------+-----------+------+\n",
      "|tpep_pickup_datetime|tpep_dropoff_datetime|passenger_count|trip_distance|PULocationID|DOLocationID|fare_amount|total_amount|PUDayofweek|PUHour|\n",
      "+--------------------+---------------------+---------------+-------------+------------+------------+-----------+------------+-----------+------+\n",
      "| 2017-06-01 00:03:01|  2017-06-01 00:05:40|              1|          0.4|         263|         263|        3.5|         4.8|          5|     0|\n",
      "| 2017-06-01 00:22:04|  2017-06-01 00:26:31|              1|          1.1|         263|         263|        5.5|        8.15|          5|     0|\n",
      "| 2017-06-01 00:30:19|  2017-06-01 00:32:21|              1|         0.52|         263|         263|        4.0|        6.36|          5|     0|\n",
      "| 2017-06-01 00:19:09|  2017-06-01 00:20:14|              3|         0.35|         263|         263|        3.0|         5.3|          5|     0|\n",
      "| 2017-06-01 00:30:46|  2017-06-01 00:32:46|              1|          0.4|         263|         263|        3.5|         4.8|          5|     0|\n",
      "| 2017-06-01 01:40:39|  2017-06-01 01:48:50|              5|         1.13|         263|         263|        7.5|         8.8|          5|     1|\n",
      "| 2017-06-01 01:46:21|  2017-06-01 01:49:13|              1|          0.6|         263|         263|        4.5|        6.95|          5|     1|\n",
      "| 2017-06-01 01:48:15|  2017-06-01 01:52:06|              1|          0.7|         263|         263|        4.5|         6.8|          5|     1|\n",
      "| 2017-06-01 01:51:33|  2017-06-01 01:52:53|              1|          0.3|         263|         263|        3.5|        5.38|          5|     1|\n",
      "| 2017-06-01 01:15:33|  2017-06-01 01:16:48|              1|         0.53|         263|         263|        3.5|         4.8|          5|     1|\n",
      "| 2017-06-01 02:49:23|  2017-06-01 02:50:28|              1|         0.44|         263|         263|        3.5|         6.0|          5|     2|\n",
      "| 2017-06-01 02:02:57|  2017-06-01 02:06:57|              4|         0.76|         263|         263|        5.0|        7.56|          5|     2|\n",
      "| 2017-06-01 02:13:08|  2017-06-01 02:15:35|              1|          0.7|         263|         263|        4.5|         5.8|          5|     2|\n",
      "| 2017-06-01 03:35:27|  2017-06-01 03:38:18|              1|          0.8|         263|         263|        4.5|         6.5|          5|     3|\n",
      "| 2017-06-01 03:19:18|  2017-06-01 03:20:45|              1|          0.5|         263|         263|        3.5|        5.75|          5|     3|\n",
      "| 2017-06-01 03:07:46|  2017-06-01 03:08:43|              1|          0.4|         263|         263|        3.5|        5.75|          5|     3|\n",
      "| 2017-06-01 03:34:31|  2017-06-01 03:36:17|              1|          0.5|         263|         263|        4.0|         5.3|          5|     3|\n",
      "| 2017-06-01 03:01:30|  2017-06-01 03:01:48|              2|          0.1|         263|         263|       -2.5|        -3.8|          5|     3|\n",
      "| 2017-06-01 03:01:30|  2017-06-01 03:01:48|              2|          0.1|         263|         263|        2.5|         3.8|          5|     3|\n",
      "| 2017-06-01 03:42:46|  2017-06-01 04:19:58|              2|        21.12|         263|           1|       75.0|        94.0|          5|     3|\n",
      "| 2017-06-01 03:38:10|  2017-06-01 04:12:50|              1|         18.6|         263|           1|       69.5|        72.3|          5|     3|\n",
      "| 2017-06-01 04:29:36|  2017-06-01 04:30:59|              2|         0.22|         263|         263|        3.0|         4.3|          5|     4|\n",
      "| 2017-06-01 04:43:53|  2017-06-01 05:15:09|              2|        20.19|         263|           1|       72.0|      103.08|          5|     4|\n",
      "| 2017-06-01 04:40:09|  2017-06-01 04:41:46|              1|          0.6|         263|         263|        4.0|         5.3|          5|     4|\n",
      "| 2017-06-01 05:12:56|  2017-06-01 05:19:01|              2|          0.8|         263|         263|        4.5|         5.8|          5|     5|\n",
      "| 2017-06-01 05:19:13|  2017-06-01 05:53:48|              1|         20.4|         263|           1|       73.0|      107.25|          5|     5|\n",
      "| 2017-06-01 05:08:44|  2017-06-01 05:10:29|              2|         0.47|         263|         263|        3.5|        5.76|          5|     5|\n",
      "| 2017-06-01 06:28:08|  2017-06-01 07:07:48|              1|         23.3|         263|           1|       80.5|      120.35|          5|     6|\n",
      "| 2017-06-01 06:02:57|  2017-06-01 06:04:56|              1|          0.6|         263|         263|        4.0|         4.8|          5|     6|\n",
      "| 2017-06-01 06:15:55|  2017-06-01 06:16:12|              1|          0.1|         263|         263|       52.0|       68.56|          5|     6|\n",
      "| 2017-06-01 06:39:42|  2017-06-01 06:44:19|              5|         1.04|         263|         263|        5.5|         7.0|          5|     6|\n",
      "| 2017-06-01 06:28:07|  2017-06-01 06:29:46|              1|         0.52|         263|         263|        3.5|        5.16|          5|     6|\n",
      "| 2017-06-01 06:17:16|  2017-06-01 06:18:32|              1|          0.4|         263|         263|        3.5|        5.16|          5|     6|\n",
      "| 2017-06-01 06:07:31|  2017-06-01 06:42:10|              1|         19.8|         263|           1|       72.0|      101.75|          5|     6|\n",
      "| 2017-06-01 07:21:49|  2017-06-01 08:08:49|              2|         22.6|         263|           1|       80.5|       108.3|          5|     7|\n",
      "| 2017-06-01 07:51:09|  2017-06-01 07:54:12|              1|          0.7|         263|         263|        4.5|        6.35|          5|     7|\n",
      "| 2017-06-01 07:44:11|  2017-06-01 07:49:08|              2|         0.94|         263|         263|        5.5|         6.3|          5|     7|\n",
      "| 2017-06-01 07:51:59|  2017-06-01 07:53:44|              1|          0.6|         263|         263|        4.0|        5.75|          5|     7|\n",
      "| 2017-06-01 07:11:15|  2017-06-01 07:15:32|              1|          0.8|         263|         263|        5.0|         6.8|          5|     7|\n",
      "| 2017-06-01 07:16:46|  2017-06-01 07:18:43|              1|          0.4|         263|         263|        3.5|         4.3|          5|     7|\n",
      "| 2017-06-01 07:41:35|  2017-06-01 07:46:10|              1|          0.9|         263|         263|        5.0|        6.95|          5|     7|\n",
      "| 2017-06-01 07:03:13|  2017-06-01 07:15:06|              5|         2.09|         263|         263|       10.0|       12.96|          5|     7|\n",
      "| 2017-06-01 07:33:34|  2017-06-01 08:01:06|              1|          4.1|         263|         263|       19.0|        19.8|          5|     7|\n",
      "| 2017-06-01 07:27:30|  2017-06-01 07:30:29|              1|          0.6|         263|         263|        4.0|        5.75|          5|     7|\n",
      "| 2017-06-01 07:08:51|  2017-06-01 07:10:35|              5|         0.48|         263|         263|        3.5|        5.16|          5|     7|\n",
      "| 2017-06-01 07:51:29|  2017-06-01 08:33:13|              1|        28.49|         263|           1|       93.5|       106.3|          5|     7|\n",
      "| 2017-06-01 07:55:30|  2017-06-01 07:58:50|              1|          0.4|         263|         263|        4.0|         6.0|          5|     7|\n",
      "| 2017-06-01 07:03:18|  2017-06-01 07:05:49|              1|          0.6|         263|         263|        4.0|         4.8|          5|     7|\n",
      "| 2017-06-01 07:30:20|  2017-06-01 07:32:10|              5|          0.3|         263|         263|        3.5|        5.16|          5|     7|\n",
      "| 2017-06-01 07:23:31|  2017-06-01 07:35:07|              1|         1.86|         263|         263|        9.5|       12.88|          5|     7|\n",
      "| 2017-06-01 07:41:37|  2017-06-01 07:45:43|              1|         0.75|         263|         263|        5.0|         5.8|          5|     7|\n",
      "| 2017-06-01 07:20:47|  2017-06-01 07:24:04|              1|          0.7|         263|         263|        4.5|        6.35|          5|     7|\n",
      "| 2017-06-01 07:28:35|  2017-06-01 07:41:43|              1|         1.53|         263|         263|        9.5|        10.3|          5|     7|\n",
      "| 2017-06-01 08:30:29|  2017-06-01 08:33:45|              1|         0.56|         263|         263|        4.5|        6.36|          5|     8|\n",
      "| 2017-06-01 08:40:35|  2017-06-01 08:43:15|              1|          0.4|         263|         263|        4.0|         5.8|          5|     8|\n",
      "| 2017-06-01 08:23:53|  2017-06-01 08:25:32|              4|         0.28|         263|         263|        3.5|         5.3|          5|     8|\n",
      "| 2017-06-01 08:01:56|  2017-06-01 08:07:58|              5|         0.77|         263|         263|        6.0|        8.16|          5|     8|\n",
      "| 2017-06-01 08:21:23|  2017-06-01 08:22:59|              1|          0.4|         263|         263|        3.5|        5.15|          5|     8|\n",
      "| 2017-06-01 08:18:36|  2017-06-01 08:20:16|              1|         0.34|         263|         263|        3.5|        5.16|          5|     8|\n",
      "| 2017-06-01 08:13:45|  2017-06-01 08:16:24|              5|         0.48|         263|         263|        4.0|         4.8|          5|     8|\n",
      "| 2017-06-01 08:42:41|  2017-06-01 09:46:16|              1|        20.24|         263|           1|       80.0|       110.8|          5|     8|\n",
      "| 2017-06-01 08:37:26|  2017-06-01 08:44:23|              1|          0.9|         263|         263|        6.5|         7.3|          5|     8|\n",
      "| 2017-06-01 08:41:56|  2017-06-01 08:44:29|              5|         0.34|         263|         263|        4.0|         4.8|          5|     8|\n",
      "| 2017-06-01 08:18:42|  2017-06-01 08:23:10|              1|         0.49|         263|         263|        4.5|         5.3|          5|     8|\n",
      "| 2017-06-01 08:51:33|  2017-06-01 08:54:22|              1|          0.4|         263|         263|        4.0|         4.8|          5|     8|\n",
      "| 2017-06-01 08:07:59|  2017-06-01 08:13:53|              1|         1.06|         263|         263|        6.0|        7.82|          5|     8|\n",
      "| 2017-06-01 08:05:50|  2017-06-01 08:10:51|              1|          0.7|         263|         263|        5.5|        7.55|          5|     8|\n",
      "| 2017-06-01 08:39:51|  2017-06-01 08:42:45|              1|         0.39|         263|         263|        4.0|         4.8|          5|     8|\n",
      "| 2017-06-01 08:51:15|  2017-06-01 08:54:15|              1|          0.6|         263|         263|        4.5|        6.55|          5|     8|\n",
      "| 2017-06-01 08:06:30|  2017-06-01 08:11:52|              1|          0.8|         263|         263|        5.5|        7.25|          5|     8|\n",
      "| 2017-06-01 08:57:11|  2017-06-01 09:01:36|              1|          0.7|         263|         263|        5.0|         5.8|          5|     8|\n",
      "| 2017-06-01 08:19:50|  2017-06-01 08:23:03|              2|         0.24|         263|         263|        4.0|        5.76|          5|     8|\n",
      "| 2017-06-01 08:04:00|  2017-06-01 08:06:19|              1|          1.1|           1|           1|       69.9|      103.35|          5|     8|\n",
      "| 2017-06-01 08:11:09|  2017-06-01 08:12:55|              1|         0.45|         263|         263|        3.5|        5.16|          5|     8|\n",
      "| 2017-06-01 08:04:29|  2017-06-01 08:06:10|              1|         0.44|         263|         263|        3.5|        5.59|          5|     8|\n",
      "| 2017-06-01 08:32:11|  2017-06-01 08:33:58|              1|          0.1|         263|         263|        3.0|         3.8|          5|     8|\n",
      "| 2017-06-01 08:47:30|  2017-06-01 08:53:01|              1|         0.73|         263|         263|        5.5|         6.3|          5|     8|\n",
      "| 2017-06-01 08:54:24|  2017-06-01 08:56:44|              1|         0.41|         263|         263|        3.5|         4.3|          5|     8|\n",
      "| 2017-06-01 09:55:54|  2017-06-01 10:01:28|              2|         0.76|         263|         263|        5.5|        7.88|          5|     9|\n",
      "| 2017-06-01 09:50:46|  2017-06-01 09:55:25|              1|          0.8|         263|         263|        5.0|         6.8|          5|     9|\n",
      "| 2017-06-01 09:38:38|  2017-06-01 09:43:04|              2|         0.66|         263|         263|        5.0|         5.8|          5|     9|\n",
      "| 2017-06-01 09:16:17|  2017-06-01 09:19:57|              1|         0.66|         263|         263|        4.5|         5.3|          5|     9|\n",
      "| 2017-06-01 09:06:45|  2017-06-01 09:09:53|              1|          0.6|         263|         263|        4.5|         6.3|          5|     9|\n",
      "| 2017-06-01 09:30:33|  2017-06-01 09:31:14|              1|         0.26|         263|         263|        3.0|         3.8|          5|     9|\n",
      "| 2017-06-01 09:24:29|  2017-06-01 09:40:29|              1|          0.9|         263|         263|       10.5|       13.55|          5|     9|\n",
      "| 2017-06-01 09:33:49|  2017-06-01 09:34:48|              1|         0.28|         263|         263|        3.0|        4.56|          5|     9|\n",
      "| 2017-06-01 09:51:43|  2017-06-01 09:54:30|              1|         0.31|         263|         263|        4.0|        5.76|          5|     9|\n",
      "| 2017-06-01 10:35:37|  2017-06-01 10:38:28|              1|          0.3|         263|         263|        4.0|         4.8|          5|    10|\n",
      "| 2017-06-01 10:53:24|  2017-06-01 10:56:18|              1|          0.4|         263|         263|        4.0|         4.8|          5|    10|\n",
      "| 2017-06-01 10:00:51|  2017-06-01 10:01:55|              1|          0.3|         263|         263|        3.0|         5.8|          5|    10|\n",
      "| 2017-06-01 10:19:51|  2017-06-01 10:21:58|              1|         0.58|         263|         263|        4.0|        5.76|          5|    10|\n",
      "| 2017-06-01 10:17:12|  2017-06-01 11:15:15|              1|        21.32|         263|           1|       84.5|      117.36|          5|    10|\n",
      "| 2017-06-01 10:49:38|  2017-06-01 10:52:05|              1|          0.4|         263|         263|        3.5|        5.16|          5|    10|\n",
      "| 2017-06-01 10:45:44|  2017-06-01 10:50:47|              1|          0.7|         263|         263|        5.0|         5.8|          5|    10|\n",
      "| 2017-06-01 10:07:26|  2017-06-01 10:08:27|              1|          6.2|           1|           1|       70.0|      105.67|          5|    10|\n",
      "| 2017-06-01 10:00:18|  2017-06-01 10:04:03|              1|          0.5|         263|         263|        4.5|         5.3|          5|    10|\n",
      "| 2017-06-01 10:39:58|  2017-06-01 10:42:17|              1|          0.4|         263|         263|        4.0|         5.3|          5|    10|\n",
      "| 2017-06-01 11:23:09|  2017-06-01 11:24:03|              1|         0.14|         263|         263|       -2.5|        -3.3|          5|    11|\n",
      "| 2017-06-01 11:23:09|  2017-06-01 11:24:03|              1|         0.14|         263|         263|        2.5|         3.3|          5|    11|\n",
      "| 2017-06-01 11:54:54|  2017-06-01 11:59:32|              1|         0.69|         263|         263|        5.0|        6.96|          5|    11|\n",
      "+--------------------+---------------------+---------------+-------------+------------+------------+-----------+------------+-----------+------+\n",
      "only showing top 100 rows\n",
      "\n"
     ]
    }
   ],
   "source": [
    "def make_easier_to_live_with_life(sdf):\n",
    "\n",
    "    sdf_new = sdf \\\n",
    "            .drop('VendorID', 'store_and_fwd_flag', 'payment_type', 'fate_amount', 'extra', 'mta_tax', 'tip_amount', 'tolls_amount', 'improvement_surcharge', 'congestion_surcharge','airport_fee') \\\n",
    "            .dropna(how='any') \\\n",
    "            .filter((F.col('trip_distance') > 0) & (F.col('trip_distance') < 150)) \\\n",
    "            .filter((F.col('PULocationID').isin([1,263])) & (F.col('DOLocationID').isin([1, 263]))) \\\n",
    "            .withColumn('PUDayofweek', (F.dayofweek(F.col('tpep_pickup_datetime')))) \\\n",
    "            .withColumn('PUHour', F.hour(F.col('tpep_pickup_datetime')))\n",
    "            #.withColumn('passenger_count', F.col('passenger_count').cast('INT')) \\\n",
    "            #.filter(F.col('passenger_count') > 0) \\\n",
    "    return sdf_new\n",
    "\n",
    "sdf = make_easier_to_live_with_life(sdf_yellow)\n",
    "sdf.show(100)\n",
    "\n"
   ]
  },
  {
   "cell_type": "code",
   "execution_count": 252,
   "metadata": {},
   "outputs": [
    {
     "name": "stdout",
     "output_type": "stream",
     "text": [
      "root\n",
      " |-- VendorID: long (nullable = true)\n",
      " |-- tpep_pickup_datetime: timestamp (nullable = true)\n",
      " |-- tpep_dropoff_datetime: timestamp (nullable = true)\n",
      " |-- passenger_count: double (nullable = true)\n",
      " |-- trip_distance: double (nullable = true)\n",
      " |-- RatecodeID: double (nullable = true)\n",
      " |-- store_and_fwd_flag: string (nullable = true)\n",
      " |-- PULocationID: long (nullable = true)\n",
      " |-- DOLocationID: long (nullable = true)\n",
      " |-- payment_type: long (nullable = true)\n",
      " |-- fare_amount: double (nullable = true)\n",
      " |-- extra: double (nullable = true)\n",
      " |-- mta_tax: double (nullable = true)\n",
      " |-- tip_amount: double (nullable = true)\n",
      " |-- tolls_amount: double (nullable = true)\n",
      " |-- improvement_surcharge: double (nullable = true)\n",
      " |-- total_amount: double (nullable = true)\n",
      " |-- congestion_surcharge: double (nullable = true)\n",
      " |-- airport_fee: integer (nullable = true)\n",
      "\n"
     ]
    }
   ],
   "source": [
    "sdf_yellow_3.printSchema()"
   ]
  },
  {
   "cell_type": "code",
   "execution_count": 246,
   "metadata": {},
   "outputs": [
    {
     "name": "stdout",
     "output_type": "stream",
     "text": [
      "Total trip count 19355336\n",
      "root\n",
      " |-- VendorID: long (nullable = true)\n",
      " |-- tpep_pickup_datetime: timestamp (nullable = true)\n",
      " |-- tpep_dropoff_datetime: timestamp (nullable = true)\n",
      " |-- passenger_count: double (nullable = true)\n",
      " |-- trip_distance: double (nullable = true)\n",
      " |-- RatecodeID: double (nullable = true)\n",
      " |-- store_and_fwd_flag: string (nullable = true)\n",
      " |-- PULocationID: long (nullable = true)\n",
      " |-- DOLocationID: long (nullable = true)\n",
      " |-- payment_type: long (nullable = true)\n",
      " |-- fare_amount: double (nullable = true)\n",
      " |-- extra: double (nullable = true)\n",
      " |-- mta_tax: double (nullable = true)\n",
      " |-- tip_amount: double (nullable = true)\n",
      " |-- tolls_amount: double (nullable = true)\n",
      " |-- improvement_surcharge: double (nullable = true)\n",
      " |-- total_amount: double (nullable = true)\n",
      " |-- congestion_surcharge: double (nullable = true)\n",
      " |-- airport_fee: integer (nullable = true)\n",
      "\n"
     ]
    }
   ],
   "source": [
    "print(\"Total trip count\", sdf_yellow.count())\n",
    "sdf_yellow.printSchema()"
   ]
  },
  {
   "cell_type": "code",
   "execution_count": 248,
   "metadata": {},
   "outputs": [
    {
     "name": "stderr",
     "output_type": "stream",
     "text": [
      "                                                                                \r"
     ]
    },
    {
     "data": {
      "text/html": [
       "<table border='1'>\n",
       "<tr><th>VendorID</th><th>tpep_pickup_datetime</th><th>tpep_dropoff_datetime</th><th>passenger_count</th><th>trip_distance</th><th>RatecodeID</th><th>store_and_fwd_flag</th><th>PULocationID</th><th>DOLocationID</th><th>payment_type</th><th>fare_amount</th><th>extra</th><th>mta_tax</th><th>tip_amount</th><th>tolls_amount</th><th>improvement_surcharge</th><th>total_amount</th><th>congestion_surcharge</th><th>airport_fee</th></tr>\n",
       "<tr><td>1</td><td>2019-06-01 00:55:13</td><td>2019-06-01 00:56:17</td><td>1.0</td><td>0.0</td><td>1.0</td><td>N</td><td>145</td><td>145</td><td>2</td><td>3.0</td><td>0.5</td><td>0.5</td><td>0.0</td><td>0.0</td><td>0.3</td><td>4.3</td><td>0.0</td><td>null</td></tr>\n",
       "<tr><td>1</td><td>2019-06-01 00:06:31</td><td>2019-06-01 00:06:52</td><td>1.0</td><td>0.0</td><td>1.0</td><td>N</td><td>262</td><td>263</td><td>2</td><td>2.5</td><td>3.0</td><td>0.5</td><td>0.0</td><td>0.0</td><td>0.3</td><td>6.3</td><td>2.5</td><td>null</td></tr>\n",
       "<tr><td>1</td><td>2019-06-01 00:17:05</td><td>2019-06-01 00:36:38</td><td>1.0</td><td>4.4</td><td>1.0</td><td>N</td><td>74</td><td>7</td><td>2</td><td>17.5</td><td>0.5</td><td>0.5</td><td>0.0</td><td>0.0</td><td>0.3</td><td>18.8</td><td>0.0</td><td>null</td></tr>\n",
       "<tr><td>1</td><td>2019-06-01 00:59:02</td><td>2019-06-01 00:59:12</td><td>0.0</td><td>0.8</td><td>1.0</td><td>N</td><td>145</td><td>145</td><td>2</td><td>2.5</td><td>1.0</td><td>0.5</td><td>0.0</td><td>0.0</td><td>0.3</td><td>4.3</td><td>0.0</td><td>null</td></tr>\n",
       "<tr><td>1</td><td>2019-06-01 00:03:25</td><td>2019-06-01 00:15:42</td><td>1.0</td><td>1.7</td><td>1.0</td><td>N</td><td>113</td><td>148</td><td>1</td><td>9.5</td><td>3.0</td><td>0.5</td><td>2.65</td><td>0.0</td><td>0.3</td><td>15.95</td><td>2.5</td><td>null</td></tr>\n",
       "</table>\n"
      ],
      "text/plain": [
       "+--------+--------------------+---------------------+---------------+-------------+----------+------------------+------------+------------+------------+-----------+-----+-------+----------+------------+---------------------+------------+--------------------+-----------+\n",
       "|VendorID|tpep_pickup_datetime|tpep_dropoff_datetime|passenger_count|trip_distance|RatecodeID|store_and_fwd_flag|PULocationID|DOLocationID|payment_type|fare_amount|extra|mta_tax|tip_amount|tolls_amount|improvement_surcharge|total_amount|congestion_surcharge|airport_fee|\n",
       "+--------+--------------------+---------------------+---------------+-------------+----------+------------------+------------+------------+------------+-----------+-----+-------+----------+------------+---------------------+------------+--------------------+-----------+\n",
       "|       1| 2019-06-01 00:55:13|  2019-06-01 00:56:17|            1.0|          0.0|       1.0|                 N|         145|         145|           2|        3.0|  0.5|    0.5|       0.0|         0.0|                  0.3|         4.3|                 0.0|       null|\n",
       "|       1| 2019-06-01 00:06:31|  2019-06-01 00:06:52|            1.0|          0.0|       1.0|                 N|         262|         263|           2|        2.5|  3.0|    0.5|       0.0|         0.0|                  0.3|         6.3|                 2.5|       null|\n",
       "|       1| 2019-06-01 00:17:05|  2019-06-01 00:36:38|            1.0|          4.4|       1.0|                 N|          74|           7|           2|       17.5|  0.5|    0.5|       0.0|         0.0|                  0.3|        18.8|                 0.0|       null|\n",
       "|       1| 2019-06-01 00:59:02|  2019-06-01 00:59:12|            0.0|          0.8|       1.0|                 N|         145|         145|           2|        2.5|  1.0|    0.5|       0.0|         0.0|                  0.3|         4.3|                 0.0|       null|\n",
       "|       1| 2019-06-01 00:03:25|  2019-06-01 00:15:42|            1.0|          1.7|       1.0|                 N|         113|         148|           1|        9.5|  3.0|    0.5|      2.65|         0.0|                  0.3|       15.95|                 2.5|       null|\n",
       "+--------+--------------------+---------------------+---------------+-------------+----------+------------------+------------+------------+------------+-----------+-----+-------+----------+------------+---------------------+------------+--------------------+-----------+"
      ]
     },
     "execution_count": 248,
     "metadata": {},
     "output_type": "execute_result"
    }
   ],
   "source": [
    "ints = ['DOlocationID', 'PUlocationID']\n",
    "doubles = ['trip_distance', 'total_amount']\n",
    "dtimes = ['lpep_pickup_datetime', 'lpep_dropoff_datetime', 'Pickup_DateTime', 'DropOff_datetime', 'tpep_pickup_datetime', 'tpep_dropoff_datetime')\n",
    "unwanted = []\n",
    "dtypes = {column: IntegerType() for column in ints}\n",
    "dtypes.update({column: DoubleType() for column in doubles})\n",
    "dtypes.update({column: StringType() for column in strings})\n",
    "dtypes.update({column: TimestampType() for column in dtimes})\n",
    "\n",
    "for column in sdf.columns:\n",
    "    sdf = sdf.withColumn(column, sdf[column].cast(dtypes[column]))\n"
   ]
  },
  {
   "cell_type": "code",
   "execution_count": 83,
   "metadata": {},
   "outputs": [
    {
     "name": "stdout",
     "output_type": "stream",
     "text": [
      "2019_06.parquet\n"
     ]
    },
    {
     "name": "stderr",
     "output_type": "stream",
     "text": [
      "                                                                                \r"
     ]
    },
    {
     "name": "stdout",
     "output_type": "stream",
     "text": [
      "2017_06.parquet\n"
     ]
    },
    {
     "name": "stderr",
     "output_type": "stream",
     "text": [
      "[Stage 165:==========================================>              (3 + 1) / 4]\r"
     ]
    }
   ],
   "source": [
    "#sdf_green = spark.read.parquet('../data/raw/green/').options(inferSchema=False)\n",
    "# type had changed over the years and is not relevant\n",
    "#mergedDF = spark.read.option(\"mergeSchema\", \"true\").parquet(\"../data/raw/green/\")\n",
    "\n",
    "#sdf_green = sdf_green.drop('ratecodeID', 'ehail_fee',  'congestion_surcharge', 'trip_type') \\\n",
    "#    .withColumn('passenger_count', sdf_green['passenger_count'].cast(IntegerType())) \n",
    "\n",
    "#sdf_green.show(5)\n",
    "#mergedDF.write.mode('overwrite').parquet(\"../data/curated/green201720\")\n",
    "for file in os.listdir('../data/raw/yellow/'):\n",
    "    print(file)\n",
    "    sdf = spark.read.parquet('../data/raw/yellow/'+file)\n",
    "    sdf = sdf.withColumn('passenger_count', sdf['passenger_count'].cast(IntegerType())) \n",
    "    sdf.write.mode('overwrite').parquet('..data/curated/yellow/'+file)\n",
    "\n",
    "\n",
    "    # congestion_surcharge: int->double, \n",
    "    # passenger_count long->double, \n",
    "    # ratecodeID long->double"
   ]
  }
 ],
 "metadata": {
  "kernelspec": {
   "display_name": "Python 3.8.10 ('adsenv': venv)",
   "language": "python",
   "name": "python3"
  },
  "language_info": {
   "codemirror_mode": {
    "name": "ipython",
    "version": 3
   },
   "file_extension": ".py",
   "mimetype": "text/x-python",
   "name": "python",
   "nbconvert_exporter": "python",
   "pygments_lexer": "ipython3",
   "version": "3.8.10"
  },
  "orig_nbformat": 4,
  "vscode": {
   "interpreter": {
    "hash": "c5863b7319be0ba8d88ed95044dcfd002e9d5d183ede3cf6092c3150097f8482"
   }
  }
 },
 "nbformat": 4,
 "nbformat_minor": 2
}
