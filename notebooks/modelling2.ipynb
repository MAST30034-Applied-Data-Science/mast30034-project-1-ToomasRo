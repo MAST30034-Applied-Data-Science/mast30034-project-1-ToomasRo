{
 "cells": [
  {
   "cell_type": "code",
   "execution_count": 1,
   "metadata": {},
   "outputs": [
    {
     "name": "stdout",
     "output_type": "stream",
     "text": [
      "22/08/24 04:44:18 WARN Utils: Your hostname, DESKTOP-L9KIK4G resolves to a loopback address: 127.0.1.1; using 172.17.255.189 instead (on interface eth0)\n",
      "22/08/24 04:44:18 WARN Utils: Set SPARK_LOCAL_IP if you need to bind to another address\n"
     ]
    },
    {
     "name": "stderr",
     "output_type": "stream",
     "text": [
      "Setting default log level to \"WARN\".\n",
      "To adjust logging level use sc.setLogLevel(newLevel). For SparkR, use setLogLevel(newLevel).\n"
     ]
    },
    {
     "name": "stdout",
     "output_type": "stream",
     "text": [
      "22/08/24 04:44:20 WARN NativeCodeLoader: Unable to load native-hadoop library for your platform... using builtin-java classes where applicable\n"
     ]
    }
   ],
   "source": [
    "# Sample connection\n",
    "from pyspark.sql import SparkSession\n",
    "from pyspark.sql import functions as F\n",
    "\n",
    "# Create a spark session (which will run spark jobs)\n",
    "spark = (\n",
    "    SparkSession.builder.appName(\"Cleaning connection\")\n",
    "    .config(\"spark.sql.repl.eagerEval.enabled\", True) \n",
    "    .config(\"spark.sql.parquet.cacheMetadata\", \"true\")\n",
    "    .config(\"spark.sql.session.timeZone\", \"Etc/UTC\")\n",
    "    .config(\"spark.driver.memory\", \"4g\")\n",
    "    .config(\"spark.executor.memory\", \"8g\")\n",
    "    .getOrCreate()\n",
    ")"
   ]
  },
  {
   "cell_type": "code",
   "execution_count": 2,
   "metadata": {},
   "outputs": [],
   "source": [
    "from statsmodels.formula.api import ols, glm\n",
    "# VectorAssembler creates new vectors from existing columns\n",
    "from pyspark.ml.feature import VectorAssembler, OneHotEncoder, MinMaxScaler, StandardScaler\n",
    "from pyspark.ml.linalg import Vectors\n",
    "\n",
    "from pyspark.ml.regression import LinearRegression\n",
    "\n",
    "import pandas as pd\n",
    "import numpy as np\n",
    "import os"
   ]
  },
  {
   "cell_type": "code",
   "execution_count": 3,
   "metadata": {},
   "outputs": [
    {
     "name": "stderr",
     "output_type": "stream",
     "text": [
      "                                                                                \r"
     ]
    }
   ],
   "source": [
    "sdf = spark.read.parquet('../data/curated/final3/clean_dataset.parquet/')"
   ]
  },
  {
   "cell_type": "markdown",
   "metadata": {},
   "source": [
    "# Spliting train and test"
   ]
  },
  {
   "cell_type": "code",
   "execution_count": 4,
   "metadata": {},
   "outputs": [
    {
     "name": "stderr",
     "output_type": "stream",
     "text": [
      "                                                                                \r"
     ]
    },
    {
     "name": "stdout",
     "output_type": "stream",
     "text": [
      "22/08/24 04:47:32 WARN package: Truncated the string representation of a plan since it was too large. This behavior can be adjusted by setting 'spark.sql.debug.maxToStringFields'.\n"
     ]
    },
    {
     "name": "stderr",
     "output_type": "stream",
     "text": [
      "                                                                                \r"
     ]
    }
   ],
   "source": [
    "# set aside 15 days from 2019 to do our testing\n",
    "# code: https://stackoverflow.com/questions/553303/generate-a-random-date-between-two-other-dates\n",
    "import random\n",
    "import time\n",
    "\n",
    "\n",
    "def str_time_prop(start, end, time_format, prop):\n",
    "    stime = time.mktime(time.strptime(start, time_format))\n",
    "    etime = time.mktime(time.strptime(end, time_format))\n",
    "\n",
    "    ptime = stime + prop * (etime - stime)\n",
    "\n",
    "    return time.strftime(time_format, time.localtime(ptime))\n",
    "\n",
    "\n",
    "def random_date(start, end, prop):\n",
    "    return str_time_prop(start, end, '%Y-%m-%d %H', prop) + ':00:00'\n",
    "\n",
    "\n",
    "random.seed(42)\n",
    "test_dates = [[random_date(\n",
    "    \"2019-06-01 00\", \"2019-08-31 23\", random.random())] for x in range(15)]\n",
    "\n",
    "test_dates_df = spark.createDataFrame(test_dates, [\"temp_date\"]).select(F.col(\"temp_date\"), F.to_timestamp(\n",
    "    F.col(\"temp_date\"), 'yyyy-MM-dd HH:mm:ss').alias(\"dt_truncated\")).select(F.col('dt_truncated'))\n",
    "\n",
    "test_dates_df.join(sdf, on=['dt_truncated'], how='left') \\\n",
    "    .dropDuplicates()\\\n",
    "    .write.mode('overwrite').parquet('../data/temp/test_set/test_data.parquet')\n",
    "\n",
    "testing_sdf = spark.read.parquet('../data/temp/test_set/test_data.parquet')\n",
    "\n",
    "# remove those lines from the fitting dataset\n",
    "sdf.subtract(testing_sdf.select('pickup_datetime', 'PULocationID', 'PUWeekday', 'PUHour', 'PUMonth', 'PUDay', 'dt_truncated',\n",
    "             'count', 'wnd', 'vis', 'tmp', 'dew', 'atm', 'cc')).write.mode('overwrite').parquet('../data/temp/train_set/train.parquet')\n"
   ]
  },
  {
   "cell_type": "markdown",
   "metadata": {},
   "source": [
    "# Normalising and one-hot-encoding the data"
   ]
  },
  {
   "cell_type": "code",
   "execution_count": 5,
   "metadata": {},
   "outputs": [],
   "source": [
    "testing_sdf = spark.read.parquet('../data/temp/test_set/test_data.parquet')\n",
    "train_sdf = spark.read.parquet('../data/temp/train_set/train.parquet')\n"
   ]
  },
  {
   "cell_type": "code",
   "execution_count": 6,
   "metadata": {},
   "outputs": [
    {
     "name": "stderr",
     "output_type": "stream",
     "text": [
      "                                                                                \r"
     ]
    }
   ],
   "source": [
    "onehotencoder = OneHotEncoder(\n",
    "    inputCol='PULocationID',\n",
    "    outputCol='location_vec'\n",
    "    ).fit(train_sdf)\n",
    "\n",
    "ohedata = onehotencoder.transform(train_sdf)\n",
    "\n",
    "assembler = VectorAssembler(\n",
    "    inputCols=['wnd', 'vis', 'tmp', 'dew', 'atm', 'cc', 'PUMonth', 'PUWeekday', 'PUDay', 'PUHour', 'location_vec'],\n",
    "    outputCol='features')\n",
    "model_sdf = assembler.transform(ohedata)"
   ]
  },
  {
   "cell_type": "markdown",
   "metadata": {},
   "source": [
    "# Linear regression model"
   ]
  },
  {
   "cell_type": "code",
   "execution_count": 7,
   "metadata": {},
   "outputs": [
    {
     "name": "stdout",
     "output_type": "stream",
     "text": [
      "22/08/24 04:58:16 WARN Instrumentation: [cd2cc62a] regParam is zero, which might cause numerical instability and overfitting.\n"
     ]
    },
    {
     "name": "stderr",
     "output_type": "stream",
     "text": [
      "[Stage 15:>                                                        (0 + 4) / 20]\r"
     ]
    },
    {
     "name": "stdout",
     "output_type": "stream",
     "text": [
      "22/08/24 04:58:52 WARN InstanceBuilder$NativeBLAS: Failed to load implementation from:dev.ludovic.netlib.blas.JNIBLAS\n",
      "22/08/24 04:58:52 WARN InstanceBuilder$NativeBLAS: Failed to load implementation from:dev.ludovic.netlib.blas.ForeignLinkerBLAS\n"
     ]
    },
    {
     "name": "stderr",
     "output_type": "stream",
     "text": [
      "                                                                                \r"
     ]
    },
    {
     "name": "stdout",
     "output_type": "stream",
     "text": [
      "22/08/24 05:01:16 WARN InstanceBuilder$NativeLAPACK: Failed to load implementation from:dev.ludovic.netlib.lapack.JNILAPACK\n",
      "22/08/24 05:01:16 WARN Instrumentation: [cd2cc62a] Cholesky solver failed due to singular covariance matrix. Retrying with Quasi-Newton solver.\n"
     ]
    },
    {
     "name": "stderr",
     "output_type": "stream",
     "text": [
      "                                                                                \r"
     ]
    }
   ],
   "source": [
    "lm = LinearRegression(\n",
    "    featuresCol='features', \n",
    "    labelCol='count'\n",
    ").fit(model_sdf)"
   ]
  },
  {
   "cell_type": "markdown",
   "metadata": {},
   "source": [
    "## Evaluating model"
   ]
  },
  {
   "cell_type": "code",
   "execution_count": 8,
   "metadata": {},
   "outputs": [
    {
     "name": "stdout",
     "output_type": "stream",
     "text": [
      "Coefficients: [0.7713354966634457,0.0008228327484598245,0.24462086561900973,0.2223106077658376,0.12321608655802135,-3.732873907258904e-06,-19.758227992553078,5.660308764068674,-0.10046171951916874,7.779693129873301,-366.87404027212295,-373.32650269236257,-374.26430200971055,-330.4746720852904,-216.51635380142838,-361.3046861697155,-362.6356882354914,-65.64239185836021,-377.05754941835676,-352.8084016052348,-305.08152100937633,-347.05230183721886,-360.9572314321824,-83.60149742416459,-250.96085052694497,-357.28575937854947,-324.4247781471349,-133.16494446883863,-275.9110526765935,-351.19570662458545,-314.4830191081533,-311.19420630606686,-299.36513246339234,-349.14512234087414,-292.4321829854059,-189.12779534714863,-245.94762925312642,-384.90272533700636,-325.2144489435256,-329.7866463200321,-370.3781416880967,-356.02284286571086,-321.5997126591389,-192.81603165356728,-356.4239628003172,-237.57514030265702,-119.30843494368868,-79.66070879086352,-346.6055402451403,-183.61059783991095,-285.8818357967568,-113.91797477972544,-114.10825933202283,-27.049811336221442,-365.6286057396796,-278.17508993712227,-383.67688153162027,-303.5782292333053,356.04006399651337,-171.88476640896266,-104.4318620197859,-299.8303769272974,-323.6396302277912,-341.0298897292498,-354.3982429631389,-308.6832611045311,-297.86381891497115,-358.62834013246453,-361.45530720189635,-373.7178671103339,-324.48430688819076,27.46756120793612,-271.86135029469847,-298.85229417476694,-361.3262417204185,-199.43769872436715,-216.709675105232,-333.24992716731134,176.0983051477957,-250.9286489748062,-313.14584543322457,-264.9273171984169,-234.14581700630032,-345.6827815938731,-83.22128311211131,-82.00342542116566,-149.30259166488847,-304.5600591386823,-290.34674291922806,474.8215488747741,-84.90050872820235,-312.54480736808046,-183.39846604932487,-319.67957907370186,-357.0874551922917,-300.45418479366407,-344.7623749328521,-76.92897752591227,-252.634852891863,-177.9714736619787,49.79005948159287,-248.9543952250427,-256.4417189455033,-284.9906111917122,-334.7434385538369,-219.44881913047166,-368.76889560937786,-142.10899498761285,-350.46491889312307,-368.03152783137165,78.0085739288551,-355.4101612416924,-321.4399233465368,0.0,-456.7136820736727,-393.1990502253147,-303.9788712094702,172.53049988400772,-338.57631590947346,-360.3107258482579,-379.2870143223494,-372.87778142029504,-109.67724436040307,3.7734150464836365,35.216859713309475,-348.7270948552906,-233.64732600391557,-345.2617890790258,-361.50750485624866,-289.4283766510588,-359.98792702800176,-329.8189138457731,-343.1418830667053,-311.23732072882,-345.9978018987777,-186.18058898182804,-310.3127714199211,-276.080061898592,-373.77322779605447,-177.25004171554176,-239.20536952837418,-341.7490442121672,339.6213501670767,-323.7327452660498,-324.58242888636164,-329.91786449474745,-314.4080278314869,-23.969569878579517,459.01160286723456,-337.739864058919,52.85138614698176,99.81170458030968,192.49170577283402,-77.32778593501835,21.931811658049632,-171.85266648131875,-290.94206068619616,-320.22222863016503,319.41993757537233,-320.1340295757965,-338.5237735075578,-170.51106437842176,-295.20811418305243,-363.1616272945135,-376.9830647610799,-301.95973429733925,-348.61128177237083,-309.7073266568832,-29.75327954492907,-280.16548779378496,-324.80723144952555,635.4638339530705,395.7159569911993,195.4997544224568,215.90054481850257,-295.9951702984281,-166.90646707505846,-288.2194366199241,-262.2613736429352,-268.51588207809124,346.7699101258151,-328.8594483989284,-366.53459274704056,-313.1208635643693,-295.5334357469565,-350.59534897915046,-366.5521356020512,-263.6228814024202,-342.5909116349275,-276.22109923431304,-341.1144692228437,-46.83259875207913,-316.28185701566997,-349.9441899329856,-374.0088705089627,-314.9433662026229,242.64011221774095,-355.7388365323046,-178.8117515207186,-264.54110540854833,-349.054881873613,-317.5646672983688,-340.73445214418956,-333.1116103127962,-370.22529327761737,-305.5898790374582,-314.23054309591083,-289.81752369894167,-230.64030550903388,-374.72679763248476,-333.61426512537815,-357.95007666269754,-357.2314932924031,-335.4247934336902,-366.62915916397566,-298.80800471963653,-336.59584241058593,-379.02533331874093,-311.43684467443694,-297.1963551605277,-301.3646358342475,-103.10902450749933,-323.89767593211985,-277.39947802109543,-361.1746766513498,-310.2731113924319,-263.0888934078953,-336.8333424074101,-328.334908294042,-331.1508675586611,-297.81255136018757,-344.7609187816168,-336.54406625494937,-217.99606460116226,-239.86448339891913,-135.81406684328948,-213.40608253956603,-321.03190777203855,-267.15230191759144,74.38294610131142,330.07343877294545,160.14099460901076,-213.08684755814653,19.571398996623824,413.81876006629824,-268.7456865998234,329.26642687707067,434.1524184636597,37.618246413423805,132.6424582710236,-353.75160674958994,-294.10933729603914,-292.84976557058314,-225.72931158345247,-166.4168967702735,-350.137858163769,112.53392604621416,-242.82823460131672,-321.81679766576246,150.67862756963106,-325.8495318978409,-358.5097710542515,-349.09245938959447,-349.61167226932906,-281.64073333413023,55.93440516805717,-81.48925476246646,-330.65387142320435,-305.55349883579487,-310.7639455001909,-257.6522204435902,-191.7932402570299,-54.37675969092483]\n",
      "Intercept: -1006.9457715421546\n",
      "numIterations: 17\n",
      "objectiveHistory: [0.4999999999999998, 0.2553503139553086, 0.20813191847902013, 0.20736992057284231, 0.20728923680827538, 0.20720467599614723, 0.20719784239625083, 0.20719552272483788, 0.20719268416392955, 0.20718073915013302, 0.20716650550995652, 0.2071616727117953, 0.2071560306146445, 0.207155289358828, 0.2071552723264456, 0.2071552721459402, 0.20715527212710505, 0.20715527211486684]\n",
      "RMSE: 226.657606\n",
      "151.83945365733035\n",
      "r2: 0.585689\n"
     ]
    }
   ],
   "source": [
    "print(\"Coefficients: \" + str(lm.coefficients))\n",
    "print(\"Intercept: \" + str(lm.intercept))\n",
    "trainingSummary = lm.summary\n",
    "print(\"numIterations: %d\" % trainingSummary.totalIterations)\n",
    "print(\"objectiveHistory: %s\" % str(trainingSummary.objectiveHistory))\n",
    "# print(trainingSummary.residuals.count())\n",
    "print(\"RMSE: %f\" % trainingSummary.rootMeanSquaredError)\n",
    "print(trainingSummary.meanAbsoluteError)\n",
    "print(\"r2: %f\" % trainingSummary.r2) "
   ]
  },
  {
   "cell_type": "code",
   "execution_count": 9,
   "metadata": {},
   "outputs": [
    {
     "name": "stderr",
     "output_type": "stream",
     "text": [
      "                                                                                \r"
     ]
    },
    {
     "data": {
      "text/html": [
       "<div>\n",
       "<style scoped>\n",
       "    .dataframe tbody tr th:only-of-type {\n",
       "        vertical-align: middle;\n",
       "    }\n",
       "\n",
       "    .dataframe tbody tr th {\n",
       "        vertical-align: top;\n",
       "    }\n",
       "\n",
       "    .dataframe thead th {\n",
       "        text-align: right;\n",
       "    }\n",
       "</style>\n",
       "<table border=\"1\" class=\"dataframe\">\n",
       "  <thead>\n",
       "    <tr style=\"text-align: right;\">\n",
       "      <th></th>\n",
       "      <th>PUHour</th>\n",
       "      <th>count</th>\n",
       "      <th>prediction</th>\n",
       "      <th>error</th>\n",
       "    </tr>\n",
       "  </thead>\n",
       "  <tbody>\n",
       "    <tr>\n",
       "      <th>0</th>\n",
       "      <td>20</td>\n",
       "      <td>1497</td>\n",
       "      <td>1051.150086</td>\n",
       "      <td>445.849914</td>\n",
       "    </tr>\n",
       "    <tr>\n",
       "      <th>1</th>\n",
       "      <td>7</td>\n",
       "      <td>59</td>\n",
       "      <td>64.307216</td>\n",
       "      <td>5.307216</td>\n",
       "    </tr>\n",
       "    <tr>\n",
       "      <th>2</th>\n",
       "      <td>20</td>\n",
       "      <td>689</td>\n",
       "      <td>579.777289</td>\n",
       "      <td>109.222711</td>\n",
       "    </tr>\n",
       "    <tr>\n",
       "      <th>3</th>\n",
       "      <td>22</td>\n",
       "      <td>526</td>\n",
       "      <td>562.403917</td>\n",
       "      <td>36.403917</td>\n",
       "    </tr>\n",
       "    <tr>\n",
       "      <th>4</th>\n",
       "      <td>13</td>\n",
       "      <td>468</td>\n",
       "      <td>456.030144</td>\n",
       "      <td>11.969856</td>\n",
       "    </tr>\n",
       "    <tr>\n",
       "      <th>...</th>\n",
       "      <td>...</td>\n",
       "      <td>...</td>\n",
       "      <td>...</td>\n",
       "      <td>...</td>\n",
       "    </tr>\n",
       "    <tr>\n",
       "      <th>1032604</th>\n",
       "      <td>9</td>\n",
       "      <td>11</td>\n",
       "      <td>140.726507</td>\n",
       "      <td>129.726507</td>\n",
       "    </tr>\n",
       "    <tr>\n",
       "      <th>1032605</th>\n",
       "      <td>1</td>\n",
       "      <td>8</td>\n",
       "      <td>77.807363</td>\n",
       "      <td>69.807363</td>\n",
       "    </tr>\n",
       "    <tr>\n",
       "      <th>1032606</th>\n",
       "      <td>17</td>\n",
       "      <td>3</td>\n",
       "      <td>157.129178</td>\n",
       "      <td>154.129178</td>\n",
       "    </tr>\n",
       "    <tr>\n",
       "      <th>1032607</th>\n",
       "      <td>6</td>\n",
       "      <td>16</td>\n",
       "      <td>-24.290217</td>\n",
       "      <td>40.290217</td>\n",
       "    </tr>\n",
       "    <tr>\n",
       "      <th>1032608</th>\n",
       "      <td>7</td>\n",
       "      <td>36</td>\n",
       "      <td>-27.109196</td>\n",
       "      <td>63.109196</td>\n",
       "    </tr>\n",
       "  </tbody>\n",
       "</table>\n",
       "<p>1032609 rows × 4 columns</p>\n",
       "</div>"
      ],
      "text/plain": [
       "         PUHour  count   prediction       error\n",
       "0            20   1497  1051.150086  445.849914\n",
       "1             7     59    64.307216    5.307216\n",
       "2            20    689   579.777289  109.222711\n",
       "3            22    526   562.403917   36.403917\n",
       "4            13    468   456.030144   11.969856\n",
       "...         ...    ...          ...         ...\n",
       "1032604       9     11   140.726507  129.726507\n",
       "1032605       1      8    77.807363   69.807363\n",
       "1032606      17      3   157.129178  154.129178\n",
       "1032607       6     16   -24.290217   40.290217\n",
       "1032608       7     36   -27.109196   63.109196\n",
       "\n",
       "[1032609 rows x 4 columns]"
      ]
     },
     "execution_count": 9,
     "metadata": {},
     "output_type": "execute_result"
    }
   ],
   "source": [
    "error_rate_df = lm.transform(model_sdf.sample(0.05, 42))\\\n",
    "    .drop('pickup_datetime').dropDuplicates() \\\n",
    "    .select('PUHour', 'count', 'prediction') \\\n",
    "    .withColumn('error', F.abs(F.col('prediction') - F.col('count'))) \\\n",
    "    .toPandas()\n",
    "\n",
    "error_rate_df"
   ]
  },
  {
   "cell_type": "code",
   "execution_count": 10,
   "metadata": {},
   "outputs": [
    {
     "data": {
      "text/html": [
       "<div>\n",
       "<style scoped>\n",
       "    .dataframe tbody tr th:only-of-type {\n",
       "        vertical-align: middle;\n",
       "    }\n",
       "\n",
       "    .dataframe tbody tr th {\n",
       "        vertical-align: top;\n",
       "    }\n",
       "\n",
       "    .dataframe thead th {\n",
       "        text-align: right;\n",
       "    }\n",
       "</style>\n",
       "<table border=\"1\" class=\"dataframe\">\n",
       "  <thead>\n",
       "    <tr style=\"text-align: right;\">\n",
       "      <th></th>\n",
       "      <th>PUHour</th>\n",
       "      <th>count</th>\n",
       "      <th>prediction</th>\n",
       "      <th>error</th>\n",
       "    </tr>\n",
       "  </thead>\n",
       "  <tbody>\n",
       "    <tr>\n",
       "      <th>1032604</th>\n",
       "      <td>9</td>\n",
       "      <td>11</td>\n",
       "      <td>140.726507</td>\n",
       "      <td>129.726507</td>\n",
       "    </tr>\n",
       "    <tr>\n",
       "      <th>1032605</th>\n",
       "      <td>1</td>\n",
       "      <td>8</td>\n",
       "      <td>77.807363</td>\n",
       "      <td>69.807363</td>\n",
       "    </tr>\n",
       "    <tr>\n",
       "      <th>1032606</th>\n",
       "      <td>17</td>\n",
       "      <td>3</td>\n",
       "      <td>157.129178</td>\n",
       "      <td>154.129178</td>\n",
       "    </tr>\n",
       "    <tr>\n",
       "      <th>1032607</th>\n",
       "      <td>6</td>\n",
       "      <td>16</td>\n",
       "      <td>-24.290217</td>\n",
       "      <td>40.290217</td>\n",
       "    </tr>\n",
       "    <tr>\n",
       "      <th>1032608</th>\n",
       "      <td>7</td>\n",
       "      <td>36</td>\n",
       "      <td>-27.109196</td>\n",
       "      <td>63.109196</td>\n",
       "    </tr>\n",
       "  </tbody>\n",
       "</table>\n",
       "</div>"
      ],
      "text/plain": [
       "         PUHour  count  prediction       error\n",
       "1032604       9     11  140.726507  129.726507\n",
       "1032605       1      8   77.807363   69.807363\n",
       "1032606      17      3  157.129178  154.129178\n",
       "1032607       6     16  -24.290217   40.290217\n",
       "1032608       7     36  -27.109196   63.109196"
      ]
     },
     "execution_count": 10,
     "metadata": {},
     "output_type": "execute_result"
    }
   ],
   "source": [
    "error_rate_df.tail(5)"
   ]
  },
  {
   "cell_type": "code",
   "execution_count": 11,
   "metadata": {},
   "outputs": [
    {
     "data": {
      "image/png": "[encoded data removed]",
      "text/plain": [
       "<Figure size 432x288 with 1 Axes>"
      ]
     },
     "metadata": {
      "needs_background": "light"
     },
     "output_type": "display_data"
    }
   ],
   "source": [
    "import seaborn as sns\n",
    "import matplotlib.pyplot as plt\n",
    "plt.rcParams['savefig.dpi'] = 400\n",
    "sns.boxplot(x=\"PUHour\", y=\"error\", data=error_rate_df, palette=\"Set3\")\n",
    "\n",
    "plt.xlabel('Pickup time (h)', fontsize=16)\n",
    "plt.ylabel('Absolute Error', fontsize=16)\n",
    "plt.title('Error of model 1 predictions against time', fontsize=18)\n",
    "\n",
    "plt.savefig('../plots/model1_error_hour.jpeg')\n"
   ]
  },
  {
   "cell_type": "code",
   "execution_count": 12,
   "metadata": {},
   "outputs": [
    {
     "name": "stderr",
     "output_type": "stream",
     "text": [
      "                                                                                \r"
     ]
    }
   ],
   "source": [
    "residuals = trainingSummary.residuals.sample(0.05, 42).toPandas()"
   ]
  },
  {
   "cell_type": "code",
   "execution_count": 13,
   "metadata": {},
   "outputs": [
    {
     "data": {
      "image/png": "[encoded data removed]",
      "text/plain": [
       "<Figure size 432x288 with 1 Axes>"
      ]
     },
     "metadata": {
      "needs_background": "light"
     },
     "output_type": "display_data"
    }
   ],
   "source": [
    "import matplotlib.pyplot as plt\n",
    "\n",
    "plt.hist(residuals, bins=100)\n",
    "plt.show()\n"
   ]
  },
  {
   "cell_type": "markdown",
   "metadata": {},
   "source": [
    "# Linear reg v2"
   ]
  },
  {
   "cell_type": "code",
   "execution_count": 6,
   "metadata": {},
   "outputs": [
    {
     "name": "stderr",
     "output_type": "stream",
     "text": [
      "                                                                                \r"
     ]
    }
   ],
   "source": [
    "# # print('fitting OHE')\n",
    "# onehotencoder = OneHotEncoder(\n",
    "#     inputCol='PULocationID',\n",
    "#     outputCol='location_vec'\n",
    "# ).fit(train_sdf)\n",
    "\n",
    "# # print('one hot encoding')\n",
    "# onehotdata = onehotencoder.transform(train_sdf)\n",
    "\n",
    "# assembler = VectorAssembler(\n",
    "#     inputCols=['wnd', 'vis', 'tmp', 'dew', 'atm', 'cc', 'PUMonth',\n",
    "#                'PUWeekday', 'PUDay', 'PUHour', 'location_vec'],\n",
    "#     outputCol='features'\n",
    "# )\n",
    "\n",
    "# # print('assembling')\n",
    "# assembled_sdf = assembler.transform(onehotdata)\n",
    "\n",
    "# scaler = StandardScaler(\n",
    "#     inputCol='features',\n",
    "#     outputCol='scaledFeatures'\n",
    "# )\n",
    "# # print('fitting scaler')\n",
    "# scalerModel = scaler.fit(\n",
    "#     assembled_sdf.select(\"features\")\n",
    "# )        # TODO important variable\n",
    "\n",
    "# # print('scaling')\n",
    "# model_sdf = scalerModel.transform(assembled_sdf.filter(\n",
    "#     (F.col('PUHour') > 5) & (F.col('PUHour') < 22)))\n"
   ]
  },
  {
   "cell_type": "code",
   "execution_count": 16,
   "metadata": {},
   "outputs": [],
   "source": [
    "#sampled_model_sdf = model_sdf.sample(withReplacement=False, fraction=0.02, seed=42).toPandas()"
   ]
  },
  {
   "cell_type": "code",
   "execution_count": null,
   "metadata": {},
   "outputs": [],
   "source": [
    "# fit = ols(\n",
    "#     formula=\"count ~ wnd + tmp + dew + PUMonth + PUWeekday + PUHour + PULocationID\",\n",
    "#     #formula=\"count ~ wnd + vis + tmp + dew + atm + cc + PUMonth + PUWeekday + PUDay + PUHour + PULocationID\",\n",
    "#     data=sampled_model_sdf\n",
    "# ).fit()\n",
    "# fit.summary()"
   ]
  },
  {
   "cell_type": "markdown",
   "metadata": {},
   "source": [
    "## Visualising errors"
   ]
  },
  {
   "cell_type": "markdown",
   "metadata": {},
   "source": [
    "# Predicting\n",
    "the pickup numbers per zone for those 15 hours we picked out earlier"
   ]
  },
  {
   "cell_type": "code",
   "execution_count": 23,
   "metadata": {},
   "outputs": [],
   "source": [
    "testing_sdf = spark.read.parquet('../data/temp/test_set/test_data.parquet')"
   ]
  },
  {
   "cell_type": "code",
   "execution_count": 24,
   "metadata": {},
   "outputs": [
    {
     "name": "stdout",
     "output_type": "stream",
     "text": [
      "+-------------------+-------------------+------------+---------+------+-------+-----+-----+----+-------+-----+----+-------+---+-----------------+--------------------+\n",
      "|       dt_truncated|    pickup_datetime|PULocationID|PUWeekday|PUHour|PUMonth|PUDay|count| wnd|    vis|  tmp| dew|    atm| cc|     location_vec|            features|\n",
      "+-------------------+-------------------+------------+---------+------+-------+-----+-----+----+-------+-----+----+-------+---+-----------------+--------------------+\n",
      "|2019-06-03 10:00:00|2019-06-03 10:33:30|       198.0|        2|    10|      6|    3|   16|46.0|16093.0|161.0|78.0|10110.0|2.0|(263,[198],[1.0])|(273,[0,1,2,3,4,5...|\n",
      "|2019-06-03 10:00:00|2019-06-03 10:21:30|       196.0|        2|    10|      6|    3|   14|46.0|16093.0|161.0|78.0|10110.0|2.0|(263,[196],[1.0])|(273,[0,1,2,3,4,5...|\n",
      "|2019-06-03 10:00:00|2019-06-03 10:10:51|       238.0|        2|    10|      6|    3|  273|46.0|16093.0|161.0|78.0|10110.0|2.0|(263,[238],[1.0])|(273,[0,1,2,3,4,5...|\n",
      "|2019-06-03 10:00:00|2019-06-03 10:08:32|       132.0|        2|    10|      6|    3|  338|46.0|16093.0|161.0|78.0|10110.0|2.0|(263,[132],[1.0])|(273,[0,1,2,3,4,5...|\n",
      "|2019-06-03 10:00:00|2019-06-03 10:38:25|       132.0|        2|    10|      6|    3|  338|46.0|16093.0|161.0|78.0|10110.0|2.0|(263,[132],[1.0])|(273,[0,1,2,3,4,5...|\n",
      "+-------------------+-------------------+------------+---------+------+-------+-----+-----+----+-------+-----+----+-------+---+-----------------+--------------------+\n",
      "only showing top 5 rows\n",
      "\n"
     ]
    }
   ],
   "source": [
    "testing_sdf = onehotencoder.transform(testing_sdf)\n",
    "testing_sdf = assembler.transform(testing_sdf)\n",
    "#testing_sdf = scalerModel.transform(testing_sdf)\n",
    "testing_sdf.show(5)\n"
   ]
  },
  {
   "cell_type": "code",
   "execution_count": 25,
   "metadata": {},
   "outputs": [
    {
     "name": "stderr",
     "output_type": "stream",
     "text": [
      "[Stage 27:===========================================>              (3 + 1) / 4]\r"
     ]
    },
    {
     "name": "stdout",
     "output_type": "stream",
     "text": [
      "+-------------------+------------+---------+------+-------+-----+-----+----+-------+-----+-----+-------+---+-----------------+--------------------+------------------+\n",
      "|       dt_truncated|PULocationID|PUWeekday|PUHour|PUMonth|PUDay|count| wnd|    vis|  tmp|  dew|    atm| cc|     location_vec|            features|        prediction|\n",
      "+-------------------+------------+---------+------+-------+-----+-----+----+-------+-----+-----+-------+---+-----------------+--------------------+------------------+\n",
      "|2019-08-07 17:00:00|       126.0|        4|    17|      8|    7|    2|77.0|16093.0|289.0|217.0|10082.0|4.0|(263,[126],[1.0])|(273,[0,1,2,3,4,5...| 112.7045017845918|\n",
      "|2019-08-07 17:00:00|        13.0|        4|    17|      8|    7|   98|77.0|16093.0|289.0|217.0|10082.0|4.0| (263,[13],[1.0])|(273,[0,1,2,3,4,5...| 339.4157757803483|\n",
      "|2019-08-07 17:00:00|        61.0|        4|    17|      8|    7|   12|77.0|16093.0|289.0|217.0|10082.0|4.0| (263,[61],[1.0])|(273,[0,1,2,3,4,5...|  450.484834412449|\n",
      "|2019-08-07 17:00:00|       149.0|        4|    17|      8|    7|    2|77.0|16093.0|289.0|217.0|10082.0|4.0|(263,[149],[1.0])|(273,[0,1,2,3,4,5...|102.88324362871651|\n",
      "|2019-08-07 17:00:00|        73.0|        4|    17|      8|    7|    6|77.0|16093.0|289.0|217.0|10082.0|4.0| (263,[73],[1.0])|(273,[0,1,2,3,4,5...|  77.3344916106397|\n",
      "|2019-08-07 17:00:00|       198.0|        4|    17|      8|    7|   14|77.0|16093.0|289.0|217.0|10082.0|4.0|(263,[198],[1.0])|(273,[0,1,2,3,4,5...|192.37696769547904|\n",
      "|2019-08-07 17:00:00|       115.0|        4|    17|      8|    7|    1|77.0|16093.0|289.0|217.0|10082.0|4.0|(263,[115],[1.0])|(273,[0,1,2,3,4,5...|  74.2901783492224|\n",
      "|2019-08-07 17:00:00|        33.0|        4|    17|      8|    7|   48|77.0|16093.0|289.0|217.0|10082.0|4.0| (263,[33],[1.0])|(273,[0,1,2,3,4,5...| 230.2012415509456|\n",
      "|2019-08-07 17:00:00|       102.0|        4|    17|      8|    7|   10|77.0|16093.0|289.0|217.0|10082.0|4.0|(263,[102],[1.0])|(273,[0,1,2,3,4,5...|101.57734985797617|\n",
      "|2019-08-07 17:00:00|       223.0|        4|    17|      8|    7|   30|77.0|16093.0|289.0|217.0|10082.0|4.0|(263,[223],[1.0])|(273,[0,1,2,3,4,5...| 205.0212086033506|\n",
      "|2019-08-07 17:00:00|       224.0|        4|    17|      8|    7|   22|77.0|16093.0|289.0|217.0|10082.0|4.0|(263,[224],[1.0])|(273,[0,1,2,3,4,5...|183.15278980559367|\n",
      "|2019-08-07 17:00:00|       263.0|        4|    17|      8|    7|  228|77.0|16093.0|289.0|217.0|10082.0|4.0|      (263,[],[])|(273,[0,1,2,3,4,5...| 423.0172732045129|\n",
      "|2019-08-07 17:00:00|       134.0|        4|    17|      8|    7|   13|77.0|16093.0|289.0|217.0|10082.0|4.0|(263,[134],[1.0])|(273,[0,1,2,3,4,5...| 98.43484431815125|\n",
      "|2019-08-07 17:00:00|       205.0|        4|    17|      8|    7|    3|77.0|16093.0|289.0|217.0|10082.0|4.0|(263,[205],[1.0])|(273,[0,1,2,3,4,5...|124.20926848487636|\n",
      "|2019-08-07 17:00:00|         4.0|        4|    17|      8|    7|   10|77.0|16093.0|289.0|217.0|10082.0|4.0|  (263,[4],[1.0])|(273,[0,1,2,3,4,5...| 206.5009194030846|\n",
      "|2019-08-07 17:00:00|        71.0|        4|    17|      8|    7|    1|77.0|16093.0|289.0|217.0|10082.0|4.0| (263,[71],[1.0])|(273,[0,1,2,3,4,5...|158.08995600609603|\n",
      "|2019-08-07 17:00:00|       168.0|        4|    17|      8|    7|    3|77.0|16093.0|289.0|217.0|10082.0|4.0|(263,[168],[1.0])|(273,[0,1,2,3,4,5...|160.75589956157762|\n",
      "|2019-08-07 17:00:00|       238.0|        4|    17|      8|    7|  234|77.0|16093.0|289.0|217.0|10082.0|4.0|(263,[238],[1.0])|(273,[0,1,2,3,4,5...|460.63551961793667|\n",
      "|2019-08-07 17:00:00|       166.0|        4|    17|      8|    7|  159|77.0|16093.0|289.0|217.0|10082.0|4.0|(263,[166],[1.0])|(273,[0,1,2,3,4,5...| 256.1108061294543|\n",
      "|2019-08-07 17:00:00|         5.0|        4|    17|      8|    7|    1|77.0|16093.0|289.0|217.0|10082.0|4.0|  (263,[5],[1.0])|(273,[0,1,2,3,4,5...|61.712587034797366|\n",
      "|2019-08-07 17:00:00|        24.0|        4|    17|      8|    7|   24|77.0|16093.0|289.0|217.0|10082.0|4.0| (263,[24],[1.0])|(273,[0,1,2,3,4,5...|130.58509021910697|\n",
      "|2019-08-07 17:00:00|       152.0|        4|    17|      8|    7|   22|77.0|16093.0|289.0|217.0|10082.0|4.0|(263,[152],[1.0])|(273,[0,1,2,3,4,5...|127.80915902146046|\n",
      "|2019-08-07 17:00:00|       127.0|        4|    17|      8|    7|    1|77.0|16093.0|289.0|217.0|10082.0|4.0|(263,[127],[1.0])|(273,[0,1,2,3,4,5...|146.93721130592087|\n",
      "|2019-08-07 17:00:00|       112.0|        4|    17|      8|    7|    1|77.0|16093.0|289.0|217.0|10082.0|4.0|(263,[112],[1.0])|(273,[0,1,2,3,4,5...| 313.3400288441097|\n",
      "|2019-08-07 17:00:00|       231.0|        4|    17|      8|    7|  179|77.0|16093.0|289.0|217.0|10082.0|4.0|(263,[231],[1.0])|(273,[0,1,2,3,4,5...| 583.1582678135236|\n",
      "|2019-08-07 17:00:00|        60.0|        4|    17|      8|    7|    1|77.0|16093.0|289.0|217.0|10082.0|4.0| (263,[60],[1.0])|(273,[0,1,2,3,4,5...| 98.53296631632213|\n",
      "|2019-08-07 17:00:00|        56.0|        4|    17|      8|    7|   11|77.0|16093.0|289.0|217.0|10082.0|4.0| (263,[56],[1.0])|(273,[0,1,2,3,4,5...|125.15345428954186|\n",
      "|2019-08-07 17:00:00|       121.0|        4|    17|      8|    7|    6|77.0|16093.0|289.0|217.0|10082.0|4.0|(263,[121],[1.0])|(273,[0,1,2,3,4,5...| 93.19835935873982|\n",
      "|2019-08-07 17:00:00|       125.0|        4|    17|      8|    7|   51|77.0|16093.0|289.0|217.0|10082.0|4.0|(263,[125],[1.0])|(273,[0,1,2,3,4,5...|236.83668422268477|\n",
      "|2019-08-07 17:00:00|        79.0|        4|    17|      8|    7|  213|77.0|16093.0|289.0|217.0|10082.0|4.0| (263,[79],[1.0])|(273,[0,1,2,3,4,5...| 897.8388220792871|\n",
      "|2019-08-07 17:00:00|       178.0|        4|    17|      8|    7|    2|77.0|16093.0|289.0|217.0|10082.0|4.0|(263,[178],[1.0])|(273,[0,1,2,3,4,5...| 80.42636156958531|\n",
      "|2019-08-07 17:00:00|        75.0|        4|    17|      8|    7|  240|77.0|16093.0|289.0|217.0|10082.0|4.0| (263,[75],[1.0])|(273,[0,1,2,3,4,5...|341.01384778334716|\n",
      "|2019-08-07 17:00:00|       262.0|        4|    17|      8|    7|  142|77.0|16093.0|289.0|217.0|10082.0|4.0|(263,[262],[1.0])|(273,[0,1,2,3,4,5...|368.64051351358796|\n",
      "|2019-08-07 17:00:00|       228.0|        4|    17|      8|    7|    3|77.0|16093.0|289.0|217.0|10082.0|4.0|(263,[228],[1.0])|(273,[0,1,2,3,4,5...|155.86497128692133|\n",
      "|2019-08-07 17:00:00|       142.0|        4|    17|      8|    7|  476|77.0|16093.0|289.0|217.0|10082.0|4.0|(263,[142],[1.0])|(273,[0,1,2,3,4,5...| 615.5089789773468|\n",
      "|2019-08-07 17:00:00|         3.0|        4|    17|      8|    7|    1|77.0|16093.0|289.0|217.0|10082.0|4.0|  (263,[3],[1.0])|(273,[0,1,2,3,4,5...| 92.54260111922247|\n",
      "|2019-08-07 17:00:00|       133.0|        4|    17|      8|    7|    1|77.0|16093.0|289.0|217.0|10082.0|4.0|(263,[133],[1.0])|(273,[0,1,2,3,4,5...| 99.28452793846316|\n",
      "|2019-08-07 17:00:00|       141.0|        4|    17|      8|    7|  350|77.0|16093.0|289.0|217.0|10082.0|4.0|(263,[141],[1.0])|(273,[0,1,2,3,4,5...| 522.8289777848225|\n",
      "|2019-08-07 17:00:00|        90.0|        4|    17|      8|    7|  234|77.0|16093.0|289.0|217.0|10082.0|4.0| (263,[90],[1.0])|(273,[0,1,2,3,4,5...| 472.8073326861057|\n",
      "|2019-08-07 17:00:00|       146.0|        4|    17|      8|    7|   26|77.0|16093.0|289.0|217.0|10082.0|4.0|(263,[146],[1.0])|(273,[0,1,2,3,4,5...| 132.0752125183168|\n",
      "|2019-08-07 17:00:00|       229.0|        4|    17|      8|    7|  290|77.0|16093.0|289.0|217.0|10082.0|4.0|(263,[229],[1.0])|(273,[0,1,2,3,4,5...| 497.4002193058244|\n",
      "|2019-08-07 17:00:00|       212.0|        4|    17|      8|    7|    2|77.0|16093.0|289.0|217.0|10082.0|4.0|(263,[212],[1.0])|(273,[0,1,2,3,4,5...| 99.11959727239298|\n",
      "|2019-08-07 17:00:00|       161.0|        4|    17|      8|    7|  578|77.0|16093.0|289.0|217.0|10082.0|4.0|(263,[161],[1.0])|(273,[0,1,2,3,4,5...|1058.4811071575837|\n",
      "|2019-08-07 17:00:00|       113.0|        4|    17|      8|    7|  193|77.0|16093.0|289.0|217.0|10082.0|4.0|(263,[113],[1.0])|(273,[0,1,2,3,4,5...| 426.7906882509966|\n",
      "|2019-08-07 17:00:00|        88.0|        4|    17|      8|    7|   67|77.0|16093.0|289.0|217.0|10082.0|4.0| (263,[88],[1.0])|(273,[0,1,2,3,4,5...|170.38242031264997|\n",
      "|2019-08-07 17:00:00|       144.0|        4|    17|      8|    7|  115|77.0|16093.0|289.0|217.0|10082.0|4.0|(263,[144],[1.0])|(273,[0,1,2,3,4,5...| 444.9490848625625|\n",
      "|2019-08-07 17:00:00|       203.0|        4|    17|      8|    7|    1|77.0|16093.0|289.0|217.0|10082.0|4.0|(263,[203],[1.0])|(273,[0,1,2,3,4,5...|  87.5924797708227|\n",
      "|2019-08-07 17:00:00|        41.0|        4|    17|      8|    7|  104|77.0|16093.0|289.0|217.0|10082.0|4.0| (263,[41],[1.0])|(273,[0,1,2,3,4,5...|309.09929842478743|\n",
      "|2019-08-07 17:00:00|       200.0|        4|    17|      8|    7|    1|77.0|16093.0|289.0|217.0|10082.0|4.0|(263,[200],[1.0])|(273,[0,1,2,3,4,5...| 89.40300807913479|\n",
      "|2019-08-07 17:00:00|       225.0|        4|    17|      8|    7|    4|77.0|16093.0|289.0|217.0|10082.0|4.0|(263,[225],[1.0])|(273,[0,1,2,3,4,5...|287.20320636122335|\n",
      "|2019-08-07 17:00:00|       186.0|        4|    17|      8|    7|  334|77.0|16093.0|289.0|217.0|10082.0|4.0|(263,[186],[1.0])|(273,[0,1,2,3,4,5...| 665.6573854222539|\n",
      "|2019-08-07 17:00:00|        18.0|        4|    17|      8|    7|    3|77.0|16093.0|289.0|217.0|10082.0|4.0| (263,[18],[1.0])|(273,[0,1,2,3,4,5...| 147.1062205279194|\n",
      "|2019-08-07 17:00:00|       151.0|        4|    17|      8|    7|  121|77.0|16093.0|289.0|217.0|10082.0|4.0|(263,[151],[1.0])|(273,[0,1,2,3,4,5...| 252.5062088260912|\n",
      "|2019-08-07 17:00:00|         9.0|        4|    17|      8|    7|    5|77.0|16093.0|289.0|217.0|10082.0|4.0|  (263,[9],[1.0])|(273,[0,1,2,3,4,5...| 70.20887159927804|\n",
      "|2019-08-07 17:00:00|       148.0|        4|    17|      8|    7|   60|77.0|16093.0|289.0|217.0|10082.0|4.0|(263,[148],[1.0])|(273,[0,1,2,3,4,5...| 742.4372107798853|\n",
      "|2019-08-07 17:00:00|       196.0|        4|    17|      8|    7|   14|77.0|16093.0|289.0|217.0|10082.0|4.0|(263,[196],[1.0])|(273,[0,1,2,3,4,5...|  108.786730108602|\n",
      "|2019-08-07 17:00:00|        82.0|        4|    17|      8|    7|   68|77.0|16093.0|289.0|217.0|10082.0|4.0| (263,[82],[1.0])|(273,[0,1,2,3,4,5...|239.61880715518794|\n",
      "|2019-08-07 17:00:00|       118.0|        4|    17|      8|    7|    4|77.0|16093.0|289.0|217.0|10082.0|4.0|(263,[118],[1.0])|(273,[0,1,2,3,4,5...|61.509768348264174|\n",
      "|2019-08-07 17:00:00|       165.0|        4|    17|      8|    7|    2|77.0|16093.0|289.0|217.0|10082.0|4.0|(263,[165],[1.0])|(273,[0,1,2,3,4,5...| 127.0221029060848|\n",
      "|2019-08-07 17:00:00|       247.0|        4|    17|      8|    7|    9|77.0|16093.0|289.0|217.0|10082.0|4.0|(263,[247],[1.0])|(273,[0,1,2,3,4,5...|180.18903860319608|\n",
      "|2019-08-07 17:00:00|        51.0|        4|    17|      8|    7|    2|77.0|16093.0|289.0|217.0|10082.0|4.0| (263,[51],[1.0])|(273,[0,1,2,3,4,5...| 123.1868962772154|\n",
      "|2019-08-07 17:00:00|        31.0|        4|    17|      8|    7|    2|77.0|16093.0|289.0|217.0|10082.0|4.0| (263,[31],[1.0])|(273,[0,1,2,3,4,5...| 66.99443033880209|\n",
      "|2019-08-07 17:00:00|        86.0|        4|    17|      8|    7|    3|77.0|16093.0|289.0|217.0|10082.0|4.0| (263,[86],[1.0])|(273,[0,1,2,3,4,5...| 78.25489827166086|\n",
      "|2019-08-07 17:00:00|       230.0|        4|    17|      8|    7|  461|77.0|16093.0|289.0|217.0|10082.0|4.0|(263,[230],[1.0])|(273,[0,1,2,3,4,5...| 753.0907119774582|\n",
      "|2019-08-07 17:00:00|       173.0|        4|    17|      8|    7|   10|77.0|16093.0|289.0|217.0|10082.0|4.0|(263,[173],[1.0])|(273,[0,1,2,3,4,5...|109.89640964014359|\n",
      "|2019-08-07 17:00:00|       236.0|        4|    17|      8|    7|  647|77.0|16093.0|289.0|217.0|10082.0|4.0|(263,[236],[1.0])|(273,[0,1,2,3,4,5...| 752.2837000815836|\n",
      "|2019-08-07 17:00:00|        93.0|        4|    17|      8|    7|    4|77.0|16093.0|289.0|217.0|10082.0|4.0| (263,[93],[1.0])|(273,[0,1,2,3,4,5...|138.02666201280078|\n",
      "|2019-08-07 17:00:00|        14.0|        4|    17|      8|    7|    7|77.0|16093.0|289.0|217.0|10082.0|4.0| (263,[14],[1.0])|(273,[0,1,2,3,4,5...|172.05642267756787|\n",
      "|2019-08-07 17:00:00|       123.0|        4|    17|      8|    7|    4|77.0|16093.0|289.0|217.0|10082.0|4.0|(263,[123],[1.0])|(273,[0,1,2,3,4,5...|111.77995247569277|\n",
      "|2019-08-07 17:00:00|        78.0|        4|    17|      8|    7|    5|77.0|16093.0|289.0|217.0|10082.0|4.0| (263,[78],[1.0])|(273,[0,1,2,3,4,5...|132.67053028528483|\n",
      "|2019-08-07 17:00:00|       130.0|        4|    17|      8|    7|   15|77.0|16093.0|289.0|217.0|10082.0|4.0|(263,[130],[1.0])|(273,[0,1,2,3,4,5...|183.81190367613874|\n",
      "|2019-08-07 17:00:00|       159.0|        4|    17|      8|    7|    4|77.0|16093.0|289.0|217.0|10082.0|4.0|(263,[159],[1.0])|(273,[0,1,2,3,4,5...|142.85178541072798|\n",
      "|2019-08-07 17:00:00|       192.0|        4|    17|      8|    7|    3|77.0|16093.0|289.0|217.0|10082.0|4.0|(263,[192],[1.0])|(273,[0,1,2,3,4,5...| 82.28282106032327|\n",
      "|2019-08-07 17:00:00|       145.0|        4|    17|      8|    7|   13|77.0|16093.0|289.0|217.0|10082.0|4.0|(263,[145],[1.0])|(273,[0,1,2,3,4,5...| 251.1646067231942|\n",
      "|2019-08-07 17:00:00|       259.0|        4|    17|      8|    7|    3|77.0|16093.0|289.0|217.0|10082.0|4.0|(263,[259],[1.0])|(273,[0,1,2,3,4,5...|112.25332770432203|\n",
      "|2019-08-07 17:00:00|       244.0|        4|    17|      8|    7|   48|77.0|16093.0|289.0|217.0|10082.0|4.0|(263,[244],[1.0])|(273,[0,1,2,3,4,5...|256.60037643423937|\n",
      "|2019-08-07 17:00:00|        29.0|        4|    17|      8|    7|    3|77.0|16093.0|289.0|217.0|10082.0|4.0| (263,[29],[1.0])|(273,[0,1,2,3,4,5...| 93.23062688448078|\n",
      "|2019-08-07 17:00:00|       106.0|        4|    17|      8|    7|    2|77.0|16093.0|289.0|217.0|10082.0|4.0|(263,[106],[1.0])|(273,[0,1,2,3,4,5...|119.03840199504282|\n",
      "|2019-08-07 17:00:00|       137.0|        4|    17|      8|    7|  158|77.0|16093.0|289.0|217.0|10082.0|4.0|(263,[137],[1.0])|(273,[0,1,2,3,4,5...| 399.0477033259334|\n",
      "|2019-08-07 17:00:00|        72.0|        4|    17|      8|    7|    2|77.0|16093.0|289.0|217.0|10082.0|4.0| (263,[72],[1.0])|(273,[0,1,2,3,4,5...| 188.8714561982125|\n",
      "|2019-08-07 17:00:00|       249.0|        4|    17|      8|    7|  178|77.0|16093.0|289.0|217.0|10082.0|4.0|(263,[249],[1.0])|(273,[0,1,2,3,4,5...|  573.695900774144|\n",
      "|2019-08-07 17:00:00|       100.0|        4|    17|      8|    7|  216|77.0|16093.0|289.0|217.0|10082.0|4.0|(263,[100],[1.0])|(273,[0,1,2,3,4,5...| 501.0258471333681|\n",
      "|2019-08-07 17:00:00|       163.0|        4|    17|      8|    7|  420|77.0|16093.0|289.0|217.0|10082.0|4.0|(263,[163],[1.0])|(273,[0,1,2,3,4,5...| 618.5170276269697|\n",
      "|2019-08-07 17:00:00|       239.0|        4|    17|      8|    7|  413|77.0|16093.0|289.0|217.0|10082.0|4.0|(263,[239],[1.0])|(273,[0,1,2,3,4,5...| 555.6597314755364|\n",
      "|2019-08-07 17:00:00|        42.0|        4|    17|      8|    7|   44|77.0|16093.0|289.0|217.0|10082.0|4.0| (263,[42],[1.0])|(273,[0,1,2,3,4,5...|308.90901387249016|\n",
      "|2019-08-07 17:00:00|        68.0|        4|    17|      8|    7|  294|77.0|16093.0|289.0|217.0|10082.0|4.0| (263,[68],[1.0])|(273,[0,1,2,3,4,5...| 599.1155783523085|\n",
      "|2019-08-07 17:00:00|        10.0|        4|    17|      8|    7|    2|77.0|16093.0|289.0|217.0|10082.0|4.0| (263,[10],[1.0])|(273,[0,1,2,3,4,5...|117.93575219513662|\n",
      "|2019-08-07 17:00:00|       108.0|        4|    17|      8|    7|    1|77.0|16093.0|289.0|217.0|10082.0|4.0|(263,[108],[1.0])|(273,[0,1,2,3,4,5...| 84.44095729503931|\n",
      "|2019-08-07 17:00:00|       174.0|        4|    17|      8|    7|    8|77.0|16093.0|289.0|217.0|10082.0|4.0|(263,[174],[1.0])|(273,[0,1,2,3,4,5...|127.48383745755643|\n",
      "|2019-08-07 17:00:00|        87.0|        4|    17|      8|    7|  103|77.0|16093.0|289.0|217.0|10082.0|4.0| (263,[87],[1.0])|(273,[0,1,2,3,4,5...|346.08829567860073|\n",
      "|2019-08-07 17:00:00|        17.0|        4|    17|      8|    7|   10|77.0|16093.0|289.0|217.0|10082.0|4.0| (263,[17],[1.0])|(273,[0,1,2,3,4,5...| 289.8523287356742|\n",
      "|2019-08-07 17:00:00|        52.0|        4|    17|      8|    7|   10|77.0|16093.0|289.0|217.0|10082.0|4.0| (263,[52],[1.0])|(273,[0,1,2,3,4,5...| 99.37764297672163|\n",
      "|2019-08-07 17:00:00|       189.0|        4|    17|      8|    7|    4|77.0|16093.0|289.0|217.0|10082.0|4.0|(263,[189],[1.0])|(273,[0,1,2,3,4,5...|158.47616779596444|\n",
      "|2019-08-07 17:00:00|        83.0|        4|    17|      8|    7|   10|77.0|16093.0|289.0|217.0|10082.0|4.0| (263,[83],[1.0])|(273,[0,1,2,3,4,5...|103.33769413081097|\n",
      "|2019-08-07 17:00:00|       217.0|        4|    17|      8|    7|    3|77.0|16093.0|289.0|217.0|10082.0|4.0|(263,[217],[1.0])|(273,[0,1,2,3,4,5...| 86.18393079710279|\n",
      "|2019-08-07 17:00:00|        16.0|        4|    17|      8|    7|    5|77.0|16093.0|289.0|217.0|10082.0|4.0| (263,[16],[1.0])|(273,[0,1,2,3,4,5...| 98.59249505737796|\n",
      "|2019-08-07 17:00:00|       119.0|        4|    17|      8|    7|    3|77.0|16093.0|289.0|217.0|10082.0|4.0|(263,[119],[1.0])|(273,[0,1,2,3,4,5...|  133.588896553454|\n",
      "|2019-08-07 17:00:00|        22.0|        4|    17|      8|    7|    3|77.0|16093.0|289.0|217.0|10082.0|4.0| (263,[22],[1.0])|(273,[0,1,2,3,4,5...|123.65214074112043|\n",
      "|2019-08-07 17:00:00|        91.0|        4|    17|      8|    7|    1|77.0|16093.0|289.0|217.0|10082.0|4.0| (263,[91],[1.0])|(273,[0,1,2,3,4,5...|174.06287797947027|\n",
      "|2019-08-07 17:00:00|        94.0|        4|    17|      8|    7|    1|77.0|16093.0|289.0|217.0|10082.0|4.0| (263,[94],[1.0])|(273,[0,1,2,3,4,5...| 88.27383465067612|\n",
      "|2019-08-07 17:00:00|       261.0|        4|    17|      8|    7|   74|77.0|16093.0|289.0|217.0|10082.0|4.0|(263,[261],[1.0])|(273,[0,1,2,3,4,5...| 231.2240329474829|\n",
      "|2019-08-07 17:00:00|       147.0|        4|    17|      8|    7|    1|77.0|16093.0|289.0|217.0|10082.0|4.0|(263,[147],[1.0])|(273,[0,1,2,3,4,5...| 102.7950445743478|\n",
      "|2019-08-07 17:00:00|        49.0|        4|    17|      8|    7|   17|77.0|16093.0|289.0|217.0|10082.0|4.0| (263,[49],[1.0])|(273,[0,1,2,3,4,5...|251.13250679555028|\n",
      "|2019-08-07 17:00:00|        95.0|        4|    17|      8|    7|   54|77.0|16093.0|289.0|217.0|10082.0|4.0| (263,[95],[1.0])|(273,[0,1,2,3,4,5...|203.56845407404114|\n",
      "|2019-08-07 17:00:00|       256.0|        4|    17|      8|    7|    7|77.0|16093.0|289.0|217.0|10082.0|4.0|(263,[256],[1.0])|(273,[0,1,2,3,4,5...|341.52801844204635|\n",
      "|2019-08-07 17:00:00|       116.0|        4|    17|      8|    7|   14|77.0|16093.0|289.0|217.0|10082.0|4.0|(263,[116],[1.0])|(273,[0,1,2,3,4,5...|189.36994720059727|\n",
      "|2019-08-07 17:00:00|       248.0|        4|    17|      8|    7|    1|77.0|16093.0|289.0|217.0|10082.0|4.0|(263,[248],[1.0])|(273,[0,1,2,3,4,5...|101.20047553875054|\n",
      "|2019-08-07 17:00:00|       252.0|        4|    17|      8|    7|    2|77.0|16093.0|289.0|217.0|10082.0|4.0|(263,[252],[1.0])|(273,[0,1,2,3,4,5...| 73.92481381491837|\n",
      "|2019-08-07 17:00:00|        28.0|        4|    17|      8|    7|    3|77.0|16093.0|289.0|217.0|10082.0|4.0| (263,[28],[1.0])|(273,[0,1,2,3,4,5...| 97.80282426098722|\n",
      "|2019-08-07 17:00:00|       233.0|        4|    17|      8|    7|  301|77.0|16093.0|289.0|217.0|10082.0|4.0|(263,[233],[1.0])|(273,[0,1,2,3,4,5...| 442.5886722011368|\n",
      "|2019-08-07 17:00:00|        21.0|        4|    17|      8|    7|    1|77.0|16093.0|289.0|217.0|10082.0|4.0| (263,[21],[1.0])|(273,[0,1,2,3,4,5...|111.82306689844597|\n",
      "|2019-08-07 17:00:00|       218.0|        4|    17|      8|    7|    3|77.0|16093.0|289.0|217.0|10082.0|4.0|(263,[218],[1.0])|(273,[0,1,2,3,4,5...| 94.68236491047094|\n",
      "|2019-08-07 17:00:00|        80.0|        4|    17|      8|    7|    1|77.0|16093.0|289.0|217.0|10082.0|4.0| (263,[80],[1.0])|(273,[0,1,2,3,4,5...|338.11676447631055|\n",
      "|2019-08-07 17:00:00|        76.0|        4|    17|      8|    7|    6|77.0|16093.0|289.0|217.0|10082.0|4.0| (263,[76],[1.0])|(273,[0,1,2,3,4,5...| 273.7146815396244|\n",
      "|2019-08-07 17:00:00|        62.0|        4|    17|      8|    7|    1|77.0|16093.0|289.0|217.0|10082.0|4.0| (263,[62],[1.0])|(273,[0,1,2,3,4,5...|151.15592290981442|\n",
      "|2019-08-07 17:00:00|       167.0|        4|    17|      8|    7|    4|77.0|16093.0|289.0|217.0|10082.0|4.0|(263,[167],[1.0])|(273,[0,1,2,3,4,5...| 134.7978365845887|\n",
      "|2019-08-07 17:00:00|        40.0|        4|    17|      8|    7|   10|77.0|16093.0|289.0|217.0|10082.0|4.0| (263,[40],[1.0])|(273,[0,1,2,3,4,5...|137.13543740775606|\n",
      "|2019-08-07 17:00:00|        74.0|        4|    17|      8|    7|  135|77.0|16093.0|289.0|217.0|10082.0|4.0| (263,[74],[1.0])|(273,[0,1,2,3,4,5...|339.79599009240167|\n",
      "|2019-08-07 17:00:00|        97.0|        4|    17|      8|    7|   42|77.0|16093.0|289.0|217.0|10082.0|4.0| (263,[97],[1.0])|(273,[0,1,2,3,4,5...|280.90827821690016|\n",
      "|2019-08-07 17:00:00|        48.0|        4|    17|      8|    7|  351|77.0|16093.0|289.0|217.0|10082.0|4.0| (263,[48],[1.0])|(273,[0,1,2,3,4,5...| 779.0573372010261|\n",
      "|2019-08-07 17:00:00|       216.0|        4|    17|      8|    7|    5|77.0|16093.0|289.0|217.0|10082.0|4.0|(263,[216],[1.0])|(273,[0,1,2,3,4,5...| 159.9283797966176|\n",
      "|2019-08-07 17:00:00|       143.0|        4|    17|      8|    7|  160|77.0|16093.0|289.0|217.0|10082.0|4.0|(263,[143],[1.0])|(273,[0,1,2,3,4,5...|345.68948726949463|\n",
      "|2019-08-07 17:00:00|       107.0|        4|    17|      8|    7|  352|77.0|16093.0|289.0|217.0|10082.0|4.0|(263,[107],[1.0])|(273,[0,1,2,3,4,5...| 595.5477730885206|\n",
      "|2019-08-07 17:00:00|        45.0|        4|    17|      8|    7|   20|77.0|16093.0|289.0|217.0|10082.0|4.0| (263,[45],[1.0])|(273,[0,1,2,3,4,5...|144.84218326739062|\n",
      "|2019-08-07 17:00:00|       179.0|        4|    17|      8|    7|   16|77.0|16093.0|289.0|217.0|10082.0|4.0|(263,[179],[1.0])|(273,[0,1,2,3,4,5...| 146.7961739701999|\n",
      "|2019-08-07 17:00:00|        69.0|        4|    17|      8|    7|    4|77.0|16093.0|289.0|217.0|10082.0|4.0| (263,[69],[1.0])|(273,[0,1,2,3,4,5...|172.08862422970662|\n",
      "|2019-08-07 17:00:00|       227.0|        4|    17|      8|    7|    1|77.0|16093.0|289.0|217.0|10082.0|4.0|(263,[227],[1.0])|(273,[0,1,2,3,4,5...| 101.9853654324744|\n",
      "|2019-08-07 17:00:00|       206.0|        4|    17|      8|    7|    8|77.0|16093.0|289.0|217.0|10082.0|4.0|(263,[206],[1.0])|(273,[0,1,2,3,4,5...| 86.42143079392702|\n",
      "|2019-08-07 17:00:00|        92.0|        4|    17|      8|    7|   22|77.0|16093.0|289.0|217.0|10082.0|4.0| (263,[92],[1.0])|(273,[0,1,2,3,4,5...|166.57555425900966|\n",
      "|2019-08-07 17:00:00|       221.0|        4|    17|      8|    7|    9|77.0|16093.0|289.0|217.0|10082.0|4.0|(263,[221],[1.0])|(273,[0,1,2,3,4,5...| 78.25635442289615|\n",
      "|2019-08-07 17:00:00|         6.0|        4|    17|      8|    7|    2|77.0|16093.0|289.0|217.0|10082.0|4.0|  (263,[6],[1.0])|(273,[0,1,2,3,4,5...|60.381584969021446|\n",
      "|2019-08-07 17:00:00|        35.0|        4|    17|      8|    7|    2|77.0|16093.0|289.0|217.0|10082.0|4.0| (263,[35],[1.0])|(273,[0,1,2,3,4,5...|185.44213290185587|\n",
      "|2019-08-07 17:00:00|        15.0|        4|    17|      8|    7|    2|77.0|16093.0|289.0|217.0|10082.0|4.0| (263,[15],[1.0])|(273,[0,1,2,3,4,5...| 65.73151382596336|\n",
      "|2019-08-07 17:00:00|       209.0|        4|    17|      8|    7|   20|77.0|16093.0|289.0|217.0|10082.0|4.0|(263,[209],[1.0])|(273,[0,1,2,3,4,5...|125.82091804398522|\n",
      "|2019-08-07 17:00:00|         7.0|        4|    17|      8|    7|   66|77.0|16093.0|289.0|217.0|10082.0|4.0|  (263,[7],[1.0])|(273,[0,1,2,3,4,5...| 357.3748813461526|\n",
      "|2019-08-07 17:00:00|       132.0|        4|    17|      8|    7|  436|77.0|16093.0|289.0|217.0|10082.0|4.0|(263,[132],[1.0])|(273,[0,1,2,3,4,5...| 762.6386233715897|\n",
      "|2019-08-07 17:00:00|       226.0|        4|    17|      8|    7|   22|77.0|16093.0|289.0|217.0|10082.0|4.0|(263,[226],[1.0])|(273,[0,1,2,3,4,5...|209.61119066494678|\n",
      "|2019-08-07 17:00:00|       193.0|        4|    17|      8|    7|   12|77.0|16093.0|289.0|217.0|10082.0|4.0|(263,[193],[1.0])|(273,[0,1,2,3,4,5...| 89.90566289171682|\n",
      "|2019-08-07 17:00:00|       181.0|        4|    17|      8|    7|   39|77.0|16093.0|289.0|217.0|10082.0|4.0|(263,[181],[1.0])|(273,[0,1,2,3,4,5...| 376.1846744524338|\n",
      "|2019-08-07 17:00:00|        50.0|        4|    17|      8|    7|   95|77.0|16093.0|289.0|217.0|10082.0|4.0| (263,[50],[1.0])|(273,[0,1,2,3,4,5...| 318.5854111847269|\n",
      "|2019-08-07 17:00:00|       242.0|        4|    17|      8|    7|   16|77.0|16093.0|289.0|217.0|10082.0|4.0|(263,[242],[1.0])|(273,[0,1,2,3,4,5...|130.16750763392963|\n",
      "|2019-08-07 17:00:00|       170.0|        4|    17|      8|    7|  491|77.0|16093.0|289.0|217.0|10082.0|4.0|(263,[170],[1.0])|(273,[0,1,2,3,4,5...|  769.787183330328|\n",
      "|2019-08-07 17:00:00|       260.0|        4|    17|      8|    7|   35|77.0|16093.0|289.0|217.0|10082.0|4.0|(263,[260],[1.0])|(273,[0,1,2,3,4,5...|165.36505276092282|\n",
      "|2019-08-07 17:00:00|        66.0|        4|    17|      8|    7|   31|77.0|16093.0|289.0|217.0|10082.0|4.0| (263,[66],[1.0])|(273,[0,1,2,3,4,5...|206.30759809928088|\n",
      "|2019-08-07 17:00:00|       114.0|        4|    17|      8|    7|  117|77.0|16093.0|289.0|217.0|10082.0|4.0|(263,[114],[1.0])|(273,[0,1,2,3,4,5...| 458.2341329178224|\n",
      "|2019-08-07 17:00:00|       243.0|        4|    17|      8|    7|    6|77.0|16093.0|289.0|217.0|10082.0|4.0|(263,[243],[1.0])|(273,[0,1,2,3,4,5...| 197.2879616210604|\n",
      "|2019-08-07 17:00:00|       197.0|        4|    17|      8|    7|    3|77.0|16093.0|289.0|217.0|10082.0|4.0|(263,[197],[1.0])|(273,[0,1,2,3,4,5...|133.19974950557128|\n",
      "|2019-08-07 17:00:00|       156.0|        4|    17|      8|    7|    4|77.0|16093.0|289.0|217.0|10082.0|4.0|(263,[156],[1.0])|(273,[0,1,2,3,4,5...| 74.40599143214206|\n",
      "|2019-08-07 17:00:00|       135.0|        4|    17|      8|    7|    2|77.0|16093.0|289.0|217.0|10082.0|4.0|(263,[135],[1.0])|(273,[0,1,2,3,4,5...|  93.0994087097655|\n",
      "|2019-08-07 17:00:00|       232.0|        4|    17|      8|    7|    8|77.0|16093.0|289.0|217.0|10082.0|4.0|(263,[232],[1.0])|(273,[0,1,2,3,4,5...|209.93042564636642|\n",
      "|2019-08-07 17:00:00|       241.0|        4|    17|      8|    7|    1|77.0|16093.0|289.0|217.0|10082.0|4.0|(263,[241],[1.0])|(273,[0,1,2,3,4,5...|128.90793590847386|\n",
      "|2019-08-07 17:00:00|       195.0|        4|    17|      8|    7|    1|77.0|16093.0|289.0|217.0|10082.0|4.0|(263,[195],[1.0])|(273,[0,1,2,3,4,5...|117.42739416705479|\n",
      "|2019-08-07 17:00:00|       140.0|        4|    17|      8|    7|  314|77.0|16093.0|289.0|217.0|10082.0|4.0|(263,[140],[1.0])|(273,[0,1,2,3,4,5...|475.86865935149456|\n",
      "|2019-08-07 17:00:00|       160.0|        4|    17|      8|    7|    3|77.0|16093.0|289.0|217.0|10082.0|4.0|(263,[160],[1.0])|(273,[0,1,2,3,4,5...|  98.2100417549874|\n",
      "|2019-08-07 17:00:00|        57.0|        4|    17|      8|    7|    1|77.0|16093.0|289.0|217.0|10082.0|4.0| (263,[57],[1.0])|(273,[0,1,2,3,4,5...| 64.38893307204842|\n",
      "|2019-08-07 17:00:00|       237.0|        4|    17|      8|    7|  760|77.0|16093.0|289.0|217.0|10082.0|4.0|(263,[237],[1.0])|(273,[0,1,2,3,4,5...| 857.1696916681725|\n",
      "|2019-08-07 17:00:00|       162.0|        4|    17|      8|    7|  713|77.0|16093.0|289.0|217.0|10082.0|4.0|(263,[162],[1.0])|(273,[0,1,2,3,4,5...|  818.733230195712|\n",
      "|2019-08-07 17:00:00|       171.0|        4|    17|      8|    7|   10|77.0|16093.0|289.0|217.0|10082.0|4.0|(263,[171],[1.0])|(273,[0,1,2,3,4,5...| 94.15782480558448|\n",
      "|2019-08-07 17:00:00|       211.0|        4|    17|      8|    7|   94|77.0|16093.0|289.0|217.0|10082.0|4.0|(263,[211],[1.0])|(273,[0,1,2,3,4,5...| 319.9082486970136|\n",
      "|2019-08-07 17:00:00|       187.0|        4|    17|      8|    7|    5|77.0|16093.0|289.0|217.0|10082.0|4.0|(263,[187],[1.0])|(273,[0,1,2,3,4,5...| 67.27843667220839|\n",
      "|2019-08-07 17:00:00|       138.0|        4|    17|      8|    7|  281|77.0|16093.0|289.0|217.0|10082.0|4.0|(263,[138],[1.0])|(273,[0,1,2,3,4,5...| 882.0288760717475|\n",
      "|2019-08-07 17:00:00|        34.0|        4|    17|      8|    7|    1|77.0|16093.0|289.0|217.0|10082.0|4.0| (263,[34],[1.0])|(273,[0,1,2,3,4,5...| 66.59331040419568|\n",
      "|2019-08-07 17:00:00|       177.0|        4|    17|      8|    7|    1|77.0|16093.0|289.0|217.0|10082.0|4.0|(263,[177],[1.0])|(273,[0,1,2,3,4,5...|159.39439180209263|\n",
      "|2019-08-07 17:00:00|        77.0|        4|    17|      8|    7|    2|77.0|16093.0|289.0|217.0|10082.0|4.0| (263,[77],[1.0])|(273,[0,1,2,3,4,5...| 118.4572140658305|\n",
      "|2019-08-07 17:00:00|        43.0|        4|    17|      8|    7|  334|77.0|16093.0|289.0|217.0|10082.0|4.0| (263,[43],[1.0])|(273,[0,1,2,3,4,5...| 395.9674618682915|\n",
      "|2019-08-07 17:00:00|       254.0|        4|    17|      8|    7|    1|77.0|16093.0|289.0|217.0|10082.0|4.0|(263,[254],[1.0])|(273,[0,1,2,3,4,5...|141.37653987038254|\n",
      "|2019-08-07 17:00:00|        70.0|        4|    17|      8|    7|    6|77.0|16093.0|289.0|217.0|10082.0|4.0| (263,[70],[1.0])|(273,[0,1,2,3,4,5...|109.87142777128827|\n",
      "|2019-08-07 17:00:00|       213.0|        4|    17|      8|    7|    4|77.0|16093.0|289.0|217.0|10082.0|4.0|(263,[213],[1.0])|(273,[0,1,2,3,4,5...|145.61779518341734|\n",
      "|2019-08-07 17:00:00|       210.0|        4|    17|      8|    7|    4|77.0|16093.0|289.0|217.0|10082.0|4.0|(263,[210],[1.0])|(273,[0,1,2,3,4,5...|121.65263737026532|\n",
      "|2019-08-07 17:00:00|       185.0|        4|    17|      8|    7|    4|77.0|16093.0|289.0|217.0|10082.0|4.0|(263,[185],[1.0])|(273,[0,1,2,3,4,5...|   108.07390700189|\n",
      "|2019-08-07 17:00:00|       255.0|        4|    17|      8|    7|   13|77.0|16093.0|289.0|217.0|10082.0|4.0|(263,[255],[1.0])|(273,[0,1,2,3,4,5...|   478.95167837257|\n",
      "|2019-08-07 17:00:00|       214.0|        4|    17|      8|    7|    1|77.0|16093.0|289.0|217.0|10082.0|4.0|(263,[214],[1.0])|(273,[0,1,2,3,4,5...| 61.84259655316316|\n",
      "|2019-08-07 17:00:00|       129.0|        4|    17|      8|    7|   42|77.0|16093.0|289.0|217.0|10082.0|4.0|(263,[129],[1.0])|(273,[0,1,2,3,4,5...| 245.7672314889711|\n",
      "|2019-08-07 17:00:00|       250.0|        4|    17|      8|    7|    2|77.0|16093.0|289.0|217.0|10082.0|4.0|(263,[250],[1.0])|(273,[0,1,2,3,4,5...| 97.16774130667193|\n",
      "|2019-08-07 17:00:00|        39.0|        4|    17|      8|    7|    2|77.0|16093.0|289.0|217.0|10082.0|4.0| (263,[39],[1.0])|(273,[0,1,2,3,4,5...|239.40667536460194|\n",
      "|2019-08-07 17:00:00|        36.0|        4|    17|      8|    7|    3|77.0|16093.0|289.0|217.0|10082.0|4.0| (263,[36],[1.0])|(273,[0,1,2,3,4,5...| 303.7088382608241|\n",
      "|2019-08-07 17:00:00|       188.0|        4|    17|      8|    7|   11|77.0|16093.0|289.0|217.0|10082.0|4.0|(263,[188],[1.0])|(273,[0,1,2,3,4,5...|244.20552168379425|\n",
      "|2019-08-07 17:00:00|       234.0|        4|    17|      8|    7|  458|77.0|16093.0|289.0|217.0|10082.0|4.0|(263,[234],[1.0])|(273,[0,1,2,3,4,5...| 836.8360332708111|\n",
      "|2019-08-07 17:00:00|        55.0|        4|    17|      8|    7|    2|77.0|16093.0|289.0|217.0|10082.0|4.0| (263,[55],[1.0])|(273,[0,1,2,3,4,5...| 114.3340120999818|\n",
      "|2019-08-07 17:00:00|       164.0|        4|    17|      8|    7|  286|77.0|16093.0|289.0|217.0|10082.0|4.0|(263,[164],[1.0])|(273,[0,1,2,3,4,5...| 638.9178180230155|\n",
      "|2019-08-07 17:00:00|        37.0|        4|    17|      8|    7|    5|77.0|16093.0|289.0|217.0|10082.0|4.0| (263,[37],[1.0])|(273,[0,1,2,3,4,5...| 343.3565644136494|\n",
      "|2019-08-07 17:00:00|       139.0|        4|    17|      8|    7|    1|77.0|16093.0|289.0|217.0|10082.0|4.0|(263,[139],[1.0])|(273,[0,1,2,3,4,5...| 85.27740914559388|\n",
      "|2019-08-07 17:00:00|        89.0|        4|    17|      8|    7|    6|77.0|16093.0|289.0|217.0|10082.0|4.0| (263,[89],[1.0])|(273,[0,1,2,3,4,5...|245.04579954253416|\n",
      "|2019-08-07 17:00:00|        12.0|        4|    17|      8|    7|    7|77.0|16093.0|289.0|217.0|10082.0|4.0| (263,[12],[1.0])|(273,[0,1,2,3,4,5...|62.060041772330464|\n",
      "|2019-08-07 17:00:00|       124.0|        4|    17|      8|    7|    1|77.0|16093.0|289.0|217.0|10082.0|4.0|(263,[124],[1.0])|(273,[0,1,2,3,4,5...| 77.01947130573524|\n",
      "|2019-08-07 17:00:00|        25.0|        4|    17|      8|    7|   25|77.0|16093.0|289.0|217.0|10082.0|4.0| (263,[25],[1.0])|(273,[0,1,2,3,4,5...|233.88947785736434|\n",
      "|2019-08-07 17:00:00|       176.0|        4|    17|      8|    7|    1|77.0|16093.0|289.0|217.0|10082.0|4.0|(263,[176],[1.0])|(273,[0,1,2,3,4,5...|56.465137602461596|\n",
      "|2019-08-07 17:00:00|        65.0|        4|    17|      8|    7|   57|77.0|16093.0|289.0|217.0|10082.0|4.0| (263,[65],[1.0])|(273,[0,1,2,3,4,5...|223.57957448014565|\n",
      "|2019-08-07 17:00:00|       158.0|        4|    17|      8|    7|   97|77.0|16093.0|289.0|217.0|10082.0|4.0|(263,[158],[1.0])|(273,[0,1,2,3,4,5...| 393.2639936595839|\n",
      "|2019-08-07 17:00:00|       169.0|        4|    17|      8|    7|    8|77.0|16093.0|289.0|217.0|10082.0|4.0|(263,[169],[1.0])|(273,[0,1,2,3,4,5...| 154.5013911264217|\n",
      "|2019-08-07 17:00:00|        63.0|        4|    17|      8|    7|    3|77.0|16093.0|289.0|217.0|10082.0|4.0| (263,[63],[1.0])|(273,[0,1,2,3,4,5...|124.16497902974595|\n",
      "|2019-08-07 17:00:00|       235.0|        4|    17|      8|    7|    3|77.0|16093.0|289.0|217.0|10082.0|4.0|(263,[235],[1.0])|(273,[0,1,2,3,4,5...|154.27158660468956|\n",
      "|2019-08-07 17:00:00|       157.0|        4|    17|      8|    7|    3|77.0|16093.0|289.0|217.0|10082.0|4.0|(263,[157],[1.0])|(273,[0,1,2,3,4,5...|113.30994654762969|\n",
      "|2019-08-07 17:00:00|        23.0|        4|    17|      8|    7|    2|77.0|16093.0|289.0|217.0|10082.0|4.0| (263,[23],[1.0])|(273,[0,1,2,3,4,5...|  73.8721508636387|\n",
      "|2019-08-07 17:00:00|       246.0|        4|    17|      8|    7|  189|77.0|16093.0|289.0|217.0|10082.0|4.0|(263,[246],[1.0])|(273,[0,1,2,3,4,5...| 535.5511992507271|\n",
      "+-------------------+------------+---------+------+-------+-----+-----+----+-------+-----+-----+-------+---+-----------------+--------------------+------------------+\n",
      "\n"
     ]
    },
    {
     "name": "stderr",
     "output_type": "stream",
     "text": [
      "                                                                                \r"
     ]
    }
   ],
   "source": [
    "lm_predictions = lm.transform(testing_sdf)\n",
    "lm_predictions.filter(F.col('dt_truncated') =='2019-08-07 17:00:00').drop('pickup_datetime').dropDuplicates().show(2700)#show(5)"
   ]
  },
  {
   "cell_type": "code",
   "execution_count": 26,
   "metadata": {},
   "outputs": [
    {
     "name": "stdout",
     "output_type": "stream",
     "text": [
      "+-------------------+------------+----+-------+-----+----+-------+---+-------+---------+-----+------+---------------+--------------------+\n",
      "|       dt_truncated|PULocationID| wnd|    vis|  tmp| dew|    atm| cc|PUMonth|PUWeekday|PUDay|PUHour|   location_vec|            features|\n",
      "+-------------------+------------+----+-------+-----+----+-------+---+-------+---------+-----+------+---------------+--------------------+\n",
      "|2019-08-07 17:00:00|           1|46.0|16093.0|161.0|78.0|10110.0|2.0|      8|        4|    7|    17|(263,[1],[1.0])|(273,[0,1,2,3,4,5...|\n",
      "|2019-08-07 17:00:00|           2|46.0|16093.0|161.0|78.0|10110.0|2.0|      8|        4|    7|    17|(263,[2],[1.0])|(273,[0,1,2,3,4,5...|\n",
      "|2019-08-07 17:00:00|           3|46.0|16093.0|161.0|78.0|10110.0|2.0|      8|        4|    7|    17|(263,[3],[1.0])|(273,[0,1,2,3,4,5...|\n",
      "|2019-08-07 17:00:00|           4|46.0|16093.0|161.0|78.0|10110.0|2.0|      8|        4|    7|    17|(263,[4],[1.0])|(273,[0,1,2,3,4,5...|\n",
      "|2019-08-07 17:00:00|           5|46.0|16093.0|161.0|78.0|10110.0|2.0|      8|        4|    7|    17|(263,[5],[1.0])|(273,[0,1,2,3,4,5...|\n",
      "+-------------------+------------+----+-------+-----+----+-------+---+-------+---------+-----+------+---------------+--------------------+\n",
      "only showing top 5 rows\n",
      "\n"
     ]
    }
   ],
   "source": [
    "# create a dataframe where dt_truncated = '2019-08-07 17:00:00', weather data is from the actual frame and contains every zone from 1 to 263\n",
    "columns = ['dt_truncated', 'PULocationID', 'wnd', 'vis', 'tmp',\n",
    "           'dew', 'atm', 'cc', 'PUMonth', 'PUWeekday', 'PUDay', 'PUHour']\n",
    "data = [('2019-08-07 17:00:00', x, 46.0, 16093.0, 161.0,\n",
    "         78.0, 10110.0, 2.0,  8, 4, 7, 17) for x in range(1, 264)]\n",
    "\n",
    "rdd = spark.sparkContext.parallelize(data)\n",
    "visualisation_sdf = rdd.toDF(columns)\n",
    "\n",
    "visualisation_sdf = onehotencoder.transform(visualisation_sdf)\n",
    "visualisation_sdf = assembler.transform(visualisation_sdf)\n",
    "#visualisation_sdf = scalerModel.transform(visualisation_sdf)\n",
    "visualisation_sdf.show(5)"
   ]
  },
  {
   "cell_type": "code",
   "execution_count": 27,
   "metadata": {},
   "outputs": [],
   "source": [
    "predicted = lm.transform(visualisation_sdf).select(\n",
    "    'PULocationID', 'prediction')\n",
    "# predicted.sort('PULocationID')\n",
    "# predicted.join(testing_sdf.drop('pickup_datetime').dropDuplicates(), on='PULocationID', how='fullouter')\\\n",
    "#     .filter(F.col('dt_truncated') == '2019-08-07 17:00:00').sort('PULocationID')\n",
    "t_df = testing_sdf.filter(F.col('dt_truncated') == '2019-08-07 17:00:00').select('PULocationID', 'count').dropDuplicates().sort('PULocationID').toPandas()\n",
    "pred_df = predicted.toPandas()"
   ]
  },
  {
   "cell_type": "code",
   "execution_count": 28,
   "metadata": {},
   "outputs": [],
   "source": [
    "result = []\n",
    "for prediction in pred_df.values.tolist():\n",
    "    for actual in t_df.values.tolist():\n",
    "        if prediction[0] == actual[0]:\n",
    "            result.append([int(prediction[0]), int(actual[1]), prediction[1],  prediction[1] - int(actual[1])])\n",
    "            break\n",
    "    else:\n",
    "        result.append([int(prediction[0]), 0, prediction[1], prediction[1]])\n",
    "\n",
    "if not os.path.exists('../data/curated/visualisation/'):\n",
    "    os.makedirs('../data/curated/visualisation/')\n",
    "pd.DataFrame(result, columns=['PULocationID', 'actual', 'predicted', 'diff'])\\\n",
    "    .to_csv('../data/curated/visualisation/2019august.csv', index=False)\n"
   ]
  }
 ],
 "metadata": {
  "kernelspec": {
   "display_name": "Python 3.8.10 ('adsenv': venv)",
   "language": "python",
   "name": "python3"
  },
  "language_info": {
   "codemirror_mode": {
    "name": "ipython",
    "version": 3
   },
   "file_extension": ".py",
   "mimetype": "text/x-python",
   "name": "python",
   "nbconvert_exporter": "python",
   "pygments_lexer": "ipython3",
   "version": "3.8.10"
  },
  "orig_nbformat": 4,
  "vscode": {
   "interpreter": {
    "hash": "c5863b7319be0ba8d88ed95044dcfd002e9d5d183ede3cf6092c3150097f8482"
   }
  }
 },
 "nbformat": 4,
 "nbformat_minor": 2
}
