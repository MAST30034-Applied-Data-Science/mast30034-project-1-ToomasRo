{
 "cells": [
  {
   "cell_type": "code",
   "execution_count": 3,
   "metadata": {},
   "outputs": [
    {
     "name": "stdout",
     "output_type": "stream",
     "text": [
      "22/08/23 23:09:02 WARN Utils: Your hostname, DESKTOP-L9KIK4G resolves to a loopback address: 127.0.1.1; using 172.17.255.189 instead (on interface eth0)\n",
      "22/08/23 23:09:02 WARN Utils: Set SPARK_LOCAL_IP if you need to bind to another address\n"
     ]
    },
    {
     "name": "stderr",
     "output_type": "stream",
     "text": [
      "Setting default log level to \"WARN\".\n",
      "To adjust logging level use sc.setLogLevel(newLevel). For SparkR, use setLogLevel(newLevel).\n"
     ]
    },
    {
     "name": "stdout",
     "output_type": "stream",
     "text": [
      "22/08/23 23:09:05 WARN NativeCodeLoader: Unable to load native-hadoop library for your platform... using builtin-java classes where applicable\n"
     ]
    }
   ],
   "source": [
    "# Sample connection\n",
    "from pyspark.sql import SparkSession\n",
    "from pyspark.sql import functions as F\n",
    "\n",
    "# Create a spark session (which will run spark jobs)\n",
    "spark = (\n",
    "    SparkSession.builder.appName(\"Cleaning connection\")\n",
    "    .config(\"spark.sql.repl.eagerEval.enabled\", True) \n",
    "    .config(\"spark.sql.parquet.cacheMetadata\", \"true\")\n",
    "    .config(\"spark.sql.session.timeZone\", \"Etc/UTC\")\n",
    "    .config(\"spark.driver.memory\", \"4g\")\n",
    "    .config(\"spark.executor.memory\", \"8g\")\n",
    "    .getOrCreate()\n",
    ")"
   ]
  },
  {
   "cell_type": "code",
   "execution_count": 4,
   "metadata": {},
   "outputs": [],
   "source": [
    "from statsmodels.formula.api import ols, glm\n",
    "# VectorAssembler creates new vectors from existing columns\n",
    "from pyspark.ml.feature import VectorAssembler, OneHotEncoder, MinMaxScaler, StandardScaler\n",
    "from pyspark.ml.linalg import Vectors\n",
    "\n",
    "from pyspark.ml.regression import LinearRegression\n",
    "\n",
    "import pandas as pd\n",
    "import numpy as np\n",
    "import os"
   ]
  },
  {
   "cell_type": "code",
   "execution_count": 3,
   "metadata": {},
   "outputs": [
    {
     "name": "stderr",
     "output_type": "stream",
     "text": [
      "                                                                                \r"
     ]
    }
   ],
   "source": [
    "sdf = spark.read.parquet('../data/curated/final3/clean_dataset.parquet/')"
   ]
  },
  {
   "cell_type": "markdown",
   "metadata": {},
   "source": [
    "# Setting apart test set"
   ]
  },
  {
   "cell_type": "code",
   "execution_count": 4,
   "metadata": {},
   "outputs": [
    {
     "name": "stderr",
     "output_type": "stream",
     "text": [
      "                                                                                \r"
     ]
    },
    {
     "name": "stdout",
     "output_type": "stream",
     "text": [
      "22/08/23 15:05:31 WARN package: Truncated the string representation of a plan since it was too large. This behavior can be adjusted by setting 'spark.sql.debug.maxToStringFields'.\n"
     ]
    },
    {
     "name": "stderr",
     "output_type": "stream",
     "text": [
      "                                                                                \r"
     ]
    }
   ],
   "source": [
    "# set aside 15 days from 2019 to do our testing\n",
    "# code: https://stackoverflow.com/questions/553303/generate-a-random-date-between-two-other-dates\n",
    "import random\n",
    "import time\n",
    "\n",
    "\n",
    "def str_time_prop(start, end, time_format, prop):\n",
    "    stime = time.mktime(time.strptime(start, time_format))\n",
    "    etime = time.mktime(time.strptime(end, time_format))\n",
    "\n",
    "    ptime = stime + prop * (etime - stime)\n",
    "\n",
    "    return time.strftime(time_format, time.localtime(ptime))\n",
    "\n",
    "\n",
    "def random_date(start, end, prop):\n",
    "    return str_time_prop(start, end, '%Y-%m-%d %H', prop) + ':00:00'\n",
    "\n",
    "\n",
    "random.seed(42)\n",
    "test_dates = [[random_date(\n",
    "    \"2019-06-01 00\", \"2019-08-31 23\", random.random())] for x in range(15)]\n",
    "\n",
    "test_dates_df = spark.createDataFrame(test_dates, [\"temp_date\"]).select(F.col(\"temp_date\"), F.to_timestamp(\n",
    "    F.col(\"temp_date\"), 'yyyy-MM-dd HH:mm:ss').alias(\"dt_truncated\")).select(F.col('dt_truncated'))\n",
    "\n",
    "test_dates_df.join(sdf, on=['dt_truncated'], how='left') \\\n",
    "    .dropDuplicates()\\\n",
    "    .write.mode('overwrite').parquet('../data/temp/test_set/test_data.parquet')\n",
    "\n",
    "testing_sdf = spark.read.parquet('../data/temp/test_set/test_data.parquet')\n",
    "\n",
    "# remove those lines from the fitting dataset\n",
    "sdf.subtract(testing_sdf.select('pickup_datetime', 'PULocationID', 'PUWeekday', 'PUHour', 'PUMonth', 'PUDay', 'dt_truncated',\n",
    "             'count', 'wnd', 'vis', 'tmp', 'dew', 'atm', 'cc')).write.mode('overwrite').parquet('../data/temp/train_set/train.parquet')\n"
   ]
  },
  {
   "cell_type": "markdown",
   "metadata": {},
   "source": [
    "# Normalising and one-hot-encoding the data"
   ]
  },
  {
   "cell_type": "code",
   "execution_count": 5,
   "metadata": {},
   "outputs": [
    {
     "name": "stderr",
     "output_type": "stream",
     "text": [
      "                                                                                \r"
     ]
    }
   ],
   "source": [
    "testing_sdf = spark.read.parquet('../data/temp/test_set/test_data.parquet')\n",
    "train_sdf = spark.read.parquet('../data/temp/train_set/train.parquet')\n"
   ]
  },
  {
   "cell_type": "code",
   "execution_count": 8,
   "metadata": {},
   "outputs": [
    {
     "name": "stderr",
     "output_type": "stream",
     "text": [
      "                                                                                \r"
     ]
    }
   ],
   "source": [
    "onehotencoder = OneHotEncoder(\n",
    "    inputCol='PULocationID',\n",
    "    outputCol='location_vec'\n",
    "    ).fit(train_sdf)\n",
    "\n",
    "ohedata = onehotencoder.transform(train_sdf)\n",
    "\n",
    "assembler = VectorAssembler(\n",
    "    inputCols=['wnd', 'vis', 'tmp', 'dew', 'atm', 'cc', 'PUMonth', 'PUWeekday', 'PUDay', 'PUHour', 'location_vec'],\n",
    "    outputCol='features')\n",
    "model_sdf = assembler.transform(ohedata)"
   ]
  },
  {
   "cell_type": "markdown",
   "metadata": {},
   "source": [
    "# Linear regression model"
   ]
  },
  {
   "cell_type": "code",
   "execution_count": 8,
   "metadata": {},
   "outputs": [
    {
     "name": "stdout",
     "output_type": "stream",
     "text": [
      "22/08/23 23:22:36 WARN Instrumentation: [20ee7fb3] regParam is zero, which might cause numerical instability and overfitting.\n"
     ]
    },
    {
     "name": "stderr",
     "output_type": "stream",
     "text": [
      "                                                                                \r"
     ]
    },
    {
     "name": "stdout",
     "output_type": "stream",
     "text": [
      "22/08/23 23:27:14 WARN Instrumentation: [20ee7fb3] Cholesky solver failed due to singular covariance matrix. Retrying with Quasi-Newton solver.\n"
     ]
    },
    {
     "name": "stderr",
     "output_type": "stream",
     "text": [
      "                                                                                \r"
     ]
    }
   ],
   "source": [
    "lm = LinearRegression(\n",
    "    featuresCol='features', \n",
    "    labelCol='count'\n",
    ").fit(model_sdf)"
   ]
  },
  {
   "cell_type": "markdown",
   "metadata": {},
   "source": [
    "## Evaluating model"
   ]
  },
  {
   "cell_type": "code",
   "execution_count": 10,
   "metadata": {},
   "outputs": [
    {
     "name": "stdout",
     "output_type": "stream",
     "text": [
      "Coefficients: [0.771335496661076,0.0008228327484714628,0.24462086561840457,0.22231060776358233,0.12321608654876544,-3.7328739072383066e-06,-19.75822799243469,5.66030876405436,-0.10046171951679403,7.779693129873268,-366.87404027199926,-373.3265026922854,-374.2643020095876,-330.47467208518356,-216.51635380135156,-361.30468616961343,-362.6356882353874,-65.64239185827785,-377.0575494182391,-352.80840160513975,-305.08152100927504,-347.0523018371192,-360.9572314320881,-83.60149742410707,-250.96085052685336,-357.28575937846574,-324.42477814704296,-133.1649444687472,-275.91105267648965,-351.195706624482,-314.48301910805156,-311.1942063059656,-299.36513246329207,-349.14512234077563,-292.4321829853374,-189.1277953470736,-245.9476292530262,-384.90272533683697,-325.214448943428,-329.7866463199278,-370.3781416879677,-356.0228428656065,-321.59971265903295,-192.81603165349506,-356.4239628002264,-237.5751403025544,-119.30843494359854,-79.6607087907716,-346.60554024503165,-183.61059783980707,-285.8818357966873,-113.91797477965599,-114.10825933193757,-27.049811336161675,-365.62860573958494,-278.17508993704536,-383.67688153150624,-303.57822923319776,356.0400639965735,-171.88476640887984,-104.43186201971773,-299.83037692719125,-323.6396302277225,-341.02988972914784,-354.3982429630564,-308.683261104421,-297.8638189148786,-358.62834013237705,-361.4553072017875,-373.7178671102106,-324.4843068880803,27.467561208025728,-271.86135029460326,-298.8522941746581,-361.3262417203224,-199.4376987242897,-216.7096751051537,-333.2499271672113,176.09830514785511,-250.92864897470338,-313.14584543313384,-264.9273171983133,-234.1458170061958,-345.68278159377155,-83.22128311204013,-82.00342542109877,-149.3025916647857,-304.56005913857655,-290.34674291912415,474.8215488748365,-84.90050872811689,-312.54480736797035,-183.3984660492432,-319.6795790736089,-357.0874551921895,-300.4541847935601,-344.7623749327464,-76.92897752585154,-252.6348528917995,-177.97147366188312,49.7900594816489,-248.95439522494038,-256.4417189454136,-284.9906111916306,-334.74343855372894,-219.4488191303948,-368.76889560926963,-142.10899498753568,-350.4649188930242,-368.03152783128945,78.00857392891639,-355.41016124159,-321.4399233464415,0.0,-456.71368207370523,-393.1990502252625,-303.9788712093937,172.53049988406212,-338.57631590937234,-360.31072584815735,-379.2870143222387,-372.87778142019624,-109.6772443603254,3.7734150465375627,35.21685971336242,-348.7270948551713,-233.64732600382996,-345.26178907889886,-361.50750485615805,-289.4283766509529,-359.9879270278937,-329.81891384567206,-343.1418830665976,-311.2373207287287,-345.9978018986733,-186.18058898176818,-310.31277141981803,-276.08006189849317,-373.773227795957,-177.25004171545677,-239.2053695282843,-341.7490442120651,339.6213501671421,-323.7327452659505,-324.5824288862767,-329.91786449464837,-314.4080278313814,-23.969569878519685,459.0116028672998,-337.73986405881186,52.85138614704255,99.81170458036651,192.49170577288527,-77.32778593495455,21.931811658108515,-171.8526664812352,-290.9420606861087,-320.2222286300564,319.4199375754378,-320.13402957570145,-338.5237735074551,-170.51106437835543,-295.2081141829701,-363.16162729441226,-376.9830647609758,-301.959734297238,-348.61128177227107,-309.7073266567884,-29.753279544873326,-280.16548779368316,-324.8072314494315,635.4638339531285,395.7159569912516,195.49975442250943,215.9005448185613,-295.9951702983303,-166.90646707498965,-288.21943661981754,-262.26137364283665,-268.51588207798596,346.7699101258723,-328.8594483988334,-366.53459274694006,-313.12086356428046,-295.53343574685306,-350.59534897904854,-366.5521356019464,-263.62288140232005,-342.590911634833,-276.22109923422187,-341.114469222739,-46.83259875200697,-316.2818570155666,-349.94418993288144,-374.00887050882966,-314.9433662025225,242.64011221780115,-355.73883653220895,-178.8117515206214,-264.5411054084679,-349.05488187351534,-317.5646672982624,-340.73445214408486,-333.1116103127064,-370.2252932775564,-305.589879037371,-314.230543095825,-289.8175236988363,-230.6403055089414,-374.7267976323791,-333.61426512528186,-357.95007666255117,-357.23149329229904,-335.42479343358065,-366.6291591638765,-298.80800471952966,-336.59584241049254,-379.0253333186458,-311.4368446743257,-297.1963551604644,-301.36463583415235,-103.10902450744135,-323.89767593201395,-277.3994780209887,-361.1746766512468,-310.27311139232506,-263.08889340778853,-336.833342407313,-328.33490829393514,-331.15086755855145,-297.81255136008735,-344.760918781509,-336.5440662548427,-217.9960646010798,-239.864483398848,-135.81406684319478,-213.40608253948062,-321.03190777193623,-267.15230191749885,74.38294610136475,330.07343877299945,160.14099460906692,-213.08684755806786,19.57139899668255,413.8187600663517,-268.745686599716,329.26642687712496,434.15241846371237,37.618246413483206,132.6424582710805,-353.7516067494846,-294.1093372959355,-292.84976557048384,-225.7293115833546,-166.41689677018826,-350.1378581636726,112.53392604627122,-242.8282346012236,-321.8167976656546,150.67862756968222,-325.84953189773375,-358.5097710541584,-349.0924593895092,-349.6116722692583,-281.6407333340203,55.934405168129466,-81.48925476238769,-330.65387142312125,-305.5534988356905,-310.7639455000855,-257.6522204435065,-191.79324025696414,-54.37675969086068]\n",
      "Intercept: -1006.9457714486408\n",
      "numIterations: 17\n",
      "objectiveHistory: [0.4999999999999998, 0.2553503139553086, 0.20813191847902013, 0.2073699205728421, 0.2072892368082735, 0.20720467599614478, 0.2071978423962464, 0.20719552272483455, 0.20719268416393066, 0.20718073915014923, 0.20716650550998694, 0.20716167271175157, 0.2071560306146445, 0.20715528935882843, 0.20715527232645492, 0.20715527214594576, 0.20715527212711948, 0.2071552721148644]\n",
      "RMSE: 226.657606\n",
      "151.839453657333\n",
      "r2: 0.585689\n"
     ]
    }
   ],
   "source": [
    "print(\"Coefficients: \" + str(lm.coefficients))\n",
    "print(\"Intercept: \" + str(lm.intercept))\n",
    "trainingSummary = lm.summary\n",
    "print(\"numIterations: %d\" % trainingSummary.totalIterations)\n",
    "print(\"objectiveHistory: %s\" % str(trainingSummary.objectiveHistory))\n",
    "# print(trainingSummary.residuals.count())\n",
    "print(\"RMSE: %f\" % trainingSummary.rootMeanSquaredError)\n",
    "print(trainingSummary.meanAbsoluteError)\n",
    "print(\"r2: %f\" % trainingSummary.r2) "
   ]
  },
  {
   "cell_type": "code",
   "execution_count": 19,
   "metadata": {},
   "outputs": [
    {
     "name": "stderr",
     "output_type": "stream",
     "text": [
      "                                                                                \r"
     ]
    },
    {
     "data": {
      "text/html": [
       "<div>\n",
       "<style scoped>\n",
       "    .dataframe tbody tr th:only-of-type {\n",
       "        vertical-align: middle;\n",
       "    }\n",
       "\n",
       "    .dataframe tbody tr th {\n",
       "        vertical-align: top;\n",
       "    }\n",
       "\n",
       "    .dataframe thead th {\n",
       "        text-align: right;\n",
       "    }\n",
       "</style>\n",
       "<table border=\"1\" class=\"dataframe\">\n",
       "  <thead>\n",
       "    <tr style=\"text-align: right;\">\n",
       "      <th></th>\n",
       "      <th>PUHour</th>\n",
       "      <th>count</th>\n",
       "      <th>prediction</th>\n",
       "      <th>error</th>\n",
       "    </tr>\n",
       "  </thead>\n",
       "  <tbody>\n",
       "    <tr>\n",
       "      <th>0</th>\n",
       "      <td>21</td>\n",
       "      <td>825</td>\n",
       "      <td>639.732659</td>\n",
       "      <td>185.267341</td>\n",
       "    </tr>\n",
       "    <tr>\n",
       "      <th>1</th>\n",
       "      <td>10</td>\n",
       "      <td>387</td>\n",
       "      <td>405.081197</td>\n",
       "      <td>18.081197</td>\n",
       "    </tr>\n",
       "    <tr>\n",
       "      <th>2</th>\n",
       "      <td>0</td>\n",
       "      <td>121</td>\n",
       "      <td>74.113266</td>\n",
       "      <td>46.886734</td>\n",
       "    </tr>\n",
       "    <tr>\n",
       "      <th>3</th>\n",
       "      <td>8</td>\n",
       "      <td>948</td>\n",
       "      <td>664.810168</td>\n",
       "      <td>283.189832</td>\n",
       "    </tr>\n",
       "    <tr>\n",
       "      <th>4</th>\n",
       "      <td>16</td>\n",
       "      <td>1209</td>\n",
       "      <td>839.140939</td>\n",
       "      <td>369.859061</td>\n",
       "    </tr>\n",
       "    <tr>\n",
       "      <th>...</th>\n",
       "      <td>...</td>\n",
       "      <td>...</td>\n",
       "      <td>...</td>\n",
       "      <td>...</td>\n",
       "    </tr>\n",
       "    <tr>\n",
       "      <th>1032604</th>\n",
       "      <td>8</td>\n",
       "      <td>29</td>\n",
       "      <td>140.459502</td>\n",
       "      <td>111.459502</td>\n",
       "    </tr>\n",
       "    <tr>\n",
       "      <th>1032605</th>\n",
       "      <td>12</td>\n",
       "      <td>71</td>\n",
       "      <td>49.961541</td>\n",
       "      <td>21.038459</td>\n",
       "    </tr>\n",
       "    <tr>\n",
       "      <th>1032606</th>\n",
       "      <td>16</td>\n",
       "      <td>7</td>\n",
       "      <td>83.460807</td>\n",
       "      <td>76.460807</td>\n",
       "    </tr>\n",
       "    <tr>\n",
       "      <th>1032607</th>\n",
       "      <td>2</td>\n",
       "      <td>28</td>\n",
       "      <td>-44.552285</td>\n",
       "      <td>72.552285</td>\n",
       "    </tr>\n",
       "    <tr>\n",
       "      <th>1032608</th>\n",
       "      <td>20</td>\n",
       "      <td>62</td>\n",
       "      <td>248.249239</td>\n",
       "      <td>186.249239</td>\n",
       "    </tr>\n",
       "  </tbody>\n",
       "</table>\n",
       "<p>1032609 rows × 4 columns</p>\n",
       "</div>"
      ],
      "text/plain": [
       "         PUHour  count  prediction       error\n",
       "0            21    825  639.732659  185.267341\n",
       "1            10    387  405.081197   18.081197\n",
       "2             0    121   74.113266   46.886734\n",
       "3             8    948  664.810168  283.189832\n",
       "4            16   1209  839.140939  369.859061\n",
       "...         ...    ...         ...         ...\n",
       "1032604       8     29  140.459502  111.459502\n",
       "1032605      12     71   49.961541   21.038459\n",
       "1032606      16      7   83.460807   76.460807\n",
       "1032607       2     28  -44.552285   72.552285\n",
       "1032608      20     62  248.249239  186.249239\n",
       "\n",
       "[1032609 rows x 4 columns]"
      ]
     },
     "execution_count": 19,
     "metadata": {},
     "output_type": "execute_result"
    }
   ],
   "source": [
    "error_rate_df = lm.transform(model_sdf.sample(0.05, 42))\\\n",
    "    .drop('pickup_datetime').dropDuplicates() \\\n",
    "    .select('PUHour', 'count', 'prediction') \\\n",
    "    .withColumn('error', F.abs(F.col('prediction') - F.col('count'))) \\\n",
    "    .toPandas()\n",
    "\n",
    "error_rate_df"
   ]
  },
  {
   "cell_type": "code",
   "execution_count": 21,
   "metadata": {},
   "outputs": [
    {
     "data": {
      "text/html": [
       "<div>\n",
       "<style scoped>\n",
       "    .dataframe tbody tr th:only-of-type {\n",
       "        vertical-align: middle;\n",
       "    }\n",
       "\n",
       "    .dataframe tbody tr th {\n",
       "        vertical-align: top;\n",
       "    }\n",
       "\n",
       "    .dataframe thead th {\n",
       "        text-align: right;\n",
       "    }\n",
       "</style>\n",
       "<table border=\"1\" class=\"dataframe\">\n",
       "  <thead>\n",
       "    <tr style=\"text-align: right;\">\n",
       "      <th></th>\n",
       "      <th>PUHour</th>\n",
       "      <th>count</th>\n",
       "      <th>prediction</th>\n",
       "      <th>error</th>\n",
       "    </tr>\n",
       "  </thead>\n",
       "  <tbody>\n",
       "    <tr>\n",
       "      <th>1032604</th>\n",
       "      <td>8</td>\n",
       "      <td>29</td>\n",
       "      <td>140.459502</td>\n",
       "      <td>111.459502</td>\n",
       "    </tr>\n",
       "    <tr>\n",
       "      <th>1032605</th>\n",
       "      <td>12</td>\n",
       "      <td>71</td>\n",
       "      <td>49.961541</td>\n",
       "      <td>21.038459</td>\n",
       "    </tr>\n",
       "    <tr>\n",
       "      <th>1032606</th>\n",
       "      <td>16</td>\n",
       "      <td>7</td>\n",
       "      <td>83.460807</td>\n",
       "      <td>76.460807</td>\n",
       "    </tr>\n",
       "    <tr>\n",
       "      <th>1032607</th>\n",
       "      <td>2</td>\n",
       "      <td>28</td>\n",
       "      <td>-44.552285</td>\n",
       "      <td>72.552285</td>\n",
       "    </tr>\n",
       "    <tr>\n",
       "      <th>1032608</th>\n",
       "      <td>20</td>\n",
       "      <td>62</td>\n",
       "      <td>248.249239</td>\n",
       "      <td>186.249239</td>\n",
       "    </tr>\n",
       "  </tbody>\n",
       "</table>\n",
       "</div>"
      ],
      "text/plain": [
       "         PUHour  count  prediction       error\n",
       "1032604       8     29  140.459502  111.459502\n",
       "1032605      12     71   49.961541   21.038459\n",
       "1032606      16      7   83.460807   76.460807\n",
       "1032607       2     28  -44.552285   72.552285\n",
       "1032608      20     62  248.249239  186.249239"
      ]
     },
     "execution_count": 21,
     "metadata": {},
     "output_type": "execute_result"
    }
   ],
   "source": [
    "error_rate_df.tail(5)"
   ]
  },
  {
   "cell_type": "code",
   "execution_count": 25,
   "metadata": {},
   "outputs": [
    {
     "data": {
      "image/png": "[encoded data removed]",
      "text/plain": [
       "<Figure size 432x288 with 1 Axes>"
      ]
     },
     "metadata": {
      "needs_background": "light"
     },
     "output_type": "display_data"
    }
   ],
   "source": [
    "import seaborn as sns\n",
    "import matplotlib.pyplot as plt\n",
    "plt.rcParams['savefig.dpi'] = 400\n",
    "sns.boxplot(x=\"PUHour\", y=\"error\", data=error_rate_df, palette=\"Set3\")\n",
    "\n",
    "plt.xlabel('Pickup time (h)', fontsize=16)\n",
    "plt.ylabel('Absolute Error', fontsize=16)\n",
    "plt.title('Error of model 1 predictions against time', fontsize=18)\n",
    "\n",
    "plt.savefig('../plots/model1_error_hour.jpeg')\n"
   ]
  },
  {
   "cell_type": "code",
   "execution_count": 24,
   "metadata": {},
   "outputs": [
    {
     "name": "stderr",
     "output_type": "stream",
     "text": [
      "[Stage 48:>                                                        (0 + 4) / 20]\r"
     ]
    },
    {
     "name": "stdout",
     "output_type": "stream",
     "text": [
      "22/08/23 15:55:30 ERROR TaskSetManager: Total size of serialized results of 16 tasks (1083.3 MiB) is bigger than spark.driver.maxResultSize (1024.0 MiB)\n",
      "22/08/23 15:55:30 WARN TaskSetManager: Lost task 15.0 in stage 47.0 (TID 418) (172.30.17.251 executor driver): TaskKilled (Tasks result size has exceeded maxResultSize)\n",
      "22/08/23 15:55:30 WARN TaskSetManager: Lost task 19.0 in stage 47.0 (TID 422) (172.30.17.251 executor driver): TaskKilled (Stage cancelled)\n",
      "22/08/23 15:55:30 WARN TaskSetManager: Lost task 18.0 in stage 47.0 (TID 421) (172.30.17.251 executor driver): TaskKilled (Stage cancelled)\n",
      "22/08/23 15:55:30 WARN TaskSetManager: Lost task 16.0 in stage 47.0 (TID 419) (172.30.17.251 executor driver): TaskKilled (Stage cancelled)\n",
      "22/08/23 15:55:30 WARN TaskSetManager: Lost task 17.0 in stage 47.0 (TID 420) (172.30.17.251 executor driver): TaskKilled (Stage cancelled)\n"
     ]
    },
    {
     "name": "stderr",
     "output_type": "stream",
     "text": [
      "                                                                                \r"
     ]
    }
   ],
   "source": [
    "residuals = trainingSummary.residuals.sample(0.05, 42).toPandas()"
   ]
  },
  {
   "cell_type": "code",
   "execution_count": 29,
   "metadata": {},
   "outputs": [
    {
     "data": {
      "image/png": "[encoded data removed]",
      "text/plain": [
       "<Figure size 432x288 with 1 Axes>"
      ]
     },
     "metadata": {
      "needs_background": "light"
     },
     "output_type": "display_data"
    }
   ],
   "source": [
    "import matplotlib.pyplot as plt\n",
    "\n",
    "plt.hist(residuals, bins=100)\n",
    "plt.show()\n"
   ]
  },
  {
   "cell_type": "markdown",
   "metadata": {},
   "source": [
    "# Linear reg v2"
   ]
  },
  {
   "cell_type": "code",
   "execution_count": 6,
   "metadata": {},
   "outputs": [
    {
     "name": "stderr",
     "output_type": "stream",
     "text": [
      "                                                                                \r"
     ]
    }
   ],
   "source": [
    "# print('fitting OHE')\n",
    "onehotencoder = OneHotEncoder(\n",
    "    inputCol='PULocationID',\n",
    "    outputCol='location_vec'\n",
    ").fit(train_sdf)\n",
    "\n",
    "# print('one hot encoding')\n",
    "onehotdata = onehotencoder.transform(train_sdf)\n",
    "\n",
    "assembler = VectorAssembler(\n",
    "    inputCols=['wnd', 'vis', 'tmp', 'dew', 'atm', 'cc', 'PUMonth',\n",
    "               'PUWeekday', 'PUDay', 'PUHour', 'location_vec'],\n",
    "    outputCol='features'\n",
    "    )\n",
    "\n",
    "# print('assembling')\n",
    "assembled_sdf = assembler.transform(onehotdata)\n",
    "\n",
    "scaler = StandardScaler(\n",
    "    inputCol='features',\n",
    "    outputCol='scaledFeatures'\n",
    ")\n",
    "# print('fitting scaler')\n",
    "scalerModel = scaler.fit(\n",
    "    assembled_sdf.select(\"features\")\n",
    ")        # TODO important variable\n",
    "\n",
    "# print('scaling')\n",
    "model_sdf = scalerModel.transform(assembled_sdf)"
   ]
  },
  {
   "cell_type": "code",
   "execution_count": null,
   "metadata": {},
   "outputs": [],
   "source": [
    "sampled_model_sdf = model_sdf.sample(withReplacement=False, fraction=0.05, seed=42).toPandas()"
   ]
  },
  {
   "cell_type": "code",
   "execution_count": null,
   "metadata": {},
   "outputs": [],
   "source": [
    "fit = ols(\n",
    "    formula=\"count ~ wnd + tmp + dew + PUMonth + PUWeekday + PUHour + PULocationID\",\n",
    "    #formula=\"count ~ wnd + vis + tmp + dew + atm + cc + PUMonth + PUWeekday + PUDay + PUHour + PULocationID\",\n",
    "    data=\n",
    ").fit()\n",
    "fit.summary()"
   ]
  },
  {
   "cell_type": "markdown",
   "metadata": {},
   "source": [
    "## Visualising errors"
   ]
  },
  {
   "cell_type": "code",
   "execution_count": null,
   "metadata": {},
   "outputs": [],
   "source": [
    "lm.columns"
   ]
  },
  {
   "cell_type": "code",
   "execution_count": null,
   "metadata": {},
   "outputs": [],
   "source": []
  },
  {
   "cell_type": "code",
   "execution_count": null,
   "metadata": {},
   "outputs": [],
   "source": []
  },
  {
   "cell_type": "markdown",
   "metadata": {},
   "source": [
    "# Predicting\n",
    "the pickup numbers per zone for those 15 hours we picked out earlier"
   ]
  },
  {
   "cell_type": "code",
   "execution_count": 41,
   "metadata": {},
   "outputs": [],
   "source": [
    "testing_sdf = spark.read.parquet('../data/temp/test_set/test_data.parquet')"
   ]
  },
  {
   "cell_type": "code",
   "execution_count": 44,
   "metadata": {},
   "outputs": [
    {
     "name": "stdout",
     "output_type": "stream",
     "text": [
      "+-------------------+-------------------+------------+---------+------+-------+-----+-----+----+-------+-----+----+-------+---+-----------------+--------------------+--------------------+\n",
      "|       dt_truncated|    pickup_datetime|PULocationID|PUWeekday|PUHour|PUMonth|PUDay|count| wnd|    vis|  tmp| dew|    atm| cc|     location_vec|            features|      scaledFeatures|\n",
      "+-------------------+-------------------+------------+---------+------+-------+-----+-----+----+-------+-----+----+-------+---+-----------------+--------------------+--------------------+\n",
      "|2019-06-03 10:00:00|2019-06-03 10:33:30|       198.0|        2|    10|      6|    3|   16|46.0|16093.0|161.0|78.0|10110.0|2.0|(263,[198],[1.0])|(273,[0,1,2,3,4,5...|(273,[0,1,2,3,4,5...|\n",
      "|2019-06-03 10:00:00|2019-06-03 10:21:30|       196.0|        2|    10|      6|    3|   14|46.0|16093.0|161.0|78.0|10110.0|2.0|(263,[196],[1.0])|(273,[0,1,2,3,4,5...|(273,[0,1,2,3,4,5...|\n",
      "|2019-06-03 10:00:00|2019-06-03 10:10:51|       238.0|        2|    10|      6|    3|  273|46.0|16093.0|161.0|78.0|10110.0|2.0|(263,[238],[1.0])|(273,[0,1,2,3,4,5...|(273,[0,1,2,3,4,5...|\n",
      "|2019-06-03 10:00:00|2019-06-03 10:08:32|       132.0|        2|    10|      6|    3|  338|46.0|16093.0|161.0|78.0|10110.0|2.0|(263,[132],[1.0])|(273,[0,1,2,3,4,5...|(273,[0,1,2,3,4,5...|\n",
      "|2019-06-03 10:00:00|2019-06-03 10:38:25|       132.0|        2|    10|      6|    3|  338|46.0|16093.0|161.0|78.0|10110.0|2.0|(263,[132],[1.0])|(273,[0,1,2,3,4,5...|(273,[0,1,2,3,4,5...|\n",
      "+-------------------+-------------------+------------+---------+------+-------+-----+-----+----+-------+-----+----+-------+---+-----------------+--------------------+--------------------+\n",
      "only showing top 5 rows\n",
      "\n"
     ]
    }
   ],
   "source": [
    "testing_sdf = onehotencoder.transform(testing_sdf)\n",
    "testing_sdf = assembler.transform(testing_sdf)\n",
    "testing_sdf = scalerModel.transform(testing_sdf)\n",
    "testing_sdf.show(5)\n"
   ]
  },
  {
   "cell_type": "code",
   "execution_count": 52,
   "metadata": {},
   "outputs": [
    {
     "name": "stdout",
     "output_type": "stream",
     "text": [
      "+-------------------+------------+---------+------+-------+-----+-----+----+-------+-----+-----+-------+---+-----------------+--------------------+--------------------+------------------+\n",
      "|       dt_truncated|PULocationID|PUWeekday|PUHour|PUMonth|PUDay|count| wnd|    vis|  tmp|  dew|    atm| cc|     location_vec|            features|      scaledFeatures|        prediction|\n",
      "+-------------------+------------+---------+------+-------+-----+-----+----+-------+-----+-----+-------+---+-----------------+--------------------+--------------------+------------------+\n",
      "|2019-08-07 17:00:00|        73.0|        4|    17|      8|    7|    6|77.0|16093.0|289.0|217.0|10082.0|4.0| (263,[73],[1.0])|(273,[0,1,2,3,4,5...|(273,[0,1,2,3,4,5...| 77.33449161115789|\n",
      "|2019-08-07 17:00:00|       143.0|        4|    17|      8|    7|  160|77.0|16093.0|289.0|217.0|10082.0|4.0|(263,[143],[1.0])|(273,[0,1,2,3,4,5...|(273,[0,1,2,3,4,5...| 345.6894872699837|\n",
      "|2019-08-07 17:00:00|       174.0|        4|    17|      8|    7|    8|77.0|16093.0|289.0|217.0|10082.0|4.0|(263,[174],[1.0])|(273,[0,1,2,3,4,5...|(273,[0,1,2,3,4,5...| 127.4838374580803|\n",
      "|2019-08-07 17:00:00|        78.0|        4|    17|      8|    7|    5|77.0|16093.0|289.0|217.0|10082.0|4.0| (263,[78],[1.0])|(273,[0,1,2,3,4,5...|(273,[0,1,2,3,4,5...|132.67053028580915|\n",
      "|2019-08-07 17:00:00|        88.0|        4|    17|      8|    7|   67|77.0|16093.0|289.0|217.0|10082.0|4.0| (263,[88],[1.0])|(273,[0,1,2,3,4,5...|(273,[0,1,2,3,4,5...|170.38242031313814|\n",
      "|2019-08-07 17:00:00|       137.0|        4|    17|      8|    7|  158|77.0|16093.0|289.0|217.0|10082.0|4.0|(263,[137],[1.0])|(273,[0,1,2,3,4,5...|(273,[0,1,2,3,4,5...| 399.0477033264209|\n",
      "|2019-08-07 17:00:00|       192.0|        4|    17|      8|    7|    3|77.0|16093.0|289.0|217.0|10082.0|4.0|(263,[192],[1.0])|(273,[0,1,2,3,4,5...|(273,[0,1,2,3,4,5...| 82.28282106084555|\n",
      "|2019-08-07 17:00:00|        87.0|        4|    17|      8|    7|  103|77.0|16093.0|289.0|217.0|10082.0|4.0| (263,[87],[1.0])|(273,[0,1,2,3,4,5...|(273,[0,1,2,3,4,5...|346.08829567909095|\n",
      "|2019-08-07 17:00:00|       185.0|        4|    17|      8|    7|    4|77.0|16093.0|289.0|217.0|10082.0|4.0|(263,[185],[1.0])|(273,[0,1,2,3,4,5...|(273,[0,1,2,3,4,5...|108.07390700241137|\n",
      "|2019-08-07 17:00:00|       216.0|        4|    17|      8|    7|    5|77.0|16093.0|289.0|217.0|10082.0|4.0|(263,[216],[1.0])|(273,[0,1,2,3,4,5...|(273,[0,1,2,3,4,5...|159.92837979714307|\n",
      "|2019-08-07 17:00:00|       261.0|        4|    17|      8|    7|   74|77.0|16093.0|289.0|217.0|10082.0|4.0|(263,[261],[1.0])|(273,[0,1,2,3,4,5...|(273,[0,1,2,3,4,5...|231.22403294797516|\n",
      "|2019-08-07 17:00:00|        37.0|        4|    17|      8|    7|    5|77.0|16093.0|289.0|217.0|10082.0|4.0| (263,[37],[1.0])|(273,[0,1,2,3,4,5...|(273,[0,1,2,3,4,5...|343.35656441416484|\n",
      "|2019-08-07 17:00:00|        91.0|        4|    17|      8|    7|    1|77.0|16093.0|289.0|217.0|10082.0|4.0| (263,[91],[1.0])|(273,[0,1,2,3,4,5...|(273,[0,1,2,3,4,5...|174.06287797999278|\n",
      "|2019-08-07 17:00:00|        71.0|        4|    17|      8|    7|    1|77.0|16093.0|289.0|217.0|10082.0|4.0| (263,[71],[1.0])|(273,[0,1,2,3,4,5...|(273,[0,1,2,3,4,5...|158.08995600661967|\n",
      "|2019-08-07 17:00:00|       116.0|        4|    17|      8|    7|   14|77.0|16093.0|289.0|217.0|10082.0|4.0|(263,[116],[1.0])|(273,[0,1,2,3,4,5...|(273,[0,1,2,3,4,5...| 189.3699472011025|\n",
      "|2019-08-07 17:00:00|        94.0|        4|    17|      8|    7|    1|77.0|16093.0|289.0|217.0|10082.0|4.0| (263,[94],[1.0])|(273,[0,1,2,3,4,5...|(273,[0,1,2,3,4,5...| 88.27383465120363|\n",
      "|2019-08-07 17:00:00|       171.0|        4|    17|      8|    7|   10|77.0|16093.0|289.0|217.0|10082.0|4.0|(263,[171],[1.0])|(273,[0,1,2,3,4,5...|(273,[0,1,2,3,4,5...| 94.15782480609562|\n",
      "|2019-08-07 17:00:00|       231.0|        4|    17|      8|    7|  179|77.0|16093.0|289.0|217.0|10082.0|4.0|(263,[231],[1.0])|(273,[0,1,2,3,4,5...|(273,[0,1,2,3,4,5...| 583.1582678140113|\n",
      "|2019-08-07 17:00:00|        55.0|        4|    17|      8|    7|    2|77.0|16093.0|289.0|217.0|10082.0|4.0| (263,[55],[1.0])|(273,[0,1,2,3,4,5...|(273,[0,1,2,3,4,5...|114.33401210051227|\n",
      "|2019-08-07 17:00:00|       255.0|        4|    17|      8|    7|   13|77.0|16093.0|289.0|217.0|10082.0|4.0|(263,[255],[1.0])|(273,[0,1,2,3,4,5...|(273,[0,1,2,3,4,5...|478.95167837306974|\n",
      "|2019-08-07 17:00:00|       124.0|        4|    17|      8|    7|    1|77.0|16093.0|289.0|217.0|10082.0|4.0|(263,[124],[1.0])|(273,[0,1,2,3,4,5...|(273,[0,1,2,3,4,5...| 77.01947130625751|\n",
      "|2019-08-07 17:00:00|       145.0|        4|    17|      8|    7|   13|77.0|16093.0|289.0|217.0|10082.0|4.0|(263,[145],[1.0])|(273,[0,1,2,3,4,5...|(273,[0,1,2,3,4,5...|251.16460672370306|\n",
      "|2019-08-07 17:00:00|       176.0|        4|    17|      8|    7|    1|77.0|16093.0|289.0|217.0|10082.0|4.0|(263,[176],[1.0])|(273,[0,1,2,3,4,5...|(273,[0,1,2,3,4,5...|56.465137602987966|\n",
      "|2019-08-07 17:00:00|       239.0|        4|    17|      8|    7|  413|77.0|16093.0|289.0|217.0|10082.0|4.0|(263,[239],[1.0])|(273,[0,1,2,3,4,5...|(273,[0,1,2,3,4,5...| 555.6597314760226|\n",
      "|2019-08-07 17:00:00|        22.0|        4|    17|      8|    7|    3|77.0|16093.0|289.0|217.0|10082.0|4.0| (263,[22],[1.0])|(273,[0,1,2,3,4,5...|(273,[0,1,2,3,4,5...| 123.6521407416418|\n",
      "|2019-08-07 17:00:00|       119.0|        4|    17|      8|    7|    3|77.0|16093.0|289.0|217.0|10082.0|4.0|(263,[119],[1.0])|(273,[0,1,2,3,4,5...|(273,[0,1,2,3,4,5...|  133.588896553979|\n",
      "|2019-08-07 17:00:00|       144.0|        4|    17|      8|    7|  115|77.0|16093.0|289.0|217.0|10082.0|4.0|(263,[144],[1.0])|(273,[0,1,2,3,4,5...|(273,[0,1,2,3,4,5...|444.94908486305155|\n",
      "|2019-08-07 17:00:00|        50.0|        4|    17|      8|    7|   95|77.0|16093.0|289.0|217.0|10082.0|4.0| (263,[50],[1.0])|(273,[0,1,2,3,4,5...|(273,[0,1,2,3,4,5...|318.58541118521805|\n",
      "|2019-08-07 17:00:00|        33.0|        4|    17|      8|    7|   48|77.0|16093.0|289.0|217.0|10082.0|4.0| (263,[33],[1.0])|(273,[0,1,2,3,4,5...|(273,[0,1,2,3,4,5...|  230.201241551444|\n",
      "|2019-08-07 17:00:00|        42.0|        4|    17|      8|    7|   44|77.0|16093.0|289.0|217.0|10082.0|4.0| (263,[42],[1.0])|(273,[0,1,2,3,4,5...|(273,[0,1,2,3,4,5...|308.90901387299925|\n",
      "|2019-08-07 17:00:00|        89.0|        4|    17|      8|    7|    6|77.0|16093.0|289.0|217.0|10082.0|4.0| (263,[89],[1.0])|(273,[0,1,2,3,4,5...|(273,[0,1,2,3,4,5...|245.04579954305348|\n",
      "|2019-08-07 17:00:00|       162.0|        4|    17|      8|    7|  713|77.0|16093.0|289.0|217.0|10082.0|4.0|(263,[162],[1.0])|(273,[0,1,2,3,4,5...|(273,[0,1,2,3,4,5...| 818.7332301961957|\n",
      "|2019-08-07 17:00:00|       214.0|        4|    17|      8|    7|    1|77.0|16093.0|289.0|217.0|10082.0|4.0|(263,[214],[1.0])|(273,[0,1,2,3,4,5...|(273,[0,1,2,3,4,5...| 61.84259655368635|\n",
      "|2019-08-07 17:00:00|         5.0|        4|    17|      8|    7|    1|77.0|16093.0|289.0|217.0|10082.0|4.0|  (263,[5],[1.0])|(273,[0,1,2,3,4,5...|(273,[0,1,2,3,4,5...| 61.71258703531896|\n",
      "|2019-08-07 17:00:00|       200.0|        4|    17|      8|    7|    1|77.0|16093.0|289.0|217.0|10082.0|4.0|(263,[200],[1.0])|(273,[0,1,2,3,4,5...|(273,[0,1,2,3,4,5...| 89.40300807964911|\n",
      "|2019-08-07 17:00:00|       209.0|        4|    17|      8|    7|   20|77.0|16093.0|289.0|217.0|10082.0|4.0|(263,[209],[1.0])|(273,[0,1,2,3,4,5...|(273,[0,1,2,3,4,5...| 125.8209180444718|\n",
      "|2019-08-07 17:00:00|       221.0|        4|    17|      8|    7|    9|77.0|16093.0|289.0|217.0|10082.0|4.0|(263,[221],[1.0])|(273,[0,1,2,3,4,5...|(273,[0,1,2,3,4,5...| 78.25635442342389|\n",
      "|2019-08-07 17:00:00|        29.0|        4|    17|      8|    7|    3|77.0|16093.0|289.0|217.0|10082.0|4.0| (263,[29],[1.0])|(273,[0,1,2,3,4,5...|(273,[0,1,2,3,4,5...|  93.2306268850042|\n",
      "|2019-08-07 17:00:00|       133.0|        4|    17|      8|    7|    1|77.0|16093.0|289.0|217.0|10082.0|4.0|(263,[133],[1.0])|(273,[0,1,2,3,4,5...|(273,[0,1,2,3,4,5...|  99.2845279389802|\n",
      "|2019-08-07 17:00:00|        41.0|        4|    17|      8|    7|  104|77.0|16093.0|289.0|217.0|10082.0|4.0| (263,[41],[1.0])|(273,[0,1,2,3,4,5...|(273,[0,1,2,3,4,5...|309.09929842528175|\n",
      "|2019-08-07 17:00:00|        82.0|        4|    17|      8|    7|   68|77.0|16093.0|289.0|217.0|10082.0|4.0| (263,[82],[1.0])|(273,[0,1,2,3,4,5...|(273,[0,1,2,3,4,5...|239.61880715569225|\n",
      "|2019-08-07 17:00:00|       186.0|        4|    17|      8|    7|  334|77.0|16093.0|289.0|217.0|10082.0|4.0|(263,[186],[1.0])|(273,[0,1,2,3,4,5...|(273,[0,1,2,3,4,5...|   665.65738542274|\n",
      "|2019-08-07 17:00:00|        90.0|        4|    17|      8|    7|  234|77.0|16093.0|289.0|217.0|10082.0|4.0| (263,[90],[1.0])|(273,[0,1,2,3,4,5...|(273,[0,1,2,3,4,5...|472.80733268659026|\n",
      "|2019-08-07 17:00:00|        86.0|        4|    17|      8|    7|    3|77.0|16093.0|289.0|217.0|10082.0|4.0| (263,[86],[1.0])|(273,[0,1,2,3,4,5...|(273,[0,1,2,3,4,5...| 78.25489827218223|\n",
      "|2019-08-07 17:00:00|        66.0|        4|    17|      8|    7|   31|77.0|16093.0|289.0|217.0|10082.0|4.0| (263,[66],[1.0])|(273,[0,1,2,3,4,5...|(273,[0,1,2,3,4,5...| 206.3075980997861|\n",
      "|2019-08-07 17:00:00|        43.0|        4|    17|      8|    7|  334|77.0|16093.0|289.0|217.0|10082.0|4.0| (263,[43],[1.0])|(273,[0,1,2,3,4,5...|(273,[0,1,2,3,4,5...|395.96746186878056|\n",
      "|2019-08-07 17:00:00|       187.0|        4|    17|      8|    7|    5|77.0|16093.0|289.0|217.0|10082.0|4.0|(263,[187],[1.0])|(273,[0,1,2,3,4,5...|(273,[0,1,2,3,4,5...| 67.27843667272157|\n",
      "|2019-08-07 17:00:00|       147.0|        4|    17|      8|    7|    1|77.0|16093.0|289.0|217.0|10082.0|4.0|(263,[147],[1.0])|(273,[0,1,2,3,4,5...|(273,[0,1,2,3,4,5...| 102.7950445748753|\n",
      "|2019-08-07 17:00:00|       115.0|        4|    17|      8|    7|    1|77.0|16093.0|289.0|217.0|10082.0|4.0|(263,[115],[1.0])|(273,[0,1,2,3,4,5...|(273,[0,1,2,3,4,5...| 74.29017834975923|\n",
      "|2019-08-07 17:00:00|       178.0|        4|    17|      8|    7|    2|77.0|16093.0|289.0|217.0|10082.0|4.0|(263,[178],[1.0])|(273,[0,1,2,3,4,5...|(273,[0,1,2,3,4,5...| 80.42636157009258|\n",
      "|2019-08-07 17:00:00|        18.0|        4|    17|      8|    7|    3|77.0|16093.0|289.0|217.0|10082.0|4.0| (263,[18],[1.0])|(273,[0,1,2,3,4,5...|(273,[0,1,2,3,4,5...|147.10622052844508|\n",
      "|2019-08-07 17:00:00|        57.0|        4|    17|      8|    7|    1|77.0|16093.0|289.0|217.0|10082.0|4.0| (263,[57],[1.0])|(273,[0,1,2,3,4,5...|(273,[0,1,2,3,4,5...| 64.38893307255069|\n",
      "|2019-08-07 17:00:00|        16.0|        4|    17|      8|    7|    5|77.0|16093.0|289.0|217.0|10082.0|4.0| (263,[16],[1.0])|(273,[0,1,2,3,4,5...|(273,[0,1,2,3,4,5...| 98.59249505788819|\n",
      "|2019-08-07 17:00:00|       126.0|        4|    17|      8|    7|    2|77.0|16093.0|289.0|217.0|10082.0|4.0|(263,[126],[1.0])|(273,[0,1,2,3,4,5...|(273,[0,1,2,3,4,5...|112.70450178511453|\n",
      "|2019-08-07 17:00:00|        74.0|        4|    17|      8|    7|  135|77.0|16093.0|289.0|217.0|10082.0|4.0| (263,[74],[1.0])|(273,[0,1,2,3,4,5...|(273,[0,1,2,3,4,5...| 339.7959900928969|\n",
      "|2019-08-07 17:00:00|       121.0|        4|    17|      8|    7|    6|77.0|16093.0|289.0|217.0|10082.0|4.0|(263,[121],[1.0])|(273,[0,1,2,3,4,5...|(273,[0,1,2,3,4,5...| 93.19835935926051|\n",
      "|2019-08-07 17:00:00|        21.0|        4|    17|      8|    7|    1|77.0|16093.0|289.0|217.0|10082.0|4.0| (263,[21],[1.0])|(273,[0,1,2,3,4,5...|(273,[0,1,2,3,4,5...|111.82306689896734|\n",
      "|2019-08-07 17:00:00|       163.0|        4|    17|      8|    7|  420|77.0|16093.0|289.0|217.0|10082.0|4.0|(263,[163],[1.0])|(273,[0,1,2,3,4,5...|(273,[0,1,2,3,4,5...| 618.5170276274531|\n",
      "|2019-08-07 17:00:00|       112.0|        4|    17|      8|    7|    1|77.0|16093.0|289.0|217.0|10082.0|4.0|(263,[112],[1.0])|(273,[0,1,2,3,4,5...|(273,[0,1,2,3,4,5...|313.34002884461336|\n",
      "|2019-08-07 17:00:00|       256.0|        4|    17|      8|    7|    7|77.0|16093.0|289.0|217.0|10082.0|4.0|(263,[256],[1.0])|(273,[0,1,2,3,4,5...|(273,[0,1,2,3,4,5...| 341.5280184425484|\n",
      "|2019-08-07 17:00:00|       167.0|        4|    17|      8|    7|    4|77.0|16093.0|289.0|217.0|10082.0|4.0|(263,[167],[1.0])|(273,[0,1,2,3,4,5...|(273,[0,1,2,3,4,5...|134.79783658511508|\n",
      "|2019-08-07 17:00:00|       234.0|        4|    17|      8|    7|  458|77.0|16093.0|289.0|217.0|10082.0|4.0|(263,[234],[1.0])|(273,[0,1,2,3,4,5...|(273,[0,1,2,3,4,5...|  836.836033271297|\n",
      "|2019-08-07 17:00:00|       230.0|        4|    17|      8|    7|  461|77.0|16093.0|289.0|217.0|10082.0|4.0|(263,[230],[1.0])|(273,[0,1,2,3,4,5...|(273,[0,1,2,3,4,5...| 753.0907119779414|\n",
      "|2019-08-07 17:00:00|       102.0|        4|    17|      8|    7|   10|77.0|16093.0|289.0|217.0|10082.0|4.0|(263,[102],[1.0])|(273,[0,1,2,3,4,5...|(273,[0,1,2,3,4,5...|101.57734985849163|\n",
      "|2019-08-07 17:00:00|       195.0|        4|    17|      8|    7|    1|77.0|16093.0|289.0|217.0|10082.0|4.0|(263,[195],[1.0])|(273,[0,1,2,3,4,5...|(273,[0,1,2,3,4,5...|117.42739416756751|\n",
      "|2019-08-07 17:00:00|       125.0|        4|    17|      8|    7|   51|77.0|16093.0|289.0|217.0|10082.0|4.0|(263,[125],[1.0])|(273,[0,1,2,3,4,5...|(273,[0,1,2,3,4,5...|236.83668422316816|\n",
      "|2019-08-07 17:00:00|       129.0|        4|    17|      8|    7|   42|77.0|16093.0|289.0|217.0|10082.0|4.0|(263,[129],[1.0])|(273,[0,1,2,3,4,5...|(273,[0,1,2,3,4,5...|245.76723148947542|\n",
      "|2019-08-07 17:00:00|       235.0|        4|    17|      8|    7|    3|77.0|16093.0|289.0|217.0|10082.0|4.0|(263,[235],[1.0])|(273,[0,1,2,3,4,5...|(273,[0,1,2,3,4,5...|154.27158660521707|\n",
      "|2019-08-07 17:00:00|        48.0|        4|    17|      8|    7|  351|77.0|16093.0|289.0|217.0|10082.0|4.0| (263,[48],[1.0])|(273,[0,1,2,3,4,5...|(273,[0,1,2,3,4,5...| 779.0573372015118|\n",
      "|2019-08-07 17:00:00|        83.0|        4|    17|      8|    7|   10|77.0|16093.0|289.0|217.0|10082.0|4.0| (263,[83],[1.0])|(273,[0,1,2,3,4,5...|(273,[0,1,2,3,4,5...|103.33769413131847|\n",
      "|2019-08-07 17:00:00|       211.0|        4|    17|      8|    7|   94|77.0|16093.0|289.0|217.0|10082.0|4.0|(263,[211],[1.0])|(273,[0,1,2,3,4,5...|(273,[0,1,2,3,4,5...| 319.9082486975004|\n",
      "|2019-08-07 17:00:00|       113.0|        4|    17|      8|    7|  193|77.0|16093.0|289.0|217.0|10082.0|4.0|(263,[113],[1.0])|(273,[0,1,2,3,4,5...|(273,[0,1,2,3,4,5...|426.79068825147976|\n",
      "|2019-08-07 17:00:00|       118.0|        4|    17|      8|    7|    4|77.0|16093.0|289.0|217.0|10082.0|4.0|(263,[118],[1.0])|(273,[0,1,2,3,4,5...|(273,[0,1,2,3,4,5...|61.509768348777584|\n",
      "|2019-08-07 17:00:00|       141.0|        4|    17|      8|    7|  350|77.0|16093.0|289.0|217.0|10082.0|4.0|(263,[141],[1.0])|(273,[0,1,2,3,4,5...|(273,[0,1,2,3,4,5...| 522.8289777853078|\n",
      "|2019-08-07 17:00:00|       205.0|        4|    17|      8|    7|    3|77.0|16093.0|289.0|217.0|10082.0|4.0|(263,[205],[1.0])|(273,[0,1,2,3,4,5...|(273,[0,1,2,3,4,5...|124.20926848540114|\n",
      "|2019-08-07 17:00:00|       241.0|        4|    17|      8|    7|    1|77.0|16093.0|289.0|217.0|10082.0|4.0|(263,[241],[1.0])|(273,[0,1,2,3,4,5...|(273,[0,1,2,3,4,5...|128.90793590899636|\n",
      "|2019-08-07 17:00:00|        60.0|        4|    17|      8|    7|    1|77.0|16093.0|289.0|217.0|10082.0|4.0| (263,[60],[1.0])|(273,[0,1,2,3,4,5...|(273,[0,1,2,3,4,5...| 98.53296631685168|\n",
      "|2019-08-07 17:00:00|        97.0|        4|    17|      8|    7|   42|77.0|16093.0|289.0|217.0|10082.0|4.0| (263,[97],[1.0])|(273,[0,1,2,3,4,5...|(273,[0,1,2,3,4,5...| 280.9082782174049|\n",
      "|2019-08-07 17:00:00|       223.0|        4|    17|      8|    7|   30|77.0|16093.0|289.0|217.0|10082.0|4.0|(263,[223],[1.0])|(273,[0,1,2,3,4,5...|(273,[0,1,2,3,4,5...|205.02120860385514|\n",
      "|2019-08-07 17:00:00|       225.0|        4|    17|      8|    7|    4|77.0|16093.0|289.0|217.0|10082.0|4.0|(263,[225],[1.0])|(273,[0,1,2,3,4,5...|(273,[0,1,2,3,4,5...| 287.2032063617429|\n",
      "|2019-08-07 17:00:00|       135.0|        4|    17|      8|    7|    2|77.0|16093.0|289.0|217.0|10082.0|4.0|(263,[135],[1.0])|(273,[0,1,2,3,4,5...|(273,[0,1,2,3,4,5...| 93.09940871028141|\n",
      "|2019-08-07 17:00:00|        17.0|        4|    17|      8|    7|   10|77.0|16093.0|289.0|217.0|10082.0|4.0| (263,[17],[1.0])|(273,[0,1,2,3,4,5...|(273,[0,1,2,3,4,5...| 289.8523287361901|\n",
      "|2019-08-07 17:00:00|       206.0|        4|    17|      8|    7|    8|77.0|16093.0|289.0|217.0|10082.0|4.0|(263,[206],[1.0])|(273,[0,1,2,3,4,5...|(273,[0,1,2,3,4,5...| 86.42143079444043|\n",
      "|2019-08-07 17:00:00|         3.0|        4|    17|      8|    7|    1|77.0|16093.0|289.0|217.0|10082.0|4.0|  (263,[3],[1.0])|(273,[0,1,2,3,4,5...|(273,[0,1,2,3,4,5...| 92.54260111974816|\n",
      "|2019-08-07 17:00:00|        34.0|        4|    17|      8|    7|    1|77.0|16093.0|289.0|217.0|10082.0|4.0| (263,[34],[1.0])|(273,[0,1,2,3,4,5...|(273,[0,1,2,3,4,5...| 66.59331040471454|\n",
      "|2019-08-07 17:00:00|       164.0|        4|    17|      8|    7|  286|77.0|16093.0|289.0|217.0|10082.0|4.0|(263,[164],[1.0])|(273,[0,1,2,3,4,5...|(273,[0,1,2,3,4,5...| 638.9178180235041|\n",
      "|2019-08-07 17:00:00|        75.0|        4|    17|      8|    7|  240|77.0|16093.0|289.0|217.0|10082.0|4.0| (263,[75],[1.0])|(273,[0,1,2,3,4,5...|(273,[0,1,2,3,4,5...|341.01384778383965|\n",
      "|2019-08-07 17:00:00|       233.0|        4|    17|      8|    7|  301|77.0|16093.0|289.0|217.0|10082.0|4.0|(263,[233],[1.0])|(273,[0,1,2,3,4,5...|(273,[0,1,2,3,4,5...| 442.5886722016245|\n",
      "|2019-08-07 17:00:00|       173.0|        4|    17|      8|    7|   10|77.0|16093.0|289.0|217.0|10082.0|4.0|(263,[173],[1.0])|(273,[0,1,2,3,4,5...|(273,[0,1,2,3,4,5...|109.89640964064722|\n",
      "|2019-08-07 17:00:00|       248.0|        4|    17|      8|    7|    1|77.0|16093.0|289.0|217.0|10082.0|4.0|(263,[248],[1.0])|(273,[0,1,2,3,4,5...|(273,[0,1,2,3,4,5...|101.20047553927668|\n",
      "|2019-08-07 17:00:00|       238.0|        4|    17|      8|    7|  234|77.0|16093.0|289.0|217.0|10082.0|4.0|(263,[238],[1.0])|(273,[0,1,2,3,4,5...|(273,[0,1,2,3,4,5...|460.63551961842234|\n",
      "|2019-08-07 17:00:00|       123.0|        4|    17|      8|    7|    4|77.0|16093.0|289.0|217.0|10082.0|4.0|(263,[123],[1.0])|(273,[0,1,2,3,4,5...|(273,[0,1,2,3,4,5...|111.77995247620072|\n",
      "|2019-08-07 17:00:00|       132.0|        4|    17|      8|    7|  436|77.0|16093.0|289.0|217.0|10082.0|4.0|(263,[132],[1.0])|(273,[0,1,2,3,4,5...|(273,[0,1,2,3,4,5...| 762.6386233720808|\n",
      "|2019-08-07 17:00:00|        39.0|        4|    17|      8|    7|    2|77.0|16093.0|289.0|217.0|10082.0|4.0| (263,[39],[1.0])|(273,[0,1,2,3,4,5...|(273,[0,1,2,3,4,5...| 239.4066753651283|\n",
      "|2019-08-07 17:00:00|       130.0|        4|    17|      8|    7|   15|77.0|16093.0|289.0|217.0|10082.0|4.0|(263,[130],[1.0])|(273,[0,1,2,3,4,5...|(273,[0,1,2,3,4,5...|183.81190367665124|\n",
      "|2019-08-07 17:00:00|        92.0|        4|    17|      8|    7|   22|77.0|16093.0|289.0|217.0|10082.0|4.0| (263,[92],[1.0])|(273,[0,1,2,3,4,5...|(273,[0,1,2,3,4,5...| 166.5755542595192|\n",
      "|2019-08-07 17:00:00|        68.0|        4|    17|      8|    7|  294|77.0|16093.0|289.0|217.0|10082.0|4.0| (263,[68],[1.0])|(273,[0,1,2,3,4,5...|(273,[0,1,2,3,4,5...| 599.1155783527958|\n",
      "|2019-08-07 17:00:00|       260.0|        4|    17|      8|    7|   35|77.0|16093.0|289.0|217.0|10082.0|4.0|(263,[260],[1.0])|(273,[0,1,2,3,4,5...|(273,[0,1,2,3,4,5...|165.36505276142395|\n",
      "|2019-08-07 17:00:00|       212.0|        4|    17|      8|    7|    2|77.0|16093.0|289.0|217.0|10082.0|4.0|(263,[212],[1.0])|(273,[0,1,2,3,4,5...|(273,[0,1,2,3,4,5...| 99.11959727291708|\n",
      "|2019-08-07 17:00:00|       189.0|        4|    17|      8|    7|    4|77.0|16093.0|289.0|217.0|10082.0|4.0|(263,[189],[1.0])|(273,[0,1,2,3,4,5...|(273,[0,1,2,3,4,5...|158.47616779646717|\n",
      "|2019-08-07 17:00:00|       228.0|        4|    17|      8|    7|    3|77.0|16093.0|289.0|217.0|10082.0|4.0|(263,[228],[1.0])|(273,[0,1,2,3,4,5...|(273,[0,1,2,3,4,5...|155.86497128743702|\n",
      "|2019-08-07 17:00:00|       127.0|        4|    17|      8|    7|    1|77.0|16093.0|289.0|217.0|10082.0|4.0|(263,[127],[1.0])|(273,[0,1,2,3,4,5...|(273,[0,1,2,3,4,5...|146.93721130643542|\n",
      "|2019-08-07 17:00:00|       188.0|        4|    17|      8|    7|   11|77.0|16093.0|289.0|217.0|10082.0|4.0|(263,[188],[1.0])|(273,[0,1,2,3,4,5...|(273,[0,1,2,3,4,5...|244.20552168431539|\n",
      "|2019-08-07 17:00:00|       218.0|        4|    17|      8|    7|    3|77.0|16093.0|289.0|217.0|10082.0|4.0|(263,[218],[1.0])|(273,[0,1,2,3,4,5...|(273,[0,1,2,3,4,5...| 94.68236491099435|\n",
      "|2019-08-07 17:00:00|       106.0|        4|    17|      8|    7|    2|77.0|16093.0|289.0|217.0|10082.0|4.0|(263,[106],[1.0])|(273,[0,1,2,3,4,5...|(273,[0,1,2,3,4,5...|119.03840199553918|\n",
      "|2019-08-07 17:00:00|       161.0|        4|    17|      8|    7|  578|77.0|16093.0|289.0|217.0|10082.0|4.0|(263,[161],[1.0])|(273,[0,1,2,3,4,5...|(273,[0,1,2,3,4,5...|1058.4811071580734|\n",
      "|2019-08-07 17:00:00|        14.0|        4|    17|      8|    7|    7|77.0|16093.0|289.0|217.0|10082.0|4.0| (263,[14],[1.0])|(273,[0,1,2,3,4,5...|(273,[0,1,2,3,4,5...|172.05642267808264|\n",
      "|2019-08-07 17:00:00|       262.0|        4|    17|      8|    7|  142|77.0|16093.0|289.0|217.0|10082.0|4.0|(263,[262],[1.0])|(273,[0,1,2,3,4,5...|(273,[0,1,2,3,4,5...|368.64051351407613|\n",
      "|2019-08-07 17:00:00|       244.0|        4|    17|      8|    7|   48|77.0|16093.0|289.0|217.0|10082.0|4.0|(263,[244],[1.0])|(273,[0,1,2,3,4,5...|(273,[0,1,2,3,4,5...|  256.600376434748|\n",
      "|2019-08-07 17:00:00|        13.0|        4|    17|      8|    7|   98|77.0|16093.0|289.0|217.0|10082.0|4.0| (263,[13],[1.0])|(273,[0,1,2,3,4,5...|(273,[0,1,2,3,4,5...|339.41577578083445|\n",
      "|2019-08-07 17:00:00|       156.0|        4|    17|      8|    7|    4|77.0|16093.0|289.0|217.0|10082.0|4.0|(263,[156],[1.0])|(273,[0,1,2,3,4,5...|(273,[0,1,2,3,4,5...| 74.40599143265933|\n",
      "|2019-08-07 17:00:00|       108.0|        4|    17|      8|    7|    1|77.0|16093.0|289.0|217.0|10082.0|4.0|(263,[108],[1.0])|(273,[0,1,2,3,4,5...|(273,[0,1,2,3,4,5...|  84.4409572955584|\n",
      "|2019-08-07 17:00:00|       236.0|        4|    17|      8|    7|  647|77.0|16093.0|289.0|217.0|10082.0|4.0|(263,[236],[1.0])|(273,[0,1,2,3,4,5...|(273,[0,1,2,3,4,5...|  752.283700082067|\n",
      "|2019-08-07 17:00:00|        52.0|        4|    17|      8|    7|   10|77.0|16093.0|289.0|217.0|10082.0|4.0| (263,[52],[1.0])|(273,[0,1,2,3,4,5...|(273,[0,1,2,3,4,5...|  99.3776429772098|\n",
      "|2019-08-07 17:00:00|       146.0|        4|    17|      8|    7|   26|77.0|16093.0|289.0|217.0|10082.0|4.0|(263,[146],[1.0])|(273,[0,1,2,3,4,5...|(273,[0,1,2,3,4,5...|132.07521251882315|\n",
      "|2019-08-07 17:00:00|        36.0|        4|    17|      8|    7|    3|77.0|16093.0|289.0|217.0|10082.0|4.0| (263,[36],[1.0])|(273,[0,1,2,3,4,5...|(273,[0,1,2,3,4,5...| 303.7088382613348|\n",
      "|2019-08-07 17:00:00|       168.0|        4|    17|      8|    7|    3|77.0|16093.0|289.0|217.0|10082.0|4.0|(263,[168],[1.0])|(273,[0,1,2,3,4,5...|(273,[0,1,2,3,4,5...|160.75589956209762|\n",
      "|2019-08-07 17:00:00|       252.0|        4|    17|      8|    7|    2|77.0|16093.0|289.0|217.0|10082.0|4.0|(263,[252],[1.0])|(273,[0,1,2,3,4,5...|(273,[0,1,2,3,4,5...| 73.92481381542314|\n",
      "|2019-08-07 17:00:00|        61.0|        4|    17|      8|    7|   12|77.0|16093.0|289.0|217.0|10082.0|4.0| (263,[61],[1.0])|(273,[0,1,2,3,4,5...|(273,[0,1,2,3,4,5...|450.48483441296673|\n",
      "|2019-08-07 17:00:00|         9.0|        4|    17|      8|    7|    5|77.0|16093.0|289.0|217.0|10082.0|4.0|  (263,[9],[1.0])|(273,[0,1,2,3,4,5...|(273,[0,1,2,3,4,5...|  70.2088715997919|\n",
      "|2019-08-07 17:00:00|        24.0|        4|    17|      8|    7|   24|77.0|16093.0|289.0|217.0|10082.0|4.0| (263,[24],[1.0])|(273,[0,1,2,3,4,5...|(273,[0,1,2,3,4,5...|  130.585090219594|\n",
      "|2019-08-07 17:00:00|        40.0|        4|    17|      8|    7|   10|77.0|16093.0|289.0|217.0|10082.0|4.0| (263,[40],[1.0])|(273,[0,1,2,3,4,5...|(273,[0,1,2,3,4,5...| 137.1354374082497|\n",
      "|2019-08-07 17:00:00|       166.0|        4|    17|      8|    7|  159|77.0|16093.0|289.0|217.0|10082.0|4.0|(263,[166],[1.0])|(273,[0,1,2,3,4,5...|(273,[0,1,2,3,4,5...| 256.1108061299482|\n",
      "|2019-08-07 17:00:00|       151.0|        4|    17|      8|    7|  121|77.0|16093.0|289.0|217.0|10082.0|4.0|(263,[151],[1.0])|(273,[0,1,2,3,4,5...|(273,[0,1,2,3,4,5...| 252.5062088265803|\n",
      "|2019-08-07 17:00:00|       179.0|        4|    17|      8|    7|   16|77.0|16093.0|289.0|217.0|10082.0|4.0|(263,[179],[1.0])|(273,[0,1,2,3,4,5...|(273,[0,1,2,3,4,5...| 146.7961739707099|\n",
      "|2019-08-07 17:00:00|       181.0|        4|    17|      8|    7|   39|77.0|16093.0|289.0|217.0|10082.0|4.0|(263,[181],[1.0])|(273,[0,1,2,3,4,5...|(273,[0,1,2,3,4,5...| 376.1846744529349|\n",
      "|2019-08-07 17:00:00|         6.0|        4|    17|      8|    7|    2|77.0|16093.0|289.0|217.0|10082.0|4.0|  (263,[6],[1.0])|(273,[0,1,2,3,4,5...|(273,[0,1,2,3,4,5...| 60.38158496954486|\n",
      "|2019-08-07 17:00:00|       170.0|        4|    17|      8|    7|  491|77.0|16093.0|289.0|217.0|10082.0|4.0|(263,[170],[1.0])|(273,[0,1,2,3,4,5...|(273,[0,1,2,3,4,5...| 769.7871833308155|\n",
      "|2019-08-07 17:00:00|       193.0|        4|    17|      8|    7|   12|77.0|16093.0|289.0|217.0|10082.0|4.0|(263,[193],[1.0])|(273,[0,1,2,3,4,5...|(273,[0,1,2,3,4,5...| 89.90566289222386|\n",
      "|2019-08-07 17:00:00|        15.0|        4|    17|      8|    7|    2|77.0|16093.0|289.0|217.0|10082.0|4.0| (263,[15],[1.0])|(273,[0,1,2,3,4,5...|(273,[0,1,2,3,4,5...| 65.73151382646608|\n",
      "|2019-08-07 17:00:00|       224.0|        4|    17|      8|    7|   22|77.0|16093.0|289.0|217.0|10082.0|4.0|(263,[224],[1.0])|(273,[0,1,2,3,4,5...|(273,[0,1,2,3,4,5...|183.15278980608616|\n",
      "|2019-08-07 17:00:00|        95.0|        4|    17|      8|    7|   54|77.0|16093.0|289.0|217.0|10082.0|4.0| (263,[95],[1.0])|(273,[0,1,2,3,4,5...|(273,[0,1,2,3,4,5...|203.56845407454182|\n",
      "|2019-08-07 17:00:00|         7.0|        4|    17|      8|    7|   66|77.0|16093.0|289.0|217.0|10082.0|4.0|  (263,[7],[1.0])|(273,[0,1,2,3,4,5...|(273,[0,1,2,3,4,5...|357.37488134665966|\n",
      "|2019-08-07 17:00:00|        45.0|        4|    17|      8|    7|   20|77.0|16093.0|289.0|217.0|10082.0|4.0| (263,[45],[1.0])|(273,[0,1,2,3,4,5...|(273,[0,1,2,3,4,5...| 144.8421832678888|\n",
      "|2019-08-07 17:00:00|       227.0|        4|    17|      8|    7|    1|77.0|16093.0|289.0|217.0|10082.0|4.0|(263,[227],[1.0])|(273,[0,1,2,3,4,5...|(273,[0,1,2,3,4,5...|101.98536543299531|\n",
      "|2019-08-07 17:00:00|       159.0|        4|    17|      8|    7|    4|77.0|16093.0|289.0|217.0|10082.0|4.0|(263,[159],[1.0])|(273,[0,1,2,3,4,5...|(273,[0,1,2,3,4,5...|142.85178541125163|\n",
      "|2019-08-07 17:00:00|        70.0|        4|    17|      8|    7|    6|77.0|16093.0|289.0|217.0|10082.0|4.0| (263,[70],[1.0])|(273,[0,1,2,3,4,5...|(273,[0,1,2,3,4,5...|109.87142777179463|\n",
      "|2019-08-07 17:00:00|        80.0|        4|    17|      8|    7|    1|77.0|16093.0|289.0|217.0|10082.0|4.0| (263,[80],[1.0])|(273,[0,1,2,3,4,5...|(273,[0,1,2,3,4,5...| 338.1167644768167|\n",
      "|2019-08-07 17:00:00|        23.0|        4|    17|      8|    7|    2|77.0|16093.0|289.0|217.0|10082.0|4.0| (263,[23],[1.0])|(273,[0,1,2,3,4,5...|(273,[0,1,2,3,4,5...| 73.87215086415733|\n",
      "|2019-08-07 17:00:00|       100.0|        4|    17|      8|    7|  216|77.0|16093.0|289.0|217.0|10082.0|4.0|(263,[100],[1.0])|(273,[0,1,2,3,4,5...|(273,[0,1,2,3,4,5...|501.02584713385534|\n",
      "|2019-08-07 17:00:00|       217.0|        4|    17|      8|    7|    3|77.0|16093.0|289.0|217.0|10082.0|4.0|(263,[217],[1.0])|(273,[0,1,2,3,4,5...|(273,[0,1,2,3,4,5...| 86.18393079761347|\n",
      "|2019-08-07 17:00:00|       139.0|        4|    17|      8|    7|    1|77.0|16093.0|289.0|217.0|10082.0|4.0|(263,[139],[1.0])|(273,[0,1,2,3,4,5...|(273,[0,1,2,3,4,5...| 85.27740914611775|\n",
      "|2019-08-07 17:00:00|       138.0|        4|    17|      8|    7|  281|77.0|16093.0|289.0|217.0|10082.0|4.0|(263,[138],[1.0])|(273,[0,1,2,3,4,5...|(273,[0,1,2,3,4,5...| 882.0288760722441|\n",
      "|2019-08-07 17:00:00|       148.0|        4|    17|      8|    7|   60|77.0|16093.0|289.0|217.0|10082.0|4.0|(263,[148],[1.0])|(273,[0,1,2,3,4,5...|(273,[0,1,2,3,4,5...| 742.4372107803757|\n",
      "|2019-08-07 17:00:00|       237.0|        4|    17|      8|    7|  760|77.0|16093.0|289.0|217.0|10082.0|4.0|(263,[237],[1.0])|(273,[0,1,2,3,4,5...|(273,[0,1,2,3,4,5...| 857.1696916686566|\n",
      "|2019-08-07 17:00:00|        76.0|        4|    17|      8|    7|    6|77.0|16093.0|289.0|217.0|10082.0|4.0| (263,[76],[1.0])|(273,[0,1,2,3,4,5...|(273,[0,1,2,3,4,5...|273.71468154015145|\n",
      "|2019-08-07 17:00:00|       242.0|        4|    17|      8|    7|   16|77.0|16093.0|289.0|217.0|10082.0|4.0|(263,[242],[1.0])|(273,[0,1,2,3,4,5...|(273,[0,1,2,3,4,5...|130.16750763445032|\n",
      "|2019-08-07 17:00:00|       250.0|        4|    17|      8|    7|    2|77.0|16093.0|289.0|217.0|10082.0|4.0|(263,[250],[1.0])|(273,[0,1,2,3,4,5...|(273,[0,1,2,3,4,5...| 97.16774130719807|\n",
      "|2019-08-07 17:00:00|       107.0|        4|    17|      8|    7|  352|77.0|16093.0|289.0|217.0|10082.0|4.0|(263,[107],[1.0])|(273,[0,1,2,3,4,5...|(273,[0,1,2,3,4,5...| 595.5477730890049|\n",
      "|2019-08-07 17:00:00|       177.0|        4|    17|      8|    7|    1|77.0|16093.0|289.0|217.0|10082.0|4.0|(263,[177],[1.0])|(273,[0,1,2,3,4,5...|(273,[0,1,2,3,4,5...|159.39439180261286|\n",
      "|2019-08-07 17:00:00|       263.0|        4|    17|      8|    7|  228|77.0|16093.0|289.0|217.0|10082.0|4.0|      (263,[],[])|(273,[0,1,2,3,4,5...|(273,[0,1,2,3,4,5...| 423.0172732050547|\n",
      "|2019-08-07 17:00:00|       157.0|        4|    17|      8|    7|    3|77.0|16093.0|289.0|217.0|10082.0|4.0|(263,[157],[1.0])|(273,[0,1,2,3,4,5...|(273,[0,1,2,3,4,5...|113.30994654814333|\n",
      "|2019-08-07 17:00:00|        31.0|        4|    17|      8|    7|    2|77.0|16093.0|289.0|217.0|10082.0|4.0| (263,[31],[1.0])|(273,[0,1,2,3,4,5...|(273,[0,1,2,3,4,5...| 66.99443033933028|\n",
      "|2019-08-07 17:00:00|       246.0|        4|    17|      8|    7|  189|77.0|16093.0|289.0|217.0|10082.0|4.0|(263,[246],[1.0])|(273,[0,1,2,3,4,5...|(273,[0,1,2,3,4,5...| 535.5511992512135|\n",
      "|2019-08-07 17:00:00|       142.0|        4|    17|      8|    7|  476|77.0|16093.0|289.0|217.0|10082.0|4.0|(263,[142],[1.0])|(273,[0,1,2,3,4,5...|(273,[0,1,2,3,4,5...|   615.50897897783|\n",
      "|2019-08-07 17:00:00|       149.0|        4|    17|      8|    7|    2|77.0|16093.0|289.0|217.0|10082.0|4.0|(263,[149],[1.0])|(273,[0,1,2,3,4,5...|(273,[0,1,2,3,4,5...| 102.8832436292306|\n",
      "|2019-08-07 17:00:00|       203.0|        4|    17|      8|    7|    1|77.0|16093.0|289.0|217.0|10082.0|4.0|(263,[203],[1.0])|(273,[0,1,2,3,4,5...|(273,[0,1,2,3,4,5...|  87.5924797713484|\n",
      "|2019-08-07 17:00:00|        10.0|        4|    17|      8|    7|    2|77.0|16093.0|289.0|217.0|10082.0|4.0| (263,[10],[1.0])|(273,[0,1,2,3,4,5...|(273,[0,1,2,3,4,5...|117.93575219565548|\n",
      "|2019-08-07 17:00:00|        77.0|        4|    17|      8|    7|    2|77.0|16093.0|289.0|217.0|10082.0|4.0| (263,[77],[1.0])|(273,[0,1,2,3,4,5...|(273,[0,1,2,3,4,5...|118.45721406635505|\n",
      "|2019-08-07 17:00:00|       243.0|        4|    17|      8|    7|    6|77.0|16093.0|289.0|217.0|10082.0|4.0|(263,[243],[1.0])|(273,[0,1,2,3,4,5...|(273,[0,1,2,3,4,5...|197.28796162157812|\n",
      "|2019-08-07 17:00:00|        56.0|        4|    17|      8|    7|   11|77.0|16093.0|289.0|217.0|10082.0|4.0| (263,[56],[1.0])|(273,[0,1,2,3,4,5...|(273,[0,1,2,3,4,5...| 125.1534542900514|\n",
      "|2019-08-07 17:00:00|       198.0|        4|    17|      8|    7|   14|77.0|16093.0|289.0|217.0|10082.0|4.0|(263,[198],[1.0])|(273,[0,1,2,3,4,5...|(273,[0,1,2,3,4,5...|192.37696769599245|\n",
      "|2019-08-07 17:00:00|        49.0|        4|    17|      8|    7|   17|77.0|16093.0|289.0|217.0|10082.0|4.0| (263,[49],[1.0])|(273,[0,1,2,3,4,5...|(273,[0,1,2,3,4,5...|251.13250679605824|\n",
      "|2019-08-07 17:00:00|       213.0|        4|    17|      8|    7|    4|77.0|16093.0|289.0|217.0|10082.0|4.0|(263,[213],[1.0])|(273,[0,1,2,3,4,5...|(273,[0,1,2,3,4,5...|145.61779518394485|\n",
      "|2019-08-07 17:00:00|        51.0|        4|    17|      8|    7|    2|77.0|16093.0|289.0|217.0|10082.0|4.0| (263,[51],[1.0])|(273,[0,1,2,3,4,5...|(273,[0,1,2,3,4,5...|123.18689627774404|\n",
      "|2019-08-07 17:00:00|       140.0|        4|    17|      8|    7|  314|77.0|16093.0|289.0|217.0|10082.0|4.0|(263,[140],[1.0])|(273,[0,1,2,3,4,5...|(273,[0,1,2,3,4,5...| 475.8686593519834|\n",
      "|2019-08-07 17:00:00|        65.0|        4|    17|      8|    7|   57|77.0|16093.0|289.0|217.0|10082.0|4.0| (263,[65],[1.0])|(273,[0,1,2,3,4,5...|(273,[0,1,2,3,4,5...|223.57957448064928|\n",
      "|2019-08-07 17:00:00|       254.0|        4|    17|      8|    7|    1|77.0|16093.0|289.0|217.0|10082.0|4.0|(263,[254],[1.0])|(273,[0,1,2,3,4,5...|(273,[0,1,2,3,4,5...|141.37653987091255|\n",
      "|2019-08-07 17:00:00|       165.0|        4|    17|      8|    7|    2|77.0|16093.0|289.0|217.0|10082.0|4.0|(263,[165],[1.0])|(273,[0,1,2,3,4,5...|(273,[0,1,2,3,4,5...|127.02210290659912|\n",
      "|2019-08-07 17:00:00|       158.0|        4|    17|      8|    7|   97|77.0|16093.0|289.0|217.0|10082.0|4.0|(263,[158],[1.0])|(273,[0,1,2,3,4,5...|(273,[0,1,2,3,4,5...| 393.2639936600641|\n",
      "|2019-08-07 17:00:00|        69.0|        4|    17|      8|    7|    4|77.0|16093.0|289.0|217.0|10082.0|4.0| (263,[69],[1.0])|(273,[0,1,2,3,4,5...|(273,[0,1,2,3,4,5...|172.08862423023027|\n",
      "|2019-08-07 17:00:00|       197.0|        4|    17|      8|    7|    3|77.0|16093.0|289.0|217.0|10082.0|4.0|(263,[197],[1.0])|(273,[0,1,2,3,4,5...|(273,[0,1,2,3,4,5...|133.19974950609355|\n",
      "|2019-08-07 17:00:00|         4.0|        4|    17|      8|    7|   10|77.0|16093.0|289.0|217.0|10082.0|4.0|  (263,[4],[1.0])|(273,[0,1,2,3,4,5...|(273,[0,1,2,3,4,5...|206.50091940358277|\n",
      "|2019-08-07 17:00:00|       134.0|        4|    17|      8|    7|   13|77.0|16093.0|289.0|217.0|10082.0|4.0|(263,[134],[1.0])|(273,[0,1,2,3,4,5...|(273,[0,1,2,3,4,5...| 98.43484431865511|\n",
      "|2019-08-07 17:00:00|       196.0|        4|    17|      8|    7|   14|77.0|16093.0|289.0|217.0|10082.0|4.0|(263,[196],[1.0])|(273,[0,1,2,3,4,5...|(273,[0,1,2,3,4,5...|108.78673010910927|\n",
      "|2019-08-07 17:00:00|       210.0|        4|    17|      8|    7|    4|77.0|16093.0|289.0|217.0|10082.0|4.0|(263,[210],[1.0])|(273,[0,1,2,3,4,5...|(273,[0,1,2,3,4,5...|121.65263737078124|\n",
      "|2019-08-07 17:00:00|        93.0|        4|    17|      8|    7|    4|77.0|16093.0|289.0|217.0|10082.0|4.0| (263,[93],[1.0])|(273,[0,1,2,3,4,5...|(273,[0,1,2,3,4,5...|138.02666201330487|\n",
      "|2019-08-07 17:00:00|       247.0|        4|    17|      8|    7|    9|77.0|16093.0|289.0|217.0|10082.0|4.0|(263,[247],[1.0])|(273,[0,1,2,3,4,5...|(273,[0,1,2,3,4,5...|180.18903860371245|\n",
      "|2019-08-07 17:00:00|       226.0|        4|    17|      8|    7|   22|77.0|16093.0|289.0|217.0|10082.0|4.0|(263,[226],[1.0])|(273,[0,1,2,3,4,5...|(273,[0,1,2,3,4,5...|209.61119066545314|\n",
      "|2019-08-07 17:00:00|        72.0|        4|    17|      8|    7|    2|77.0|16093.0|289.0|217.0|10082.0|4.0| (263,[72],[1.0])|(273,[0,1,2,3,4,5...|(273,[0,1,2,3,4,5...|188.87145619873775|\n",
      "|2019-08-07 17:00:00|        12.0|        4|    17|      8|    7|    7|77.0|16093.0|289.0|217.0|10082.0|4.0| (263,[12],[1.0])|(273,[0,1,2,3,4,5...|(273,[0,1,2,3,4,5...|  62.0600417728466|\n",
      "|2019-08-07 17:00:00|       259.0|        4|    17|      8|    7|    3|77.0|16093.0|289.0|217.0|10082.0|4.0|(263,[259],[1.0])|(273,[0,1,2,3,4,5...|(273,[0,1,2,3,4,5...|112.25332770484522|\n",
      "|2019-08-07 17:00:00|        28.0|        4|    17|      8|    7|    3|77.0|16093.0|289.0|217.0|10082.0|4.0| (263,[28],[1.0])|(273,[0,1,2,3,4,5...|(273,[0,1,2,3,4,5...| 97.80282426150382|\n",
      "|2019-08-07 17:00:00|        63.0|        4|    17|      8|    7|    3|77.0|16093.0|289.0|217.0|10082.0|4.0| (263,[63],[1.0])|(273,[0,1,2,3,4,5...|(273,[0,1,2,3,4,5...| 124.1649790302746|\n",
      "|2019-08-07 17:00:00|       229.0|        4|    17|      8|    7|  290|77.0|16093.0|289.0|217.0|10082.0|4.0|(263,[229],[1.0])|(273,[0,1,2,3,4,5...|(273,[0,1,2,3,4,5...| 497.4002193063069|\n",
      "|2019-08-07 17:00:00|       114.0|        4|    17|      8|    7|  117|77.0|16093.0|289.0|217.0|10082.0|4.0|(263,[114],[1.0])|(273,[0,1,2,3,4,5...|(273,[0,1,2,3,4,5...|458.23413291830195|\n",
      "|2019-08-07 17:00:00|       169.0|        4|    17|      8|    7|    8|77.0|16093.0|289.0|217.0|10082.0|4.0|(263,[169],[1.0])|(273,[0,1,2,3,4,5...|(273,[0,1,2,3,4,5...|154.50139112694785|\n",
      "|2019-08-07 17:00:00|       152.0|        4|    17|      8|    7|   22|77.0|16093.0|289.0|217.0|10082.0|4.0|(263,[152],[1.0])|(273,[0,1,2,3,4,5...|(273,[0,1,2,3,4,5...|127.80915902196182|\n",
      "|2019-08-07 17:00:00|       232.0|        4|    17|      8|    7|    8|77.0|16093.0|289.0|217.0|10082.0|4.0|(263,[232],[1.0])|(273,[0,1,2,3,4,5...|(273,[0,1,2,3,4,5...| 209.9304256468671|\n",
      "|2019-08-07 17:00:00|        35.0|        4|    17|      8|    7|    2|77.0|16093.0|289.0|217.0|10082.0|4.0| (263,[35],[1.0])|(273,[0,1,2,3,4,5...|(273,[0,1,2,3,4,5...|185.44213290238065|\n",
      "|2019-08-07 17:00:00|       249.0|        4|    17|      8|    7|  178|77.0|16093.0|289.0|217.0|10082.0|4.0|(263,[249],[1.0])|(273,[0,1,2,3,4,5...|(273,[0,1,2,3,4,5...| 573.6959007746233|\n",
      "|2019-08-07 17:00:00|        25.0|        4|    17|      8|    7|   25|77.0|16093.0|289.0|217.0|10082.0|4.0| (263,[25],[1.0])|(273,[0,1,2,3,4,5...|(273,[0,1,2,3,4,5...|233.88947785786434|\n",
      "|2019-08-07 17:00:00|        79.0|        4|    17|      8|    7|  213|77.0|16093.0|289.0|217.0|10082.0|4.0| (263,[79],[1.0])|(273,[0,1,2,3,4,5...|(273,[0,1,2,3,4,5...| 897.8388220797755|\n",
      "|2019-08-07 17:00:00|       160.0|        4|    17|      8|    7|    3|77.0|16093.0|289.0|217.0|10082.0|4.0|(263,[160],[1.0])|(273,[0,1,2,3,4,5...|(273,[0,1,2,3,4,5...| 98.21004175550172|\n",
      "|2019-08-07 17:00:00|        62.0|        4|    17|      8|    7|    1|77.0|16093.0|289.0|217.0|10082.0|4.0| (263,[62],[1.0])|(273,[0,1,2,3,4,5...|(273,[0,1,2,3,4,5...|151.15592291032988|\n",
      "+-------------------+------------+---------+------+-------+-----+-----+----+-------+-----+-----+-------+---+-----------------+--------------------+--------------------+------------------+\n",
      "\n"
     ]
    }
   ],
   "source": [
    "lm_predictions = lm.transform(testing_sdf)\n",
    "lm_predictions.filter(F.col('dt_truncated') =='2019-08-07 17:00:00').drop('pickup_datetime').dropDuplicates().show(2700)#show(5)"
   ]
  },
  {
   "cell_type": "code",
   "execution_count": 68,
   "metadata": {},
   "outputs": [
    {
     "name": "stdout",
     "output_type": "stream",
     "text": [
      "+-------------------+------------+----+-------+-----+----+-------+---+-------+---------+-----+------+---------------+--------------------+--------------------+\n",
      "|       dt_truncated|PULocationID| wnd|    vis|  tmp| dew|    atm| cc|PUMonth|PUWeekday|PUDay|PUHour|   location_vec|            features|      scaledFeatures|\n",
      "+-------------------+------------+----+-------+-----+----+-------+---+-------+---------+-----+------+---------------+--------------------+--------------------+\n",
      "|2019-08-07 17:00:00|           1|46.0|16093.0|161.0|78.0|10110.0|2.0|      8|        4|    7|    17|(263,[1],[1.0])|(273,[0,1,2,3,4,5...|(273,[0,1,2,3,4,5...|\n",
      "|2019-08-07 17:00:00|           2|46.0|16093.0|161.0|78.0|10110.0|2.0|      8|        4|    7|    17|(263,[2],[1.0])|(273,[0,1,2,3,4,5...|(273,[0,1,2,3,4,5...|\n",
      "|2019-08-07 17:00:00|           3|46.0|16093.0|161.0|78.0|10110.0|2.0|      8|        4|    7|    17|(263,[3],[1.0])|(273,[0,1,2,3,4,5...|(273,[0,1,2,3,4,5...|\n",
      "|2019-08-07 17:00:00|           4|46.0|16093.0|161.0|78.0|10110.0|2.0|      8|        4|    7|    17|(263,[4],[1.0])|(273,[0,1,2,3,4,5...|(273,[0,1,2,3,4,5...|\n",
      "|2019-08-07 17:00:00|           5|46.0|16093.0|161.0|78.0|10110.0|2.0|      8|        4|    7|    17|(263,[5],[1.0])|(273,[0,1,2,3,4,5...|(273,[0,1,2,3,4,5...|\n",
      "+-------------------+------------+----+-------+-----+----+-------+---+-------+---------+-----+------+---------------+--------------------+--------------------+\n",
      "only showing top 5 rows\n",
      "\n"
     ]
    }
   ],
   "source": [
    "# create a dataframe where dt_truncated = '2019-08-07 17:00:00', weather data is from the actual frame and contains every zone from 1 to 263\n",
    "columns = ['dt_truncated', 'PULocationID', 'wnd', 'vis', 'tmp',\n",
    "           'dew', 'atm', 'cc', 'PUMonth', 'PUWeekday', 'PUDay', 'PUHour']\n",
    "data = [('2019-08-07 17:00:00', x, 46.0, 16093.0, 161.0,\n",
    "         78.0, 10110.0, 2.0,  8, 4, 7, 17) for x in range(1, 264)]\n",
    "\n",
    "rdd = spark.sparkContext.parallelize(data)\n",
    "visualisation_sdf = rdd.toDF(columns)\n",
    "\n",
    "visualisation_sdf = onehotencoder.transform(visualisation_sdf)\n",
    "visualisation_sdf = assembler.transform(visualisation_sdf)\n",
    "visualisation_sdf = scalerModel.transform(visualisation_sdf)\n",
    "visualisation_sdf.show(5)"
   ]
  },
  {
   "cell_type": "code",
   "execution_count": 102,
   "metadata": {},
   "outputs": [],
   "source": [
    "predicted = lm.transform(visualisation_sdf).select(\n",
    "    'PULocationID', 'prediction')\n",
    "# predicted.sort('PULocationID')\n",
    "# predicted.join(testing_sdf.drop('pickup_datetime').dropDuplicates(), on='PULocationID', how='fullouter')\\\n",
    "#     .filter(F.col('dt_truncated') == '2019-08-07 17:00:00').sort('PULocationID')\n",
    "t_df = testing_sdf.filter(F.col('dt_truncated') == '2019-08-07 17:00:00').select('PULocationID', 'count').dropDuplicates().sort('PULocationID').toPandas()\n",
    "pred_df = predicted.toPandas()"
   ]
  },
  {
   "cell_type": "code",
   "execution_count": null,
   "metadata": {},
   "outputs": [],
   "source": [
    "result = []\n",
    "for prediction in pred_df.values.tolist():\n",
    "    for actual in t_df.values.tolist():\n",
    "        if prediction[0] == actual[0]:\n",
    "            result.append([int(prediction[0]), int(actual[1]), prediction[1],  prediction[1] - int(actual[1])])\n",
    "            break\n",
    "    else:\n",
    "        result.append([int(prediction[0]), 0, prediction[1], prediction[1]])\n",
    "\n",
    "if not os.path.exists('../data/curated/visualisation/'):\n",
    "    os.makedirs('../data/curated/visualisation/')\n",
    "pd.DataFrame(result, columns=['PULocationID', 'actual', 'predicted', 'diff'])\\\n",
    "    .to_csv('../data/curated/visualisation/2019august.csv', index=False)\n"
   ]
  }
 ],
 "metadata": {
  "kernelspec": {
   "display_name": "Python 3.8.10 ('adsenv': venv)",
   "language": "python",
   "name": "python3"
  },
  "language_info": {
   "codemirror_mode": {
    "name": "ipython",
    "version": 3
   },
   "file_extension": ".py",
   "mimetype": "text/x-python",
   "name": "python",
   "nbconvert_exporter": "python",
   "pygments_lexer": "ipython3",
   "version": "3.8.10"
  },
  "orig_nbformat": 4,
  "vscode": {
   "interpreter": {
    "hash": "c5863b7319be0ba8d88ed95044dcfd002e9d5d183ede3cf6092c3150097f8482"
   }
  }
 },
 "nbformat": 4,
 "nbformat_minor": 2
}
