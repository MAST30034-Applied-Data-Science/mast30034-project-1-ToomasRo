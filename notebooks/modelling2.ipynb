{
 "cells": [
  {
   "cell_type": "code",
   "execution_count": 1,
   "metadata": {},
   "outputs": [
    {
     "name": "stdout",
     "output_type": "stream",
     "text": [
      "22/08/23 15:02:33 WARN Utils: Your hostname, DESKTOP-L9KIK4G resolves to a loopback address: 127.0.1.1; using 172.30.17.251 instead (on interface eth0)\n",
      "22/08/23 15:02:33 WARN Utils: Set SPARK_LOCAL_IP if you need to bind to another address\n"
     ]
    },
    {
     "name": "stderr",
     "output_type": "stream",
     "text": [
      "Setting default log level to \"WARN\".\n",
      "To adjust logging level use sc.setLogLevel(newLevel). For SparkR, use setLogLevel(newLevel).\n"
     ]
    },
    {
     "name": "stdout",
     "output_type": "stream",
     "text": [
      "22/08/23 15:02:35 WARN NativeCodeLoader: Unable to load native-hadoop library for your platform... using builtin-java classes where applicable\n"
     ]
    }
   ],
   "source": [
    "# Sample connection\n",
    "from pyspark.sql import SparkSession\n",
    "from pyspark.sql import functions as F\n",
    "\n",
    "# Create a spark session (which will run spark jobs)\n",
    "spark = (\n",
    "    SparkSession.builder.appName(\"Cleaning connection\")\n",
    "    .config(\"spark.sql.repl.eagerEval.enabled\", True) \n",
    "    .config(\"spark.sql.parquet.cacheMetadata\", \"true\")\n",
    "    .config(\"spark.sql.session.timeZone\", \"Etc/UTC\")\n",
    "    .config(\"spark.driver.memory\", \"4g\")\n",
    "    .config(\"spark.executor.memory\", \"8g\")\n",
    "    .getOrCreate()\n",
    ")"
   ]
  },
  {
   "cell_type": "code",
   "execution_count": 115,
   "metadata": {},
   "outputs": [],
   "source": [
    "from statsmodels.formula.api import ols, glm\n",
    "# VectorAssembler creates new vectors from existing columns\n",
    "from pyspark.ml.feature import VectorAssembler, OneHotEncoder, MinMaxScaler, StandardScaler\n",
    "from pyspark.ml.linalg import Vectors\n",
    "\n",
    "from pyspark.ml.regression import LinearRegression\n",
    "\n",
    "import pandas as pd\n",
    "import numpy as np\n",
    "import os"
   ]
  },
  {
   "cell_type": "code",
   "execution_count": 3,
   "metadata": {},
   "outputs": [
    {
     "name": "stderr",
     "output_type": "stream",
     "text": [
      "                                                                                \r"
     ]
    }
   ],
   "source": [
    "sdf = spark.read.parquet('../data/curated/final3/clean_dataset.parquet/')"
   ]
  },
  {
   "cell_type": "markdown",
   "metadata": {},
   "source": [
    "# Setting apart test set"
   ]
  },
  {
   "cell_type": "code",
   "execution_count": 4,
   "metadata": {},
   "outputs": [
    {
     "name": "stderr",
     "output_type": "stream",
     "text": [
      "                                                                                \r"
     ]
    },
    {
     "name": "stdout",
     "output_type": "stream",
     "text": [
      "22/08/23 15:05:31 WARN package: Truncated the string representation of a plan since it was too large. This behavior can be adjusted by setting 'spark.sql.debug.maxToStringFields'.\n"
     ]
    },
    {
     "name": "stderr",
     "output_type": "stream",
     "text": [
      "                                                                                \r"
     ]
    }
   ],
   "source": [
    "# set aside 15 days from 2019 to do our testing\n",
    "# code: https://stackoverflow.com/questions/553303/generate-a-random-date-between-two-other-dates\n",
    "import random\n",
    "import time\n",
    "\n",
    "\n",
    "def str_time_prop(start, end, time_format, prop):\n",
    "    stime = time.mktime(time.strptime(start, time_format))\n",
    "    etime = time.mktime(time.strptime(end, time_format))\n",
    "\n",
    "    ptime = stime + prop * (etime - stime)\n",
    "\n",
    "    return time.strftime(time_format, time.localtime(ptime))\n",
    "\n",
    "\n",
    "def random_date(start, end, prop):\n",
    "    return str_time_prop(start, end, '%Y-%m-%d %H', prop) + ':00:00'\n",
    "\n",
    "\n",
    "random.seed(42)\n",
    "test_dates = [[random_date(\n",
    "    \"2019-06-01 00\", \"2019-08-31 23\", random.random())] for x in range(15)]\n",
    "\n",
    "test_dates_df = spark.createDataFrame(test_dates, [\"temp_date\"]).select(F.col(\"temp_date\"), F.to_timestamp(\n",
    "    F.col(\"temp_date\"), 'yyyy-MM-dd HH:mm:ss').alias(\"dt_truncated\")).select(F.col('dt_truncated'))\n",
    "\n",
    "test_dates_df.join(sdf, on=['dt_truncated'], how='left') \\\n",
    "    .dropDuplicates()\\\n",
    "    .write.mode('overwrite').parquet('../data/temp/test_set/test_data.parquet')\n",
    "\n",
    "testing_sdf = spark.read.parquet('../data/temp/test_set/test_data.parquet')\n",
    "\n",
    "# remove those lines from the fitting dataset\n",
    "sdf.subtract(testing_sdf.select('pickup_datetime', 'PULocationID', 'PUWeekday', 'PUHour', 'PUMonth', 'PUDay', 'dt_truncated',\n",
    "             'count', 'wnd', 'vis', 'tmp', 'dew', 'atm', 'cc')).write.mode('overwrite').parquet('../data/temp/train_set/train.parquet')\n"
   ]
  },
  {
   "cell_type": "markdown",
   "metadata": {},
   "source": [
    "# Normalising and one-hot-encoding the data"
   ]
  },
  {
   "cell_type": "code",
   "execution_count": null,
   "metadata": {},
   "outputs": [],
   "source": [
    "testing_sdf = spark.read.parquet('../data/temp/test_set/test_data.parquet')\n",
    "train_sdf = spark.read.parquet('../data/temp/train_set/train.parquet')\n"
   ]
  },
  {
   "cell_type": "code",
   "execution_count": 8,
   "metadata": {},
   "outputs": [
    {
     "name": "stderr",
     "output_type": "stream",
     "text": [
      "                                                                                \r"
     ]
    }
   ],
   "source": [
    "\n",
    "# # onehotencoder = OneHotEncoder(\n",
    "# #     inputCol='PULocationID',\n",
    "# #     outputCol='location_vec',\n",
    "# #     dropLast=False\n",
    "# # ).fit(sdf)\n",
    "\n",
    "# # model_sdf = onehotencoder.transform(sdf)\n",
    "\n",
    "# assembler = VectorAssembler(\n",
    "#     inputCols=['wnd', 'vis', 'tmp', 'dew', 'atm', 'cc', 'PULocationID'],\n",
    "#     outputCol='features'\n",
    "# )\n",
    "\n",
    "# assembled = assembler.transform(sdf)\n",
    "\n",
    "# scaler = StandardScaler(inputCol='features',\n",
    "#                       outputCol='scaledFeatures'\n",
    "#                       )\n",
    "\n",
    "# scalerModel = scaler.fit(assembled.select(\"features\"))        # TODO important variable\n",
    "\n",
    "# # assembler2 = VectorAssembler(\n",
    "# #     inputCols=['scaledFeatures', 'location_vec'],\n",
    "# #     outputCol='finalfeature'\n",
    "# # )\n",
    "\n",
    "# scaledData = scalerModel.transform(assembled)\n",
    "\n",
    "# #from pyspark.ml.linalg import Vectors, VectorUDT\n",
    "# #concat = F.udf(lambda v, e: Vectors.dense(list(v) + list(e.toArray())), VectorUDT())\n",
    "# #dummy_df = scaledData.withColumn('mergedFeatures', concat(scaledData.scaledFeatures, scaledData.location_vec))\n",
    "# #dummy_df.show(5, truncate=False)\n",
    "\n",
    "onehotencoder = OneHotEncoder(\n",
    "    inputCol='PULocationID',\n",
    "    outputCol='location_vec'\n",
    "    ).fit(train_sdf)\n",
    "\n",
    "ohedata = onehotencoder.transform(train_sdf)\n",
    "\n",
    "assembler = VectorAssembler(\n",
    "    inputCols=['wnd', 'vis', 'tmp', 'dew', 'atm', 'cc', 'PUMonth', 'PUWeekday', 'PUDay', 'PUHour', 'location_vec'],\n",
    "    outputCol='features')\n",
    "model_sdf = assembler.transform(ohedata)"
   ]
  },
  {
   "cell_type": "markdown",
   "metadata": {},
   "source": [
    "# Linear regression model"
   ]
  },
  {
   "cell_type": "code",
   "execution_count": 9,
   "metadata": {},
   "outputs": [
    {
     "name": "stdout",
     "output_type": "stream",
     "text": [
      "22/08/23 15:22:11 WARN Instrumentation: [1221f262] regParam is zero, which might cause numerical instability and overfitting.\n"
     ]
    },
    {
     "name": "stderr",
     "output_type": "stream",
     "text": [
      "[Stage 29:>                                                        (0 + 4) / 20]\r"
     ]
    },
    {
     "name": "stdout",
     "output_type": "stream",
     "text": [
      "22/08/23 15:23:12 WARN InstanceBuilder$NativeBLAS: Failed to load implementation from:dev.ludovic.netlib.blas.JNIBLAS\n",
      "22/08/23 15:23:12 WARN InstanceBuilder$NativeBLAS: Failed to load implementation from:dev.ludovic.netlib.blas.ForeignLinkerBLAS\n"
     ]
    },
    {
     "name": "stderr",
     "output_type": "stream",
     "text": [
      "                                                                                \r"
     ]
    },
    {
     "name": "stdout",
     "output_type": "stream",
     "text": [
      "22/08/23 15:26:52 WARN InstanceBuilder$NativeLAPACK: Failed to load implementation from:dev.ludovic.netlib.lapack.JNILAPACK\n",
      "22/08/23 15:26:52 WARN Instrumentation: [1221f262] Cholesky solver failed due to singular covariance matrix. Retrying with Quasi-Newton solver.\n"
     ]
    },
    {
     "name": "stderr",
     "output_type": "stream",
     "text": [
      "                                                                                \r"
     ]
    }
   ],
   "source": [
    "lm = LinearRegression(\n",
    "    featuresCol='features', \n",
    "    labelCol='count'\n",
    ").fit(model_sdf)"
   ]
  },
  {
   "cell_type": "markdown",
   "metadata": {},
   "source": [
    "# Evaluating model"
   ]
  },
  {
   "cell_type": "code",
   "execution_count": 11,
   "metadata": {},
   "outputs": [
    {
     "name": "stdout",
     "output_type": "stream",
     "text": [
      "Coefficients: [0.7713354966603598,0.000822832748470652,0.24462086561798435,0.22231060776413364,0.12321608654691817,-3.73287390724969e-06,-19.758227992471557,5.660308764054373,-0.10046171951641789,7.779693129878702,-366.874040271735,-373.3265026920326,-374.26430200930275,-330.4746720849185,-216.51635380107214,-361.3046861693345,-362.6356882351203,-65.64239185800335,-377.057549417982,-352.8084016048737,-305.0815210090018,-347.0523018368584,-360.9572314318466,-83.6014974238533,-250.9608505265881,-357.28575937820244,-324.4247781467671,-133.16494446848213,-275.9110526762259,-351.19570662420944,-314.4830191077919,-311.1942063057035,-299.36513246303497,-349.14512234050983,-292.4321829850697,-189.12779534681488,-245.94762925277766,-384.9027253365899,-325.21444894315954,-329.7866463196723,-370.37814168768824,-356.02284286535473,-321.5997126587646,-192.81603165324006,-356.42396279998525,-237.5751403022863,-119.30843494331242,-79.66070879049292,-346.60554024475715,-183.61059783953706,-285.88183579642606,-113.91797477938992,-114.10825933166669,-27.049811335912267,-365.62860573930857,-278.17508993678524,-383.6768815312508,-303.57822923292986,356.04006399685716,-171.8847664086154,-104.43186201944768,-299.83037692693375,-323.6396302274642,-341.029889728879,-354.39824296279556,-308.6832611041557,-297.8638189146031,-358.628340132095,-361.4553072015138,-373.7178671099538,-324.4843068878165,27.467561208294782,-271.8613502943427,-298.85229417438876,-361.3262417200631,-199.43769872403425,-216.70967510490553,-333.24992716694993,176.09830514813052,-250.92864897443494,-313.14584543285946,-264.92731719804647,-234.1458170059265,-345.68278159350336,-83.22128311177251,-82.00342542083509,-149.30259166451975,-304.5600591383063,-290.34674291885386,474.821548875133,-84.90050872783118,-312.5448073677003,-183.39846604897656,-319.679579073329,-357.08745519190364,-300.45418479329254,-344.7623749324725,-76.92897752559495,-252.63485289154815,-177.9714736616202,49.790059481918156,-248.95439522467265,-256.4417189451432,-284.9906111913625,-334.74343855346586,-219.44881913013347,-368.7688956090094,-142.10899498728168,-350.46491889276024,-368.03152783102183,78.00857392918643,-355.41016124132625,-321.4399233461732,0.0,-456.7136820737724,-393.19905022501837,-303.9788712091328,172.5304998843321,-338.57631590910614,-360.3107258478823,-379.2870143219888,-372.8777814199363,-109.67724436005646,3.7734150467969103,35.216859713643835,-348.72709485489884,-233.64732600355487,-345.261789078628,-361.507504855903,-289.4283766506829,-359.9879270276235,-329.81891384540774,-343.14188306632116,-311.23732072847196,-345.9978018984051,-186.18058898150812,-310.3127714195506,-276.0800618982099,-373.77322779570335,-177.25004171517853,-239.20536952802232,-341.74904421180094,339.62135016741655,-323.7327452656886,-324.58242888601325,-329.9178644943828,-314.40802783111263,-23.969569878252816,459.01160286755476,-337.7398640585377,52.85138614730404,99.81170458063313,192.49170577314078,-77.32778593469234,21.931811658370798,-171.85266648096936,-290.94206068583804,-320.22222862978657,319.4199375757487,-320.1340295754451,-338.5237735071893,-170.51106437809395,-295.2081141827034,-363.1616272941549,-376.9830647607268,-301.9597342969837,-348.61128177199754,-309.7073266565144,-29.75327954458695,-280.1654877934193,-324.8072314491646,635.4638339533886,395.71595699151084,195.4997544227671,215.90054481883146,-295.9951702980752,-166.90646707473286,-288.2194366195483,-262.2613736425671,-268.51588207771886,346.76991012613877,-328.85944839855875,-366.5345927466786,-313.1208635640012,-295.53343574658896,-350.595348978786,-366.55213560168283,-263.6228814020477,-342.5909116345729,-276.2210992339492,-341.1144692224708,-46.83259875174837,-316.28185701529765,-349.9441899326131,-374.0088705085692,-314.94336620226125,242.64011221807309,-355.7388365319345,-178.81175152035905,-264.54110540820744,-349.0548818732684,-317.5646672979899,-340.73445214382366,-333.11161031243523,-370.2252932773056,-305.58987903712523,-314.2305430955732,-289.81752369856036,-230.64030550866988,-374.7267976321463,-333.61426512501595,-357.9500766622847,-357.2314932920391,-335.4247934333034,-366.629159163606,-298.8080047192573,-336.59584241021673,-379.0253333183983,-311.4368446740532,-297.1963551602059,-301.36463583389326,-103.10902450718551,-323.8976759317447,-277.39947802072146,-361.17467665098417,-310.2731113920515,-263.08889340751233,-336.83334240705034,-328.3349082936603,-331.1508675582778,-297.8125513598291,-344.760918781241,-336.5440662545754,-217.9960646008103,-239.8644833985755,-135.81406684292642,-213.4060825392115,-321.0319077716738,-267.1523019172386,74.38294610162802,330.07343877326866,160.1409946093295,-213.08684755779416,19.571398996940033,413.81876006661645,-268.74568659944765,329.26642687738865,434.152418463973,37.618246413746604,132.64245827133942,-353.7516067492186,-294.10933729566665,-292.84976557022225,-225.72931158307992,-166.41689676992254,-350.13785816339043,112.53392604653583,-242.82823460096367,-321.8167976653842,150.6786275699652,-325.8495318974677,-358.509771053888,-349.0924593892481,-349.61167226903035,-281.6407333337509,55.93440516841132,-81.48925476210427,-330.6538714228609,-305.55349883541896,-310.7639454998129,-257.65222044323565,-191.7932402567143,-54.37675969058992]\n",
      "Intercept: -1006.9457714299198\n",
      "numIterations: 17\n",
      "objectiveHistory: [0.4999999999999998, 0.2553503139553086, 0.20813191847902013, 0.20736992057284231, 0.20728923680827427, 0.20720467599614634, 0.2071978423962486, 0.20719552272484165, 0.2071926841639189, 0.20718073915013213, 0.20716650550993942, 0.20716167271190278, 0.20715603061466603, 0.20715528935882932, 0.20715527232644537, 0.2071552721459522, 0.20715527212712415, 0.20715527211486262]\n",
      "155330282\n",
      "RMSE: 226.657606\n",
      "151.83945365733226\n",
      "r2: 0.585689\n"
     ]
    }
   ],
   "source": [
    "print(\"Coefficients: \" + str(lm.coefficients))\n",
    "print(\"Intercept: \" + str(lm.intercept))\n",
    "trainingSummary = lm.summary\n",
    "print(\"numIterations: %d\" % trainingSummary.totalIterations)\n",
    "print(\"objectiveHistory: %s\" % str(trainingSummary.objectiveHistory))\n",
    "# print(trainingSummary.residuals.count())\n",
    "print(\"RMSE: %f\" % trainingSummary.rootMeanSquaredError)\n",
    "print(trainingSummary.meanAbsoluteError)\n",
    "print(\"r2: %f\" % trainingSummary.r2) "
   ]
  },
  {
   "cell_type": "code",
   "execution_count": 24,
   "metadata": {},
   "outputs": [
    {
     "name": "stderr",
     "output_type": "stream",
     "text": [
      "[Stage 48:>                                                        (0 + 4) / 20]\r"
     ]
    },
    {
     "name": "stdout",
     "output_type": "stream",
     "text": [
      "22/08/23 15:55:30 ERROR TaskSetManager: Total size of serialized results of 16 tasks (1083.3 MiB) is bigger than spark.driver.maxResultSize (1024.0 MiB)\n",
      "22/08/23 15:55:30 WARN TaskSetManager: Lost task 15.0 in stage 47.0 (TID 418) (172.30.17.251 executor driver): TaskKilled (Tasks result size has exceeded maxResultSize)\n",
      "22/08/23 15:55:30 WARN TaskSetManager: Lost task 19.0 in stage 47.0 (TID 422) (172.30.17.251 executor driver): TaskKilled (Stage cancelled)\n",
      "22/08/23 15:55:30 WARN TaskSetManager: Lost task 18.0 in stage 47.0 (TID 421) (172.30.17.251 executor driver): TaskKilled (Stage cancelled)\n",
      "22/08/23 15:55:30 WARN TaskSetManager: Lost task 16.0 in stage 47.0 (TID 419) (172.30.17.251 executor driver): TaskKilled (Stage cancelled)\n",
      "22/08/23 15:55:30 WARN TaskSetManager: Lost task 17.0 in stage 47.0 (TID 420) (172.30.17.251 executor driver): TaskKilled (Stage cancelled)\n"
     ]
    },
    {
     "name": "stderr",
     "output_type": "stream",
     "text": [
      "                                                                                \r"
     ]
    }
   ],
   "source": [
    "residuals = trainingSummary.residuals.sample(0.05, 42).toPandas()"
   ]
  },
  {
   "cell_type": "code",
   "execution_count": 29,
   "metadata": {},
   "outputs": [
    {
     "data": {
      "image/png": "[encoded data removed]",
      "text/plain": [
       "<Figure size 432x288 with 1 Axes>"
      ]
     },
     "metadata": {
      "needs_background": "light"
     },
     "output_type": "display_data"
    }
   ],
   "source": [
    "import matplotlib.pyplot as plt\n",
    "\n",
    "plt.hist(residuals, bins=100)\n",
    "plt.show()\n"
   ]
  },
  {
   "cell_type": "markdown",
   "metadata": {},
   "source": [
    "# Linear reg v2"
   ]
  },
  {
   "cell_type": "code",
   "execution_count": 31,
   "metadata": {},
   "outputs": [
    {
     "name": "stderr",
     "output_type": "stream",
     "text": [
      "                                                                                \r"
     ]
    },
    {
     "name": "stdout",
     "output_type": "stream",
     "text": [
      "one hot encoding\n",
      "assembling\n",
      "fitting scaler\n"
     ]
    },
    {
     "name": "stderr",
     "output_type": "stream",
     "text": [
      "[Stage 56:=====================================================>  (19 + 1) / 20]\r"
     ]
    },
    {
     "name": "stdout",
     "output_type": "stream",
     "text": [
      "scaling\n"
     ]
    },
    {
     "name": "stderr",
     "output_type": "stream",
     "text": [
      "                                                                                \r"
     ]
    }
   ],
   "source": [
    "# print('fitting OHE')\n",
    "onehotencoder = OneHotEncoder(\n",
    "    inputCol='PULocationID',\n",
    "    outputCol='location_vec'\n",
    ").fit(train_sdf)\n",
    "\n",
    "# print('one hot encoding')\n",
    "onehotdata = onehotencoder.transform(train_sdf)\n",
    "\n",
    "assembler = VectorAssembler(\n",
    "    inputCols=['wnd', 'vis', 'tmp', 'dew', 'atm', 'cc', 'PUMonth',\n",
    "               'PUWeekday', 'PUDay', 'PUHour', 'location_vec'],\n",
    "    outputCol='features'\n",
    "    )\n",
    "\n",
    "# print('assembling')\n",
    "assembled_sdf = assembler.transform(onehotdata)\n",
    "\n",
    "scaler = StandardScaler(\n",
    "    inputCol='features',\n",
    "    outputCol='scaledFeatures'\n",
    ")\n",
    "# print('fitting scaler')\n",
    "scalerModel = scaler.fit(\n",
    "    assembled_sdf.select(\"features\")\n",
    ")        # TODO important variable\n",
    "\n",
    "# print('scaling')\n",
    "model_sdf = scalerModel.transform(assembled_sdf)"
   ]
  },
  {
   "cell_type": "code",
   "execution_count": 32,
   "metadata": {},
   "outputs": [
    {
     "name": "stdout",
     "output_type": "stream",
     "text": [
      "22/08/23 16:22:30 WARN Instrumentation: [c9fdb863] regParam is zero, which might cause numerical instability and overfitting.\n"
     ]
    },
    {
     "name": "stderr",
     "output_type": "stream",
     "text": [
      "                                                                                \r"
     ]
    },
    {
     "name": "stdout",
     "output_type": "stream",
     "text": [
      "22/08/23 16:26:59 WARN Instrumentation: [c9fdb863] Cholesky solver failed due to singular covariance matrix. Retrying with Quasi-Newton solver.\n"
     ]
    },
    {
     "name": "stderr",
     "output_type": "stream",
     "text": [
      "                                                                                \r"
     ]
    }
   ],
   "source": [
    "lm = LinearRegression(\n",
    "    featuresCol='features', \n",
    "    labelCol='count'\n",
    ").fit(model_sdf)"
   ]
  },
  {
   "cell_type": "code",
   "execution_count": 40,
   "metadata": {},
   "outputs": [
    {
     "name": "stdout",
     "output_type": "stream",
     "text": [
      "Coefficients: [0.771335496661224,0.0008228327484720362,0.24462086561885799,0.2223106077633378,0.12321608654929757,-3.7328739072288994e-06,-19.758227992418327,5.660308764055657,-0.10046171951684743,7.779693129871784,-366.8740402721216,-373.32650269241816,-374.26430200971265,-330.4746720853066,-216.516353801472,-361.3046861697357,-362.63568823550986,-65.64239185839517,-377.0575494183613,-352.8084016052628,-305.0815210093993,-347.0523018372417,-360.9572314322081,-83.60149742422027,-250.9608505269722,-357.2857593785886,-324.4247781471665,-133.16494446886458,-275.91105267660964,-351.19570662460524,-314.4830191081712,-311.1942063060873,-299.3651324634128,-349.14512234089744,-292.43218298546066,-189.12779534719044,-245.94762925315098,-384.90272533696213,-325.2144489435508,-329.7866463200505,-370.3781416881016,-356.0228428657244,-321.5997126591553,-192.81603165361074,-356.42396280034006,-237.57514030267404,-119.30843494372,-79.66070879088996,-346.6055402451575,-183.6105978399265,-285.8818357968051,-113.91797477977308,-114.10825933205544,-27.049811336274228,-365.62860573970653,-278.175089937166,-383.6768815316278,-303.5782292333204,356.0400639964571,-171.8847664089964,-104.43186201983657,-299.8303769273107,-323.63963022784503,-341.029889729272,-354.3982429631782,-308.68326110454245,-297.86381891500326,-358.628340132504,-361.45530720191186,-373.71786711033195,-324.484306888203,27.46756120791204,-271.8613502947249,-298.85229417478007,-361.32624172044314,-199.43769872440538,-216.7096751052685,-333.24992716733277,176.09830514774092,-250.92864897482448,-313.14584543326004,-264.9273171984351,-234.14581700631686,-345.68278159389695,-83.22128311215779,-82.0034254212151,-149.3025916649033,-304.56005913869956,-290.3467429192457,474.8215488747207,-84.900508728238,-312.54480736809353,-183.39846604936236,-319.67957907373625,-357.08745519231474,-300.4541847936829,-344.76237493287243,-76.92897752596373,-252.63485289191655,-177.9714736620013,49.79005948153542,-248.95439522506186,-256.44171894553557,-284.99061119174996,-334.74343855385115,-219.44881913051293,-368.76889560939196,-142.10899498764977,-350.4649188931469,-368.03152783141263,78.00857392880062,-355.4101612417127,-321.43992334656315,0.0,-456.71368207374974,-393.19905022537966,-303.9788712095155,172.53049988395026,-338.5763159094963,-360.3107258482799,-379.2870143223599,-372.8777814203195,-109.67724436044139,3.773415046425133,35.216859713247125,-348.7270948552955,-233.64732600395223,-345.261789079023,-361.5075048562772,-289.4283766510758,-359.98792702802035,-329.8189138457943,-343.14188306672236,-311.23732072885406,-345.9978018987971,-186.18058898188661,-310.31277141994025,-276.08006189861936,-373.7732277960811,-177.2500417155793,-239.20536952840354,-341.7490442121879,339.62135016702615,-323.7327452660745,-324.58242888639955,-329.91786449477337,-314.4080278315047,-23.969569878633774,459.0116028671894,-337.7398640589369,52.851386146928576,99.81170458025309,192.49170577277528,-77.32778593507108,21.93181165799674,-171.85266648135166,-290.9420606862315,-320.22222863017953,319.4199375753211,-320.1340295758241,-338.5237735075821,-170.51106437847434,-295.2081141830929,-363.16162729453447,-376.9830647610927,-301.9597342973574,-348.61128177239544,-309.7073266569114,-29.75327954499068,-280.16548779380304,-324.8072314495529,635.4638339530189,395.71595699114096,195.4997544223985,215.9005448184493,-295.9951702984556,-166.9064670751066,-288.2194366199396,-262.2613736429572,-268.5158820781068,346.7699101257607,-328.859448398959,-366.5345927470629,-313.12086356440756,-295.5334357469745,-350.595348979171,-366.55213560206676,-263.62288140244186,-342.5909116349621,-276.22109923434476,-341.1144692228628,-46.832598752119864,-316.2818570156885,-349.94418993300394,-374.00887050895386,-314.9433662026433,242.6401122176852,-355.73883653233304,-178.81175152073936,-264.54110540858744,-349.0548818736323,-317.56466729838564,-340.7344521442093,-333.1116103128308,-370.2252932776743,-305.5898790374873,-314.23054309594534,-289.8175236989611,-230.64030550906233,-374.72679763250875,-333.61426512540555,-357.9500766626742,-357.23149329242204,-335.4247934337062,-366.629159163997,-298.80800471965347,-336.5958424106144,-379.0253333187702,-311.43684467444905,-297.19635516058287,-301.36463583427354,-103.10902450755441,-323.89767593213753,-277.3994780211099,-361.1746766513685,-310.2731113924493,-263.08889340791166,-336.83334240744125,-328.3349082940605,-331.15086755867605,-297.8125513602083,-344.7609187816309,-336.5440662549661,-217.9960646011996,-239.86448339896862,-135.8140668433119,-213.4060825396015,-321.03190777205936,-267.15230191761765,74.3829461012522,330.07343877288673,160.14099460895662,-213.08684755818769,19.571398996569805,413.8187600662423,-268.7456865998377,329.26642687701235,434.1524184636018,37.61824641336768,132.64245827096786,-353.7516067496079,-294.1093372960583,-292.84976557060446,-225.7293115834767,-166.4168967703066,-350.13785816379635,112.53392604615884,-242.8282346013423,-321.8167976657781,150.67862756956845,-325.84953189785676,-358.50977105428126,-349.09245938963164,-349.6116722693706,-281.6407333341422,55.934405168014976,-81.4892547625063,-330.65387142324084,-305.5534988358138,-310.76394550020956,-257.6522204436308,-191.7932402570795,-54.376759690978695]\n",
      "Intercept: -1006.9457714541153\n",
      "numIterations:  17\n",
      "objectiveHistory:  [0.4999999999999998, 0.2553503139553086, 0.20813191847902013, 0.2073699205728421, 0.2072892368082735, 0.20720467599614434, 0.20719784239625194, 0.2071955227248392, 0.20719268416392955, 0.20718073915014168, 0.20716650550996318, 0.20716167271179797, 0.20715603061465337, 0.20715528935882932, 0.20715527232644892, 0.20715527214595286, 0.2071552721271157, 0.2071552721148635]\n",
      "RMSE:  226.65760587275932\n",
      "MAE 151.83945365732984\n",
      "R2: 0.5856894557702337\n"
     ]
    }
   ],
   "source": [
    "print(\"Coefficients: \" + str(lm.coefficients))\n",
    "print(\"Intercept: \" + str(lm.intercept))\n",
    "trainingSummary = lm.summary\n",
    "print(\"numIterations: \", trainingSummary.totalIterations)\n",
    "print(\"objectiveHistory: \", str(trainingSummary.objectiveHistory))\n",
    "# print(trainingSummary.residuals.count())\n",
    "print(\"RMSE: \", trainingSummary.rootMeanSquaredError)\n",
    "print(\"MAE\", trainingSummary.meanAbsoluteError)\n",
    "print(\"R2:\", trainingSummary.r2)\n"
   ]
  },
  {
   "cell_type": "markdown",
   "metadata": {},
   "source": [
    "## Predicting\n",
    "the pickup numbers per zone for those 15 hours we picked out earlier"
   ]
  },
  {
   "cell_type": "code",
   "execution_count": 41,
   "metadata": {},
   "outputs": [],
   "source": [
    "testing_sdf = spark.read.parquet('../data/temp/test_set/test_data.parquet')"
   ]
  },
  {
   "cell_type": "code",
   "execution_count": 44,
   "metadata": {},
   "outputs": [
    {
     "name": "stdout",
     "output_type": "stream",
     "text": [
      "+-------------------+-------------------+------------+---------+------+-------+-----+-----+----+-------+-----+----+-------+---+-----------------+--------------------+--------------------+\n",
      "|       dt_truncated|    pickup_datetime|PULocationID|PUWeekday|PUHour|PUMonth|PUDay|count| wnd|    vis|  tmp| dew|    atm| cc|     location_vec|            features|      scaledFeatures|\n",
      "+-------------------+-------------------+------------+---------+------+-------+-----+-----+----+-------+-----+----+-------+---+-----------------+--------------------+--------------------+\n",
      "|2019-06-03 10:00:00|2019-06-03 10:33:30|       198.0|        2|    10|      6|    3|   16|46.0|16093.0|161.0|78.0|10110.0|2.0|(263,[198],[1.0])|(273,[0,1,2,3,4,5...|(273,[0,1,2,3,4,5...|\n",
      "|2019-06-03 10:00:00|2019-06-03 10:21:30|       196.0|        2|    10|      6|    3|   14|46.0|16093.0|161.0|78.0|10110.0|2.0|(263,[196],[1.0])|(273,[0,1,2,3,4,5...|(273,[0,1,2,3,4,5...|\n",
      "|2019-06-03 10:00:00|2019-06-03 10:10:51|       238.0|        2|    10|      6|    3|  273|46.0|16093.0|161.0|78.0|10110.0|2.0|(263,[238],[1.0])|(273,[0,1,2,3,4,5...|(273,[0,1,2,3,4,5...|\n",
      "|2019-06-03 10:00:00|2019-06-03 10:08:32|       132.0|        2|    10|      6|    3|  338|46.0|16093.0|161.0|78.0|10110.0|2.0|(263,[132],[1.0])|(273,[0,1,2,3,4,5...|(273,[0,1,2,3,4,5...|\n",
      "|2019-06-03 10:00:00|2019-06-03 10:38:25|       132.0|        2|    10|      6|    3|  338|46.0|16093.0|161.0|78.0|10110.0|2.0|(263,[132],[1.0])|(273,[0,1,2,3,4,5...|(273,[0,1,2,3,4,5...|\n",
      "+-------------------+-------------------+------------+---------+------+-------+-----+-----+----+-------+-----+----+-------+---+-----------------+--------------------+--------------------+\n",
      "only showing top 5 rows\n",
      "\n"
     ]
    }
   ],
   "source": [
    "testing_sdf = onehotencoder.transform(testing_sdf)\n",
    "testing_sdf = assembler.transform(testing_sdf)\n",
    "testing_sdf = scalerModel.transform(testing_sdf)\n",
    "testing_sdf.show(5)\n"
   ]
  },
  {
   "cell_type": "code",
   "execution_count": 52,
   "metadata": {},
   "outputs": [
    {
     "name": "stdout",
     "output_type": "stream",
     "text": [
      "+-------------------+------------+---------+------+-------+-----+-----+----+-------+-----+-----+-------+---+-----------------+--------------------+--------------------+------------------+\n",
      "|       dt_truncated|PULocationID|PUWeekday|PUHour|PUMonth|PUDay|count| wnd|    vis|  tmp|  dew|    atm| cc|     location_vec|            features|      scaledFeatures|        prediction|\n",
      "+-------------------+------------+---------+------+-------+-----+-----+----+-------+-----+-----+-------+---+-----------------+--------------------+--------------------+------------------+\n",
      "|2019-08-07 17:00:00|        73.0|        4|    17|      8|    7|    6|77.0|16093.0|289.0|217.0|10082.0|4.0| (263,[73],[1.0])|(273,[0,1,2,3,4,5...|(273,[0,1,2,3,4,5...| 77.33449161115789|\n",
      "|2019-08-07 17:00:00|       143.0|        4|    17|      8|    7|  160|77.0|16093.0|289.0|217.0|10082.0|4.0|(263,[143],[1.0])|(273,[0,1,2,3,4,5...|(273,[0,1,2,3,4,5...| 345.6894872699837|\n",
      "|2019-08-07 17:00:00|       174.0|        4|    17|      8|    7|    8|77.0|16093.0|289.0|217.0|10082.0|4.0|(263,[174],[1.0])|(273,[0,1,2,3,4,5...|(273,[0,1,2,3,4,5...| 127.4838374580803|\n",
      "|2019-08-07 17:00:00|        78.0|        4|    17|      8|    7|    5|77.0|16093.0|289.0|217.0|10082.0|4.0| (263,[78],[1.0])|(273,[0,1,2,3,4,5...|(273,[0,1,2,3,4,5...|132.67053028580915|\n",
      "|2019-08-07 17:00:00|        88.0|        4|    17|      8|    7|   67|77.0|16093.0|289.0|217.0|10082.0|4.0| (263,[88],[1.0])|(273,[0,1,2,3,4,5...|(273,[0,1,2,3,4,5...|170.38242031313814|\n",
      "|2019-08-07 17:00:00|       137.0|        4|    17|      8|    7|  158|77.0|16093.0|289.0|217.0|10082.0|4.0|(263,[137],[1.0])|(273,[0,1,2,3,4,5...|(273,[0,1,2,3,4,5...| 399.0477033264209|\n",
      "|2019-08-07 17:00:00|       192.0|        4|    17|      8|    7|    3|77.0|16093.0|289.0|217.0|10082.0|4.0|(263,[192],[1.0])|(273,[0,1,2,3,4,5...|(273,[0,1,2,3,4,5...| 82.28282106084555|\n",
      "|2019-08-07 17:00:00|        87.0|        4|    17|      8|    7|  103|77.0|16093.0|289.0|217.0|10082.0|4.0| (263,[87],[1.0])|(273,[0,1,2,3,4,5...|(273,[0,1,2,3,4,5...|346.08829567909095|\n",
      "|2019-08-07 17:00:00|       185.0|        4|    17|      8|    7|    4|77.0|16093.0|289.0|217.0|10082.0|4.0|(263,[185],[1.0])|(273,[0,1,2,3,4,5...|(273,[0,1,2,3,4,5...|108.07390700241137|\n",
      "|2019-08-07 17:00:00|       216.0|        4|    17|      8|    7|    5|77.0|16093.0|289.0|217.0|10082.0|4.0|(263,[216],[1.0])|(273,[0,1,2,3,4,5...|(273,[0,1,2,3,4,5...|159.92837979714307|\n",
      "|2019-08-07 17:00:00|       261.0|        4|    17|      8|    7|   74|77.0|16093.0|289.0|217.0|10082.0|4.0|(263,[261],[1.0])|(273,[0,1,2,3,4,5...|(273,[0,1,2,3,4,5...|231.22403294797516|\n",
      "|2019-08-07 17:00:00|        37.0|        4|    17|      8|    7|    5|77.0|16093.0|289.0|217.0|10082.0|4.0| (263,[37],[1.0])|(273,[0,1,2,3,4,5...|(273,[0,1,2,3,4,5...|343.35656441416484|\n",
      "|2019-08-07 17:00:00|        91.0|        4|    17|      8|    7|    1|77.0|16093.0|289.0|217.0|10082.0|4.0| (263,[91],[1.0])|(273,[0,1,2,3,4,5...|(273,[0,1,2,3,4,5...|174.06287797999278|\n",
      "|2019-08-07 17:00:00|        71.0|        4|    17|      8|    7|    1|77.0|16093.0|289.0|217.0|10082.0|4.0| (263,[71],[1.0])|(273,[0,1,2,3,4,5...|(273,[0,1,2,3,4,5...|158.08995600661967|\n",
      "|2019-08-07 17:00:00|       116.0|        4|    17|      8|    7|   14|77.0|16093.0|289.0|217.0|10082.0|4.0|(263,[116],[1.0])|(273,[0,1,2,3,4,5...|(273,[0,1,2,3,4,5...| 189.3699472011025|\n",
      "|2019-08-07 17:00:00|        94.0|        4|    17|      8|    7|    1|77.0|16093.0|289.0|217.0|10082.0|4.0| (263,[94],[1.0])|(273,[0,1,2,3,4,5...|(273,[0,1,2,3,4,5...| 88.27383465120363|\n",
      "|2019-08-07 17:00:00|       171.0|        4|    17|      8|    7|   10|77.0|16093.0|289.0|217.0|10082.0|4.0|(263,[171],[1.0])|(273,[0,1,2,3,4,5...|(273,[0,1,2,3,4,5...| 94.15782480609562|\n",
      "|2019-08-07 17:00:00|       231.0|        4|    17|      8|    7|  179|77.0|16093.0|289.0|217.0|10082.0|4.0|(263,[231],[1.0])|(273,[0,1,2,3,4,5...|(273,[0,1,2,3,4,5...| 583.1582678140113|\n",
      "|2019-08-07 17:00:00|        55.0|        4|    17|      8|    7|    2|77.0|16093.0|289.0|217.0|10082.0|4.0| (263,[55],[1.0])|(273,[0,1,2,3,4,5...|(273,[0,1,2,3,4,5...|114.33401210051227|\n",
      "|2019-08-07 17:00:00|       255.0|        4|    17|      8|    7|   13|77.0|16093.0|289.0|217.0|10082.0|4.0|(263,[255],[1.0])|(273,[0,1,2,3,4,5...|(273,[0,1,2,3,4,5...|478.95167837306974|\n",
      "|2019-08-07 17:00:00|       124.0|        4|    17|      8|    7|    1|77.0|16093.0|289.0|217.0|10082.0|4.0|(263,[124],[1.0])|(273,[0,1,2,3,4,5...|(273,[0,1,2,3,4,5...| 77.01947130625751|\n",
      "|2019-08-07 17:00:00|       145.0|        4|    17|      8|    7|   13|77.0|16093.0|289.0|217.0|10082.0|4.0|(263,[145],[1.0])|(273,[0,1,2,3,4,5...|(273,[0,1,2,3,4,5...|251.16460672370306|\n",
      "|2019-08-07 17:00:00|       176.0|        4|    17|      8|    7|    1|77.0|16093.0|289.0|217.0|10082.0|4.0|(263,[176],[1.0])|(273,[0,1,2,3,4,5...|(273,[0,1,2,3,4,5...|56.465137602987966|\n",
      "|2019-08-07 17:00:00|       239.0|        4|    17|      8|    7|  413|77.0|16093.0|289.0|217.0|10082.0|4.0|(263,[239],[1.0])|(273,[0,1,2,3,4,5...|(273,[0,1,2,3,4,5...| 555.6597314760226|\n",
      "|2019-08-07 17:00:00|        22.0|        4|    17|      8|    7|    3|77.0|16093.0|289.0|217.0|10082.0|4.0| (263,[22],[1.0])|(273,[0,1,2,3,4,5...|(273,[0,1,2,3,4,5...| 123.6521407416418|\n",
      "|2019-08-07 17:00:00|       119.0|        4|    17|      8|    7|    3|77.0|16093.0|289.0|217.0|10082.0|4.0|(263,[119],[1.0])|(273,[0,1,2,3,4,5...|(273,[0,1,2,3,4,5...|  133.588896553979|\n",
      "|2019-08-07 17:00:00|       144.0|        4|    17|      8|    7|  115|77.0|16093.0|289.0|217.0|10082.0|4.0|(263,[144],[1.0])|(273,[0,1,2,3,4,5...|(273,[0,1,2,3,4,5...|444.94908486305155|\n",
      "|2019-08-07 17:00:00|        50.0|        4|    17|      8|    7|   95|77.0|16093.0|289.0|217.0|10082.0|4.0| (263,[50],[1.0])|(273,[0,1,2,3,4,5...|(273,[0,1,2,3,4,5...|318.58541118521805|\n",
      "|2019-08-07 17:00:00|        33.0|        4|    17|      8|    7|   48|77.0|16093.0|289.0|217.0|10082.0|4.0| (263,[33],[1.0])|(273,[0,1,2,3,4,5...|(273,[0,1,2,3,4,5...|  230.201241551444|\n",
      "|2019-08-07 17:00:00|        42.0|        4|    17|      8|    7|   44|77.0|16093.0|289.0|217.0|10082.0|4.0| (263,[42],[1.0])|(273,[0,1,2,3,4,5...|(273,[0,1,2,3,4,5...|308.90901387299925|\n",
      "|2019-08-07 17:00:00|        89.0|        4|    17|      8|    7|    6|77.0|16093.0|289.0|217.0|10082.0|4.0| (263,[89],[1.0])|(273,[0,1,2,3,4,5...|(273,[0,1,2,3,4,5...|245.04579954305348|\n",
      "|2019-08-07 17:00:00|       162.0|        4|    17|      8|    7|  713|77.0|16093.0|289.0|217.0|10082.0|4.0|(263,[162],[1.0])|(273,[0,1,2,3,4,5...|(273,[0,1,2,3,4,5...| 818.7332301961957|\n",
      "|2019-08-07 17:00:00|       214.0|        4|    17|      8|    7|    1|77.0|16093.0|289.0|217.0|10082.0|4.0|(263,[214],[1.0])|(273,[0,1,2,3,4,5...|(273,[0,1,2,3,4,5...| 61.84259655368635|\n",
      "|2019-08-07 17:00:00|         5.0|        4|    17|      8|    7|    1|77.0|16093.0|289.0|217.0|10082.0|4.0|  (263,[5],[1.0])|(273,[0,1,2,3,4,5...|(273,[0,1,2,3,4,5...| 61.71258703531896|\n",
      "|2019-08-07 17:00:00|       200.0|        4|    17|      8|    7|    1|77.0|16093.0|289.0|217.0|10082.0|4.0|(263,[200],[1.0])|(273,[0,1,2,3,4,5...|(273,[0,1,2,3,4,5...| 89.40300807964911|\n",
      "|2019-08-07 17:00:00|       209.0|        4|    17|      8|    7|   20|77.0|16093.0|289.0|217.0|10082.0|4.0|(263,[209],[1.0])|(273,[0,1,2,3,4,5...|(273,[0,1,2,3,4,5...| 125.8209180444718|\n",
      "|2019-08-07 17:00:00|       221.0|        4|    17|      8|    7|    9|77.0|16093.0|289.0|217.0|10082.0|4.0|(263,[221],[1.0])|(273,[0,1,2,3,4,5...|(273,[0,1,2,3,4,5...| 78.25635442342389|\n",
      "|2019-08-07 17:00:00|        29.0|        4|    17|      8|    7|    3|77.0|16093.0|289.0|217.0|10082.0|4.0| (263,[29],[1.0])|(273,[0,1,2,3,4,5...|(273,[0,1,2,3,4,5...|  93.2306268850042|\n",
      "|2019-08-07 17:00:00|       133.0|        4|    17|      8|    7|    1|77.0|16093.0|289.0|217.0|10082.0|4.0|(263,[133],[1.0])|(273,[0,1,2,3,4,5...|(273,[0,1,2,3,4,5...|  99.2845279389802|\n",
      "|2019-08-07 17:00:00|        41.0|        4|    17|      8|    7|  104|77.0|16093.0|289.0|217.0|10082.0|4.0| (263,[41],[1.0])|(273,[0,1,2,3,4,5...|(273,[0,1,2,3,4,5...|309.09929842528175|\n",
      "|2019-08-07 17:00:00|        82.0|        4|    17|      8|    7|   68|77.0|16093.0|289.0|217.0|10082.0|4.0| (263,[82],[1.0])|(273,[0,1,2,3,4,5...|(273,[0,1,2,3,4,5...|239.61880715569225|\n",
      "|2019-08-07 17:00:00|       186.0|        4|    17|      8|    7|  334|77.0|16093.0|289.0|217.0|10082.0|4.0|(263,[186],[1.0])|(273,[0,1,2,3,4,5...|(273,[0,1,2,3,4,5...|   665.65738542274|\n",
      "|2019-08-07 17:00:00|        90.0|        4|    17|      8|    7|  234|77.0|16093.0|289.0|217.0|10082.0|4.0| (263,[90],[1.0])|(273,[0,1,2,3,4,5...|(273,[0,1,2,3,4,5...|472.80733268659026|\n",
      "|2019-08-07 17:00:00|        86.0|        4|    17|      8|    7|    3|77.0|16093.0|289.0|217.0|10082.0|4.0| (263,[86],[1.0])|(273,[0,1,2,3,4,5...|(273,[0,1,2,3,4,5...| 78.25489827218223|\n",
      "|2019-08-07 17:00:00|        66.0|        4|    17|      8|    7|   31|77.0|16093.0|289.0|217.0|10082.0|4.0| (263,[66],[1.0])|(273,[0,1,2,3,4,5...|(273,[0,1,2,3,4,5...| 206.3075980997861|\n",
      "|2019-08-07 17:00:00|        43.0|        4|    17|      8|    7|  334|77.0|16093.0|289.0|217.0|10082.0|4.0| (263,[43],[1.0])|(273,[0,1,2,3,4,5...|(273,[0,1,2,3,4,5...|395.96746186878056|\n",
      "|2019-08-07 17:00:00|       187.0|        4|    17|      8|    7|    5|77.0|16093.0|289.0|217.0|10082.0|4.0|(263,[187],[1.0])|(273,[0,1,2,3,4,5...|(273,[0,1,2,3,4,5...| 67.27843667272157|\n",
      "|2019-08-07 17:00:00|       147.0|        4|    17|      8|    7|    1|77.0|16093.0|289.0|217.0|10082.0|4.0|(263,[147],[1.0])|(273,[0,1,2,3,4,5...|(273,[0,1,2,3,4,5...| 102.7950445748753|\n",
      "|2019-08-07 17:00:00|       115.0|        4|    17|      8|    7|    1|77.0|16093.0|289.0|217.0|10082.0|4.0|(263,[115],[1.0])|(273,[0,1,2,3,4,5...|(273,[0,1,2,3,4,5...| 74.29017834975923|\n",
      "|2019-08-07 17:00:00|       178.0|        4|    17|      8|    7|    2|77.0|16093.0|289.0|217.0|10082.0|4.0|(263,[178],[1.0])|(273,[0,1,2,3,4,5...|(273,[0,1,2,3,4,5...| 80.42636157009258|\n",
      "|2019-08-07 17:00:00|        18.0|        4|    17|      8|    7|    3|77.0|16093.0|289.0|217.0|10082.0|4.0| (263,[18],[1.0])|(273,[0,1,2,3,4,5...|(273,[0,1,2,3,4,5...|147.10622052844508|\n",
      "|2019-08-07 17:00:00|        57.0|        4|    17|      8|    7|    1|77.0|16093.0|289.0|217.0|10082.0|4.0| (263,[57],[1.0])|(273,[0,1,2,3,4,5...|(273,[0,1,2,3,4,5...| 64.38893307255069|\n",
      "|2019-08-07 17:00:00|        16.0|        4|    17|      8|    7|    5|77.0|16093.0|289.0|217.0|10082.0|4.0| (263,[16],[1.0])|(273,[0,1,2,3,4,5...|(273,[0,1,2,3,4,5...| 98.59249505788819|\n",
      "|2019-08-07 17:00:00|       126.0|        4|    17|      8|    7|    2|77.0|16093.0|289.0|217.0|10082.0|4.0|(263,[126],[1.0])|(273,[0,1,2,3,4,5...|(273,[0,1,2,3,4,5...|112.70450178511453|\n",
      "|2019-08-07 17:00:00|        74.0|        4|    17|      8|    7|  135|77.0|16093.0|289.0|217.0|10082.0|4.0| (263,[74],[1.0])|(273,[0,1,2,3,4,5...|(273,[0,1,2,3,4,5...| 339.7959900928969|\n",
      "|2019-08-07 17:00:00|       121.0|        4|    17|      8|    7|    6|77.0|16093.0|289.0|217.0|10082.0|4.0|(263,[121],[1.0])|(273,[0,1,2,3,4,5...|(273,[0,1,2,3,4,5...| 93.19835935926051|\n",
      "|2019-08-07 17:00:00|        21.0|        4|    17|      8|    7|    1|77.0|16093.0|289.0|217.0|10082.0|4.0| (263,[21],[1.0])|(273,[0,1,2,3,4,5...|(273,[0,1,2,3,4,5...|111.82306689896734|\n",
      "|2019-08-07 17:00:00|       163.0|        4|    17|      8|    7|  420|77.0|16093.0|289.0|217.0|10082.0|4.0|(263,[163],[1.0])|(273,[0,1,2,3,4,5...|(273,[0,1,2,3,4,5...| 618.5170276274531|\n",
      "|2019-08-07 17:00:00|       112.0|        4|    17|      8|    7|    1|77.0|16093.0|289.0|217.0|10082.0|4.0|(263,[112],[1.0])|(273,[0,1,2,3,4,5...|(273,[0,1,2,3,4,5...|313.34002884461336|\n",
      "|2019-08-07 17:00:00|       256.0|        4|    17|      8|    7|    7|77.0|16093.0|289.0|217.0|10082.0|4.0|(263,[256],[1.0])|(273,[0,1,2,3,4,5...|(273,[0,1,2,3,4,5...| 341.5280184425484|\n",
      "|2019-08-07 17:00:00|       167.0|        4|    17|      8|    7|    4|77.0|16093.0|289.0|217.0|10082.0|4.0|(263,[167],[1.0])|(273,[0,1,2,3,4,5...|(273,[0,1,2,3,4,5...|134.79783658511508|\n",
      "|2019-08-07 17:00:00|       234.0|        4|    17|      8|    7|  458|77.0|16093.0|289.0|217.0|10082.0|4.0|(263,[234],[1.0])|(273,[0,1,2,3,4,5...|(273,[0,1,2,3,4,5...|  836.836033271297|\n",
      "|2019-08-07 17:00:00|       230.0|        4|    17|      8|    7|  461|77.0|16093.0|289.0|217.0|10082.0|4.0|(263,[230],[1.0])|(273,[0,1,2,3,4,5...|(273,[0,1,2,3,4,5...| 753.0907119779414|\n",
      "|2019-08-07 17:00:00|       102.0|        4|    17|      8|    7|   10|77.0|16093.0|289.0|217.0|10082.0|4.0|(263,[102],[1.0])|(273,[0,1,2,3,4,5...|(273,[0,1,2,3,4,5...|101.57734985849163|\n",
      "|2019-08-07 17:00:00|       195.0|        4|    17|      8|    7|    1|77.0|16093.0|289.0|217.0|10082.0|4.0|(263,[195],[1.0])|(273,[0,1,2,3,4,5...|(273,[0,1,2,3,4,5...|117.42739416756751|\n",
      "|2019-08-07 17:00:00|       125.0|        4|    17|      8|    7|   51|77.0|16093.0|289.0|217.0|10082.0|4.0|(263,[125],[1.0])|(273,[0,1,2,3,4,5...|(273,[0,1,2,3,4,5...|236.83668422316816|\n",
      "|2019-08-07 17:00:00|       129.0|        4|    17|      8|    7|   42|77.0|16093.0|289.0|217.0|10082.0|4.0|(263,[129],[1.0])|(273,[0,1,2,3,4,5...|(273,[0,1,2,3,4,5...|245.76723148947542|\n",
      "|2019-08-07 17:00:00|       235.0|        4|    17|      8|    7|    3|77.0|16093.0|289.0|217.0|10082.0|4.0|(263,[235],[1.0])|(273,[0,1,2,3,4,5...|(273,[0,1,2,3,4,5...|154.27158660521707|\n",
      "|2019-08-07 17:00:00|        48.0|        4|    17|      8|    7|  351|77.0|16093.0|289.0|217.0|10082.0|4.0| (263,[48],[1.0])|(273,[0,1,2,3,4,5...|(273,[0,1,2,3,4,5...| 779.0573372015118|\n",
      "|2019-08-07 17:00:00|        83.0|        4|    17|      8|    7|   10|77.0|16093.0|289.0|217.0|10082.0|4.0| (263,[83],[1.0])|(273,[0,1,2,3,4,5...|(273,[0,1,2,3,4,5...|103.33769413131847|\n",
      "|2019-08-07 17:00:00|       211.0|        4|    17|      8|    7|   94|77.0|16093.0|289.0|217.0|10082.0|4.0|(263,[211],[1.0])|(273,[0,1,2,3,4,5...|(273,[0,1,2,3,4,5...| 319.9082486975004|\n",
      "|2019-08-07 17:00:00|       113.0|        4|    17|      8|    7|  193|77.0|16093.0|289.0|217.0|10082.0|4.0|(263,[113],[1.0])|(273,[0,1,2,3,4,5...|(273,[0,1,2,3,4,5...|426.79068825147976|\n",
      "|2019-08-07 17:00:00|       118.0|        4|    17|      8|    7|    4|77.0|16093.0|289.0|217.0|10082.0|4.0|(263,[118],[1.0])|(273,[0,1,2,3,4,5...|(273,[0,1,2,3,4,5...|61.509768348777584|\n",
      "|2019-08-07 17:00:00|       141.0|        4|    17|      8|    7|  350|77.0|16093.0|289.0|217.0|10082.0|4.0|(263,[141],[1.0])|(273,[0,1,2,3,4,5...|(273,[0,1,2,3,4,5...| 522.8289777853078|\n",
      "|2019-08-07 17:00:00|       205.0|        4|    17|      8|    7|    3|77.0|16093.0|289.0|217.0|10082.0|4.0|(263,[205],[1.0])|(273,[0,1,2,3,4,5...|(273,[0,1,2,3,4,5...|124.20926848540114|\n",
      "|2019-08-07 17:00:00|       241.0|        4|    17|      8|    7|    1|77.0|16093.0|289.0|217.0|10082.0|4.0|(263,[241],[1.0])|(273,[0,1,2,3,4,5...|(273,[0,1,2,3,4,5...|128.90793590899636|\n",
      "|2019-08-07 17:00:00|        60.0|        4|    17|      8|    7|    1|77.0|16093.0|289.0|217.0|10082.0|4.0| (263,[60],[1.0])|(273,[0,1,2,3,4,5...|(273,[0,1,2,3,4,5...| 98.53296631685168|\n",
      "|2019-08-07 17:00:00|        97.0|        4|    17|      8|    7|   42|77.0|16093.0|289.0|217.0|10082.0|4.0| (263,[97],[1.0])|(273,[0,1,2,3,4,5...|(273,[0,1,2,3,4,5...| 280.9082782174049|\n",
      "|2019-08-07 17:00:00|       223.0|        4|    17|      8|    7|   30|77.0|16093.0|289.0|217.0|10082.0|4.0|(263,[223],[1.0])|(273,[0,1,2,3,4,5...|(273,[0,1,2,3,4,5...|205.02120860385514|\n",
      "|2019-08-07 17:00:00|       225.0|        4|    17|      8|    7|    4|77.0|16093.0|289.0|217.0|10082.0|4.0|(263,[225],[1.0])|(273,[0,1,2,3,4,5...|(273,[0,1,2,3,4,5...| 287.2032063617429|\n",
      "|2019-08-07 17:00:00|       135.0|        4|    17|      8|    7|    2|77.0|16093.0|289.0|217.0|10082.0|4.0|(263,[135],[1.0])|(273,[0,1,2,3,4,5...|(273,[0,1,2,3,4,5...| 93.09940871028141|\n",
      "|2019-08-07 17:00:00|        17.0|        4|    17|      8|    7|   10|77.0|16093.0|289.0|217.0|10082.0|4.0| (263,[17],[1.0])|(273,[0,1,2,3,4,5...|(273,[0,1,2,3,4,5...| 289.8523287361901|\n",
      "|2019-08-07 17:00:00|       206.0|        4|    17|      8|    7|    8|77.0|16093.0|289.0|217.0|10082.0|4.0|(263,[206],[1.0])|(273,[0,1,2,3,4,5...|(273,[0,1,2,3,4,5...| 86.42143079444043|\n",
      "|2019-08-07 17:00:00|         3.0|        4|    17|      8|    7|    1|77.0|16093.0|289.0|217.0|10082.0|4.0|  (263,[3],[1.0])|(273,[0,1,2,3,4,5...|(273,[0,1,2,3,4,5...| 92.54260111974816|\n",
      "|2019-08-07 17:00:00|        34.0|        4|    17|      8|    7|    1|77.0|16093.0|289.0|217.0|10082.0|4.0| (263,[34],[1.0])|(273,[0,1,2,3,4,5...|(273,[0,1,2,3,4,5...| 66.59331040471454|\n",
      "|2019-08-07 17:00:00|       164.0|        4|    17|      8|    7|  286|77.0|16093.0|289.0|217.0|10082.0|4.0|(263,[164],[1.0])|(273,[0,1,2,3,4,5...|(273,[0,1,2,3,4,5...| 638.9178180235041|\n",
      "|2019-08-07 17:00:00|        75.0|        4|    17|      8|    7|  240|77.0|16093.0|289.0|217.0|10082.0|4.0| (263,[75],[1.0])|(273,[0,1,2,3,4,5...|(273,[0,1,2,3,4,5...|341.01384778383965|\n",
      "|2019-08-07 17:00:00|       233.0|        4|    17|      8|    7|  301|77.0|16093.0|289.0|217.0|10082.0|4.0|(263,[233],[1.0])|(273,[0,1,2,3,4,5...|(273,[0,1,2,3,4,5...| 442.5886722016245|\n",
      "|2019-08-07 17:00:00|       173.0|        4|    17|      8|    7|   10|77.0|16093.0|289.0|217.0|10082.0|4.0|(263,[173],[1.0])|(273,[0,1,2,3,4,5...|(273,[0,1,2,3,4,5...|109.89640964064722|\n",
      "|2019-08-07 17:00:00|       248.0|        4|    17|      8|    7|    1|77.0|16093.0|289.0|217.0|10082.0|4.0|(263,[248],[1.0])|(273,[0,1,2,3,4,5...|(273,[0,1,2,3,4,5...|101.20047553927668|\n",
      "|2019-08-07 17:00:00|       238.0|        4|    17|      8|    7|  234|77.0|16093.0|289.0|217.0|10082.0|4.0|(263,[238],[1.0])|(273,[0,1,2,3,4,5...|(273,[0,1,2,3,4,5...|460.63551961842234|\n",
      "|2019-08-07 17:00:00|       123.0|        4|    17|      8|    7|    4|77.0|16093.0|289.0|217.0|10082.0|4.0|(263,[123],[1.0])|(273,[0,1,2,3,4,5...|(273,[0,1,2,3,4,5...|111.77995247620072|\n",
      "|2019-08-07 17:00:00|       132.0|        4|    17|      8|    7|  436|77.0|16093.0|289.0|217.0|10082.0|4.0|(263,[132],[1.0])|(273,[0,1,2,3,4,5...|(273,[0,1,2,3,4,5...| 762.6386233720808|\n",
      "|2019-08-07 17:00:00|        39.0|        4|    17|      8|    7|    2|77.0|16093.0|289.0|217.0|10082.0|4.0| (263,[39],[1.0])|(273,[0,1,2,3,4,5...|(273,[0,1,2,3,4,5...| 239.4066753651283|\n",
      "|2019-08-07 17:00:00|       130.0|        4|    17|      8|    7|   15|77.0|16093.0|289.0|217.0|10082.0|4.0|(263,[130],[1.0])|(273,[0,1,2,3,4,5...|(273,[0,1,2,3,4,5...|183.81190367665124|\n",
      "|2019-08-07 17:00:00|        92.0|        4|    17|      8|    7|   22|77.0|16093.0|289.0|217.0|10082.0|4.0| (263,[92],[1.0])|(273,[0,1,2,3,4,5...|(273,[0,1,2,3,4,5...| 166.5755542595192|\n",
      "|2019-08-07 17:00:00|        68.0|        4|    17|      8|    7|  294|77.0|16093.0|289.0|217.0|10082.0|4.0| (263,[68],[1.0])|(273,[0,1,2,3,4,5...|(273,[0,1,2,3,4,5...| 599.1155783527958|\n",
      "|2019-08-07 17:00:00|       260.0|        4|    17|      8|    7|   35|77.0|16093.0|289.0|217.0|10082.0|4.0|(263,[260],[1.0])|(273,[0,1,2,3,4,5...|(273,[0,1,2,3,4,5...|165.36505276142395|\n",
      "|2019-08-07 17:00:00|       212.0|        4|    17|      8|    7|    2|77.0|16093.0|289.0|217.0|10082.0|4.0|(263,[212],[1.0])|(273,[0,1,2,3,4,5...|(273,[0,1,2,3,4,5...| 99.11959727291708|\n",
      "|2019-08-07 17:00:00|       189.0|        4|    17|      8|    7|    4|77.0|16093.0|289.0|217.0|10082.0|4.0|(263,[189],[1.0])|(273,[0,1,2,3,4,5...|(273,[0,1,2,3,4,5...|158.47616779646717|\n",
      "|2019-08-07 17:00:00|       228.0|        4|    17|      8|    7|    3|77.0|16093.0|289.0|217.0|10082.0|4.0|(263,[228],[1.0])|(273,[0,1,2,3,4,5...|(273,[0,1,2,3,4,5...|155.86497128743702|\n",
      "|2019-08-07 17:00:00|       127.0|        4|    17|      8|    7|    1|77.0|16093.0|289.0|217.0|10082.0|4.0|(263,[127],[1.0])|(273,[0,1,2,3,4,5...|(273,[0,1,2,3,4,5...|146.93721130643542|\n",
      "|2019-08-07 17:00:00|       188.0|        4|    17|      8|    7|   11|77.0|16093.0|289.0|217.0|10082.0|4.0|(263,[188],[1.0])|(273,[0,1,2,3,4,5...|(273,[0,1,2,3,4,5...|244.20552168431539|\n",
      "|2019-08-07 17:00:00|       218.0|        4|    17|      8|    7|    3|77.0|16093.0|289.0|217.0|10082.0|4.0|(263,[218],[1.0])|(273,[0,1,2,3,4,5...|(273,[0,1,2,3,4,5...| 94.68236491099435|\n",
      "|2019-08-07 17:00:00|       106.0|        4|    17|      8|    7|    2|77.0|16093.0|289.0|217.0|10082.0|4.0|(263,[106],[1.0])|(273,[0,1,2,3,4,5...|(273,[0,1,2,3,4,5...|119.03840199553918|\n",
      "|2019-08-07 17:00:00|       161.0|        4|    17|      8|    7|  578|77.0|16093.0|289.0|217.0|10082.0|4.0|(263,[161],[1.0])|(273,[0,1,2,3,4,5...|(273,[0,1,2,3,4,5...|1058.4811071580734|\n",
      "|2019-08-07 17:00:00|        14.0|        4|    17|      8|    7|    7|77.0|16093.0|289.0|217.0|10082.0|4.0| (263,[14],[1.0])|(273,[0,1,2,3,4,5...|(273,[0,1,2,3,4,5...|172.05642267808264|\n",
      "|2019-08-07 17:00:00|       262.0|        4|    17|      8|    7|  142|77.0|16093.0|289.0|217.0|10082.0|4.0|(263,[262],[1.0])|(273,[0,1,2,3,4,5...|(273,[0,1,2,3,4,5...|368.64051351407613|\n",
      "|2019-08-07 17:00:00|       244.0|        4|    17|      8|    7|   48|77.0|16093.0|289.0|217.0|10082.0|4.0|(263,[244],[1.0])|(273,[0,1,2,3,4,5...|(273,[0,1,2,3,4,5...|  256.600376434748|\n",
      "|2019-08-07 17:00:00|        13.0|        4|    17|      8|    7|   98|77.0|16093.0|289.0|217.0|10082.0|4.0| (263,[13],[1.0])|(273,[0,1,2,3,4,5...|(273,[0,1,2,3,4,5...|339.41577578083445|\n",
      "|2019-08-07 17:00:00|       156.0|        4|    17|      8|    7|    4|77.0|16093.0|289.0|217.0|10082.0|4.0|(263,[156],[1.0])|(273,[0,1,2,3,4,5...|(273,[0,1,2,3,4,5...| 74.40599143265933|\n",
      "|2019-08-07 17:00:00|       108.0|        4|    17|      8|    7|    1|77.0|16093.0|289.0|217.0|10082.0|4.0|(263,[108],[1.0])|(273,[0,1,2,3,4,5...|(273,[0,1,2,3,4,5...|  84.4409572955584|\n",
      "|2019-08-07 17:00:00|       236.0|        4|    17|      8|    7|  647|77.0|16093.0|289.0|217.0|10082.0|4.0|(263,[236],[1.0])|(273,[0,1,2,3,4,5...|(273,[0,1,2,3,4,5...|  752.283700082067|\n",
      "|2019-08-07 17:00:00|        52.0|        4|    17|      8|    7|   10|77.0|16093.0|289.0|217.0|10082.0|4.0| (263,[52],[1.0])|(273,[0,1,2,3,4,5...|(273,[0,1,2,3,4,5...|  99.3776429772098|\n",
      "|2019-08-07 17:00:00|       146.0|        4|    17|      8|    7|   26|77.0|16093.0|289.0|217.0|10082.0|4.0|(263,[146],[1.0])|(273,[0,1,2,3,4,5...|(273,[0,1,2,3,4,5...|132.07521251882315|\n",
      "|2019-08-07 17:00:00|        36.0|        4|    17|      8|    7|    3|77.0|16093.0|289.0|217.0|10082.0|4.0| (263,[36],[1.0])|(273,[0,1,2,3,4,5...|(273,[0,1,2,3,4,5...| 303.7088382613348|\n",
      "|2019-08-07 17:00:00|       168.0|        4|    17|      8|    7|    3|77.0|16093.0|289.0|217.0|10082.0|4.0|(263,[168],[1.0])|(273,[0,1,2,3,4,5...|(273,[0,1,2,3,4,5...|160.75589956209762|\n",
      "|2019-08-07 17:00:00|       252.0|        4|    17|      8|    7|    2|77.0|16093.0|289.0|217.0|10082.0|4.0|(263,[252],[1.0])|(273,[0,1,2,3,4,5...|(273,[0,1,2,3,4,5...| 73.92481381542314|\n",
      "|2019-08-07 17:00:00|        61.0|        4|    17|      8|    7|   12|77.0|16093.0|289.0|217.0|10082.0|4.0| (263,[61],[1.0])|(273,[0,1,2,3,4,5...|(273,[0,1,2,3,4,5...|450.48483441296673|\n",
      "|2019-08-07 17:00:00|         9.0|        4|    17|      8|    7|    5|77.0|16093.0|289.0|217.0|10082.0|4.0|  (263,[9],[1.0])|(273,[0,1,2,3,4,5...|(273,[0,1,2,3,4,5...|  70.2088715997919|\n",
      "|2019-08-07 17:00:00|        24.0|        4|    17|      8|    7|   24|77.0|16093.0|289.0|217.0|10082.0|4.0| (263,[24],[1.0])|(273,[0,1,2,3,4,5...|(273,[0,1,2,3,4,5...|  130.585090219594|\n",
      "|2019-08-07 17:00:00|        40.0|        4|    17|      8|    7|   10|77.0|16093.0|289.0|217.0|10082.0|4.0| (263,[40],[1.0])|(273,[0,1,2,3,4,5...|(273,[0,1,2,3,4,5...| 137.1354374082497|\n",
      "|2019-08-07 17:00:00|       166.0|        4|    17|      8|    7|  159|77.0|16093.0|289.0|217.0|10082.0|4.0|(263,[166],[1.0])|(273,[0,1,2,3,4,5...|(273,[0,1,2,3,4,5...| 256.1108061299482|\n",
      "|2019-08-07 17:00:00|       151.0|        4|    17|      8|    7|  121|77.0|16093.0|289.0|217.0|10082.0|4.0|(263,[151],[1.0])|(273,[0,1,2,3,4,5...|(273,[0,1,2,3,4,5...| 252.5062088265803|\n",
      "|2019-08-07 17:00:00|       179.0|        4|    17|      8|    7|   16|77.0|16093.0|289.0|217.0|10082.0|4.0|(263,[179],[1.0])|(273,[0,1,2,3,4,5...|(273,[0,1,2,3,4,5...| 146.7961739707099|\n",
      "|2019-08-07 17:00:00|       181.0|        4|    17|      8|    7|   39|77.0|16093.0|289.0|217.0|10082.0|4.0|(263,[181],[1.0])|(273,[0,1,2,3,4,5...|(273,[0,1,2,3,4,5...| 376.1846744529349|\n",
      "|2019-08-07 17:00:00|         6.0|        4|    17|      8|    7|    2|77.0|16093.0|289.0|217.0|10082.0|4.0|  (263,[6],[1.0])|(273,[0,1,2,3,4,5...|(273,[0,1,2,3,4,5...| 60.38158496954486|\n",
      "|2019-08-07 17:00:00|       170.0|        4|    17|      8|    7|  491|77.0|16093.0|289.0|217.0|10082.0|4.0|(263,[170],[1.0])|(273,[0,1,2,3,4,5...|(273,[0,1,2,3,4,5...| 769.7871833308155|\n",
      "|2019-08-07 17:00:00|       193.0|        4|    17|      8|    7|   12|77.0|16093.0|289.0|217.0|10082.0|4.0|(263,[193],[1.0])|(273,[0,1,2,3,4,5...|(273,[0,1,2,3,4,5...| 89.90566289222386|\n",
      "|2019-08-07 17:00:00|        15.0|        4|    17|      8|    7|    2|77.0|16093.0|289.0|217.0|10082.0|4.0| (263,[15],[1.0])|(273,[0,1,2,3,4,5...|(273,[0,1,2,3,4,5...| 65.73151382646608|\n",
      "|2019-08-07 17:00:00|       224.0|        4|    17|      8|    7|   22|77.0|16093.0|289.0|217.0|10082.0|4.0|(263,[224],[1.0])|(273,[0,1,2,3,4,5...|(273,[0,1,2,3,4,5...|183.15278980608616|\n",
      "|2019-08-07 17:00:00|        95.0|        4|    17|      8|    7|   54|77.0|16093.0|289.0|217.0|10082.0|4.0| (263,[95],[1.0])|(273,[0,1,2,3,4,5...|(273,[0,1,2,3,4,5...|203.56845407454182|\n",
      "|2019-08-07 17:00:00|         7.0|        4|    17|      8|    7|   66|77.0|16093.0|289.0|217.0|10082.0|4.0|  (263,[7],[1.0])|(273,[0,1,2,3,4,5...|(273,[0,1,2,3,4,5...|357.37488134665966|\n",
      "|2019-08-07 17:00:00|        45.0|        4|    17|      8|    7|   20|77.0|16093.0|289.0|217.0|10082.0|4.0| (263,[45],[1.0])|(273,[0,1,2,3,4,5...|(273,[0,1,2,3,4,5...| 144.8421832678888|\n",
      "|2019-08-07 17:00:00|       227.0|        4|    17|      8|    7|    1|77.0|16093.0|289.0|217.0|10082.0|4.0|(263,[227],[1.0])|(273,[0,1,2,3,4,5...|(273,[0,1,2,3,4,5...|101.98536543299531|\n",
      "|2019-08-07 17:00:00|       159.0|        4|    17|      8|    7|    4|77.0|16093.0|289.0|217.0|10082.0|4.0|(263,[159],[1.0])|(273,[0,1,2,3,4,5...|(273,[0,1,2,3,4,5...|142.85178541125163|\n",
      "|2019-08-07 17:00:00|        70.0|        4|    17|      8|    7|    6|77.0|16093.0|289.0|217.0|10082.0|4.0| (263,[70],[1.0])|(273,[0,1,2,3,4,5...|(273,[0,1,2,3,4,5...|109.87142777179463|\n",
      "|2019-08-07 17:00:00|        80.0|        4|    17|      8|    7|    1|77.0|16093.0|289.0|217.0|10082.0|4.0| (263,[80],[1.0])|(273,[0,1,2,3,4,5...|(273,[0,1,2,3,4,5...| 338.1167644768167|\n",
      "|2019-08-07 17:00:00|        23.0|        4|    17|      8|    7|    2|77.0|16093.0|289.0|217.0|10082.0|4.0| (263,[23],[1.0])|(273,[0,1,2,3,4,5...|(273,[0,1,2,3,4,5...| 73.87215086415733|\n",
      "|2019-08-07 17:00:00|       100.0|        4|    17|      8|    7|  216|77.0|16093.0|289.0|217.0|10082.0|4.0|(263,[100],[1.0])|(273,[0,1,2,3,4,5...|(273,[0,1,2,3,4,5...|501.02584713385534|\n",
      "|2019-08-07 17:00:00|       217.0|        4|    17|      8|    7|    3|77.0|16093.0|289.0|217.0|10082.0|4.0|(263,[217],[1.0])|(273,[0,1,2,3,4,5...|(273,[0,1,2,3,4,5...| 86.18393079761347|\n",
      "|2019-08-07 17:00:00|       139.0|        4|    17|      8|    7|    1|77.0|16093.0|289.0|217.0|10082.0|4.0|(263,[139],[1.0])|(273,[0,1,2,3,4,5...|(273,[0,1,2,3,4,5...| 85.27740914611775|\n",
      "|2019-08-07 17:00:00|       138.0|        4|    17|      8|    7|  281|77.0|16093.0|289.0|217.0|10082.0|4.0|(263,[138],[1.0])|(273,[0,1,2,3,4,5...|(273,[0,1,2,3,4,5...| 882.0288760722441|\n",
      "|2019-08-07 17:00:00|       148.0|        4|    17|      8|    7|   60|77.0|16093.0|289.0|217.0|10082.0|4.0|(263,[148],[1.0])|(273,[0,1,2,3,4,5...|(273,[0,1,2,3,4,5...| 742.4372107803757|\n",
      "|2019-08-07 17:00:00|       237.0|        4|    17|      8|    7|  760|77.0|16093.0|289.0|217.0|10082.0|4.0|(263,[237],[1.0])|(273,[0,1,2,3,4,5...|(273,[0,1,2,3,4,5...| 857.1696916686566|\n",
      "|2019-08-07 17:00:00|        76.0|        4|    17|      8|    7|    6|77.0|16093.0|289.0|217.0|10082.0|4.0| (263,[76],[1.0])|(273,[0,1,2,3,4,5...|(273,[0,1,2,3,4,5...|273.71468154015145|\n",
      "|2019-08-07 17:00:00|       242.0|        4|    17|      8|    7|   16|77.0|16093.0|289.0|217.0|10082.0|4.0|(263,[242],[1.0])|(273,[0,1,2,3,4,5...|(273,[0,1,2,3,4,5...|130.16750763445032|\n",
      "|2019-08-07 17:00:00|       250.0|        4|    17|      8|    7|    2|77.0|16093.0|289.0|217.0|10082.0|4.0|(263,[250],[1.0])|(273,[0,1,2,3,4,5...|(273,[0,1,2,3,4,5...| 97.16774130719807|\n",
      "|2019-08-07 17:00:00|       107.0|        4|    17|      8|    7|  352|77.0|16093.0|289.0|217.0|10082.0|4.0|(263,[107],[1.0])|(273,[0,1,2,3,4,5...|(273,[0,1,2,3,4,5...| 595.5477730890049|\n",
      "|2019-08-07 17:00:00|       177.0|        4|    17|      8|    7|    1|77.0|16093.0|289.0|217.0|10082.0|4.0|(263,[177],[1.0])|(273,[0,1,2,3,4,5...|(273,[0,1,2,3,4,5...|159.39439180261286|\n",
      "|2019-08-07 17:00:00|       263.0|        4|    17|      8|    7|  228|77.0|16093.0|289.0|217.0|10082.0|4.0|      (263,[],[])|(273,[0,1,2,3,4,5...|(273,[0,1,2,3,4,5...| 423.0172732050547|\n",
      "|2019-08-07 17:00:00|       157.0|        4|    17|      8|    7|    3|77.0|16093.0|289.0|217.0|10082.0|4.0|(263,[157],[1.0])|(273,[0,1,2,3,4,5...|(273,[0,1,2,3,4,5...|113.30994654814333|\n",
      "|2019-08-07 17:00:00|        31.0|        4|    17|      8|    7|    2|77.0|16093.0|289.0|217.0|10082.0|4.0| (263,[31],[1.0])|(273,[0,1,2,3,4,5...|(273,[0,1,2,3,4,5...| 66.99443033933028|\n",
      "|2019-08-07 17:00:00|       246.0|        4|    17|      8|    7|  189|77.0|16093.0|289.0|217.0|10082.0|4.0|(263,[246],[1.0])|(273,[0,1,2,3,4,5...|(273,[0,1,2,3,4,5...| 535.5511992512135|\n",
      "|2019-08-07 17:00:00|       142.0|        4|    17|      8|    7|  476|77.0|16093.0|289.0|217.0|10082.0|4.0|(263,[142],[1.0])|(273,[0,1,2,3,4,5...|(273,[0,1,2,3,4,5...|   615.50897897783|\n",
      "|2019-08-07 17:00:00|       149.0|        4|    17|      8|    7|    2|77.0|16093.0|289.0|217.0|10082.0|4.0|(263,[149],[1.0])|(273,[0,1,2,3,4,5...|(273,[0,1,2,3,4,5...| 102.8832436292306|\n",
      "|2019-08-07 17:00:00|       203.0|        4|    17|      8|    7|    1|77.0|16093.0|289.0|217.0|10082.0|4.0|(263,[203],[1.0])|(273,[0,1,2,3,4,5...|(273,[0,1,2,3,4,5...|  87.5924797713484|\n",
      "|2019-08-07 17:00:00|        10.0|        4|    17|      8|    7|    2|77.0|16093.0|289.0|217.0|10082.0|4.0| (263,[10],[1.0])|(273,[0,1,2,3,4,5...|(273,[0,1,2,3,4,5...|117.93575219565548|\n",
      "|2019-08-07 17:00:00|        77.0|        4|    17|      8|    7|    2|77.0|16093.0|289.0|217.0|10082.0|4.0| (263,[77],[1.0])|(273,[0,1,2,3,4,5...|(273,[0,1,2,3,4,5...|118.45721406635505|\n",
      "|2019-08-07 17:00:00|       243.0|        4|    17|      8|    7|    6|77.0|16093.0|289.0|217.0|10082.0|4.0|(263,[243],[1.0])|(273,[0,1,2,3,4,5...|(273,[0,1,2,3,4,5...|197.28796162157812|\n",
      "|2019-08-07 17:00:00|        56.0|        4|    17|      8|    7|   11|77.0|16093.0|289.0|217.0|10082.0|4.0| (263,[56],[1.0])|(273,[0,1,2,3,4,5...|(273,[0,1,2,3,4,5...| 125.1534542900514|\n",
      "|2019-08-07 17:00:00|       198.0|        4|    17|      8|    7|   14|77.0|16093.0|289.0|217.0|10082.0|4.0|(263,[198],[1.0])|(273,[0,1,2,3,4,5...|(273,[0,1,2,3,4,5...|192.37696769599245|\n",
      "|2019-08-07 17:00:00|        49.0|        4|    17|      8|    7|   17|77.0|16093.0|289.0|217.0|10082.0|4.0| (263,[49],[1.0])|(273,[0,1,2,3,4,5...|(273,[0,1,2,3,4,5...|251.13250679605824|\n",
      "|2019-08-07 17:00:00|       213.0|        4|    17|      8|    7|    4|77.0|16093.0|289.0|217.0|10082.0|4.0|(263,[213],[1.0])|(273,[0,1,2,3,4,5...|(273,[0,1,2,3,4,5...|145.61779518394485|\n",
      "|2019-08-07 17:00:00|        51.0|        4|    17|      8|    7|    2|77.0|16093.0|289.0|217.0|10082.0|4.0| (263,[51],[1.0])|(273,[0,1,2,3,4,5...|(273,[0,1,2,3,4,5...|123.18689627774404|\n",
      "|2019-08-07 17:00:00|       140.0|        4|    17|      8|    7|  314|77.0|16093.0|289.0|217.0|10082.0|4.0|(263,[140],[1.0])|(273,[0,1,2,3,4,5...|(273,[0,1,2,3,4,5...| 475.8686593519834|\n",
      "|2019-08-07 17:00:00|        65.0|        4|    17|      8|    7|   57|77.0|16093.0|289.0|217.0|10082.0|4.0| (263,[65],[1.0])|(273,[0,1,2,3,4,5...|(273,[0,1,2,3,4,5...|223.57957448064928|\n",
      "|2019-08-07 17:00:00|       254.0|        4|    17|      8|    7|    1|77.0|16093.0|289.0|217.0|10082.0|4.0|(263,[254],[1.0])|(273,[0,1,2,3,4,5...|(273,[0,1,2,3,4,5...|141.37653987091255|\n",
      "|2019-08-07 17:00:00|       165.0|        4|    17|      8|    7|    2|77.0|16093.0|289.0|217.0|10082.0|4.0|(263,[165],[1.0])|(273,[0,1,2,3,4,5...|(273,[0,1,2,3,4,5...|127.02210290659912|\n",
      "|2019-08-07 17:00:00|       158.0|        4|    17|      8|    7|   97|77.0|16093.0|289.0|217.0|10082.0|4.0|(263,[158],[1.0])|(273,[0,1,2,3,4,5...|(273,[0,1,2,3,4,5...| 393.2639936600641|\n",
      "|2019-08-07 17:00:00|        69.0|        4|    17|      8|    7|    4|77.0|16093.0|289.0|217.0|10082.0|4.0| (263,[69],[1.0])|(273,[0,1,2,3,4,5...|(273,[0,1,2,3,4,5...|172.08862423023027|\n",
      "|2019-08-07 17:00:00|       197.0|        4|    17|      8|    7|    3|77.0|16093.0|289.0|217.0|10082.0|4.0|(263,[197],[1.0])|(273,[0,1,2,3,4,5...|(273,[0,1,2,3,4,5...|133.19974950609355|\n",
      "|2019-08-07 17:00:00|         4.0|        4|    17|      8|    7|   10|77.0|16093.0|289.0|217.0|10082.0|4.0|  (263,[4],[1.0])|(273,[0,1,2,3,4,5...|(273,[0,1,2,3,4,5...|206.50091940358277|\n",
      "|2019-08-07 17:00:00|       134.0|        4|    17|      8|    7|   13|77.0|16093.0|289.0|217.0|10082.0|4.0|(263,[134],[1.0])|(273,[0,1,2,3,4,5...|(273,[0,1,2,3,4,5...| 98.43484431865511|\n",
      "|2019-08-07 17:00:00|       196.0|        4|    17|      8|    7|   14|77.0|16093.0|289.0|217.0|10082.0|4.0|(263,[196],[1.0])|(273,[0,1,2,3,4,5...|(273,[0,1,2,3,4,5...|108.78673010910927|\n",
      "|2019-08-07 17:00:00|       210.0|        4|    17|      8|    7|    4|77.0|16093.0|289.0|217.0|10082.0|4.0|(263,[210],[1.0])|(273,[0,1,2,3,4,5...|(273,[0,1,2,3,4,5...|121.65263737078124|\n",
      "|2019-08-07 17:00:00|        93.0|        4|    17|      8|    7|    4|77.0|16093.0|289.0|217.0|10082.0|4.0| (263,[93],[1.0])|(273,[0,1,2,3,4,5...|(273,[0,1,2,3,4,5...|138.02666201330487|\n",
      "|2019-08-07 17:00:00|       247.0|        4|    17|      8|    7|    9|77.0|16093.0|289.0|217.0|10082.0|4.0|(263,[247],[1.0])|(273,[0,1,2,3,4,5...|(273,[0,1,2,3,4,5...|180.18903860371245|\n",
      "|2019-08-07 17:00:00|       226.0|        4|    17|      8|    7|   22|77.0|16093.0|289.0|217.0|10082.0|4.0|(263,[226],[1.0])|(273,[0,1,2,3,4,5...|(273,[0,1,2,3,4,5...|209.61119066545314|\n",
      "|2019-08-07 17:00:00|        72.0|        4|    17|      8|    7|    2|77.0|16093.0|289.0|217.0|10082.0|4.0| (263,[72],[1.0])|(273,[0,1,2,3,4,5...|(273,[0,1,2,3,4,5...|188.87145619873775|\n",
      "|2019-08-07 17:00:00|        12.0|        4|    17|      8|    7|    7|77.0|16093.0|289.0|217.0|10082.0|4.0| (263,[12],[1.0])|(273,[0,1,2,3,4,5...|(273,[0,1,2,3,4,5...|  62.0600417728466|\n",
      "|2019-08-07 17:00:00|       259.0|        4|    17|      8|    7|    3|77.0|16093.0|289.0|217.0|10082.0|4.0|(263,[259],[1.0])|(273,[0,1,2,3,4,5...|(273,[0,1,2,3,4,5...|112.25332770484522|\n",
      "|2019-08-07 17:00:00|        28.0|        4|    17|      8|    7|    3|77.0|16093.0|289.0|217.0|10082.0|4.0| (263,[28],[1.0])|(273,[0,1,2,3,4,5...|(273,[0,1,2,3,4,5...| 97.80282426150382|\n",
      "|2019-08-07 17:00:00|        63.0|        4|    17|      8|    7|    3|77.0|16093.0|289.0|217.0|10082.0|4.0| (263,[63],[1.0])|(273,[0,1,2,3,4,5...|(273,[0,1,2,3,4,5...| 124.1649790302746|\n",
      "|2019-08-07 17:00:00|       229.0|        4|    17|      8|    7|  290|77.0|16093.0|289.0|217.0|10082.0|4.0|(263,[229],[1.0])|(273,[0,1,2,3,4,5...|(273,[0,1,2,3,4,5...| 497.4002193063069|\n",
      "|2019-08-07 17:00:00|       114.0|        4|    17|      8|    7|  117|77.0|16093.0|289.0|217.0|10082.0|4.0|(263,[114],[1.0])|(273,[0,1,2,3,4,5...|(273,[0,1,2,3,4,5...|458.23413291830195|\n",
      "|2019-08-07 17:00:00|       169.0|        4|    17|      8|    7|    8|77.0|16093.0|289.0|217.0|10082.0|4.0|(263,[169],[1.0])|(273,[0,1,2,3,4,5...|(273,[0,1,2,3,4,5...|154.50139112694785|\n",
      "|2019-08-07 17:00:00|       152.0|        4|    17|      8|    7|   22|77.0|16093.0|289.0|217.0|10082.0|4.0|(263,[152],[1.0])|(273,[0,1,2,3,4,5...|(273,[0,1,2,3,4,5...|127.80915902196182|\n",
      "|2019-08-07 17:00:00|       232.0|        4|    17|      8|    7|    8|77.0|16093.0|289.0|217.0|10082.0|4.0|(263,[232],[1.0])|(273,[0,1,2,3,4,5...|(273,[0,1,2,3,4,5...| 209.9304256468671|\n",
      "|2019-08-07 17:00:00|        35.0|        4|    17|      8|    7|    2|77.0|16093.0|289.0|217.0|10082.0|4.0| (263,[35],[1.0])|(273,[0,1,2,3,4,5...|(273,[0,1,2,3,4,5...|185.44213290238065|\n",
      "|2019-08-07 17:00:00|       249.0|        4|    17|      8|    7|  178|77.0|16093.0|289.0|217.0|10082.0|4.0|(263,[249],[1.0])|(273,[0,1,2,3,4,5...|(273,[0,1,2,3,4,5...| 573.6959007746233|\n",
      "|2019-08-07 17:00:00|        25.0|        4|    17|      8|    7|   25|77.0|16093.0|289.0|217.0|10082.0|4.0| (263,[25],[1.0])|(273,[0,1,2,3,4,5...|(273,[0,1,2,3,4,5...|233.88947785786434|\n",
      "|2019-08-07 17:00:00|        79.0|        4|    17|      8|    7|  213|77.0|16093.0|289.0|217.0|10082.0|4.0| (263,[79],[1.0])|(273,[0,1,2,3,4,5...|(273,[0,1,2,3,4,5...| 897.8388220797755|\n",
      "|2019-08-07 17:00:00|       160.0|        4|    17|      8|    7|    3|77.0|16093.0|289.0|217.0|10082.0|4.0|(263,[160],[1.0])|(273,[0,1,2,3,4,5...|(273,[0,1,2,3,4,5...| 98.21004175550172|\n",
      "|2019-08-07 17:00:00|        62.0|        4|    17|      8|    7|    1|77.0|16093.0|289.0|217.0|10082.0|4.0| (263,[62],[1.0])|(273,[0,1,2,3,4,5...|(273,[0,1,2,3,4,5...|151.15592291032988|\n",
      "+-------------------+------------+---------+------+-------+-----+-----+----+-------+-----+-----+-------+---+-----------------+--------------------+--------------------+------------------+\n",
      "\n"
     ]
    }
   ],
   "source": [
    "lm_predictions = lm.transform(testing_sdf)\n",
    "lm_predictions.filter(F.col('dt_truncated') =='2019-08-07 17:00:00').drop('pickup_datetime').dropDuplicates().show(2700)#show(5)"
   ]
  },
  {
   "cell_type": "code",
   "execution_count": 68,
   "metadata": {},
   "outputs": [
    {
     "name": "stdout",
     "output_type": "stream",
     "text": [
      "+-------------------+------------+----+-------+-----+----+-------+---+-------+---------+-----+------+---------------+--------------------+--------------------+\n",
      "|       dt_truncated|PULocationID| wnd|    vis|  tmp| dew|    atm| cc|PUMonth|PUWeekday|PUDay|PUHour|   location_vec|            features|      scaledFeatures|\n",
      "+-------------------+------------+----+-------+-----+----+-------+---+-------+---------+-----+------+---------------+--------------------+--------------------+\n",
      "|2019-08-07 17:00:00|           1|46.0|16093.0|161.0|78.0|10110.0|2.0|      8|        4|    7|    17|(263,[1],[1.0])|(273,[0,1,2,3,4,5...|(273,[0,1,2,3,4,5...|\n",
      "|2019-08-07 17:00:00|           2|46.0|16093.0|161.0|78.0|10110.0|2.0|      8|        4|    7|    17|(263,[2],[1.0])|(273,[0,1,2,3,4,5...|(273,[0,1,2,3,4,5...|\n",
      "|2019-08-07 17:00:00|           3|46.0|16093.0|161.0|78.0|10110.0|2.0|      8|        4|    7|    17|(263,[3],[1.0])|(273,[0,1,2,3,4,5...|(273,[0,1,2,3,4,5...|\n",
      "|2019-08-07 17:00:00|           4|46.0|16093.0|161.0|78.0|10110.0|2.0|      8|        4|    7|    17|(263,[4],[1.0])|(273,[0,1,2,3,4,5...|(273,[0,1,2,3,4,5...|\n",
      "|2019-08-07 17:00:00|           5|46.0|16093.0|161.0|78.0|10110.0|2.0|      8|        4|    7|    17|(263,[5],[1.0])|(273,[0,1,2,3,4,5...|(273,[0,1,2,3,4,5...|\n",
      "+-------------------+------------+----+-------+-----+----+-------+---+-------+---------+-----+------+---------------+--------------------+--------------------+\n",
      "only showing top 5 rows\n",
      "\n"
     ]
    }
   ],
   "source": [
    "# create a dataframe where dt_truncated = '2019-08-07 17:00:00', weather data is from the actual frame and contains every zone from 1 to 263\n",
    "columns = ['dt_truncated', 'PULocationID', 'wnd', 'vis', 'tmp',\n",
    "           'dew', 'atm', 'cc', 'PUMonth', 'PUWeekday', 'PUDay', 'PUHour']\n",
    "data = [('2019-08-07 17:00:00', x, 46.0, 16093.0, 161.0,\n",
    "         78.0, 10110.0, 2.0,  8, 4, 7, 17) for x in range(1, 264)]\n",
    "\n",
    "rdd = spark.sparkContext.parallelize(data)\n",
    "visualisation_sdf = rdd.toDF(columns)\n",
    "\n",
    "visualisation_sdf = onehotencoder.transform(visualisation_sdf)\n",
    "visualisation_sdf = assembler.transform(visualisation_sdf)\n",
    "visualisation_sdf = scalerModel.transform(visualisation_sdf)\n",
    "visualisation_sdf.show(5)"
   ]
  },
  {
   "cell_type": "code",
   "execution_count": 102,
   "metadata": {},
   "outputs": [],
   "source": [
    "predicted = lm.transform(visualisation_sdf).select(\n",
    "    'PULocationID', 'prediction')\n",
    "# predicted.sort('PULocationID')\n",
    "# predicted.join(testing_sdf.drop('pickup_datetime').dropDuplicates(), on='PULocationID', how='fullouter')\\\n",
    "#     .filter(F.col('dt_truncated') == '2019-08-07 17:00:00').sort('PULocationID')\n",
    "t_df = testing_sdf.filter(F.col('dt_truncated') == '2019-08-07 17:00:00').select('PULocationID', 'count').dropDuplicates().sort('PULocationID').toPandas()\n",
    "pred_df = predicted.toPandas()"
   ]
  },
  {
   "cell_type": "code",
   "execution_count": 109,
   "metadata": {},
   "outputs": [
    {
     "data": {
      "text/plain": [
       "[[1.0, -32.98321727305108],\n",
       " [2.0, -33.921016590345516],\n",
       " [3.0, 9.86861333406057],\n",
       " [4.0, 123.82693161789518],\n",
       " [5.0, -20.961400750368625],\n",
       " [6.0, -22.292402816142726],\n",
       " [7.0, 274.7008935609721],\n",
       " [8.0, -36.71426399899417],\n",
       " [9.0, -12.465116185895681],\n",
       " [10.0, 35.261764409967896],\n",
       " [11.0, -6.709016417874523],\n",
       " [12.0, -20.613946012840984],\n",
       " [13.0, 256.74178799514686],\n",
       " [14.0, 89.38243489239505],\n",
       " [15.0, -16.942473959221502],\n",
       " [16.0, 15.9185072722006],\n",
       " [17.0, 207.1783409505025],\n",
       " [18.0, 64.43223274275749],\n",
       " [19.0, -10.852421205238102],\n",
       " [20.0, 25.860266311195915],\n",
       " [21.0, 29.149079113279754],\n",
       " [22.0, 40.978152955954215],\n",
       " [23.0, -8.801836921530253],\n",
       " [24.0, 47.91110243390642],\n",
       " [25.0, 151.21549007217675],\n",
       " [26.0, 94.3956561662161],\n",
       " [27.0, -44.559439917595],\n",
       " [28.0, 15.128836475816342],\n",
       " [29.0, 10.556639099316612],\n",
       " [30.0, -30.034856268734416],\n",
       " [31.0, -15.679557446357308],\n",
       " [32.0, 18.743572760211805],\n",
       " [33.0, 147.52725376575643],\n",
       " [34.0, -16.08067738097293],\n",
       " [35.0, 102.76814511669306],\n",
       " [36.0, 221.0348504756472],\n",
       " [37.0, 260.68257662847725],\n",
       " [38.0, -6.2622548257903645],\n",
       " [39.0, 156.73268757944072],\n",
       " [40.0, 54.4614496225621],\n",
       " [41.0, 226.42531063959416],\n",
       " [42.0, 226.23502608731167],\n",
       " [43.0, 313.293474083093],\n",
       " [44.0, -25.285320320339338],\n",
       " [45.0, 62.16819548220121],\n",
       " [46.0, -43.33359611226069],\n",
       " [47.0, 36.76505618604676],\n",
       " [48.0, 696.3833494158242],\n",
       " [49.0, 168.45851901037065],\n",
       " [50.0, 235.91142339953046],\n",
       " [51.0, 40.512908492056454],\n",
       " [52.0, 16.703655191522103],\n",
       " [53.0, -0.6866043099048511],\n",
       " [54.0, -14.054957543811042],\n",
       " [55.0, 31.660024314824682],\n",
       " [56.0, 42.47946650436381],\n",
       " [57.0, -18.2850547131369],\n",
       " [58.0, -21.11202178254473],\n",
       " [59.0, -33.374581690964874],\n",
       " [60.0, 15.858978531164098],\n",
       " [61.0, 367.81084662727915],\n",
       " [62.0, 68.48193512464229],\n",
       " [63.0, 41.49099124458701],\n",
       " [64.0, -20.982956301076],\n",
       " [65.0, 140.9055866949617],\n",
       " [66.0, 123.63361031409852],\n",
       " [67.0, 7.093358252034363],\n",
       " [68.0, 516.4415905671082],\n",
       " [69.0, 89.41463644454268],\n",
       " [70.0, 27.197439986107042],\n",
       " [71.0, 75.41596822093209],\n",
       " [72.0, 106.19746841305016],\n",
       " [73.0, -5.339496174529813],\n",
       " [74.0, 257.1220023072093],\n",
       " [75.0, 258.33985999815206],\n",
       " [76.0, 191.04069375446386],\n",
       " [77.0, 35.78322628066746],\n",
       " [78.0, 49.99654250012156],\n",
       " [79.0, 815.1648342940879],\n",
       " [80.0, 255.4427766911291],\n",
       " [81.0, 27.79847805127349],\n",
       " [82.0, 156.94481937000467],\n",
       " [83.0, 20.663706345630885],\n",
       " [84.0, -16.744169772947657],\n",
       " [85.0, 39.88910062568414],\n",
       " [86.0, -4.419089513505355],\n",
       " [87.0, 263.41430789340336],\n",
       " [88.0, 87.70843252745055],\n",
       " [89.0, 162.3718117573659],\n",
       " [90.0, 390.13334490090267],\n",
       " [91.0, 91.38889019430519],\n",
       " [92.0, 83.90156647383162],\n",
       " [93.0, 55.352674227617285],\n",
       " [94.0, 5.599846865516042],\n",
       " [95.0, 120.89446628885423],\n",
       " [96.0, -28.425610190024827],\n",
       " [97.0, 198.23429043171734],\n",
       " [98.0, -10.121633473779752],\n",
       " [99.0, -27.688242412045497],\n",
       " [100.0, 418.35185934816775],\n",
       " [101.0, -15.066875822345537],\n",
       " [102.0, 18.903362072804043],\n",
       " [103.0, 340.34328541936713],\n",
       " [104.0, -116.3703966543826],\n",
       " [105.0, -52.85576480601253],\n",
       " [106.0, 36.36441420985159],\n",
       " [107.0, 512.8737853033173],\n",
       " [108.0, 1.766969509870819],\n",
       " [109.0, -19.96744042891271],\n",
       " [110.0, -38.9437289029928],\n",
       " [111.0, -32.534496000952345],\n",
       " [112.0, 230.66604105892577],\n",
       " [113.0, 344.1167004657922],\n",
       " [114.0, 375.56014513261437],\n",
       " [115.0, -8.383809435928356],\n",
       " [116.0, 106.6959594154149],\n",
       " [117.0, -4.918503659655812],\n",
       " [118.0, -21.164219436910003],\n",
       " [119.0, 50.91490876829141],\n",
       " [120.0, -19.64464160865316],\n",
       " [121.0, 10.524371573572807],\n",
       " [122.0, -2.7985976473552228],\n",
       " [123.0, 29.105964690513133],\n",
       " [124.0, -5.654516479429958],\n",
       " [125.0, 154.16269643748058],\n",
       " [126.0, 30.030513999426944],\n",
       " [127.0, 64.26322352074783],\n",
       " [128.0, -33.42994237671394],\n",
       " [129.0, 163.09324370378783],\n",
       " [130.0, 101.13791589096365],\n",
       " [131.0, -1.4057587928208477],\n",
       " [132.0, 679.9646355863932],\n",
       " [133.0, 16.610540153292618],\n",
       " [134.0, 15.760856532967523],\n",
       " [135.0, 10.425420924593823],\n",
       " [136.0, 25.935257587862566],\n",
       " [137.0, 316.3737155407333],\n",
       " [138.0, 799.3548882865565],\n",
       " [139.0, 2.6034213604301613],\n",
       " [140.0, 393.1946715662958],\n",
       " [141.0, 440.15498999962017],\n",
       " [142.0, 532.8349911921424],\n",
       " [143.0, 263.01549948429613],\n",
       " [144.0, 362.27509707736397],\n",
       " [145.0, 168.49061893801547],\n",
       " [146.0, 49.401224733135564],\n",
       " [147.0, 20.12105678918772],\n",
       " [148.0, 659.7632229946881],\n",
       " [149.0, 20.20925584354302],\n",
       " [150.0, 1.8195119117850709],\n",
       " [151.0, 169.8322210408927],\n",
       " [152.0, 45.13517123627423],\n",
       " [153.0, -22.818341875167334],\n",
       " [154.0, -36.63977934172556],\n",
       " [155.0, 38.383551122009635],\n",
       " [156.0, -8.267996353028252],\n",
       " [157.0, 30.635958762455743],\n",
       " [158.0, 310.5900058743765],\n",
       " [159.0, 60.17779762556404],\n",
       " [160.0, 15.536053969814247],\n",
       " [161.0, 975.807119372386],\n",
       " [162.0, 736.0592424105081],\n",
       " [163.0, 535.8430398417655],\n",
       " [164.0, 556.2438302378165],\n",
       " [165.0, 44.34811512091153],\n",
       " [166.0, 173.4368183442606],\n",
       " [167.0, 52.12384879942749],\n",
       " [168.0, 78.08191177641004],\n",
       " [169.0, 71.82740334126026],\n",
       " [170.0, 687.113195545128],\n",
       " [171.0, 11.483837020408146],\n",
       " [172.0, -26.191307327695768],\n",
       " [173.0, 27.222421854959634],\n",
       " [174.0, 44.809849672392716],\n",
       " [175.0, -10.252063559803787],\n",
       " [176.0, -26.20885018269962],\n",
       " [177.0, 76.72040401692527],\n",
       " [178.0, -2.2476262155950053],\n",
       " [179.0, 64.12218618502231],\n",
       " [180.0, -0.77118380349566],\n",
       " [181.0, 293.51068666724734],\n",
       " [182.0, 24.061428403678633],\n",
       " [183.0, -9.600904513636806],\n",
       " [184.0, -33.66558508958667],\n",
       " [185.0, 25.399919216723788],\n",
       " [186.0, 582.9833976370525],\n",
       " [187.0, -15.395551112965904],\n",
       " [188.0, 161.5315338986278],\n",
       " [189.0, 75.80218001077958],\n",
       " [190.0, -8.711596454265191],\n",
       " [191.0, 22.778618120981378],\n",
       " [192.0, -0.39116672484215087],\n",
       " [193.0, 7.231675106536272],\n",
       " [194.0, -29.882007858307247],\n",
       " [195.0, 34.75340638187993],\n",
       " [196.0, 26.112742323421685],\n",
       " [197.0, 50.52576172040597],\n",
       " [198.0, 109.70297991030486],\n",
       " [199.0, -34.38351221314167],\n",
       " [200.0, 6.729020293961526],\n",
       " [201.0, -17.606791243307043],\n",
       " [202.0, -16.888207873054967],\n",
       " [203.0, 4.918491985660921],\n",
       " [204.0, -26.28587374462984],\n",
       " [205.0, 41.53528069971355],\n",
       " [206.0, 3.7474430087527253],\n",
       " [207.0, -38.682047899403074],\n",
       " [208.0, 28.906440744918086],\n",
       " [209.0, 43.14693025878421],\n",
       " [210.0, 38.97864958509365],\n",
       " [211.0, 237.23426091181284],\n",
       " [212.0, 16.445609487229603],\n",
       " [213.0, 62.94380739825726],\n",
       " [214.0, -20.83139123200135],\n",
       " [215.0, 30.070174026917925],\n",
       " [216.0, 77.25439201145548],\n",
       " [217.0, 3.509943011925884],\n",
       " [218.0, 12.008377125306652],\n",
       " [219.0, 9.19241786069108],\n",
       " [220.0, 42.53073405915882],\n",
       " [221.0, -4.4176333622637],\n",
       " [222.0, 3.799219164401052],\n",
       " [223.0, 122.34722081816756],\n",
       " [224.0, 100.47880202039858],\n",
       " [225.0, 204.5292185760553],\n",
       " [226.0, 126.93720287976555],\n",
       " [227.0, 19.311377647307722],\n",
       " [228.0, 73.19098350174943],\n",
       " [229.0, 414.7262315206193],\n",
       " [230.0, 670.4167241922538],\n",
       " [231.0, 500.4842800283237],\n",
       " [232.0, 127.2564378611795],\n",
       " [233.0, 359.9146844159369],\n",
       " [234.0, 754.1620454856094],\n",
       " [235.0, 71.59759881952948],\n",
       " [236.0, 669.6097122963794],\n",
       " [237.0, 774.495703882969],\n",
       " [238.0, 377.96153183273475],\n",
       " [239.0, 472.98574369033497],\n",
       " [240.0, -13.40832133024071],\n",
       " [241.0, 46.23394812330878],\n",
       " [242.0, 47.49351984876273],\n",
       " [243.0, 114.61397383589053],\n",
       " [244.0, 173.9263886490604],\n",
       " [245.0, -9.794572744429274],\n",
       " [246.0, 452.8772114655259],\n",
       " [247.0, 97.51505081802486],\n",
       " [248.0, 18.526487753589095],\n",
       " [249.0, 491.0219129889357],\n",
       " [250.0, 14.49375352151037],\n",
       " [251.0, -18.166485634914125],\n",
       " [252.0, -8.74917397026445],\n",
       " [253.0, -9.26838685000348],\n",
       " [254.0, 58.702552085224966],\n",
       " [255.0, 396.27769058738215],\n",
       " [256.0, 258.8540306568608],\n",
       " [257.0, 9.68941399612629],\n",
       " [258.0, 34.78978658355334],\n",
       " [259.0, 29.579339919157633],\n",
       " [260.0, 82.69106497573637],\n",
       " [261.0, 148.55004516228757],\n",
       " [262.0, 285.96652572838855],\n",
       " [263.0, 340.34328541936713]]"
      ]
     },
     "execution_count": 109,
     "metadata": {},
     "output_type": "execute_result"
    }
   ],
   "source": [
    "pred_df.values.tolist()"
   ]
  },
  {
   "cell_type": "code",
   "execution_count": 119,
   "metadata": {},
   "outputs": [],
   "source": [
    "result = []\n",
    "for prediction in pred_df.values.tolist():\n",
    "    for actual in t_df.values.tolist():\n",
    "        if prediction[0] == actual[0]:\n",
    "            result.append([int(prediction[0]), int(actual[1]), prediction[1],  prediction[1] - int(actual[1])])\n",
    "            break\n",
    "    else:\n",
    "        result.append([int(prediction[0]), 0, prediction[1], prediction[1]])\n",
    "\n",
    "if not os.path.exists('../data/curated/visualisation/'):\n",
    "    os.makedirs('../data/curated/visualisation/')\n",
    "pd.DataFrame(result, columns=['PULocationID', 'actual', 'predicted', 'diff'])\\\n",
    "    .to_csv('../data/curated/visualisation/2019august.csv', index=False)\n"
   ]
  }
 ],
 "metadata": {
  "kernelspec": {
   "display_name": "Python 3.8.10 ('adsenv': venv)",
   "language": "python",
   "name": "python3"
  },
  "language_info": {
   "codemirror_mode": {
    "name": "ipython",
    "version": 3
   },
   "file_extension": ".py",
   "mimetype": "text/x-python",
   "name": "python",
   "nbconvert_exporter": "python",
   "pygments_lexer": "ipython3",
   "version": "3.8.10"
  },
  "orig_nbformat": 4,
  "vscode": {
   "interpreter": {
    "hash": "c5863b7319be0ba8d88ed95044dcfd002e9d5d183ede3cf6092c3150097f8482"
   }
  }
 },
 "nbformat": 4,
 "nbformat_minor": 2
}
