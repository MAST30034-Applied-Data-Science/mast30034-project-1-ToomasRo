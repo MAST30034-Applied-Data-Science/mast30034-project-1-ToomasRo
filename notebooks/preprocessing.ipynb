{
 "cells": [
  {
   "cell_type": "code",
   "execution_count": 1,
   "metadata": {},
   "outputs": [
    {
     "name": "stdout",
     "output_type": "stream",
     "text": [
      "22/08/14 14:15:47 WARN Utils: Your hostname, DESKTOP-L9KIK4G resolves to a loopback address: 127.0.1.1; using 172.30.4.15 instead (on interface eth0)\n",
      "22/08/14 14:15:47 WARN Utils: Set SPARK_LOCAL_IP if you need to bind to another address\n"
     ]
    },
    {
     "name": "stderr",
     "output_type": "stream",
     "text": [
      "Setting default log level to \"WARN\".\n",
      "To adjust logging level use sc.setLogLevel(newLevel). For SparkR, use setLogLevel(newLevel).\n"
     ]
    },
    {
     "name": "stdout",
     "output_type": "stream",
     "text": [
      "22/08/14 14:15:50 WARN NativeCodeLoader: Unable to load native-hadoop library for your platform... using builtin-java classes where applicable\n"
     ]
    }
   ],
   "source": [
    "# Sample connection\n",
    "from pyspark.sql import SparkSession\n",
    "\n",
    "# Create a spark session (which will run spark jobs)\n",
    "spark = (\n",
    "    SparkSession.builder.appName(\"Preproc spark connection\")\n",
    "    .config(\"spark.sql.repl.eagerEval.enabled\", True) \n",
    "    .config(\"spark.sql.parquet.cacheMetadata\", \"true\")\n",
    "    .config(\"spark.sql.session.timeZone\", \"Etc/UTC\")\n",
    "    .config(\"spark.driver.memory\", \"2g\")\n",
    "    .config(\"spark.executor.memory\", \"4g\")\n",
    "    .getOrCreate()\n",
    ")"
   ]
  },
  {
   "cell_type": "code",
   "execution_count": 76,
   "metadata": {},
   "outputs": [],
   "source": [
    "import pandas as pd\n",
    "import geopandas as gpd\n",
    "from shapely.geometry import Point\n",
    "import numpy as np \n",
    "import os \n",
    "import matplotlib.pyplot as plt"
   ]
  },
  {
   "cell_type": "code",
   "execution_count": 133,
   "metadata": {},
   "outputs": [
    {
     "name": "stdout",
     "output_type": "stream",
     "text": [
      "          date        beach  attendance\n",
      "311 2017-07-04  Cedar Grove         NaN\n"
     ]
    }
   ],
   "source": [
    "beach_df = pd.read_csv(\"../data/beach.csv\")\n",
    "beach_df['Date'] = pd.to_datetime(beach_df['Date'])\n",
    "beach_df.rename(str.lower, axis='columns', inplace=True)\n",
    "print(beach_df[beach_df.isna().any(axis=1)])\n",
    "beach_df.dropna(inplace=True)\n",
    "beach_df.attendance = beach_df.attendance.astype(np.int32)"
   ]
  },
  {
   "cell_type": "code",
   "execution_count": 139,
   "metadata": {},
   "outputs": [
    {
     "data": {
      "text/html": [
       "<div>\n",
       "<style scoped>\n",
       "    .dataframe tbody tr th:only-of-type {\n",
       "        vertical-align: middle;\n",
       "    }\n",
       "\n",
       "    .dataframe tbody tr th {\n",
       "        vertical-align: top;\n",
       "    }\n",
       "\n",
       "    .dataframe thead th {\n",
       "        text-align: right;\n",
       "    }\n",
       "</style>\n",
       "<table border=\"1\" class=\"dataframe\">\n",
       "  <thead>\n",
       "    <tr style=\"text-align: right;\">\n",
       "      <th></th>\n",
       "      <th>attendance</th>\n",
       "    </tr>\n",
       "  </thead>\n",
       "  <tbody>\n",
       "    <tr>\n",
       "      <th>count</th>\n",
       "      <td>4207.00000</td>\n",
       "    </tr>\n",
       "    <tr>\n",
       "      <th>mean</th>\n",
       "      <td>15815.80984</td>\n",
       "    </tr>\n",
       "    <tr>\n",
       "      <th>std</th>\n",
       "      <td>47829.86940</td>\n",
       "    </tr>\n",
       "    <tr>\n",
       "      <th>min</th>\n",
       "      <td>0.00000</td>\n",
       "    </tr>\n",
       "    <tr>\n",
       "      <th>25%</th>\n",
       "      <td>362.50000</td>\n",
       "    </tr>\n",
       "    <tr>\n",
       "      <th>50%</th>\n",
       "      <td>1700.00000</td>\n",
       "    </tr>\n",
       "    <tr>\n",
       "      <th>75%</th>\n",
       "      <td>8000.00000</td>\n",
       "    </tr>\n",
       "    <tr>\n",
       "      <th>max</th>\n",
       "      <td>1520000.00000</td>\n",
       "    </tr>\n",
       "  </tbody>\n",
       "</table>\n",
       "</div>"
      ],
      "text/plain": [
       "         attendance\n",
       "count    4207.00000\n",
       "mean    15815.80984\n",
       "std     47829.86940\n",
       "min         0.00000\n",
       "25%       362.50000\n",
       "50%      1700.00000\n",
       "75%      8000.00000\n",
       "max   1520000.00000"
      ]
     },
     "execution_count": 139,
     "metadata": {},
     "output_type": "execute_result"
    }
   ],
   "source": [
    "beach_df.describe()"
   ]
  },
  {
   "cell_type": "code",
   "execution_count": 63,
   "metadata": {},
   "outputs": [
    {
     "name": "stdout",
     "output_type": "stream",
     "text": [
      "date  date\n",
      "2017  5        40\n",
      "      6       240\n",
      "      7       247\n",
      "      8       248\n",
      "      9        72\n",
      "2018  5        48\n",
      "      6       240\n",
      "      7       248\n",
      "      8       248\n",
      "2019  5        56\n",
      "      6       240\n",
      "      7       248\n",
      "      8       248\n",
      "      9        64\n",
      "2020  5        72\n",
      "      6       240\n",
      "      7       248\n",
      "      8       248\n",
      "      9        56\n",
      "2021  5        24\n",
      "      6       240\n",
      "      7       248\n",
      "      8       248\n",
      "      9        96\n",
      "Name: attendance, dtype: int64\n"
     ]
    },
    {
     "data": {
      "image/png": "[encoded data removed]",
      "text/plain": [
       "<Figure size 432x288 with 1 Axes>"
      ]
     },
     "metadata": {
      "needs_background": "light"
     },
     "output_type": "display_data"
    },
    {
     "data": {
      "text/plain": [
       "[<matplotlib.lines.Line2D at 0x7f7b17867310>]"
      ]
     },
     "execution_count": 63,
     "metadata": {},
     "output_type": "execute_result"
    },
    {
     "data": {
      "image/png": "[encoded data removed]",
      "text/plain": [
       "<Figure size 432x288 with 1 Axes>"
      ]
     },
     "metadata": {
      "needs_background": "light"
     },
     "output_type": "display_data"
    }
   ],
   "source": [
    "print(beach_df['attendance'].groupby([beach_df.date.dt.year, beach_df.date.dt.month]).agg('count'))\n",
    "\n",
    "plt.plot(beach_df.attendance, beach_df.date)\n",
    "plt.show()\n",
    "temp_df = beach_df[beach_df.date.dt.year == 2017]\n",
    "plt.plot(temp_df.attendance, temp_df.date)\n"
   ]
  },
  {
   "cell_type": "code",
   "execution_count": 64,
   "metadata": {},
   "outputs": [
    {
     "name": "stdout",
     "output_type": "stream",
     "text": [
      "beach\n",
      "Cedar Grove     525\n",
      "Coney Island    526\n",
      "Manhattan       526\n",
      "Midland         526\n",
      "Orchard         526\n",
      "Rockaway        526\n",
      "South beach     526\n",
      "Wolfe's Pond    526\n",
      "Name: attendance, dtype: int64\n"
     ]
    }
   ],
   "source": [
    "print(beach_df['attendance'].groupby([beach_df.beach]).agg('count'))"
   ]
  },
  {
   "cell_type": "code",
   "execution_count": 91,
   "metadata": {},
   "outputs": [
    {
     "data": {
      "text/html": [
       "<div>\n",
       "<style scoped>\n",
       "    .dataframe tbody tr th:only-of-type {\n",
       "        vertical-align: middle;\n",
       "    }\n",
       "\n",
       "    .dataframe tbody tr th {\n",
       "        vertical-align: top;\n",
       "    }\n",
       "\n",
       "    .dataframe thead th {\n",
       "        text-align: right;\n",
       "    }\n",
       "</style>\n",
       "<table border=\"1\" class=\"dataframe\">\n",
       "  <thead>\n",
       "    <tr style=\"text-align: right;\">\n",
       "      <th></th>\n",
       "      <th>date</th>\n",
       "      <th>beach</th>\n",
       "      <th>attendance</th>\n",
       "    </tr>\n",
       "  </thead>\n",
       "  <tbody>\n",
       "    <tr>\n",
       "      <th>40</th>\n",
       "      <td>2017-06-01</td>\n",
       "      <td>Orchard</td>\n",
       "      <td>900.0</td>\n",
       "    </tr>\n",
       "    <tr>\n",
       "      <th>41</th>\n",
       "      <td>2017-06-01</td>\n",
       "      <td>Coney Island</td>\n",
       "      <td>8000.0</td>\n",
       "    </tr>\n",
       "    <tr>\n",
       "      <th>42</th>\n",
       "      <td>2017-06-01</td>\n",
       "      <td>Manhattan</td>\n",
       "      <td>1100.0</td>\n",
       "    </tr>\n",
       "    <tr>\n",
       "      <th>43</th>\n",
       "      <td>2017-06-01</td>\n",
       "      <td>Rockaway</td>\n",
       "      <td>4300.0</td>\n",
       "    </tr>\n",
       "    <tr>\n",
       "      <th>44</th>\n",
       "      <td>2017-06-01</td>\n",
       "      <td>Midland</td>\n",
       "      <td>895.0</td>\n",
       "    </tr>\n",
       "    <tr>\n",
       "      <th>45</th>\n",
       "      <td>2017-06-01</td>\n",
       "      <td>South beach</td>\n",
       "      <td>1025.0</td>\n",
       "    </tr>\n",
       "    <tr>\n",
       "      <th>46</th>\n",
       "      <td>2017-06-01</td>\n",
       "      <td>Wolfe's Pond</td>\n",
       "      <td>45.0</td>\n",
       "    </tr>\n",
       "    <tr>\n",
       "      <th>47</th>\n",
       "      <td>2017-06-01</td>\n",
       "      <td>Cedar Grove</td>\n",
       "      <td>50.0</td>\n",
       "    </tr>\n",
       "    <tr>\n",
       "      <th>48</th>\n",
       "      <td>2017-06-02</td>\n",
       "      <td>Orchard</td>\n",
       "      <td>1100.0</td>\n",
       "    </tr>\n",
       "  </tbody>\n",
       "</table>\n",
       "</div>"
      ],
      "text/plain": [
       "         date         beach  attendance\n",
       "40 2017-06-01       Orchard       900.0\n",
       "41 2017-06-01  Coney Island      8000.0\n",
       "42 2017-06-01     Manhattan      1100.0\n",
       "43 2017-06-01      Rockaway      4300.0\n",
       "44 2017-06-01       Midland       895.0\n",
       "45 2017-06-01   South beach      1025.0\n",
       "46 2017-06-01  Wolfe's Pond        45.0\n",
       "47 2017-06-01   Cedar Grove        50.0\n",
       "48 2017-06-02       Orchard      1100.0"
      ]
     },
     "execution_count": 91,
     "metadata": {},
     "output_type": "execute_result"
    }
   ],
   "source": [
    "# remove may and september records as they are not for the full month.\n",
    "beach_df = beach_df[beach_df.date.dt.month != 5]\n",
    "beach_df = beach_df[beach_df.date.dt.month != 9]\n",
    "beach_df.head(9)"
   ]
  },
  {
   "cell_type": "code",
   "execution_count": 92,
   "metadata": {},
   "outputs": [],
   "source": [
    "# Coordinates from https://www.nycgovparks.org/facilities/beaches\n",
    "beach2coords = {'Cedar Grove':  [40.556315501162224, -74.10237544532704],\n",
    "                'Coney Island': [40.5723527768031, -73.97935992945324],\n",
    "                'Manhattan': [40.57633775995306, -73.94374311021848],\n",
    "                'Rockaway': [40.583692497282954, -73.814639473088],\n",
    "                'Midland': [40.57272821883836, -74.08404152288725],\n",
    "                'South beach': [40.589431806919215, -74.06505969397514],\n",
    "                'Wolfe\\'s Pond': [40.518249225607704, -74.18667300183067],\n",
    "                'Orchard': [40.86624910613395, -73.79333407346203]\n",
    "                }\n"
   ]
  },
  {
   "cell_type": "code",
   "execution_count": 70,
   "metadata": {},
   "outputs": [
    {
     "data": {
      "text/html": [
       "<div>\n",
       "<style scoped>\n",
       "    .dataframe tbody tr th:only-of-type {\n",
       "        vertical-align: middle;\n",
       "    }\n",
       "\n",
       "    .dataframe tbody tr th {\n",
       "        vertical-align: top;\n",
       "    }\n",
       "\n",
       "    .dataframe thead th {\n",
       "        text-align: right;\n",
       "    }\n",
       "</style>\n",
       "<table border=\"1\" class=\"dataframe\">\n",
       "  <thead>\n",
       "    <tr style=\"text-align: right;\">\n",
       "      <th></th>\n",
       "      <th>LocationID</th>\n",
       "      <th>Borough</th>\n",
       "      <th>Zone</th>\n",
       "      <th>service_zone</th>\n",
       "      <th>OBJECTID</th>\n",
       "      <th>Shape_Leng</th>\n",
       "      <th>Shape_Area</th>\n",
       "      <th>zone</th>\n",
       "      <th>borough</th>\n",
       "      <th>geometry</th>\n",
       "    </tr>\n",
       "  </thead>\n",
       "  <tbody>\n",
       "    <tr>\n",
       "      <th>0</th>\n",
       "      <td>1</td>\n",
       "      <td>EWR</td>\n",
       "      <td>Newark Airport</td>\n",
       "      <td>EWR</td>\n",
       "      <td>1</td>\n",
       "      <td>0.116357</td>\n",
       "      <td>0.000782</td>\n",
       "      <td>Newark Airport</td>\n",
       "      <td>EWR</td>\n",
       "      <td>POLYGON ((-74.18445 40.69500, -74.18449 40.695...</td>\n",
       "    </tr>\n",
       "    <tr>\n",
       "      <th>1</th>\n",
       "      <td>2</td>\n",
       "      <td>Queens</td>\n",
       "      <td>Jamaica Bay</td>\n",
       "      <td>Boro Zone</td>\n",
       "      <td>2</td>\n",
       "      <td>0.433470</td>\n",
       "      <td>0.004866</td>\n",
       "      <td>Jamaica Bay</td>\n",
       "      <td>Queens</td>\n",
       "      <td>MULTIPOLYGON (((-73.82338 40.63899, -73.82277 ...</td>\n",
       "    </tr>\n",
       "    <tr>\n",
       "      <th>2</th>\n",
       "      <td>3</td>\n",
       "      <td>Bronx</td>\n",
       "      <td>Allerton/Pelham Gardens</td>\n",
       "      <td>Boro Zone</td>\n",
       "      <td>3</td>\n",
       "      <td>0.084341</td>\n",
       "      <td>0.000314</td>\n",
       "      <td>Allerton/Pelham Gardens</td>\n",
       "      <td>Bronx</td>\n",
       "      <td>POLYGON ((-73.84793 40.87134, -73.84725 40.870...</td>\n",
       "    </tr>\n",
       "    <tr>\n",
       "      <th>3</th>\n",
       "      <td>4</td>\n",
       "      <td>Manhattan</td>\n",
       "      <td>Alphabet City</td>\n",
       "      <td>Yellow Zone</td>\n",
       "      <td>4</td>\n",
       "      <td>0.043567</td>\n",
       "      <td>0.000112</td>\n",
       "      <td>Alphabet City</td>\n",
       "      <td>Manhattan</td>\n",
       "      <td>POLYGON ((-73.97177 40.72582, -73.97179 40.725...</td>\n",
       "    </tr>\n",
       "    <tr>\n",
       "      <th>4</th>\n",
       "      <td>5</td>\n",
       "      <td>Staten Island</td>\n",
       "      <td>Arden Heights</td>\n",
       "      <td>Boro Zone</td>\n",
       "      <td>5</td>\n",
       "      <td>0.092146</td>\n",
       "      <td>0.000498</td>\n",
       "      <td>Arden Heights</td>\n",
       "      <td>Staten Island</td>\n",
       "      <td>POLYGON ((-74.17422 40.56257, -74.17349 40.562...</td>\n",
       "    </tr>\n",
       "  </tbody>\n",
       "</table>\n",
       "</div>"
      ],
      "text/plain": [
       "   LocationID        Borough                     Zone service_zone  OBJECTID  \\\n",
       "0           1            EWR           Newark Airport          EWR         1   \n",
       "1           2         Queens              Jamaica Bay    Boro Zone         2   \n",
       "2           3          Bronx  Allerton/Pelham Gardens    Boro Zone         3   \n",
       "3           4      Manhattan            Alphabet City  Yellow Zone         4   \n",
       "4           5  Staten Island            Arden Heights    Boro Zone         5   \n",
       "\n",
       "   Shape_Leng  Shape_Area                     zone        borough  \\\n",
       "0    0.116357    0.000782           Newark Airport            EWR   \n",
       "1    0.433470    0.004866              Jamaica Bay         Queens   \n",
       "2    0.084341    0.000314  Allerton/Pelham Gardens          Bronx   \n",
       "3    0.043567    0.000112            Alphabet City      Manhattan   \n",
       "4    0.092146    0.000498            Arden Heights  Staten Island   \n",
       "\n",
       "                                            geometry  \n",
       "0  POLYGON ((-74.18445 40.69500, -74.18449 40.695...  \n",
       "1  MULTIPOLYGON (((-73.82338 40.63899, -73.82277 ...  \n",
       "2  POLYGON ((-73.84793 40.87134, -73.84725 40.870...  \n",
       "3  POLYGON ((-73.97177 40.72582, -73.97179 40.725...  \n",
       "4  POLYGON ((-74.17422 40.56257, -74.17349 40.562...  "
      ]
     },
     "execution_count": 70,
     "metadata": {},
     "output_type": "execute_result"
    }
   ],
   "source": [
    "# shapefiles\n",
    "sf = gpd.read_file(\"../data/taxi_zones/taxi_zones.shp\")\n",
    "zones = pd.read_csv(\"../data/taxi_zones/taxi+_zone_lookup.csv\")\n",
    "# to lat-long\n",
    "sf['geometry'] = sf['geometry'].to_crs(\"+proj=longlat +ellps=WGS84 +datum=WGS84 +no_defs\")\n",
    "\n",
    "gdf = gpd.GeoDataFrame(\n",
    "    pd.merge(zones, sf, on='LocationID', how='inner')\n",
    ")\n",
    "gdf.head()\n"
   ]
  },
  {
   "cell_type": "code",
   "execution_count": null,
   "metadata": {},
   "outputs": [],
   "source": [
    "#gdf.geometry.contains(Point(-74.10237544532704, 40.556315501162224))\n",
    "#gdf[gdf.geometry.contains(Point(-74.10237544532704, 40.556315501162224))]\n",
    "\n",
    "beach2location = {}\n",
    "#check if every beach is in a taxi zone and get that zone\n",
    "for beach, coords in beach2coords.items():\n",
    "    beach2location[beach] = gdf[gdf.geometry.contains(Point(coords[1], coords[0]))].LocationID.iloc[0]\n",
    "    print(beach2location[beach])\n",
    "\n",
    "# add that new data to beach_df\n",
    "beach_df['LocationID'] = beach_df['beach'].map(beach2location)\n",
    "beach_df.head(8)\n"
   ]
  },
  {
   "cell_type": "code",
   "execution_count": 114,
   "metadata": {},
   "outputs": [],
   "source": [
    "beach_df.drop(columns='beach', inplace=True)"
   ]
  },
  {
   "cell_type": "code",
   "execution_count": 115,
   "metadata": {},
   "outputs": [],
   "source": [
    "beach_df.to_csv('../data/clean_beach.csv')"
   ]
  },
  {
   "cell_type": "markdown",
   "metadata": {},
   "source": [
    "# Cleaning TLC data"
   ]
  },
  {
   "cell_type": "code",
   "execution_count": 67,
   "metadata": {},
   "outputs": [],
   "source": [
    "sdf = spark.read.parquet('../data/raw/')"
   ]
  },
  {
   "cell_type": "code",
   "execution_count": 71,
   "metadata": {},
   "outputs": [
    {
     "name": "stderr",
     "output_type": "stream",
     "text": [
      "                                                                                \r"
     ]
    },
    {
     "data": {
      "text/plain": [
       "Row(VendorID=1, tpep_pickup_datetime=datetime.datetime(2017, 6, 1, 10, 2, 36), tpep_dropoff_datetime=datetime.datetime(2017, 6, 1, 10, 10, 2), passenger_count=1, trip_distance=1.8, RatecodeID=1, store_and_fwd_flag='N', PULocationID=161, DOLocationID=263, payment_type=1, fare_amount=8.0, extra=0.5, mta_tax=0.5, tip_amount=1.85, tolls_amount=0.0, improvement_surcharge=0.3, total_amount=11.15, congestion_surcharge=None, airport_fee=None)"
      ]
     },
     "execution_count": 71,
     "metadata": {},
     "output_type": "execute_result"
    }
   ],
   "source": [
    "sdf.head()"
   ]
  }
 ],
 "metadata": {
  "kernelspec": {
   "display_name": "Python 3.8.10 ('adsenv': venv)",
   "language": "python",
   "name": "python3"
  },
  "language_info": {
   "codemirror_mode": {
    "name": "ipython",
    "version": 3
   },
   "file_extension": ".py",
   "mimetype": "text/x-python",
   "name": "python",
   "nbconvert_exporter": "python",
   "pygments_lexer": "ipython3",
   "version": "3.8.10"
  },
  "orig_nbformat": 4,
  "vscode": {
   "interpreter": {
    "hash": "c5863b7319be0ba8d88ed95044dcfd002e9d5d183ede3cf6092c3150097f8482"
   }
  }
 },
 "nbformat": 4,
 "nbformat_minor": 2
}
