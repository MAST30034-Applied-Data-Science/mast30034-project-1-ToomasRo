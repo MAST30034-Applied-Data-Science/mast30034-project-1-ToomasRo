{
 "cells": [
  {
   "cell_type": "code",
   "execution_count": 1,
   "metadata": {},
   "outputs": [
    {
     "name": "stdout",
     "output_type": "stream",
     "text": [
      "22/08/21 22:58:27 WARN Utils: Your hostname, DESKTOP-L9KIK4G resolves to a loopback address: 127.0.1.1; using 172.23.126.166 instead (on interface eth0)\n",
      "22/08/21 22:58:27 WARN Utils: Set SPARK_LOCAL_IP if you need to bind to another address\n"
     ]
    },
    {
     "name": "stderr",
     "output_type": "stream",
     "text": [
      "Setting default log level to \"WARN\".\n",
      "To adjust logging level use sc.setLogLevel(newLevel). For SparkR, use setLogLevel(newLevel).\n"
     ]
    },
    {
     "name": "stdout",
     "output_type": "stream",
     "text": [
      "22/08/21 22:58:29 WARN NativeCodeLoader: Unable to load native-hadoop library for your platform... using builtin-java classes where applicable\n"
     ]
    }
   ],
   "source": [
    "# Sample connection\n",
    "from pyspark.sql import SparkSession\n",
    "from pyspark.sql import functions as F\n",
    "\n",
    "# Create a spark session (which will run spark jobs)\n",
    "spark = (\n",
    "    SparkSession.builder.appName(\"Cleaning connection\")\n",
    "    .config(\"spark.sql.repl.eagerEval.enabled\", True) \n",
    "    .config(\"spark.sql.parquet.cacheMetadata\", \"true\")\n",
    "    .config(\"spark.sql.session.timeZone\", \"Etc/UTC\")\n",
    "    .config(\"spark.driver.memory\", \"4g\")\n",
    "    .config(\"spark.executor.memory\", \"8g\")\n",
    "    .getOrCreate()\n",
    ")"
   ]
  },
  {
   "cell_type": "markdown",
   "metadata": {},
   "source": [
    "# Linear Regression"
   ]
  },
  {
   "cell_type": "code",
   "execution_count": 2,
   "metadata": {},
   "outputs": [],
   "source": [
    "from statsmodels.formula.api import ols, glm\n",
    "# VectorAssembler creates new vectors from existing columns\n",
    "from pyspark.ml.feature import VectorAssembler, OneHotEncoder\n",
    "from pyspark.ml.linalg import Vectors\n",
    "\n",
    "from pyspark.ml.regression import LinearRegression\n",
    "\n",
    "import pandas as pd"
   ]
  },
  {
   "cell_type": "code",
   "execution_count": 3,
   "metadata": {},
   "outputs": [
    {
     "name": "stderr",
     "output_type": "stream",
     "text": [
      "                                                                                \r"
     ]
    },
    {
     "name": "stdout",
     "output_type": "stream",
     "text": [
      "root\n",
      " |-- PULocationID: long (nullable = true)\n",
      " |-- PUWeekday: integer (nullable = true)\n",
      " |-- PUHour: integer (nullable = true)\n",
      " |-- PUMonth: integer (nullable = true)\n",
      " |-- PUDay: integer (nullable = true)\n",
      " |-- count: long (nullable = true)\n",
      " |-- wnd: double (nullable = true)\n",
      " |-- vis: double (nullable = true)\n",
      " |-- tmp: double (nullable = true)\n",
      " |-- dew: double (nullable = true)\n",
      " |-- atm: double (nullable = true)\n",
      " |-- cc: double (nullable = true)\n",
      "\n"
     ]
    }
   ],
   "source": [
    "sdf = spark.read.parquet('../data/curated/final2/clean_dataset.parquet/').drop('pickup_datetime', 'DOLocationID').dropDuplicates()\n",
    "sdf.printSchema()"
   ]
  },
  {
   "cell_type": "markdown",
   "metadata": {},
   "source": [
    "## Total trash"
   ]
  },
  {
   "cell_type": "code",
   "execution_count": 91,
   "metadata": {},
   "outputs": [
    {
     "name": "stderr",
     "output_type": "stream",
     "text": [
      "                                                                                \r"
     ]
    },
    {
     "name": "stdout",
     "output_type": "stream",
     "text": [
      "22/08/21 18:16:15 WARN PearsonCorrelation: Pearson correlation matrix contains NaN values.\n"
     ]
    },
    {
     "data": {
      "text/plain": [
       "array([ 1.        ,  0.10138565, -0.00554797, ..., -0.00501742,\n",
       "       -0.00789543,  1.        ])"
      ]
     },
     "execution_count": 91,
     "metadata": {},
     "output_type": "execute_result"
    }
   ],
   "source": [
    "from pyspark.ml.stat import Correlation\n",
    "from pyspark.ml.feature import VectorAssembler\n",
    "\n",
    "# convert to vector column first\n",
    "vector_col = \"corr_features\"\n",
    "assembler = VectorAssembler(inputCols=sampled_model_sdf.columns, outputCol=vector_col)\n",
    "df_vector = assembler.transform(sampled_model_sdf).select(vector_col)\n",
    "\n",
    "# get correlation matrix\n",
    "matrix = Correlation.corr(df_vector, vector_col)\n",
    "\n",
    "matrix.collect()[0][\"pearson({})\".format(vector_col)].values"
   ]
  },
  {
   "cell_type": "code",
   "execution_count": 93,
   "metadata": {},
   "outputs": [
    {
     "data": {
      "text/plain": [
       "[Row(pearson(corr_features)=DenseMatrix(549, 549, [1.0, 0.1014, -0.0055, 0.0186, -0.0066, -0.0015, -0.0065, -0.0043, ..., -0.0058, -0.0041, -0.0009, -0.0007, -0.0007, -0.005, -0.0079, 1.0], False))]"
      ]
     },
     "execution_count": 93,
     "metadata": {},
     "output_type": "execute_result"
    }
   ],
   "source": [
    "matrix.collect()"
   ]
  },
  {
   "cell_type": "markdown",
   "metadata": {},
   "source": [
    "# Statsmodel.sm. midagi ols"
   ]
  },
  {
   "cell_type": "code",
   "execution_count": 20,
   "metadata": {},
   "outputs": [],
   "source": [
    "from statsmodels.formula.api import ols, glm"
   ]
  },
  {
   "cell_type": "code",
   "execution_count": 21,
   "metadata": {},
   "outputs": [],
   "source": [
    "import statsmodels.api as sm\n",
    "import statsmodels.formula.api as smf"
   ]
  },
  {
   "cell_type": "code",
   "execution_count": 22,
   "metadata": {},
   "outputs": [
    {
     "name": "stdout",
     "output_type": "stream",
     "text": [
      "root\n",
      " |-- count: double (nullable = true)\n",
      " |-- wnd: double (nullable = true)\n",
      " |-- vis: double (nullable = true)\n",
      " |-- tmp: double (nullable = true)\n",
      " |-- dew: double (nullable = true)\n",
      " |-- atm: double (nullable = true)\n",
      " |-- cc: double (nullable = true)\n",
      " |-- PUMonth: integer (nullable = true)\n",
      " |-- PUWeekday: integer (nullable = true)\n",
      " |-- PUDay: integer (nullable = true)\n",
      " |-- PUHour: integer (nullable = true)\n",
      " |-- PULocationID: long (nullable = true)\n",
      "\n"
     ]
    }
   ],
   "source": [
    "from pyspark.sql.types import DoubleType\n",
    "dummy = sdf.select('count', 'wnd', 'vis', 'tmp', 'dew', 'atm', 'cc', 'PUMonth', 'PUWeekday','PUDay', 'PUHour', 'PULocationID')\\\n",
    "    .dropna('any')\\\n",
    "    .withColumn('count', F.col('count').cast(DoubleType()))\n",
    "dummy.printSchema()\n"
   ]
  },
  {
   "cell_type": "code",
   "execution_count": null,
   "metadata": {},
   "outputs": [],
   "source": []
  },
  {
   "cell_type": "code",
   "execution_count": 25,
   "metadata": {},
   "outputs": [
    {
     "name": "stderr",
     "output_type": "stream",
     "text": [
      "[Stage 51:>                                                         (0 + 4) / 6]\r"
     ]
    }
   ],
   "source": [
    "fit = smf.ols(\n",
    "    formula=\"count ~ wnd + tmp + dew + atm + cc + PUMonth + PUWeekday + PUDay + PUHour + PULocationID\",\n",
    "    #formula=\"count ~ wnd + vis + tmp + dew + atm + cc + PUMonth + PUWeekday + PUDay + PUHour + PULocationID\",\n",
    "    data=dummy.sample(withReplacement=False, fraction=0.05, seed=42).toPandas()\n",
    ").fit()"
   ]
  },
  {
   "cell_type": "code",
   "execution_count": 24,
   "metadata": {},
   "outputs": [
    {
     "data": {
      "text/html": [
       "<table class=\"simpletable\">\n",
       "<caption>OLS Regression Results</caption>\n",
       "<tr>\n",
       "  <th>Dep. Variable:</th>          <td>count</td>      <th>  R-squared:         </th>  <td>   0.043</td>  \n",
       "</tr>\n",
       "<tr>\n",
       "  <th>Model:</th>                   <td>OLS</td>       <th>  Adj. R-squared:    </th>  <td>   0.042</td>  \n",
       "</tr>\n",
       "<tr>\n",
       "  <th>Method:</th>             <td>Least Squares</td>  <th>  F-statistic:       </th>  <td>   213.2</td>  \n",
       "</tr>\n",
       "<tr>\n",
       "  <th>Date:</th>             <td>Sun, 21 Aug 2022</td> <th>  Prob (F-statistic):</th>   <td>  0.00</td>   \n",
       "</tr>\n",
       "<tr>\n",
       "  <th>Time:</th>                 <td>23:08:03</td>     <th>  Log-Likelihood:    </th> <td>-3.3138e+05</td>\n",
       "</tr>\n",
       "<tr>\n",
       "  <th>No. Observations:</th>      <td> 52707</td>      <th>  AIC:               </th>  <td>6.628e+05</td> \n",
       "</tr>\n",
       "<tr>\n",
       "  <th>Df Residuals:</th>          <td> 52695</td>      <th>  BIC:               </th>  <td>6.629e+05</td> \n",
       "</tr>\n",
       "<tr>\n",
       "  <th>Df Model:</th>              <td>    11</td>      <th>                     </th>      <td> </td>     \n",
       "</tr>\n",
       "<tr>\n",
       "  <th>Covariance Type:</th>      <td>nonrobust</td>    <th>                     </th>      <td> </td>     \n",
       "</tr>\n",
       "</table>\n",
       "<table class=\"simpletable\">\n",
       "<tr>\n",
       "        <td></td>          <th>coef</th>     <th>std err</th>      <th>t</th>      <th>P>|t|</th>  <th>[0.025</th>    <th>0.975]</th>  \n",
       "</tr>\n",
       "<tr>\n",
       "  <th>Intercept</th>    <td>  106.1447</td> <td>  129.538</td> <td>    0.819</td> <td> 0.413</td> <td> -147.750</td> <td>  360.040</td>\n",
       "</tr>\n",
       "<tr>\n",
       "  <th>wnd</th>          <td>    0.1346</td> <td>    0.032</td> <td>    4.207</td> <td> 0.000</td> <td>    0.072</td> <td>    0.197</td>\n",
       "</tr>\n",
       "<tr>\n",
       "  <th>vis</th>          <td>    0.0001</td> <td>    0.000</td> <td>    0.532</td> <td> 0.595</td> <td>   -0.000</td> <td>    0.001</td>\n",
       "</tr>\n",
       "<tr>\n",
       "  <th>tmp</th>          <td>   -0.0722</td> <td>    0.017</td> <td>   -4.178</td> <td> 0.000</td> <td>   -0.106</td> <td>   -0.038</td>\n",
       "</tr>\n",
       "<tr>\n",
       "  <th>dew</th>          <td>    0.0642</td> <td>    0.017</td> <td>    3.813</td> <td> 0.000</td> <td>    0.031</td> <td>    0.097</td>\n",
       "</tr>\n",
       "<tr>\n",
       "  <th>atm</th>          <td>   -0.0080</td> <td>    0.013</td> <td>   -0.624</td> <td> 0.532</td> <td>   -0.033</td> <td>    0.017</td>\n",
       "</tr>\n",
       "<tr>\n",
       "  <th>cc</th>           <td>   -0.3453</td> <td>    0.275</td> <td>   -1.258</td> <td> 0.209</td> <td>   -0.884</td> <td>    0.193</td>\n",
       "</tr>\n",
       "<tr>\n",
       "  <th>PUMonth</th>      <td>   -4.0175</td> <td>    0.802</td> <td>   -5.010</td> <td> 0.000</td> <td>   -5.589</td> <td>   -2.446</td>\n",
       "</tr>\n",
       "<tr>\n",
       "  <th>PUWeekday</th>    <td>    0.8568</td> <td>    0.283</td> <td>    3.023</td> <td> 0.003</td> <td>    0.301</td> <td>    1.412</td>\n",
       "</tr>\n",
       "<tr>\n",
       "  <th>PUDay</th>        <td>    0.0761</td> <td>    0.065</td> <td>    1.172</td> <td> 0.241</td> <td>   -0.051</td> <td>    0.203</td>\n",
       "</tr>\n",
       "<tr>\n",
       "  <th>PUHour</th>       <td>    3.0368</td> <td>    0.095</td> <td>   31.919</td> <td> 0.000</td> <td>    2.850</td> <td>    3.223</td>\n",
       "</tr>\n",
       "<tr>\n",
       "  <th>PULocationID</th> <td>    0.2454</td> <td>    0.007</td> <td>   32.730</td> <td> 0.000</td> <td>    0.231</td> <td>    0.260</td>\n",
       "</tr>\n",
       "</table>\n",
       "<table class=\"simpletable\">\n",
       "<tr>\n",
       "  <th>Omnibus:</th>       <td>31055.589</td> <th>  Durbin-Watson:     </th>  <td>   1.991</td> \n",
       "</tr>\n",
       "<tr>\n",
       "  <th>Prob(Omnibus):</th>  <td> 0.000</td>   <th>  Jarque-Bera (JB):  </th> <td>287770.212</td>\n",
       "</tr>\n",
       "<tr>\n",
       "  <th>Skew:</th>           <td> 2.762</td>   <th>  Prob(JB):          </th>  <td>    0.00</td> \n",
       "</tr>\n",
       "<tr>\n",
       "  <th>Kurtosis:</th>       <td>13.027</td>   <th>  Cond. No.          </th>  <td>4.25e+06</td> \n",
       "</tr>\n",
       "</table><br/><br/>Notes:<br/>[1] Standard Errors assume that the covariance matrix of the errors is correctly specified.<br/>[2] The condition number is large, 4.25e+06. This might indicate that there are<br/>strong multicollinearity or other numerical problems."
      ],
      "text/plain": [
       "<class 'statsmodels.iolib.summary.Summary'>\n",
       "\"\"\"\n",
       "                            OLS Regression Results                            \n",
       "==============================================================================\n",
       "Dep. Variable:                  count   R-squared:                       0.043\n",
       "Model:                            OLS   Adj. R-squared:                  0.042\n",
       "Method:                 Least Squares   F-statistic:                     213.2\n",
       "Date:                Sun, 21 Aug 2022   Prob (F-statistic):               0.00\n",
       "Time:                        23:08:03   Log-Likelihood:            -3.3138e+05\n",
       "No. Observations:               52707   AIC:                         6.628e+05\n",
       "Df Residuals:                   52695   BIC:                         6.629e+05\n",
       "Df Model:                          11                                         \n",
       "Covariance Type:            nonrobust                                         \n",
       "================================================================================\n",
       "                   coef    std err          t      P>|t|      [0.025      0.975]\n",
       "--------------------------------------------------------------------------------\n",
       "Intercept      106.1447    129.538      0.819      0.413    -147.750     360.040\n",
       "wnd              0.1346      0.032      4.207      0.000       0.072       0.197\n",
       "vis              0.0001      0.000      0.532      0.595      -0.000       0.001\n",
       "tmp             -0.0722      0.017     -4.178      0.000      -0.106      -0.038\n",
       "dew              0.0642      0.017      3.813      0.000       0.031       0.097\n",
       "atm             -0.0080      0.013     -0.624      0.532      -0.033       0.017\n",
       "cc              -0.3453      0.275     -1.258      0.209      -0.884       0.193\n",
       "PUMonth         -4.0175      0.802     -5.010      0.000      -5.589      -2.446\n",
       "PUWeekday        0.8568      0.283      3.023      0.003       0.301       1.412\n",
       "PUDay            0.0761      0.065      1.172      0.241      -0.051       0.203\n",
       "PUHour           3.0368      0.095     31.919      0.000       2.850       3.223\n",
       "PULocationID     0.2454      0.007     32.730      0.000       0.231       0.260\n",
       "==============================================================================\n",
       "Omnibus:                    31055.589   Durbin-Watson:                   1.991\n",
       "Prob(Omnibus):                  0.000   Jarque-Bera (JB):           287770.212\n",
       "Skew:                           2.762   Prob(JB):                         0.00\n",
       "Kurtosis:                      13.027   Cond. No.                     4.25e+06\n",
       "==============================================================================\n",
       "\n",
       "Notes:\n",
       "[1] Standard Errors assume that the covariance matrix of the errors is correctly specified.\n",
       "[2] The condition number is large, 4.25e+06. This might indicate that there are\n",
       "strong multicollinearity or other numerical problems.\n",
       "\"\"\""
      ]
     },
     "execution_count": 24,
     "metadata": {},
     "output_type": "execute_result"
    }
   ],
   "source": [
    "fit.summary()\n",
    "# 0.320"
   ]
  },
  {
   "cell_type": "markdown",
   "metadata": {},
   "source": [
    "## Correllation matrix"
   ]
  },
  {
   "cell_type": "code",
   "execution_count": 4,
   "metadata": {},
   "outputs": [
    {
     "name": "stderr",
     "output_type": "stream",
     "text": [
      "[Stage 9:>                                                          (0 + 4) / 4]\r"
     ]
    },
    {
     "name": "stdout",
     "output_type": "stream",
     "text": [
      "22/08/21 22:59:59 WARN InstanceBuilder$NativeBLAS: Failed to load implementation from:dev.ludovic.netlib.blas.JNIBLAS\n",
      "22/08/21 22:59:59 WARN InstanceBuilder$NativeBLAS: Failed to load implementation from:dev.ludovic.netlib.blas.ForeignLinkerBLAS\n"
     ]
    },
    {
     "name": "stderr",
     "output_type": "stream",
     "text": [
      "                                                                                \r"
     ]
    }
   ],
   "source": [
    "from pyspark.ml.stat import Correlation\n",
    "from pyspark.ml.feature import VectorAssembler\n",
    "\n",
    "# convert to vector column first\n",
    "columns = ['PUWeekday', 'PUHour', 'PUMonth', 'PUDay', 'wnd', 'vis', 'tmp', 'dew', 'atm', 'cc']\n",
    "vector_col = \"corr_features\"\n",
    "assembler = VectorAssembler(inputCols=columns, outputCol=vector_col)\n",
    "df_vector = assembler.transform(sdf).select(vector_col)\n",
    "\n",
    "# get correlation matrix\n",
    "matrix = Correlation.corr(df_vector, vector_col)"
   ]
  },
  {
   "cell_type": "code",
   "execution_count": 5,
   "metadata": {},
   "outputs": [
    {
     "data": {
      "text/plain": [
       "[[1.0,\n",
       "  0.010498503549288414,\n",
       "  0.003823848267355205,\n",
       "  0.011324057998288917,\n",
       "  0.0036050303130158675,\n",
       "  -0.0019407536750495494,\n",
       "  0.0034407500503514776,\n",
       "  0.02468323403730092,\n",
       "  -0.05015143781851093,\n",
       "  0.034813648521991605],\n",
       " [0.010498503549288414,\n",
       "  1.0,\n",
       "  -0.0019426049850655015,\n",
       "  -0.0014382127045732775,\n",
       "  0.2573273114829882,\n",
       "  0.02366160385430587,\n",
       "  0.2909592231521646,\n",
       "  -0.09156335820332923,\n",
       "  -0.015145703177550386,\n",
       "  -0.02200981004927506],\n",
       " [0.003823848267355205,\n",
       "  -0.0019426049850655015,\n",
       "  1.0,\n",
       "  0.020561574290398114,\n",
       "  -0.07199032207812657,\n",
       "  0.13027957261562295,\n",
       "  0.25976273672423333,\n",
       "  0.3689848518749176,\n",
       "  0.21018989912764008,\n",
       "  -0.052626145127812815],\n",
       " [0.011324057998288917,\n",
       "  -0.0014382127045732775,\n",
       "  0.020561574290398114,\n",
       "  1.0,\n",
       "  0.07303572704720857,\n",
       "  0.03677773760034275,\n",
       "  0.07952479117767565,\n",
       "  0.055877242622921194,\n",
       "  0.06400347790946961,\n",
       "  -0.008514753825332736],\n",
       " [0.0036050303130158675,\n",
       "  0.2573273114829882,\n",
       "  -0.07199032207812657,\n",
       "  0.07303572704720857,\n",
       "  1.0,\n",
       "  0.029625225365475648,\n",
       "  0.11758061377731499,\n",
       "  -0.10252368221570145,\n",
       "  -0.10520001660983912,\n",
       "  0.050760897129357295],\n",
       " [-0.0019407536750495494,\n",
       "  0.02366160385430587,\n",
       "  0.13027957261562295,\n",
       "  0.03677773760034275,\n",
       "  0.029625225365475648,\n",
       "  1.0,\n",
       "  0.23997816074757908,\n",
       "  -0.15546099936290592,\n",
       "  0.17945577357326192,\n",
       "  -0.2796638312684957],\n",
       " [0.0034407500503514776,\n",
       "  0.2909592231521646,\n",
       "  0.25976273672423333,\n",
       "  0.07952479117767565,\n",
       "  0.11758061377731499,\n",
       "  0.23997816074757908,\n",
       "  1.0,\n",
       "  0.39032106921387416,\n",
       "  -0.034632981038874626,\n",
       "  -0.1956962763563436],\n",
       " [0.02468323403730092,\n",
       "  -0.09156335820332923,\n",
       "  0.3689848518749176,\n",
       "  0.055877242622921194,\n",
       "  -0.10252368221570145,\n",
       "  -0.15546099936290592,\n",
       "  0.39032106921387416,\n",
       "  1.0,\n",
       "  -0.2079551369562193,\n",
       "  0.15295964734129444],\n",
       " [-0.05015143781851093,\n",
       "  -0.015145703177550386,\n",
       "  0.21018989912764008,\n",
       "  0.06400347790946961,\n",
       "  -0.10520001660983912,\n",
       "  0.17945577357326192,\n",
       "  -0.034632981038874626,\n",
       "  -0.2079551369562193,\n",
       "  1.0,\n",
       "  -0.10127188689336165],\n",
       " [0.034813648521991605,\n",
       "  -0.02200981004927506,\n",
       "  -0.052626145127812815,\n",
       "  -0.008514753825332736,\n",
       "  0.050760897129357295,\n",
       "  -0.2796638312684957,\n",
       "  -0.1956962763563436,\n",
       "  0.15295964734129444,\n",
       "  -0.10127188689336165,\n",
       "  1.0]]"
      ]
     },
     "execution_count": 5,
     "metadata": {},
     "output_type": "execute_result"
    }
   ],
   "source": [
    "matrix.collect()[0][0].toArray().tolist()"
   ]
  },
  {
   "cell_type": "code",
   "execution_count": 6,
   "metadata": {},
   "outputs": [
    {
     "data": {
      "text/plain": [
       "<AxesSubplot:>"
      ]
     },
     "execution_count": 6,
     "metadata": {},
     "output_type": "execute_result"
    },
    {
     "data": {
      "image/png": "[encoded data removed]",
      "text/plain": [
       "<Figure size 1152x360 with 2 Axes>"
      ]
     },
     "metadata": {
      "needs_background": "light"
     },
     "output_type": "display_data"
    }
   ],
   "source": [
    "import seaborn as sns\n",
    "import matplotlib.pyplot as plt\n",
    "\n",
    "corr_matrix = matrix.collect()[0][0].toArray().tolist()\n",
    "\n",
    "corr_matrix_df = pd.DataFrame(\n",
    "    data=corr_matrix,\n",
    "    columns=columns,\n",
    "    index=columns\n",
    ")\n",
    "\n",
    "plt.figure(figsize=(16, 5))\n",
    "sns.heatmap(corr_matrix_df,\n",
    "            xticklabels=corr_matrix_df.columns.values,\n",
    "            yticklabels=corr_matrix_df.columns.values,  cmap=\"Greens\", annot=True)\n"
   ]
  },
  {
   "cell_type": "markdown",
   "metadata": {},
   "source": [
    "## Statsmodel by pyspark"
   ]
  },
  {
   "cell_type": "code",
   "execution_count": 7,
   "metadata": {},
   "outputs": [
    {
     "name": "stderr",
     "output_type": "stream",
     "text": [
      "[Stage 13:================================================>         (5 + 1) / 6]\r"
     ]
    },
    {
     "name": "stdout",
     "output_type": "stream",
     "text": [
      "+--------------------------------------------------------------------------------------------+\n",
      "|features                                                                                    |\n",
      "+--------------------------------------------------------------------------------------------+\n",
      "|(273,[0,1,2,3,4,5,6,7,8,9,162],[21.0,16093.0,178.0,150.0,10139.0,2.0,6.0,5.0,1.0,12.0,1.0]) |\n",
      "|(273,[0,1,2,3,4,6,7,8,9,242],[41.0,16093.0,183.0,89.0,10143.0,6.0,6.0,2.0,6.0,1.0])         |\n",
      "|(273,[0,1,2,3,4,6,7,8,184],[67.0,16093.0,217.0,44.0,10126.0,6.0,7.0,3.0,1.0])               |\n",
      "|(273,[0,1,2,3,4,5,6,7,8,9,152],[26.0,16093.0,167.0,56.0,10145.0,4.0,6.0,7.0,3.0,8.0,1.0])   |\n",
      "|(273,[0,1,2,3,4,5,6,7,8,9,231],[31.0,16093.0,189.0,61.0,10158.0,2.0,6.0,1.0,4.0,5.0,1.0])   |\n",
      "|(273,[0,1,2,3,4,5,6,7,8,9,136],[41.0,16093.0,183.0,83.0,10152.0,2.0,6.0,1.0,4.0,18.0,1.0])  |\n",
      "|(273,[0,1,2,3,4,5,6,7,8,9,78],[15.0,16093.0,211.0,106.0,10126.0,2.0,6.0,7.0,10.0,8.0,1.0])  |\n",
      "|(273,[0,1,2,3,4,5,6,7,8,9,245],[57.0,16093.0,267.0,150.0,10163.0,2.0,6.0,1.0,11.0,3.0,1.0]) |\n",
      "|(273,[0,1,2,3,4,5,6,7,8,9,139],[26.0,16093.0,256.0,161.0,10180.0,2.0,6.0,1.0,11.0,12.0,1.0])|\n",
      "|(273,[0,1,2,3,4,6,7,8,9,167],[36.0,16093.0,261.0,156.0,10160.0,6.0,2.0,12.0,9.0,1.0])       |\n",
      "+--------------------------------------------------------------------------------------------+\n",
      "only showing top 10 rows\n",
      "\n"
     ]
    },
    {
     "name": "stderr",
     "output_type": "stream",
     "text": [
      "                                                                                \r"
     ]
    }
   ],
   "source": [
    "# VectorAssembler creates new vectors from existing columns\n",
    "from pyspark.ml.feature import VectorAssembler\n",
    "\n",
    "onehotdata = OneHotEncoder(\n",
    "    inputCol='PULocationID',\n",
    "    outputCol='location_vec'\n",
    ").fit(sdf).transform(sdf)\n",
    "\n",
    "\n",
    "assembler = VectorAssembler(\n",
    "    inputCols=['wnd', 'vis', 'tmp', 'dew', 'atm', 'cc', 'PUMonth', 'PUWeekday', 'PUDay', 'PUHour', 'location_vec'],\n",
    "    outputCol='features')\n",
    "model_sdf = assembler.transform(onehotdata)\n",
    "model_sdf.select('features').show(10, truncate=False)\n",
    "\n",
    "# features = 'features'\n",
    "# input_cols = ['wnd', 'vis', 'tmp', 'dew', 'atm', 'cc',\n",
    "#               'PUMonth', 'PUWeekday', 'PUDay', 'PUHour', 'location_vec']\n",
    "# assembler = VectorAssembler(\n",
    "#     # which column to combine\n",
    "#     inputCols=input_cols,\n",
    "#     # How should the combined columns be named\n",
    "#     outputCol=features\n",
    "# )\n",
    "\n",
    "# model_sdf = assembler.transform(ohe_sdf)\n",
    "# # # Display the features and targets for our model\n",
    "# print(model_sdf.select('features').head(2))#, model_sdf.select('count').head(5)\n"
   ]
  },
  {
   "cell_type": "code",
   "execution_count": null,
   "metadata": {},
   "outputs": [],
   "source": [
    "#df2 = model_sdf.dropDuplicates()"
   ]
  },
  {
   "cell_type": "code",
   "execution_count": 8,
   "metadata": {},
   "outputs": [
    {
     "name": "stderr",
     "output_type": "stream",
     "text": [
      "[Stage 17:================================================>         (5 + 1) / 6]\r"
     ]
    },
    {
     "name": "stdout",
     "output_type": "stream",
     "text": [
      "22/08/21 23:01:24 WARN Instrumentation: [a8c396e4] regParam is zero, which might cause numerical instability and overfitting.\n"
     ]
    },
    {
     "name": "stderr",
     "output_type": "stream",
     "text": [
      "                                                                                \r"
     ]
    },
    {
     "name": "stdout",
     "output_type": "stream",
     "text": [
      "22/08/21 23:01:27 WARN InstanceBuilder$NativeLAPACK: Failed to load implementation from:dev.ludovic.netlib.lapack.JNILAPACK\n",
      "22/08/21 23:01:27 WARN Instrumentation: [a8c396e4] Cholesky solver failed due to singular covariance matrix. Retrying with Quasi-Newton solver.\n"
     ]
    },
    {
     "name": "stderr",
     "output_type": "stream",
     "text": [
      "                                                                                \r"
     ]
    }
   ],
   "source": [
    "from pyspark.ml.regression import LinearRegression\n",
    "\n",
    "lm = LinearRegression(\n",
    "    featuresCol='features', \n",
    "    labelCol='count'\n",
    ").fit(model_sdf)"
   ]
  },
  {
   "cell_type": "code",
   "execution_count": 9,
   "metadata": {},
   "outputs": [
    {
     "data": {
      "text/plain": [
       "0.6738160750022345"
      ]
     },
     "execution_count": 9,
     "metadata": {},
     "output_type": "execute_result"
    }
   ],
   "source": [
    "lm.summary.r2"
   ]
  },
  {
   "cell_type": "code",
   "execution_count": 10,
   "metadata": {},
   "outputs": [
    {
     "ename": "Py4JJavaError",
     "evalue": "An error occurred while calling o190.pValues.\n: java.lang.UnsupportedOperationException: No p-value available for this LinearRegressionModel\n\tat org.apache.spark.ml.regression.LinearRegressionSummary.pValues$lzycompute(LinearRegression.scala:1072)\n\tat org.apache.spark.ml.regression.LinearRegressionSummary.pValues(LinearRegression.scala:1069)\n\tat sun.reflect.NativeMethodAccessorImpl.invoke0(Native Method)\n\tat sun.reflect.NativeMethodAccessorImpl.invoke(NativeMethodAccessorImpl.java:62)\n\tat sun.reflect.DelegatingMethodAccessorImpl.invoke(DelegatingMethodAccessorImpl.java:43)\n\tat java.lang.reflect.Method.invoke(Method.java:498)\n\tat py4j.reflection.MethodInvoker.invoke(MethodInvoker.java:244)\n\tat py4j.reflection.ReflectionEngine.invoke(ReflectionEngine.java:357)\n\tat py4j.Gateway.invoke(Gateway.java:282)\n\tat py4j.commands.AbstractCommand.invokeMethod(AbstractCommand.java:132)\n\tat py4j.commands.CallCommand.execute(CallCommand.java:79)\n\tat py4j.ClientServerConnection.waitForCommands(ClientServerConnection.java:182)\n\tat py4j.ClientServerConnection.run(ClientServerConnection.java:106)\n\tat java.lang.Thread.run(Thread.java:748)\n",
     "output_type": "error",
     "traceback": [
      "\u001b[0;31m---------------------------------------------------------------------------\u001b[0m",
      "\u001b[0;31mPy4JJavaError\u001b[0m                             Traceback (most recent call last)",
      "\u001b[1;32m/home/toomas/ADS/mast30034-project-1-ToomasRo/notebooks/modelling.ipynb Cell 23\u001b[0m in \u001b[0;36m<cell line: 1>\u001b[0;34m()\u001b[0m\n\u001b[0;32m----> <a href='vscode-notebook-cell://wsl%2Bubuntu-20.04/home/toomas/ADS/mast30034-project-1-ToomasRo/notebooks/modelling.ipynb#X46sdnNjb2RlLXJlbW90ZQ%3D%3D?line=0'>1</a>\u001b[0m lm\u001b[39m.\u001b[39;49msummary\u001b[39m.\u001b[39;49mpValues\n",
      "File \u001b[0;32m~/ADS/adsenv/lib/python3.8/site-packages/pyspark/ml/regression.py:736\u001b[0m, in \u001b[0;36mLinearRegressionSummary.pValues\u001b[0;34m(self)\u001b[0m\n\u001b[1;32m    721\u001b[0m \u001b[39m@property\u001b[39m\n\u001b[1;32m    722\u001b[0m \u001b[39mdef\u001b[39;00m \u001b[39mpValues\u001b[39m(\u001b[39mself\u001b[39m) \u001b[39m-\u001b[39m\u001b[39m>\u001b[39m List[\u001b[39mfloat\u001b[39m]:\n\u001b[1;32m    723\u001b[0m     \u001b[39m\"\"\"\u001b[39;00m\n\u001b[1;32m    724\u001b[0m \u001b[39m    Two-sided p-value of estimated coefficients and intercept.\u001b[39;00m\n\u001b[1;32m    725\u001b[0m \u001b[39m    This value is only available when using the \"normal\" solver.\u001b[39;00m\n\u001b[0;32m   (...)\u001b[0m\n\u001b[1;32m    734\u001b[0m \u001b[39m    LinearRegression.solver\u001b[39;00m\n\u001b[1;32m    735\u001b[0m \u001b[39m    \"\"\"\u001b[39;00m\n\u001b[0;32m--> 736\u001b[0m     \u001b[39mreturn\u001b[39;00m \u001b[39mself\u001b[39;49m\u001b[39m.\u001b[39;49m_call_java(\u001b[39m\"\u001b[39;49m\u001b[39mpValues\u001b[39;49m\u001b[39m\"\u001b[39;49m)\n",
      "File \u001b[0;32m~/ADS/adsenv/lib/python3.8/site-packages/pyspark/ml/wrapper.py:72\u001b[0m, in \u001b[0;36mJavaWrapper._call_java\u001b[0;34m(self, name, *args)\u001b[0m\n\u001b[1;32m     69\u001b[0m \u001b[39massert\u001b[39;00m sc \u001b[39mis\u001b[39;00m \u001b[39mnot\u001b[39;00m \u001b[39mNone\u001b[39;00m\n\u001b[1;32m     71\u001b[0m java_args \u001b[39m=\u001b[39m [_py2java(sc, arg) \u001b[39mfor\u001b[39;00m arg \u001b[39min\u001b[39;00m args]\n\u001b[0;32m---> 72\u001b[0m \u001b[39mreturn\u001b[39;00m _java2py(sc, m(\u001b[39m*\u001b[39;49mjava_args))\n",
      "File \u001b[0;32m~/ADS/adsenv/lib/python3.8/site-packages/py4j/java_gateway.py:1321\u001b[0m, in \u001b[0;36mJavaMember.__call__\u001b[0;34m(self, *args)\u001b[0m\n\u001b[1;32m   1315\u001b[0m command \u001b[39m=\u001b[39m proto\u001b[39m.\u001b[39mCALL_COMMAND_NAME \u001b[39m+\u001b[39m\\\n\u001b[1;32m   1316\u001b[0m     \u001b[39mself\u001b[39m\u001b[39m.\u001b[39mcommand_header \u001b[39m+\u001b[39m\\\n\u001b[1;32m   1317\u001b[0m     args_command \u001b[39m+\u001b[39m\\\n\u001b[1;32m   1318\u001b[0m     proto\u001b[39m.\u001b[39mEND_COMMAND_PART\n\u001b[1;32m   1320\u001b[0m answer \u001b[39m=\u001b[39m \u001b[39mself\u001b[39m\u001b[39m.\u001b[39mgateway_client\u001b[39m.\u001b[39msend_command(command)\n\u001b[0;32m-> 1321\u001b[0m return_value \u001b[39m=\u001b[39m get_return_value(\n\u001b[1;32m   1322\u001b[0m     answer, \u001b[39mself\u001b[39;49m\u001b[39m.\u001b[39;49mgateway_client, \u001b[39mself\u001b[39;49m\u001b[39m.\u001b[39;49mtarget_id, \u001b[39mself\u001b[39;49m\u001b[39m.\u001b[39;49mname)\n\u001b[1;32m   1324\u001b[0m \u001b[39mfor\u001b[39;00m temp_arg \u001b[39min\u001b[39;00m temp_args:\n\u001b[1;32m   1325\u001b[0m     temp_arg\u001b[39m.\u001b[39m_detach()\n",
      "File \u001b[0;32m~/ADS/adsenv/lib/python3.8/site-packages/pyspark/sql/utils.py:190\u001b[0m, in \u001b[0;36mcapture_sql_exception.<locals>.deco\u001b[0;34m(*a, **kw)\u001b[0m\n\u001b[1;32m    188\u001b[0m \u001b[39mdef\u001b[39;00m \u001b[39mdeco\u001b[39m(\u001b[39m*\u001b[39ma: Any, \u001b[39m*\u001b[39m\u001b[39m*\u001b[39mkw: Any) \u001b[39m-\u001b[39m\u001b[39m>\u001b[39m Any:\n\u001b[1;32m    189\u001b[0m     \u001b[39mtry\u001b[39;00m:\n\u001b[0;32m--> 190\u001b[0m         \u001b[39mreturn\u001b[39;00m f(\u001b[39m*\u001b[39;49ma, \u001b[39m*\u001b[39;49m\u001b[39m*\u001b[39;49mkw)\n\u001b[1;32m    191\u001b[0m     \u001b[39mexcept\u001b[39;00m Py4JJavaError \u001b[39mas\u001b[39;00m e:\n\u001b[1;32m    192\u001b[0m         converted \u001b[39m=\u001b[39m convert_exception(e\u001b[39m.\u001b[39mjava_exception)\n",
      "File \u001b[0;32m~/ADS/adsenv/lib/python3.8/site-packages/py4j/protocol.py:326\u001b[0m, in \u001b[0;36mget_return_value\u001b[0;34m(answer, gateway_client, target_id, name)\u001b[0m\n\u001b[1;32m    324\u001b[0m value \u001b[39m=\u001b[39m OUTPUT_CONVERTER[\u001b[39mtype\u001b[39m](answer[\u001b[39m2\u001b[39m:], gateway_client)\n\u001b[1;32m    325\u001b[0m \u001b[39mif\u001b[39;00m answer[\u001b[39m1\u001b[39m] \u001b[39m==\u001b[39m REFERENCE_TYPE:\n\u001b[0;32m--> 326\u001b[0m     \u001b[39mraise\u001b[39;00m Py4JJavaError(\n\u001b[1;32m    327\u001b[0m         \u001b[39m\"\u001b[39m\u001b[39mAn error occurred while calling \u001b[39m\u001b[39m{0}\u001b[39;00m\u001b[39m{1}\u001b[39;00m\u001b[39m{2}\u001b[39;00m\u001b[39m.\u001b[39m\u001b[39m\\n\u001b[39;00m\u001b[39m\"\u001b[39m\u001b[39m.\u001b[39m\n\u001b[1;32m    328\u001b[0m         \u001b[39mformat\u001b[39m(target_id, \u001b[39m\"\u001b[39m\u001b[39m.\u001b[39m\u001b[39m\"\u001b[39m, name), value)\n\u001b[1;32m    329\u001b[0m \u001b[39melse\u001b[39;00m:\n\u001b[1;32m    330\u001b[0m     \u001b[39mraise\u001b[39;00m Py4JError(\n\u001b[1;32m    331\u001b[0m         \u001b[39m\"\u001b[39m\u001b[39mAn error occurred while calling \u001b[39m\u001b[39m{0}\u001b[39;00m\u001b[39m{1}\u001b[39;00m\u001b[39m{2}\u001b[39;00m\u001b[39m. Trace:\u001b[39m\u001b[39m\\n\u001b[39;00m\u001b[39m{3}\u001b[39;00m\u001b[39m\\n\u001b[39;00m\u001b[39m\"\u001b[39m\u001b[39m.\u001b[39m\n\u001b[1;32m    332\u001b[0m         \u001b[39mformat\u001b[39m(target_id, \u001b[39m\"\u001b[39m\u001b[39m.\u001b[39m\u001b[39m\"\u001b[39m, name, value))\n",
      "\u001b[0;31mPy4JJavaError\u001b[0m: An error occurred while calling o190.pValues.\n: java.lang.UnsupportedOperationException: No p-value available for this LinearRegressionModel\n\tat org.apache.spark.ml.regression.LinearRegressionSummary.pValues$lzycompute(LinearRegression.scala:1072)\n\tat org.apache.spark.ml.regression.LinearRegressionSummary.pValues(LinearRegression.scala:1069)\n\tat sun.reflect.NativeMethodAccessorImpl.invoke0(Native Method)\n\tat sun.reflect.NativeMethodAccessorImpl.invoke(NativeMethodAccessorImpl.java:62)\n\tat sun.reflect.DelegatingMethodAccessorImpl.invoke(DelegatingMethodAccessorImpl.java:43)\n\tat java.lang.reflect.Method.invoke(Method.java:498)\n\tat py4j.reflection.MethodInvoker.invoke(MethodInvoker.java:244)\n\tat py4j.reflection.ReflectionEngine.invoke(ReflectionEngine.java:357)\n\tat py4j.Gateway.invoke(Gateway.java:282)\n\tat py4j.commands.AbstractCommand.invokeMethod(AbstractCommand.java:132)\n\tat py4j.commands.CallCommand.execute(CallCommand.java:79)\n\tat py4j.ClientServerConnection.waitForCommands(ClientServerConnection.java:182)\n\tat py4j.ClientServerConnection.run(ClientServerConnection.java:106)\n\tat java.lang.Thread.run(Thread.java:748)\n"
     ]
    }
   ],
   "source": [
    "lm.summary.pValues"
   ]
  },
  {
   "cell_type": "code",
   "execution_count": 11,
   "metadata": {},
   "outputs": [
    {
     "name": "stdout",
     "output_type": "stream",
     "text": [
      "Coefficients: [-0.020637855851481344,0.0003034354553534569,-0.10112948931525566,0.0693453193126724,0.006726904826221642,-0.1366875589287444,-5.959135384309572,1.4257981553085646,0.0052483635120060225,3.7971846887729286,0.0,-186.0528807377623,-187.50222264658555,-185.05855447389894,-161.03290640578285,-183.1667230529777,-181.52756020876703,-121.06327494501494,-188.71364653976488,-190.97994371852016,-182.25577782570852,-185.09531832678456,-180.38978278409482,-79.53333610412682,-183.48627828067976,-185.9833535208714,-185.42905237498908,-172.76986466236718,-185.583926930552,-185.65976968683523,-186.55023156086267,-184.892448611296,-183.39077307596037,-185.30594557681795,-149.50987369024935,-151.06390107801042,-185.82440479507872,-192.53554882288702,-183.2103937738213,-186.29837590747036,-188.3928371422759,-190.94187178848475,-184.57371558305573,-147.31835845893707,-193.48322521471403,-183.2819657182721,-175.90914898200043,-177.3288624737144,-181.84045799326097,-183.09277866191675,-171.88559777313174,-91.62794564049946,-132.27966112073102,-18.592459436626154,-181.68702916053292,-158.3842011108697,-195.79083640929906,-184.5142718939252,155.73141338910892,-168.59485870414926,-82.95546663422641,-184.24763028191444,-170.29370498448395,-185.4930683633055,-186.256417438442,-182.06204572555484,-182.0621330995599,-185.73425545223006,-181.49001085115302,-189.20251141112888,-185.62855310237782,-170.9756689647361,-182.3527567824178,-185.05781194941395,-188.6627227177911,-148.45359843268275,-157.01957293507942,-185.5305415335107,67.38615330032648,-181.01648479195612,-180.34572836257695,-183.09772695445307,-183.95210303987426,-185.45611366249747,-77.39701335313615,-59.01490600231033,-182.5725460052711,-184.68626051526437,-184.45031135764677,99.17189954821525,-170.52716114610627,-184.8411610422701,-138.32741415678572,-175.5683832353018,-183.14180719733704,-183.5305529079593,-184.98921910410036,-96.60644264810274,-137.45374325714738,-180.29677930104353,7.7107941740074555,-182.68440763145105,-174.85761252753903,-179.52589691856943,-186.28315896804048,-155.49120916448865,-188.7327964569798,-146.2762765612011,-185.4490430321298,-200.0993200002106,45.41829923142487,-187.19190437007435,-186.21645267050872,0.0,-230.4557730790879,-196.41894506538316,-180.37176846544438,62.798738668701546,-183.57667139423558,-182.36094840438557,0.0,-190.43725479448852,-168.1576008381645,-20.463883142429466,-44.84128986258878,-188.28264007339897,-155.87584462521366,-185.19761874466207,-186.93065939605137,-184.06271902476166,-182.83999056268345,-185.7027505393433,-182.9952072882626,-185.04753253216293,-184.36470164288866,-120.98123746696882,-185.7539815340407,-178.55601692616574,-188.30994743881237,-150.40383548689522,-167.259144044242,-184.95016818782875,113.19054980727573,-182.77936373038793,-175.33816848175508,-183.05149340028646,-183.0427515059339,-50.74530795975208,125.39983374076722,-184.1925282450867,-6.235376935389597,51.381604666492734,105.64680467149309,-72.63502416197585,-70.58239915231623,-160.3320753430328,-166.8031265451719,-184.76759731163705,-37.38200264806659,-187.32166603245605,-186.6169750476844,-94.38246484868347,-164.61790831451825,-187.60076666319898,-189.76264282455415,-185.9611448104253,-186.9591682377987,-183.36327882505836,-67.90133496710865,-180.7179677968687,-184.62321972119153,236.70912242560004,196.82784939836128,94.99297619105323,76.13914784733436,-185.19670238532535,-102.4133889784871,-183.80469386953243,-178.48189536178756,-183.44298858066594,170.42208789776814,-184.08939923511514,-189.7247970143266,-179.85706532305622,-185.45144700554545,-182.63363337528935,-182.09972926498924,-184.25367301158747,-182.61174507832632,-170.86373508766647,-185.00165193260443,-147.90642108383975,-183.43468065184118,-186.00531687601267,-191.0915074983279,-187.57679939061939,196.82208745759306,-183.11171482753034,-178.8668806488541,-178.34449853975553,-187.2903179039887,-184.36400836475454,-186.62640265290975,-176.50678005304675,-188.1834138635524,-187.29681627149571,-174.64777416294976,-183.73161134803925,-181.70046155499975,-194.94020738911604,-184.9227201696466,-186.63725552194262,-188.66151688617583,-181.95568738069682,-193.5729388608146,-184.0785286607647,-191.32337723993146,-190.91503451514217,-185.12732585721622,-159.2282846991609,-181.83601778569283,-98.19490100905028,-183.86085808068162,-184.75648515560988,-185.27055516244002,-185.08861465496176,-182.79054269951962,-182.72959622707734,-182.7723368838647,-187.24461918206478,-186.09227716393352,-184.98729608199767,-183.87397888460399,-160.99097241491745,-157.62424784834488,-178.62629180712332,-156.8174728646488,-185.14156891501585,-181.77990226055974,16.441650738063775,175.7847868227591,-1.5729054437576568,-165.00677328344466,-34.6455356732225,144.85741811931499,-183.40890614959667,164.52277033123153,215.2333077723004,4.549308252496931,71.11958765809293,-185.37698748519503,-184.385803869807,-184.93815885806202,-175.81717053034248,-149.20831664148565,-187.80425487112277,-18.895573843331974,-176.98311696441615,-183.76123820135865,23.422545238803416,-185.30707312875182,-191.19910115013883,-186.70737387846486,-193.4186058584894,-184.7541757316379,-145.04588133306046,-163.40876069806666,-186.06653273008962,-183.180883495662,-184.19013154477628,-155.01247832135036,-114.96640819627486,-67.31241860224938]\n",
      "Intercept: 116.44483169148245\n"
     ]
    }
   ],
   "source": [
    "print(\"Coefficients: \" + str(lm.coefficients))\n",
    "print(\"Intercept: \" + str(lm.intercept))"
   ]
  },
  {
   "cell_type": "code",
   "execution_count": 12,
   "metadata": {},
   "outputs": [
    {
     "data": {
      "text/plain": [
       "0.6738160750022345"
      ]
     },
     "execution_count": 12,
     "metadata": {},
     "output_type": "execute_result"
    }
   ],
   "source": [
    "lm.summary.r2#.summary.pValues"
   ]
  },
  {
   "cell_type": "code",
   "execution_count": 13,
   "metadata": {},
   "outputs": [
    {
     "name": "stdout",
     "output_type": "stream",
     "text": [
      "numIterations: 18\n",
      "objectiveHistory: [0.5000000000000001, 0.18554629808357248, 0.16609465666001366, 0.1656290639070488, 0.16541580926090882, 0.16526109880741535, 0.16519444271045447, 0.1651387925298528, 0.16458301866486608, 0.1640258833286939, 0.16362203413334298, 0.16315703219334926, 0.16309719372375597, 0.1630919665687085, 0.1630919627583831, 0.1630919625395053, 0.1630919624997128, 0.16309196249892777, 0.1630919624988823]\n"
     ]
    },
    {
     "name": "stderr",
     "output_type": "stream",
     "text": [
      "[Stage 23:================================================>         (5 + 1) / 6]\r"
     ]
    },
    {
     "name": "stdout",
     "output_type": "stream",
     "text": [
      "+-------------------+\n",
      "|          residuals|\n",
      "+-------------------+\n",
      "|-6.5538200005479155|\n",
      "| 3.0352928867120426|\n",
      "|  43.04191186260306|\n",
      "|  -39.7496486680277|\n",
      "| 27.446033287152517|\n",
      "| -23.03631618815072|\n",
      "|  -71.9158846177331|\n",
      "|  35.64459066348283|\n",
      "|  6.835503993476124|\n",
      "|  9.675370459458875|\n",
      "|-14.033113931787923|\n",
      "| 51.637155700582426|\n",
      "|-24.762485330210566|\n",
      "|-28.582318130649455|\n",
      "|  -278.341656877835|\n",
      "|  6.260449099064431|\n",
      "|  78.89309319804966|\n",
      "|-5.4471056092597365|\n",
      "|-22.188966110605023|\n",
      "|  31.13305648135892|\n",
      "+-------------------+\n",
      "only showing top 20 rows\n",
      "\n",
      "RMSE: 75.448525\n",
      "r2: 0.673816\n"
     ]
    },
    {
     "name": "stderr",
     "output_type": "stream",
     "text": [
      "                                                                                \r"
     ]
    }
   ],
   "source": [
    "trainingSummary = lm.summary\n",
    "print(\"numIterations: %d\" % trainingSummary.totalIterations)\n",
    "print(\"objectiveHistory: %s\" % str(trainingSummary.objectiveHistory))\n",
    "trainingSummary.residuals.show()\n",
    "print(\"RMSE: %f\" % trainingSummary.rootMeanSquaredError)\n",
    "print(\"r2: %f\" % trainingSummary.r2)"
   ]
  },
  {
   "cell_type": "code",
   "execution_count": null,
   "metadata": {},
   "outputs": [],
   "source": []
  },
  {
   "cell_type": "code",
   "execution_count": null,
   "metadata": {},
   "outputs": [],
   "source": []
  },
  {
   "cell_type": "code",
   "execution_count": null,
   "metadata": {},
   "outputs": [],
   "source": []
  },
  {
   "cell_type": "code",
   "execution_count": 14,
   "metadata": {},
   "outputs": [
    {
     "name": "stderr",
     "output_type": "stream",
     "text": [
      "[Stage 27:================================================>         (5 + 1) / 6]\r"
     ]
    },
    {
     "name": "stdout",
     "output_type": "stream",
     "text": [
      "22/08/21 23:03:08 WARN Instrumentation: [7d8b2004] regParam is zero, which might cause numerical instability and overfitting.\n"
     ]
    },
    {
     "name": "stderr",
     "output_type": "stream",
     "text": [
      "[Stage 29:>                                                         (0 + 4) / 4]\r"
     ]
    },
    {
     "name": "stdout",
     "output_type": "stream",
     "text": [
      "22/08/21 23:03:11 WARN Instrumentation: [7d8b2004] Cholesky solver failed due to singular covariance matrix. Retrying with Quasi-Newton solver.\n"
     ]
    },
    {
     "name": "stderr",
     "output_type": "stream",
     "text": [
      "                                                                                \r"
     ]
    }
   ],
   "source": [
    "from pyspark.ml.regression import GeneralizedLinearRegression\n",
    "\n",
    "glm = GeneralizedLinearRegression(\n",
    "    featuresCol='features',\n",
    "    labelCol='count'\n",
    ").fit(model_sdf)"
   ]
  },
  {
   "cell_type": "code",
   "execution_count": 19,
   "metadata": {},
   "outputs": [
    {
     "name": "stdout",
     "output_type": "stream",
     "text": [
      "Dispersion: 5693.956600470586\n",
      "Null Deviance: 18438505669.752544\n",
      "Residual Degree Of Freedom Null: 1056541\n",
      "Deviance: 6014344150.465864\n",
      "Residual Degree Of Freedom: 1056268\n",
      "AIC: 12134700.679032985\n",
      "Deviance Residuals: \n"
     ]
    },
    {
     "name": "stderr",
     "output_type": "stream",
     "text": [
      "[Stage 45:================================================>         (5 + 1) / 6]\r"
     ]
    },
    {
     "name": "stdout",
     "output_type": "stream",
     "text": [
      "+-------------------+\n",
      "|  devianceResiduals|\n",
      "+-------------------+\n",
      "|-6.5538200005479155|\n",
      "| 3.0352928867120426|\n",
      "|  43.04191186260306|\n",
      "|  -39.7496486680277|\n",
      "| 27.446033287152517|\n",
      "| -23.03631618815072|\n",
      "|  -71.9158846177331|\n",
      "|  35.64459066348283|\n",
      "|  6.835503993476124|\n",
      "|  9.675370459458875|\n",
      "|-14.033113931787923|\n",
      "| 51.637155700582426|\n",
      "|-24.762485330210566|\n",
      "|-28.582318130649455|\n",
      "|  -278.341656877835|\n",
      "|  6.260449099064431|\n",
      "|  78.89309319804966|\n",
      "|-5.4471056092597365|\n",
      "|-22.188966110605023|\n",
      "|  31.13305648135892|\n",
      "+-------------------+\n",
      "only showing top 20 rows\n",
      "\n"
     ]
    },
    {
     "name": "stderr",
     "output_type": "stream",
     "text": [
      "                                                                                \r"
     ]
    }
   ],
   "source": [
    "summary = glm.summary\n",
    "# ei print(\"Coefficient Standard Errors: \" + str(summary.coefficientStandardErrors))\n",
    "# ei print(\"T Values: \" + str(summary.tValues))\n",
    "# ei print(\"P Values: \" + str(summary.pValues))\n",
    "\n",
    "print(\"Dispersion: \" + str(summary.dispersion)) # töötas\n",
    "print(\"Null Deviance: \" + str(summary.nullDeviance)) # töötas\n",
    "print(\"Residual Degree Of Freedom Null: \" + str(summary.residualDegreeOfFreedomNull)) # töödas\n",
    "print(\"Deviance: \" + str(summary.deviance)) # töödas\n",
    "print(\"Residual Degree Of Freedom: \" + str(summary.residualDegreeOfFreedom)) # töödas\n",
    "print(\"AIC: \" + str(summary.aic)) #täädas\n",
    "print(\"Deviance Residuals: \") \n",
    "summary.residuals().show() #täädas"
   ]
  },
  {
   "cell_type": "code",
   "execution_count": 110,
   "metadata": {},
   "outputs": [
    {
     "data": {
      "text/plain": [
       "73788068"
      ]
     },
     "execution_count": 110,
     "metadata": {},
     "output_type": "execute_result"
    }
   ],
   "source": [
    "model_sdf.count()"
   ]
  },
  {
   "cell_type": "code",
   "execution_count": 111,
   "metadata": {},
   "outputs": [
    {
     "name": "stderr",
     "output_type": "stream",
     "text": [
      "                                                                                \r"
     ]
    },
    {
     "data": {
      "text/plain": [
       "19911164"
      ]
     },
     "execution_count": 111,
     "metadata": {},
     "output_type": "execute_result"
    }
   ],
   "source": [
    "df2 = model_sdf.dropDuplicates()\n",
    "df2.count()"
   ]
  },
  {
   "cell_type": "code",
   "execution_count": 81,
   "metadata": {},
   "outputs": [
    {
     "name": "stdout",
     "output_type": "stream",
     "text": [
      "Help on GeneralizedLinearRegressionModel in module pyspark.ml.regression object:\n",
      "\n",
      "class GeneralizedLinearRegressionModel(_JavaRegressionModel, _GeneralizedLinearRegressionParams, pyspark.ml.util.JavaMLWritable, pyspark.ml.util.JavaMLReadable, pyspark.ml.util.HasTrainingSummary)\n",
      " |  GeneralizedLinearRegressionModel(*args, **kwds)\n",
      " |  \n",
      " |  Model fitted by :class:`GeneralizedLinearRegression`.\n",
      " |  \n",
      " |  .. versionadded:: 2.0.0\n",
      " |  \n",
      " |  Method resolution order:\n",
      " |      GeneralizedLinearRegressionModel\n",
      " |      _JavaRegressionModel\n",
      " |      RegressionModel\n",
      " |      pyspark.ml.wrapper.JavaPredictionModel\n",
      " |      pyspark.ml.base.PredictionModel\n",
      " |      pyspark.ml.wrapper.JavaModel\n",
      " |      pyspark.ml.wrapper.JavaTransformer\n",
      " |      pyspark.ml.wrapper.JavaParams\n",
      " |      pyspark.ml.wrapper.JavaWrapper\n",
      " |      pyspark.ml.base.Model\n",
      " |      pyspark.ml.base.Transformer\n",
      " |      _GeneralizedLinearRegressionParams\n",
      " |      pyspark.ml.base._PredictorParams\n",
      " |      pyspark.ml.param.shared.HasLabelCol\n",
      " |      pyspark.ml.param.shared.HasFeaturesCol\n",
      " |      pyspark.ml.param.shared.HasPredictionCol\n",
      " |      pyspark.ml.param.shared.HasFitIntercept\n",
      " |      pyspark.ml.param.shared.HasMaxIter\n",
      " |      pyspark.ml.param.shared.HasTol\n",
      " |      pyspark.ml.param.shared.HasRegParam\n",
      " |      pyspark.ml.param.shared.HasWeightCol\n",
      " |      pyspark.ml.param.shared.HasSolver\n",
      " |      pyspark.ml.param.shared.HasAggregationDepth\n",
      " |      pyspark.ml.param.Params\n",
      " |      pyspark.ml.util.Identifiable\n",
      " |      pyspark.ml.util.JavaMLWritable\n",
      " |      pyspark.ml.util.MLWritable\n",
      " |      pyspark.ml.util.JavaMLReadable\n",
      " |      pyspark.ml.util.MLReadable\n",
      " |      pyspark.ml.util.HasTrainingSummary\n",
      " |      typing.Generic\n",
      " |      builtins.object\n",
      " |  \n",
      " |  Methods defined here:\n",
      " |  \n",
      " |  evaluate(self, dataset: pyspark.sql.dataframe.DataFrame) -> 'GeneralizedLinearRegressionSummary'\n",
      " |      Evaluates the model on a test dataset.\n",
      " |      \n",
      " |      .. versionadded:: 2.0.0\n",
      " |      \n",
      " |      Parameters\n",
      " |      ----------\n",
      " |      dataset : :py:class:`pyspark.sql.DataFrame`\n",
      " |          Test dataset to evaluate model on, where dataset is an\n",
      " |          instance of :py:class:`pyspark.sql.DataFrame`\n",
      " |  \n",
      " |  setLinkPredictionCol(self, value: str) -> 'GeneralizedLinearRegressionModel'\n",
      " |      Sets the value of :py:attr:`linkPredictionCol`.\n",
      " |      \n",
      " |      .. versionadded:: 3.0.0\n",
      " |  \n",
      " |  ----------------------------------------------------------------------\n",
      " |  Readonly properties defined here:\n",
      " |  \n",
      " |  coefficients\n",
      " |      Model coefficients.\n",
      " |      \n",
      " |      .. versionadded:: 2.0.0\n",
      " |  \n",
      " |  intercept\n",
      " |      Model intercept.\n",
      " |      \n",
      " |      .. versionadded:: 2.0.0\n",
      " |  \n",
      " |  summary\n",
      " |      Gets summary (residuals, deviance, p-values) of model on\n",
      " |      training set. An exception is thrown if\n",
      " |      `trainingSummary is None`.\n",
      " |      \n",
      " |      .. versionadded:: 2.0.0\n",
      " |  \n",
      " |  ----------------------------------------------------------------------\n",
      " |  Data and other attributes defined here:\n",
      " |  \n",
      " |  __abstractmethods__ = frozenset()\n",
      " |  \n",
      " |  __orig_bases__ = (pyspark.ml.regression._JavaRegressionModel[pyspark.m...\n",
      " |  \n",
      " |  __parameters__ = ()\n",
      " |  \n",
      " |  ----------------------------------------------------------------------\n",
      " |  Methods inherited from pyspark.ml.wrapper.JavaPredictionModel:\n",
      " |  \n",
      " |  predict(self, value: ~T) -> float\n",
      " |      Predict label for the given features.\n",
      " |      \n",
      " |      .. versionadded:: 3.0.0\n",
      " |  \n",
      " |  ----------------------------------------------------------------------\n",
      " |  Readonly properties inherited from pyspark.ml.wrapper.JavaPredictionModel:\n",
      " |  \n",
      " |  numFeatures\n",
      " |      Returns the number of features the model was trained on. If unknown, returns -1\n",
      " |      \n",
      " |      .. versionadded:: 2.1.0\n",
      " |  \n",
      " |  ----------------------------------------------------------------------\n",
      " |  Methods inherited from pyspark.ml.base.PredictionModel:\n",
      " |  \n",
      " |  setFeaturesCol(self: ~P, value: str) -> ~P\n",
      " |      Sets the value of :py:attr:`featuresCol`.\n",
      " |      \n",
      " |      .. versionadded:: 3.0.0\n",
      " |  \n",
      " |  setPredictionCol(self: ~P, value: str) -> ~P\n",
      " |      Sets the value of :py:attr:`predictionCol`.\n",
      " |      \n",
      " |      .. versionadded:: 3.0.0\n",
      " |  \n",
      " |  ----------------------------------------------------------------------\n",
      " |  Methods inherited from pyspark.ml.wrapper.JavaModel:\n",
      " |  \n",
      " |  __init__(self, java_model: Union[ForwardRef('JavaObject'), NoneType] = None)\n",
      " |      Initialize this instance with a Java model object.\n",
      " |      Subclasses should call this constructor, initialize params,\n",
      " |      and then call _transfer_params_from_java.\n",
      " |      \n",
      " |      This instance can be instantiated without specifying java_model,\n",
      " |      it will be assigned after that, but this scenario only used by\n",
      " |      :py:class:`JavaMLReader` to load models.  This is a bit of a\n",
      " |      hack, but it is easiest since a proper fix would require\n",
      " |      MLReader (in pyspark.ml.util) to depend on these wrappers, but\n",
      " |      these wrappers depend on pyspark.ml.util (both directly and via\n",
      " |      other ML classes).\n",
      " |  \n",
      " |  __repr__(self) -> str\n",
      " |      Return repr(self).\n",
      " |  \n",
      " |  ----------------------------------------------------------------------\n",
      " |  Methods inherited from pyspark.ml.wrapper.JavaParams:\n",
      " |  \n",
      " |  clear(self, param: pyspark.ml.param.Param) -> None\n",
      " |      Clears a param from the param map if it has been explicitly set.\n",
      " |  \n",
      " |  copy(self: 'JP', extra: Union[ForwardRef('ParamMap'), NoneType] = None) -> 'JP'\n",
      " |      Creates a copy of this instance with the same uid and some\n",
      " |      extra params. This implementation first calls Params.copy and\n",
      " |      then make a copy of the companion Java pipeline component with\n",
      " |      extra params. So both the Python wrapper and the Java pipeline\n",
      " |      component get copied.\n",
      " |      \n",
      " |      Parameters\n",
      " |      ----------\n",
      " |      extra : dict, optional\n",
      " |          Extra parameters to copy to the new instance\n",
      " |      \n",
      " |      Returns\n",
      " |      -------\n",
      " |      :py:class:`JavaParams`\n",
      " |          Copy of this instance\n",
      " |  \n",
      " |  ----------------------------------------------------------------------\n",
      " |  Methods inherited from pyspark.ml.wrapper.JavaWrapper:\n",
      " |  \n",
      " |  __del__(self) -> None\n",
      " |  \n",
      " |  ----------------------------------------------------------------------\n",
      " |  Data descriptors inherited from pyspark.ml.wrapper.JavaWrapper:\n",
      " |  \n",
      " |  __dict__\n",
      " |      dictionary for instance variables (if defined)\n",
      " |  \n",
      " |  __weakref__\n",
      " |      list of weak references to the object (if defined)\n",
      " |  \n",
      " |  ----------------------------------------------------------------------\n",
      " |  Methods inherited from pyspark.ml.base.Transformer:\n",
      " |  \n",
      " |  transform(self, dataset: pyspark.sql.dataframe.DataFrame, params: Union[ForwardRef('ParamMap'), NoneType] = None) -> pyspark.sql.dataframe.DataFrame\n",
      " |      Transforms the input dataset with optional parameters.\n",
      " |      \n",
      " |      .. versionadded:: 1.3.0\n",
      " |      \n",
      " |      Parameters\n",
      " |      ----------\n",
      " |      dataset : :py:class:`pyspark.sql.DataFrame`\n",
      " |          input dataset\n",
      " |      params : dict, optional\n",
      " |          an optional param map that overrides embedded params.\n",
      " |      \n",
      " |      Returns\n",
      " |      -------\n",
      " |      :py:class:`pyspark.sql.DataFrame`\n",
      " |          transformed dataset\n",
      " |  \n",
      " |  ----------------------------------------------------------------------\n",
      " |  Methods inherited from _GeneralizedLinearRegressionParams:\n",
      " |  \n",
      " |  getFamily(self) -> str\n",
      " |      Gets the value of family or its default value.\n",
      " |      \n",
      " |      .. versionadded:: 2.0.0\n",
      " |  \n",
      " |  getLink(self) -> str\n",
      " |      Gets the value of link or its default value.\n",
      " |      \n",
      " |      .. versionadded:: 2.0.0\n",
      " |  \n",
      " |  getLinkPower(self) -> float\n",
      " |      Gets the value of linkPower or its default value.\n",
      " |      \n",
      " |      .. versionadded:: 2.2.0\n",
      " |  \n",
      " |  getLinkPredictionCol(self) -> str\n",
      " |      Gets the value of linkPredictionCol or its default value.\n",
      " |      \n",
      " |      .. versionadded:: 2.0.0\n",
      " |  \n",
      " |  getOffsetCol(self) -> str\n",
      " |      Gets the value of offsetCol or its default value.\n",
      " |      \n",
      " |      .. versionadded:: 2.3.0\n",
      " |  \n",
      " |  getVariancePower(self) -> float\n",
      " |      Gets the value of variancePower or its default value.\n",
      " |      \n",
      " |      .. versionadded:: 2.2.0\n",
      " |  \n",
      " |  ----------------------------------------------------------------------\n",
      " |  Data and other attributes inherited from _GeneralizedLinearRegressionParams:\n",
      " |  \n",
      " |  __annotations__ = {'family': pyspark.ml.param.Param[str], 'link': pysp...\n",
      " |  \n",
      " |  family = Param(parent='undefined', name='family', doc='Th...default), ...\n",
      " |  \n",
      " |  link = Param(parent='undefined', name='link', doc='The ... log, invers...\n",
      " |  \n",
      " |  linkPower = Param(parent='undefined', name='linkPower', doc=...unction...\n",
      " |  \n",
      " |  linkPredictionCol = Param(parent='undefined', name='linkPredictionCo.....\n",
      " |  \n",
      " |  offsetCol = Param(parent='undefined', name='offsetCol', doc=... or emp...\n",
      " |  \n",
      " |  solver = Param(parent='undefined', name='solver', doc='Th...ithm for o...\n",
      " |  \n",
      " |  variancePower = Param(parent='undefined', name='variancePower', ...eed...\n",
      " |  \n",
      " |  ----------------------------------------------------------------------\n",
      " |  Methods inherited from pyspark.ml.param.shared.HasLabelCol:\n",
      " |  \n",
      " |  getLabelCol(self) -> str\n",
      " |      Gets the value of labelCol or its default value.\n",
      " |  \n",
      " |  ----------------------------------------------------------------------\n",
      " |  Data and other attributes inherited from pyspark.ml.param.shared.HasLabelCol:\n",
      " |  \n",
      " |  labelCol = Param(parent='undefined', name='labelCol', doc='label colum...\n",
      " |  \n",
      " |  ----------------------------------------------------------------------\n",
      " |  Methods inherited from pyspark.ml.param.shared.HasFeaturesCol:\n",
      " |  \n",
      " |  getFeaturesCol(self) -> str\n",
      " |      Gets the value of featuresCol or its default value.\n",
      " |  \n",
      " |  ----------------------------------------------------------------------\n",
      " |  Data and other attributes inherited from pyspark.ml.param.shared.HasFeaturesCol:\n",
      " |  \n",
      " |  featuresCol = Param(parent='undefined', name='featuresCol', doc='featu...\n",
      " |  \n",
      " |  ----------------------------------------------------------------------\n",
      " |  Methods inherited from pyspark.ml.param.shared.HasPredictionCol:\n",
      " |  \n",
      " |  getPredictionCol(self) -> str\n",
      " |      Gets the value of predictionCol or its default value.\n",
      " |  \n",
      " |  ----------------------------------------------------------------------\n",
      " |  Data and other attributes inherited from pyspark.ml.param.shared.HasPredictionCol:\n",
      " |  \n",
      " |  predictionCol = Param(parent='undefined', name='predictionCol', doc='p...\n",
      " |  \n",
      " |  ----------------------------------------------------------------------\n",
      " |  Methods inherited from pyspark.ml.param.shared.HasFitIntercept:\n",
      " |  \n",
      " |  getFitIntercept(self) -> bool\n",
      " |      Gets the value of fitIntercept or its default value.\n",
      " |  \n",
      " |  ----------------------------------------------------------------------\n",
      " |  Data and other attributes inherited from pyspark.ml.param.shared.HasFitIntercept:\n",
      " |  \n",
      " |  fitIntercept = Param(parent='undefined', name='fitIntercept', doc='whe...\n",
      " |  \n",
      " |  ----------------------------------------------------------------------\n",
      " |  Methods inherited from pyspark.ml.param.shared.HasMaxIter:\n",
      " |  \n",
      " |  getMaxIter(self) -> int\n",
      " |      Gets the value of maxIter or its default value.\n",
      " |  \n",
      " |  ----------------------------------------------------------------------\n",
      " |  Data and other attributes inherited from pyspark.ml.param.shared.HasMaxIter:\n",
      " |  \n",
      " |  maxIter = Param(parent='undefined', name='maxIter', doc='max number of...\n",
      " |  \n",
      " |  ----------------------------------------------------------------------\n",
      " |  Methods inherited from pyspark.ml.param.shared.HasTol:\n",
      " |  \n",
      " |  getTol(self) -> float\n",
      " |      Gets the value of tol or its default value.\n",
      " |  \n",
      " |  ----------------------------------------------------------------------\n",
      " |  Data and other attributes inherited from pyspark.ml.param.shared.HasTol:\n",
      " |  \n",
      " |  tol = Param(parent='undefined', name='tol', doc='the c...ence toleranc...\n",
      " |  \n",
      " |  ----------------------------------------------------------------------\n",
      " |  Methods inherited from pyspark.ml.param.shared.HasRegParam:\n",
      " |  \n",
      " |  getRegParam(self) -> float\n",
      " |      Gets the value of regParam or its default value.\n",
      " |  \n",
      " |  ----------------------------------------------------------------------\n",
      " |  Data and other attributes inherited from pyspark.ml.param.shared.HasRegParam:\n",
      " |  \n",
      " |  regParam = Param(parent='undefined', name='regParam', doc='regularizat...\n",
      " |  \n",
      " |  ----------------------------------------------------------------------\n",
      " |  Methods inherited from pyspark.ml.param.shared.HasWeightCol:\n",
      " |  \n",
      " |  getWeightCol(self) -> str\n",
      " |      Gets the value of weightCol or its default value.\n",
      " |  \n",
      " |  ----------------------------------------------------------------------\n",
      " |  Data and other attributes inherited from pyspark.ml.param.shared.HasWeightCol:\n",
      " |  \n",
      " |  weightCol = Param(parent='undefined', name='weightCol', doc=...or empt...\n",
      " |  \n",
      " |  ----------------------------------------------------------------------\n",
      " |  Methods inherited from pyspark.ml.param.shared.HasSolver:\n",
      " |  \n",
      " |  getSolver(self) -> str\n",
      " |      Gets the value of solver or its default value.\n",
      " |  \n",
      " |  ----------------------------------------------------------------------\n",
      " |  Methods inherited from pyspark.ml.param.shared.HasAggregationDepth:\n",
      " |  \n",
      " |  getAggregationDepth(self) -> int\n",
      " |      Gets the value of aggregationDepth or its default value.\n",
      " |  \n",
      " |  ----------------------------------------------------------------------\n",
      " |  Data and other attributes inherited from pyspark.ml.param.shared.HasAggregationDepth:\n",
      " |  \n",
      " |  aggregationDepth = Param(parent='undefined', name='aggregationDepth', ...\n",
      " |  \n",
      " |  ----------------------------------------------------------------------\n",
      " |  Methods inherited from pyspark.ml.param.Params:\n",
      " |  \n",
      " |  explainParam(self, param: Union[str, pyspark.ml.param.Param]) -> str\n",
      " |      Explains a single param and returns its name, doc, and optional\n",
      " |      default value and user-supplied value in a string.\n",
      " |  \n",
      " |  explainParams(self) -> str\n",
      " |      Returns the documentation of all params with their optionally\n",
      " |      default values and user-supplied values.\n",
      " |  \n",
      " |  extractParamMap(self, extra: Union[ForwardRef('ParamMap'), NoneType] = None) -> 'ParamMap'\n",
      " |      Extracts the embedded default param values and user-supplied\n",
      " |      values, and then merges them with extra values from input into\n",
      " |      a flat param map, where the latter value is used if there exist\n",
      " |      conflicts, i.e., with ordering: default param values <\n",
      " |      user-supplied values < extra.\n",
      " |      \n",
      " |      Parameters\n",
      " |      ----------\n",
      " |      extra : dict, optional\n",
      " |          extra param values\n",
      " |      \n",
      " |      Returns\n",
      " |      -------\n",
      " |      dict\n",
      " |          merged param map\n",
      " |  \n",
      " |  getOrDefault(self, param: Union[str, pyspark.ml.param.Param[~T]]) -> Union[Any, ~T]\n",
      " |      Gets the value of a param in the user-supplied param map or its\n",
      " |      default value. Raises an error if neither is set.\n",
      " |  \n",
      " |  getParam(self, paramName: str) -> pyspark.ml.param.Param\n",
      " |      Gets a param by its name.\n",
      " |  \n",
      " |  hasDefault(self, param: Union[str, pyspark.ml.param.Param[Any]]) -> bool\n",
      " |      Checks whether a param has a default value.\n",
      " |  \n",
      " |  hasParam(self, paramName: str) -> bool\n",
      " |      Tests whether this instance contains a param with a given\n",
      " |      (string) name.\n",
      " |  \n",
      " |  isDefined(self, param: Union[str, pyspark.ml.param.Param[Any]]) -> bool\n",
      " |      Checks whether a param is explicitly set by user or has\n",
      " |      a default value.\n",
      " |  \n",
      " |  isSet(self, param: Union[str, pyspark.ml.param.Param[Any]]) -> bool\n",
      " |      Checks whether a param is explicitly set by user.\n",
      " |  \n",
      " |  set(self, param: pyspark.ml.param.Param, value: Any) -> None\n",
      " |      Sets a parameter in the embedded param map.\n",
      " |  \n",
      " |  ----------------------------------------------------------------------\n",
      " |  Readonly properties inherited from pyspark.ml.param.Params:\n",
      " |  \n",
      " |  params\n",
      " |      Returns all params ordered by name. The default implementation\n",
      " |      uses :py:func:`dir` to get all attributes of type\n",
      " |      :py:class:`Param`.\n",
      " |  \n",
      " |  ----------------------------------------------------------------------\n",
      " |  Methods inherited from pyspark.ml.util.JavaMLWritable:\n",
      " |  \n",
      " |  write(self) -> pyspark.ml.util.JavaMLWriter\n",
      " |      Returns an MLWriter instance for this ML instance.\n",
      " |  \n",
      " |  ----------------------------------------------------------------------\n",
      " |  Methods inherited from pyspark.ml.util.MLWritable:\n",
      " |  \n",
      " |  save(self, path: str) -> None\n",
      " |      Save this ML instance to the given path, a shortcut of 'write().save(path)'.\n",
      " |  \n",
      " |  ----------------------------------------------------------------------\n",
      " |  Class methods inherited from pyspark.ml.util.JavaMLReadable:\n",
      " |  \n",
      " |  read() -> pyspark.ml.util.JavaMLReader[~RL] from abc.ABCMeta\n",
      " |      Returns an MLReader instance for this class.\n",
      " |  \n",
      " |  ----------------------------------------------------------------------\n",
      " |  Class methods inherited from pyspark.ml.util.MLReadable:\n",
      " |  \n",
      " |  load(path: str) -> ~RL from abc.ABCMeta\n",
      " |      Reads an ML instance from the input path, a shortcut of `read().load(path)`.\n",
      " |  \n",
      " |  ----------------------------------------------------------------------\n",
      " |  Readonly properties inherited from pyspark.ml.util.HasTrainingSummary:\n",
      " |  \n",
      " |  hasSummary\n",
      " |      Indicates whether a training summary exists for this model\n",
      " |      instance.\n",
      " |      \n",
      " |      .. versionadded:: 2.1.0\n",
      " |  \n",
      " |  ----------------------------------------------------------------------\n",
      " |  Class methods inherited from typing.Generic:\n",
      " |  \n",
      " |  __class_getitem__(params) from abc.ABCMeta\n",
      " |  \n",
      " |  __init_subclass__(*args, **kwargs) from abc.ABCMeta\n",
      " |      This method is called when a class is subclassed.\n",
      " |      \n",
      " |      The default implementation does nothing. It may be\n",
      " |      overridden to extend subclasses.\n",
      " |  \n",
      " |  ----------------------------------------------------------------------\n",
      " |  Static methods inherited from typing.Generic:\n",
      " |  \n",
      " |  __new__(cls, *args, **kwds)\n",
      " |      Create and return a new object.  See help(type) for accurate signature.\n",
      "\n"
     ]
    }
   ],
   "source": [
    "help(glm)"
   ]
  },
  {
   "cell_type": "code",
   "execution_count": null,
   "metadata": {},
   "outputs": [],
   "source": [
    "features = 'features'\n",
    "input_cols = ['PUMonth', 'PUWeekday', 'PUDay',\n",
    "              'PUHour', 'wnd', 'vis', 'tmp', 'dew', 'atm', 'cc', 'PULocationID_vec']\n",
    "\n",
    "# onehotencoder to qualificationIndex\n",
    "onehotencoder = OneHotEncoder(\n",
    "    inputCol=\"PULocationID\",\n",
    "    outputCol=\"PULocationID_vec\"\n",
    ")\n",
    "\n",
    "assembler = VectorAssembler(\n",
    "    # which column to combine\n",
    "    inputCols=input_cols,\n",
    "    # How should the combined columns be named\n",
    "    outputCol=features\n",
    ")\n",
    "\n",
    "# model_sdf = assembler.transform(sdf.dropna('any'))\n",
    "# model_sdf = onehotencoder.tran\n",
    "# # Display the features and targets for our model\n",
    "# model_sdf.select('features').head(5), model_sdf.select('count').head(5)\n",
    "model_sdf = assembler.transform(onehotencoder.fit(sdf).transform(sdf))\n",
    "#model_sdf.select('features').head(5)\n"
   ]
  }
 ],
 "metadata": {
  "kernelspec": {
   "display_name": "Python 3.8.10 ('adsenv': venv)",
   "language": "python",
   "name": "python3"
  },
  "language_info": {
   "codemirror_mode": {
    "name": "ipython",
    "version": 3
   },
   "file_extension": ".py",
   "mimetype": "text/x-python",
   "name": "python",
   "nbconvert_exporter": "python",
   "pygments_lexer": "ipython3",
   "version": "3.8.10"
  },
  "orig_nbformat": 4,
  "vscode": {
   "interpreter": {
    "hash": "c5863b7319be0ba8d88ed95044dcfd002e9d5d183ede3cf6092c3150097f8482"
   }
  }
 },
 "nbformat": 4,
 "nbformat_minor": 2
}
