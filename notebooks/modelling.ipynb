{
 "cells": [
  {
   "cell_type": "code",
   "execution_count": 1,
   "metadata": {},
   "outputs": [
    {
     "name": "stdout",
     "output_type": "stream",
     "text": [
      "22/08/22 05:46:00 WARN Utils: Your hostname, DESKTOP-L9KIK4G resolves to a loopback address: 127.0.1.1; using 172.23.126.166 instead (on interface eth0)\n",
      "22/08/22 05:46:00 WARN Utils: Set SPARK_LOCAL_IP if you need to bind to another address\n"
     ]
    },
    {
     "name": "stderr",
     "output_type": "stream",
     "text": [
      "Setting default log level to \"WARN\".\n",
      "To adjust logging level use sc.setLogLevel(newLevel). For SparkR, use setLogLevel(newLevel).\n"
     ]
    },
    {
     "name": "stdout",
     "output_type": "stream",
     "text": [
      "22/08/22 05:46:02 WARN NativeCodeLoader: Unable to load native-hadoop library for your platform... using builtin-java classes where applicable\n"
     ]
    }
   ],
   "source": [
    "# Sample connection\n",
    "from pyspark.sql import SparkSession\n",
    "from pyspark.sql import functions as F\n",
    "\n",
    "# Create a spark session (which will run spark jobs)\n",
    "spark = (\n",
    "    SparkSession.builder.appName(\"Cleaning connection\")\n",
    "    .config(\"spark.sql.repl.eagerEval.enabled\", True) \n",
    "    .config(\"spark.sql.parquet.cacheMetadata\", \"true\")\n",
    "    .config(\"spark.sql.session.timeZone\", \"Etc/UTC\")\n",
    "    .config(\"spark.driver.memory\", \"4g\")\n",
    "    .config(\"spark.executor.memory\", \"8g\")\n",
    "    .getOrCreate()\n",
    ")"
   ]
  },
  {
   "cell_type": "code",
   "execution_count": 2,
   "metadata": {},
   "outputs": [],
   "source": [
    "import numpy as np"
   ]
  },
  {
   "cell_type": "markdown",
   "metadata": {},
   "source": [
    "# Linear Regression"
   ]
  },
  {
   "cell_type": "markdown",
   "metadata": {},
   "source": [
    "### reading data in"
   ]
  },
  {
   "cell_type": "code",
   "execution_count": 10,
   "metadata": {},
   "outputs": [],
   "source": [
    "from statsmodels.formula.api import ols, glm\n",
    "# VectorAssembler creates new vectors from existing columns\n",
    "from pyspark.ml.feature import VectorAssembler, OneHotEncoder\n",
    "from pyspark.ml.linalg import Vectors\n",
    "\n",
    "from pyspark.ml.regression import LinearRegression\n",
    "\n",
    "import pandas as pd"
   ]
  },
  {
   "cell_type": "code",
   "execution_count": 6,
   "metadata": {},
   "outputs": [
    {
     "name": "stderr",
     "output_type": "stream",
     "text": [
      "                                                                                \r"
     ]
    },
    {
     "data": {
      "text/plain": [
       "271934805"
      ]
     },
     "execution_count": 6,
     "metadata": {},
     "output_type": "execute_result"
    }
   ],
   "source": [
    "sdf = spark.read.parquet('../data/curated/final3/clean_dataset.parquet/')#.drop('pickup_datetime', 'DOLocationID').dropDuplicates()\n",
    "sdf.count()#.printSchema()"
   ]
  },
  {
   "cell_type": "code",
   "execution_count": 59,
   "metadata": {},
   "outputs": [
    {
     "data": {
      "text/plain": [
       "[['2019-04-22 22:00:00'],\n",
       " ['2019-05-30 11:00:00'],\n",
       " ['2019-05-15 04:00:00'],\n",
       " ['2019-05-18 08:00:00'],\n",
       " ['2019-04-17 00:00:00'],\n",
       " ['2019-04-20 15:00:00'],\n",
       " ['2019-04-07 12:00:00'],\n",
       " ['2019-05-26 16:00:00'],\n",
       " ['2019-05-06 05:00:00'],\n",
       " ['2019-05-30 04:00:00'],\n",
       " ['2019-05-18 15:00:00'],\n",
       " ['2019-05-01 03:00:00'],\n",
       " ['2019-05-30 09:00:00'],\n",
       " ['2019-05-19 20:00:00'],\n",
       " ['2019-04-22 07:00:00']]"
      ]
     },
     "execution_count": 59,
     "metadata": {},
     "output_type": "execute_result"
    }
   ],
   "source": [
    "# set aside 15 days from 2019 to do our testing \n",
    "# code: https://stackoverflow.com/questions/553303/generate-a-random-date-between-two-other-dates\n",
    "import random\n",
    "import time\n",
    "    \n",
    "def str_time_prop(start, end, time_format, prop):\n",
    "\n",
    "    stime = time.mktime(time.strptime(start, time_format))\n",
    "    etime = time.mktime(time.strptime(end, time_format))\n",
    "\n",
    "    ptime = stime + prop * (etime - stime)\n",
    "\n",
    "    return time.strftime(time_format, time.localtime(ptime))\n",
    "\n",
    "\n",
    "def random_date(start, end, prop):\n",
    "    return str_time_prop(start, end, '%Y-%m-%d %H', prop) + ':00:00'\n",
    "\n",
    "random.seed(42)\n",
    "test_dates = [[random_date(\"2019-06-01 00\", \"2019-03-31 23\", random.random())] for x in range(15)]\n",
    "test_dates"
   ]
  },
  {
   "cell_type": "code",
   "execution_count": 75,
   "metadata": {},
   "outputs": [],
   "source": [
    "test_dates_df = spark.createDataFrame(test_dates, [\"temp_date\"]).select(F.col(\"temp_date\"), F.to_timestamp(\n",
    "    F.col(\"temp_date\"), 'yyyy-MM-dd HH:mm:ss').alias(\"date\")).select(F.col('date'))\n"
   ]
  },
  {
   "cell_type": "code",
   "execution_count": 78,
   "metadata": {},
   "outputs": [],
   "source": [
    "# testing_sdf =sdf.withColumn(\"dt_truncated\", F.date_trunc(\"hour\", F.col(\"pickup_datetime\")))\n",
    "# testing_sdf = testing_sdf.filter(F.col('dt_truncated').isin(test_dates_df.select('date')))\n",
    "# testing_sdf.write.mode('overwrite').parquet('../data/curated/testing/testing.parquet')"
   ]
  },
  {
   "cell_type": "code",
   "execution_count": 45,
   "metadata": {},
   "outputs": [
    {
     "data": {
      "text/html": [
       "<table border='1'>\n",
       "<tr><th>pickup_datetime</th><th>PULocationID</th><th>DOLocationID</th><th>PUWeekday</th><th>PUHour</th><th>PUMonth</th><th>PUDay</th><th>count</th><th>wnd</th><th>vis</th><th>tmp</th><th>dew</th><th>atm</th><th>cc</th><th>dt_truncated</th></tr>\n",
       "</table>\n"
      ],
      "text/plain": [
       "+---------------+------------+------------+---------+------+-------+-----+-----+---+---+---+---+---+---+------------+\n",
       "|pickup_datetime|PULocationID|DOLocationID|PUWeekday|PUHour|PUMonth|PUDay|count|wnd|vis|tmp|dew|atm| cc|dt_truncated|\n",
       "+---------------+------------+------------+---------+------+-------+-----+-----+---+---+---+---+---+---+------------+\n",
       "+---------------+------------+------------+---------+------+-------+-----+-----+---+---+---+---+---+---+------------+"
      ]
     },
     "execution_count": 45,
     "metadata": {},
     "output_type": "execute_result"
    }
   ],
   "source": [
    "testing_sdf = spark.read.parquet('../data/curated/testing/testing.parquet')\n",
    "testing_sdf.limit(5)"
   ]
  },
  {
   "cell_type": "code",
   "execution_count": 79,
   "metadata": {},
   "outputs": [
    {
     "name": "stderr",
     "output_type": "stream",
     "text": [
      "                                                                                \r"
     ]
    }
   ],
   "source": [
    "sdf.drop('pickup_datetime','DOLocationID').dropDuplicates().write.mode('overwrite').parquet('../data/curated/training/train.parquet')"
   ]
  },
  {
   "cell_type": "code",
   "execution_count": 81,
   "metadata": {},
   "outputs": [
    {
     "data": {
      "text/plain": [
       "1535071"
      ]
     },
     "execution_count": 81,
     "metadata": {},
     "output_type": "execute_result"
    }
   ],
   "source": [
    "sdf = spark.read.parquet('../data/curated/training/train.parquet')\n",
    "sdf.count()"
   ]
  },
  {
   "cell_type": "markdown",
   "metadata": {},
   "source": [
    "### Encoding data"
   ]
  },
  {
   "cell_type": "code",
   "execution_count": 82,
   "metadata": {},
   "outputs": [
    {
     "name": "stdout",
     "output_type": "stream",
     "text": [
      "+-------------------------------------------------------------------------------------------+\n",
      "|features                                                                                   |\n",
      "+-------------------------------------------------------------------------------------------+\n",
      "|(276,[0,1,2,3,4,6,7,8,9,76],[54.0,16046.5,227.5,61.5,10132.0,6.0,6.0,2.0,3.0,1.0])         |\n",
      "|(276,[0,1,2,3,4,5,6,7,8,9,230],[67.0,16093.0,194.0,50.0,10140.0,4.0,6.0,7.0,3.0,16.0,1.0]) |\n",
      "|(276,[0,1,2,3,4,5,6,7,8,9,108],[62.0,16093.0,178.0,156.0,10067.0,8.0,6.0,2.0,5.0,20.0,1.0])|\n",
      "|(276,[0,1,2,3,4,5,6,7,8,9,227],[48.5,16046.5,164.0,114.0,10165.5,7.0,6.0,5.0,8.0,12.0,1.0])|\n",
      "|(276,[0,1,2,3,4,5,6,7,8,9,154],[26.0,16093.0,156.0,78.0,10071.0,7.0,6.0,6.0,9.0,10.0,1.0]) |\n",
      "|(276,[0,1,2,3,4,5,6,7,8,9,232],[57.0,16093.0,217.0,89.0,10075.0,2.0,6.0,6.0,9.0,14.0,1.0]) |\n",
      "|(276,[0,1,2,3,4,5,6,7,8,9,39],[44.0,16046.5,225.0,89.0,10075.0,2.0,6.0,6.0,9.0,15.0,1.0])  |\n",
      "|(276,[0,1,2,3,4,5,6,7,8,9,20],[67.0,16093.0,306.0,117.0,10140.0,4.0,6.0,7.0,10.0,19.0,1.0])|\n",
      "|(276,[0,1,2,3,4,6,7,8,9,167],[26.0,16093.0,244.0,150.0,10169.0,6.0,1.0,11.0,8.0,1.0])      |\n",
      "|(276,[0,1,2,3,4,6,7,8,9,63],[36.0,16046.5,314.0,156.0,10160.0,6.0,2.0,12.0,15.0,1.0])      |\n",
      "+-------------------------------------------------------------------------------------------+\n",
      "only showing top 10 rows\n",
      "\n"
     ]
    }
   ],
   "source": [
    "# VectorAssembler creates new vectors from existing columns\n",
    "from pyspark.ml.feature import VectorAssembler, OneHotEncoder\n",
    "\n",
    "onehotdata = OneHotEncoder(\n",
    "    inputCol='PULocationID',\n",
    "    outputCol='location_vec',\n",
    "    dropLast = False\n",
    ").fit(sdf).transform(sdf)\n",
    "\n",
    "\n",
    "assembler = VectorAssembler(\n",
    "    inputCols=['wnd', 'vis', 'tmp', 'dew', 'atm', 'cc', 'PUMonth', 'PUWeekday', 'PUDay', 'PUHour', 'location_vec'],\n",
    "    outputCol='features')\n",
    "model_sdf = assembler.transform(onehotdata)\n",
    "model_sdf.select('features').show(10, truncate=False)"
   ]
  },
  {
   "cell_type": "markdown",
   "metadata": {},
   "source": [
    "### Normalising data"
   ]
  },
  {
   "cell_type": "code",
   "execution_count": 84,
   "metadata": {},
   "outputs": [
    {
     "name": "stderr",
     "output_type": "stream",
     "text": [
      "                                                                                \r"
     ]
    },
    {
     "name": "stdout",
     "output_type": "stream",
     "text": [
      "After Scaling :\n"
     ]
    },
    {
     "name": "stderr",
     "output_type": "stream",
     "text": [
      "[Stage 164:>                                                        (0 + 1) / 1]\r"
     ]
    },
    {
     "name": "stdout",
     "output_type": "stream",
     "text": [
      "+------------+---------+------+-------+-----+-----+----+-------+-----+-----+-------+---+-----------------+--------------------+----------+----------+----------+----------+----------+---------+\n",
      "|PULocationID|PUWeekday|PUHour|PUMonth|PUDay|count| wnd|    vis|  tmp|  dew|    atm| cc|     location_vec|            features|wnd_Scaled|vis_Scaled|tmp_Scaled|dew_Scaled|atm_Scaled|cc_Scaled|\n",
      "+------------+---------+------+-------+-----+-----+----+-------+-----+-----+-------+---+-----------------+--------------------+----------+----------+----------+----------+----------+---------+\n",
      "|        66.0|        6|     3|      6|    2|   13|54.0|16046.5|227.5| 61.5|10132.0|0.0| (266,[66],[1.0])|(276,[0,1,2,3,4,6...|     0.403|     0.997|     0.436|     0.294|      0.53|      0.0|\n",
      "|       220.0|        7|    16|      6|    3|  114|67.0|16093.0|194.0| 50.0|10140.0|4.0|(266,[220],[1.0])|(276,[0,1,2,3,4,5...|       0.5|       1.0|     0.311|     0.251|     0.555|      0.0|\n",
      "|        98.0|        2|    20|      6|    5|   10|62.0|16093.0|178.0|156.0|10067.0|8.0| (266,[98],[1.0])|(276,[0,1,2,3,4,5...|     0.463|       1.0|     0.251|     0.648|     0.328|      0.0|\n",
      "|       217.0|        5|    12|      6|    8|   75|48.5|16046.5|164.0|114.0|10165.5|7.0|(266,[217],[1.0])|(276,[0,1,2,3,4,5...|     0.362|     0.997|     0.199|     0.491|     0.635|      0.0|\n",
      "|       144.0|        6|    10|      6|    9|  331|26.0|16093.0|156.0| 78.0|10071.0|7.0|(266,[144],[1.0])|(276,[0,1,2,3,4,5...|     0.194|       1.0|     0.169|     0.356|      0.34|      0.0|\n",
      "+------------+---------+------+-------+-----+-----+----+-------+-----+-----+-------+---+-----------------+--------------------+----------+----------+----------+----------+----------+---------+\n",
      "only showing top 5 rows\n",
      "\n"
     ]
    },
    {
     "name": "stderr",
     "output_type": "stream",
     "text": [
      "                                                                                \r"
     ]
    }
   ],
   "source": [
    "# NORMALIZING DATA\n",
    "# code from https://stackoverflow.com/questions/40337744/scalenormalise-a-column-in-spark-dataframe-pyspark\n",
    "from pyspark.ml.feature import MinMaxScaler\n",
    "from pyspark.ml import Pipeline\n",
    "from pyspark.sql.functions import udf\n",
    "from pyspark.sql.types import DoubleType\n",
    "\n",
    "# UDF for converting column type from vector to double type\n",
    "unlist = udf(lambda x: round(float(list(x)[0]), 3), DoubleType())\n",
    "\n",
    "# Iterating over columns to be scaled\n",
    "for i in ['wnd', 'vis', 'tmp', 'dew', 'atm', 'cc']:\n",
    "    # VectorAssembler Transformation - Converting column to vector type\n",
    "    assembler = VectorAssembler(inputCols=[i], outputCol=i+\"_Vect\")\n",
    "\n",
    "    # MinMaxScaler Transformation\n",
    "    scaler = MinMaxScaler(inputCol=i+\"_Vect\", outputCol=i+\"_Scaled\")\n",
    "\n",
    "    # Pipeline of VectorAssembler and MinMaxScaler\n",
    "    pipeline = Pipeline(stages=[assembler, scaler])\n",
    "\n",
    "    # Fitting pipeline on dataframe\n",
    "    model_sdf = pipeline.fit(model_sdf).transform(model_sdf).withColumn(\n",
    "        i+\"_Scaled\", unlist(i+\"_Scaled\")).drop(i+\"_Vect\")\n",
    "\n",
    "print(\"After Scaling :\")\n",
    "model_sdf.show(5)"
   ]
  },
  {
   "cell_type": "markdown",
   "metadata": {},
   "source": [
    "### Combining all of the data into feature vector and training model"
   ]
  },
  {
   "cell_type": "code",
   "execution_count": 86,
   "metadata": {},
   "outputs": [
    {
     "name": "stdout",
     "output_type": "stream",
     "text": [
      "22/08/22 06:50:50 WARN Instrumentation: [eb082fdc] regParam is zero, which might cause numerical instability and overfitting.\n"
     ]
    },
    {
     "name": "stderr",
     "output_type": "stream",
     "text": [
      "[Stage 165:>                (0 + 4) / 4][Stage 166:>                (0 + 0) / 4]\r"
     ]
    },
    {
     "name": "stdout",
     "output_type": "stream",
     "text": [
      "22/08/22 06:51:21 WARN InstanceBuilder$NativeBLAS: Failed to load implementation from:dev.ludovic.netlib.blas.JNIBLAS\n",
      "22/08/22 06:51:21 WARN InstanceBuilder$NativeBLAS: Failed to load implementation from:dev.ludovic.netlib.blas.ForeignLinkerBLAS\n"
     ]
    },
    {
     "name": "stderr",
     "output_type": "stream",
     "text": [
      "                                                                                \r"
     ]
    },
    {
     "name": "stdout",
     "output_type": "stream",
     "text": [
      "22/08/22 06:51:22 WARN InstanceBuilder$NativeLAPACK: Failed to load implementation from:dev.ludovic.netlib.lapack.JNILAPACK\n"
     ]
    },
    {
     "name": "stderr",
     "output_type": "stream",
     "text": [
      "[Stage 166:>                                                        (0 + 4) / 4]\r"
     ]
    },
    {
     "name": "stdout",
     "output_type": "stream",
     "text": [
      "22/08/22 06:51:23 WARN Instrumentation: [69b31f78] Cholesky solver failed due to singular covariance matrix. Retrying with Quasi-Newton solver.\n"
     ]
    },
    {
     "name": "stderr",
     "output_type": "stream",
     "text": [
      "                                                                                \r"
     ]
    },
    {
     "name": "stdout",
     "output_type": "stream",
     "text": [
      "22/08/22 06:52:31 WARN Instrumentation: [eb082fdc] Cholesky solver failed due to singular covariance matrix. Retrying with Quasi-Newton solver.\n"
     ]
    },
    {
     "name": "stderr",
     "output_type": "stream",
     "text": [
      "                                                                                \r"
     ]
    }
   ],
   "source": [
    "df = model_sdf.drop('features')\n",
    "assembler = VectorAssembler(\n",
    "    inputCols=['wnd_Scaled', 'vis_Scaled', 'tmp_Scaled', 'dew_Scaled', 'atm_Scaled', 'cc_Scaled', 'PUMonth', 'PUWeekday', 'PUDay', 'PUHour', 'location_vec'],\n",
    "    outputCol='features')\n",
    "df = assembler.transform(df)\n",
    "\n",
    "\n",
    "lm = LinearRegression(\n",
    "    featuresCol='features', \n",
    "    labelCol='count'\n",
    ").fit(df)"
   ]
  },
  {
   "cell_type": "code",
   "execution_count": 89,
   "metadata": {},
   "outputs": [
    {
     "name": "stdout",
     "output_type": "stream",
     "text": [
      "Coefficients: [53.99598003097942,19.29131748694818,-17.286402994995164,104.51649005953607,110.98134491798059,-60.53455641757245,-13.510755724264948,4.927122525406993,-0.06783347606503856,7.539947136485882,-186.83884382259524,-175.38154811129706,-189.30863231470886,-125.45490326882368,-21.549076357399457,-172.01247182273977,-165.72673512357377,163.00462333805885,-182.8763741108168,-154.01609205389565,-107.8995874373669,-143.71808967725545,-164.59250423856298,106.57236837338095,-29.291004213525436,-155.5715644600364,-121.26399411709288,88.14233281158542,-64.92788598354885,-157.33564317894,-103.85575428137571,-100.4213021144233,-88.96800416743403,-148.62310243818953,-93.974693639882,18.74857814665875,-53.02890779324878,-184.00642705474095,-126.73314308449417,-120.28572771733313,-184.07822422103533,-155.53635635916393,-117.21046130712028,14.795441537082652,-150.47953126587075,-24.422096314276615,69.96766895439687,139.75437812081967,-151.3782504467083,40.06455142127283,-86.68310213438832,100.41372297891395,106.37155909479524,107.93155951834156,-171.0798026612145,-70.21429013108596,-173.984335122066,-100.69958251654981,605.8651209661498,39.533763464261185,100.70539593381385,-94.9430184497221,-126.01641484528078,-142.33131244430527,-151.82043669737303,-107.30872490431645,-92.10476707701505,-173.10272804129823,-170.91642702574856,-175.73064844661212,-122.17640097817804,266.9005409897494,-57.41491867833211,-90.00176298776226,-156.55670459370992,8.130895098310546,-17.001721392299718,-125.8612867457586,412.5293249960632,-46.062481122237166,-110.8220936201675,-51.51722551656628,-18.584293553812916,-148.08349993545016,124.64116671925731,120.28012710291242,76.91679990489436,-96.19108815241684,-86.58104719947902,597.5211586936464,85.17254057032959,-108.1142328990974,40.61049066437169,-120.85806201328916,-166.19610611046116,-89.88896765994453,-149.7003752783147,132.2501540164769,-55.21916576946346,48.13199027735764,260.50273136338313,-30.076014231273273,-30.778107885788028,-143.2354528347181,-130.00423829409618,-5.41029732037715,-173.6146669994085,60.77740834076098,-148.33752184242644,-182.79237329274127,291.0038638999743,-156.10265311764212,-117.54477836368372,0.0,-274.97243649795075,-205.34825670158713,-104.41234971426822,373.9819481772032,-136.3284261757204,-161.87614737912972,-194.7278765709458,-182.69585979269172,91.60872376462969,199.70101033742978,178.48187843140602,-159.49535855911458,-24.862663880940328,-146.60661540237624,-152.24078018899613,-89.76730851691893,-161.42007338446132,-130.89235789179256,-149.13154414916767,-104.34615317547177,-142.68169620775203,13.907104623827827,-111.12731970723877,-80.50115772424913,-169.36508824148123,59.21726055049967,-26.629011709404242,-136.77781493843344,598.5498725817312,-118.09889737354283,-120.78149048206502,-131.94393738270588,-110.45086401433339,180.98134941642627,559.1928413679988,-136.30830952035805,204.10527195641777,279.7718859963122,345.5264555978787,98.96834399664901,209.298024159956,32.08741669752873,-88.5718001043914,-118.33281989958115,333.9564090931225,-109.84562782665847,-132.1449893790222,22.84639870390279,-88.84887691226307,-157.6022790734523,-178.9568914345161,-86.86618006491183,-156.35134359489314,-111.55314381648681,146.81133380931473,-79.03412946584908,-121.32662492792949,707.5902199492721,505.70508163118495,351.14425806031005,424.9428050558949,-90.80921370798121,32.46737469086407,-86.45449838104709,-59.6950920499814,-61.64761815634962,511.1658643007974,-124.89668350050474,-166.04185699636588,-106.3230518217607,-87.81702807964504,-154.7021011241008,-171.35977269811963,-50.478826850247806,-143.96697852504036,-70.85534012326694,-134.34668864465826,157.80118541572153,-118.84443240614137,-149.40460569670108,-167.75192632675925,-108.65993459628925,405.01685733384943,-164.0211573956478,43.21114269324622,-58.99693008934625,-144.265795917871,-114.7369733226503,-140.46153902059544,-136.71953527747723,-181.11411397983792,-101.38811666002063,-106.81144703164395,-87.37536402336639,-9.317105259220472,-194.000107392835,-129.61456367152246,-158.9610268441525,-158.0626127897188,-133.9797482490655,-174.0692660247502,-94.3749234422684,-137.93037688358612,-193.73995399002044,-108.57606157195427,-87.64968702831635,-94.68561069207338,94.42809459118529,-124.9771847040893,-73.35408996395115,-159.42001921647764,-115.21617941592596,-58.969029788096215,-132.8044780901128,-130.82470254789715,-134.648451137449,-84.41578494987654,-148.46403559252062,-142.03076085288066,-6.177061288690047,-57.759370257393115,89.8238271080551,2.041687843386506,-113.00323506254014,-54.896790848110804,263.5071139247352,523.3877167405186,372.7727899843774,-7.478944308749208,209.82327087952228,563.4711370379291,-63.78017262460975,392.6728951803669,489.27996499735497,218.8114827928226,302.0065838385676,-148.46834283093284,-84.34077040328003,-86.11532345276852,-14.639936445750346,57.445854561962484,-157.77049435814436,328.48716337404164,-50.187785007683495,-122.77117245162573,326.3457096067198,-123.62179395746625,-159.76179818023004,-142.6369307547274,-176.7451038603915,-76.24509595029039,201.41324091588703,93.7246119760074,-121.90017623565461,-98.96683710681143,-110.27883782561007,-47.60093182800085,7.708543885916338,87.7263320636812,195.26093188408362,2415.5849097303403,-67.67571606130383]\n",
      "Intercept: 3.3946019350985854\n",
      "numIterations: 12\n",
      "objectiveHistory: [0.5, 0.3069430050961629, 0.2550769096206906, 0.25433805703620815, 0.25416024631935075, 0.25399268913728956, 0.2539760189374068, 0.2539757273048177, 0.2539756881678815, 0.2539756876840892, 0.2539756876626091, 0.2539756876611102, 0.25397568766093725]\n"
     ]
    },
    {
     "name": "stderr",
     "output_type": "stream",
     "text": [
      "[Stage 170:>                                                        (0 + 1) / 1]\r"
     ]
    },
    {
     "name": "stdout",
     "output_type": "stream",
     "text": [
      "+-------------------+\n",
      "|          residuals|\n",
      "+-------------------+\n",
      "| -67.38016847216619|\n",
      "|-7.5813156784774804|\n",
      "| -68.38770192851376|\n",
      "| 13.771355292410966|\n",
      "| -6.766460222292551|\n",
      "|-6.8571688360715015|\n",
      "|  47.67192699721078|\n",
      "| -68.23315641803009|\n",
      "|  38.54788082072317|\n",
      "|-12.072058135041253|\n",
      "| 102.92018041167404|\n",
      "|  450.1918621858111|\n",
      "|  84.68817595004802|\n",
      "| -66.70188330335532|\n",
      "| 1073.5064088289014|\n",
      "| -58.23884405388293|\n",
      "|  16.55423965657952|\n",
      "|  50.91125017964477|\n",
      "| 12.076388411053252|\n",
      "|  7.377579007417047|\n",
      "+-------------------+\n",
      "only showing top 20 rows\n",
      "\n",
      "RMSE: 229.751578\n",
      "r2: 0.492049\n",
      "MAE 122.67263592648614\n"
     ]
    },
    {
     "name": "stderr",
     "output_type": "stream",
     "text": [
      "                                                                                \r"
     ]
    }
   ],
   "source": [
    "print(\"Coefficients: \" + str(lm.coefficients))\n",
    "print(\"Intercept: \" + str(lm.intercept))\n",
    "trainingSummary = lm.summary\n",
    "print(\"numIterations: %d\" % trainingSummary.totalIterations)\n",
    "print(\"objectiveHistory: %s\" % str(trainingSummary.objectiveHistory))\n",
    "trainingSummary.residuals.show()\n",
    "print(\"RMSE: %f\" % trainingSummary.rootMeanSquaredError)\n",
    "print(\"r2: %f\" % trainingSummary.r2)\n",
    "print('MAE', trainingSummary.meanAbsoluteError)"
   ]
  },
  {
   "cell_type": "markdown",
   "metadata": {},
   "source": [
    "### Predicting data"
   ]
  },
  {
   "cell_type": "code",
   "execution_count": 96,
   "metadata": {},
   "outputs": [
    {
     "name": "stderr",
     "output_type": "stream",
     "text": [
      "                                                                                \r"
     ]
    },
    {
     "data": {
      "text/html": [
       "<table border='1'>\n",
       "<tr><th>PULocationID</th><th>PUWeekday</th><th>PUHour</th><th>PUMonth</th><th>PUDay</th><th>count</th><th>wnd</th><th>vis</th><th>tmp</th><th>dew</th><th>atm</th><th>cc</th><th>location_vec</th><th>wnd_Scaled</th><th>vis_Scaled</th><th>tmp_Scaled</th><th>dew_Scaled</th><th>atm_Scaled</th><th>cc_Scaled</th><th>features</th></tr>\n",
       "<tr><td>66.0</td><td>6</td><td>3</td><td>6</td><td>2</td><td>13</td><td>54.0</td><td>16046.5</td><td>227.5</td><td>61.5</td><td>10132.0</td><td>0.0</td><td>(266,[66],[1.0])</td><td>0.403</td><td>0.997</td><td>0.436</td><td>0.294</td><td>0.53</td><td>0.0</td><td>(276,[0,1,2,3,4,6...</td></tr>\n",
       "</table>\n"
      ],
      "text/plain": [
       "+------------+---------+------+-------+-----+-----+----+-------+-----+----+-------+---+----------------+----------+----------+----------+----------+----------+---------+--------------------+\n",
       "|PULocationID|PUWeekday|PUHour|PUMonth|PUDay|count| wnd|    vis|  tmp| dew|    atm| cc|    location_vec|wnd_Scaled|vis_Scaled|tmp_Scaled|dew_Scaled|atm_Scaled|cc_Scaled|            features|\n",
       "+------------+---------+------+-------+-----+-----+----+-------+-----+----+-------+---+----------------+----------+----------+----------+----------+----------+---------+--------------------+\n",
       "|        66.0|        6|     3|      6|    2|   13|54.0|16046.5|227.5|61.5|10132.0|0.0|(266,[66],[1.0])|     0.403|     0.997|     0.436|     0.294|      0.53|      0.0|(276,[0,1,2,3,4,6...|\n",
       "+------------+---------+------+-------+-----+-----+----+-------+-----+----+-------+---+----------------+----------+----------+----------+----------+----------+---------+--------------------+"
      ]
     },
     "execution_count": 96,
     "metadata": {},
     "output_type": "execute_result"
    }
   ],
   "source": [
    "test_df = df.limit(1)\n",
    "test_df"
   ]
  },
  {
   "cell_type": "code",
   "execution_count": 99,
   "metadata": {},
   "outputs": [
    {
     "name": "stderr",
     "output_type": "stream",
     "text": [
      "                                                                                \r"
     ]
    },
    {
     "name": "stdout",
     "output_type": "stream",
     "text": [
      "+-----------------+-----+--------------------+\n",
      "|       prediction|count|            features|\n",
      "+-----------------+-----+--------------------+\n",
      "|80.38016847216619|   13|(276,[0,1,2,3,4,6...|\n",
      "+-----------------+-----+--------------------+\n",
      "\n"
     ]
    },
    {
     "name": "stderr",
     "output_type": "stream",
     "text": [
      "[Stage 201:==========================================>              (3 + 1) / 4]\r"
     ]
    },
    {
     "name": "stdout",
     "output_type": "stream",
     "text": [
      "R Squared (R2) on test data = -inf\n"
     ]
    },
    {
     "name": "stderr",
     "output_type": "stream",
     "text": [
      "                                                                                \r"
     ]
    }
   ],
   "source": [
    "lr_predictions = lm.transform(test_df)\n",
    "lr_predictions.select(\"prediction\",\"count\",\"features\").show(5)\n",
    "from pyspark.ml.evaluation import RegressionEvaluator\n",
    "lr_evaluator = RegressionEvaluator(predictionCol=\"prediction\", \\\n",
    "                 labelCol=\"count\",metricName=\"r2\")\n",
    "print(\"R Squared (R2) on test data = %g\" % lr_evaluator.evaluate(lr_predictions))"
   ]
  },
  {
   "cell_type": "markdown",
   "metadata": {},
   "source": [
    "# Do not look/run below"
   ]
  },
  {
   "cell_type": "code",
   "execution_count": 91,
   "metadata": {},
   "outputs": [
    {
     "name": "stderr",
     "output_type": "stream",
     "text": [
      "                                                                                \r"
     ]
    },
    {
     "name": "stdout",
     "output_type": "stream",
     "text": [
      "22/08/21 18:16:15 WARN PearsonCorrelation: Pearson correlation matrix contains NaN values.\n"
     ]
    },
    {
     "data": {
      "text/plain": [
       "array([ 1.        ,  0.10138565, -0.00554797, ..., -0.00501742,\n",
       "       -0.00789543,  1.        ])"
      ]
     },
     "execution_count": 91,
     "metadata": {},
     "output_type": "execute_result"
    }
   ],
   "source": [
    "from pyspark.ml.stat import Correlation\n",
    "from pyspark.ml.feature import VectorAssembler\n",
    "\n",
    "# convert to vector column first\n",
    "vector_col = \"corr_features\"\n",
    "assembler = VectorAssembler(inputCols=sampled_model_sdf.columns, outputCol=vector_col)\n",
    "df_vector = assembler.transform(sampled_model_sdf).select(vector_col)\n",
    "\n",
    "# get correlation matrix\n",
    "matrix = Correlation.corr(df_vector, vector_col)\n",
    "\n",
    "matrix.collect()[0][\"pearson({})\".format(vector_col)].values"
   ]
  },
  {
   "cell_type": "code",
   "execution_count": 93,
   "metadata": {},
   "outputs": [
    {
     "data": {
      "text/plain": [
       "[Row(pearson(corr_features)=DenseMatrix(549, 549, [1.0, 0.1014, -0.0055, 0.0186, -0.0066, -0.0015, -0.0065, -0.0043, ..., -0.0058, -0.0041, -0.0009, -0.0007, -0.0007, -0.005, -0.0079, 1.0], False))]"
      ]
     },
     "execution_count": 93,
     "metadata": {},
     "output_type": "execute_result"
    }
   ],
   "source": [
    "matrix.collect()"
   ]
  },
  {
   "cell_type": "markdown",
   "metadata": {},
   "source": [
    "# Statsmodel.sm. midagi ols"
   ]
  },
  {
   "cell_type": "code",
   "execution_count": 5,
   "metadata": {},
   "outputs": [],
   "source": [
    "from statsmodels.formula.api import ols, glm"
   ]
  },
  {
   "cell_type": "code",
   "execution_count": 6,
   "metadata": {},
   "outputs": [],
   "source": [
    "import statsmodels.api as sm\n",
    "import statsmodels.formula.api as smf"
   ]
  },
  {
   "cell_type": "code",
   "execution_count": 22,
   "metadata": {},
   "outputs": [
    {
     "name": "stdout",
     "output_type": "stream",
     "text": [
      "root\n",
      " |-- count: double (nullable = true)\n",
      " |-- wnd: double (nullable = true)\n",
      " |-- vis: double (nullable = true)\n",
      " |-- tmp: double (nullable = true)\n",
      " |-- dew: double (nullable = true)\n",
      " |-- atm: double (nullable = true)\n",
      " |-- cc: double (nullable = true)\n",
      " |-- PUMonth: integer (nullable = true)\n",
      " |-- PUWeekday: integer (nullable = true)\n",
      " |-- PUDay: integer (nullable = true)\n",
      " |-- PUHour: integer (nullable = true)\n",
      " |-- PULocationID: long (nullable = true)\n",
      "\n"
     ]
    }
   ],
   "source": [
    "from pyspark.sql.types import DoubleType\n",
    "dummy = sdf.select('count', 'wnd', 'vis', 'tmp', 'dew', 'atm', 'cc', 'PUMonth', 'PUWeekday','PUDay', 'PUHour', 'PULocationID')\\\n",
    "    .dropna('any')\\\n",
    "    .withColumn('count', F.col('count').cast(DoubleType()))\n",
    "dummy.printSchema()\n"
   ]
  },
  {
   "cell_type": "code",
   "execution_count": 30,
   "metadata": {},
   "outputs": [
    {
     "name": "stderr",
     "output_type": "stream",
     "text": [
      "                                                                                \r"
     ]
    },
    {
     "data": {
      "text/html": [
       "<table class=\"simpletable\">\n",
       "<caption>OLS Regression Results</caption>\n",
       "<tr>\n",
       "  <th>Dep. Variable:</th>          <td>count</td>      <th>  R-squared:         </th>  <td>   0.043</td>  \n",
       "</tr>\n",
       "<tr>\n",
       "  <th>Model:</th>                   <td>OLS</td>       <th>  Adj. R-squared:    </th>  <td>   0.042</td>  \n",
       "</tr>\n",
       "<tr>\n",
       "  <th>Method:</th>             <td>Least Squares</td>  <th>  F-statistic:       </th>  <td>   334.5</td>  \n",
       "</tr>\n",
       "<tr>\n",
       "  <th>Date:</th>             <td>Sun, 21 Aug 2022</td> <th>  Prob (F-statistic):</th>   <td>  0.00</td>   \n",
       "</tr>\n",
       "<tr>\n",
       "  <th>Time:</th>                 <td>23:10:08</td>     <th>  Log-Likelihood:    </th> <td>-3.3138e+05</td>\n",
       "</tr>\n",
       "<tr>\n",
       "  <th>No. Observations:</th>      <td> 52707</td>      <th>  AIC:               </th>  <td>6.628e+05</td> \n",
       "</tr>\n",
       "<tr>\n",
       "  <th>Df Residuals:</th>          <td> 52699</td>      <th>  BIC:               </th>  <td>6.628e+05</td> \n",
       "</tr>\n",
       "<tr>\n",
       "  <th>Df Model:</th>              <td>     7</td>      <th>                     </th>      <td> </td>     \n",
       "</tr>\n",
       "<tr>\n",
       "  <th>Covariance Type:</th>      <td>nonrobust</td>    <th>                     </th>      <td> </td>     \n",
       "</tr>\n",
       "</table>\n",
       "<table class=\"simpletable\">\n",
       "<tr>\n",
       "        <td></td>          <th>coef</th>     <th>std err</th>      <th>t</th>      <th>P>|t|</th>  <th>[0.025</th>    <th>0.975]</th>  \n",
       "</tr>\n",
       "<tr>\n",
       "  <th>Intercept</th>    <td>   25.3565</td> <td>    5.715</td> <td>    4.437</td> <td> 0.000</td> <td>   14.155</td> <td>   36.558</td>\n",
       "</tr>\n",
       "<tr>\n",
       "  <th>wnd</th>          <td>    0.1355</td> <td>    0.032</td> <td>    4.298</td> <td> 0.000</td> <td>    0.074</td> <td>    0.197</td>\n",
       "</tr>\n",
       "<tr>\n",
       "  <th>tmp</th>          <td>   -0.0621</td> <td>    0.016</td> <td>   -3.932</td> <td> 0.000</td> <td>   -0.093</td> <td>   -0.031</td>\n",
       "</tr>\n",
       "<tr>\n",
       "  <th>dew</th>          <td>    0.0591</td> <td>    0.015</td> <td>    3.969</td> <td> 0.000</td> <td>    0.030</td> <td>    0.088</td>\n",
       "</tr>\n",
       "<tr>\n",
       "  <th>PUMonth</th>      <td>   -4.0255</td> <td>    0.755</td> <td>   -5.333</td> <td> 0.000</td> <td>   -5.505</td> <td>   -2.546</td>\n",
       "</tr>\n",
       "<tr>\n",
       "  <th>PUWeekday</th>    <td>    0.8561</td> <td>    0.283</td> <td>    3.025</td> <td> 0.002</td> <td>    0.301</td> <td>    1.411</td>\n",
       "</tr>\n",
       "<tr>\n",
       "  <th>PUHour</th>       <td>    3.0188</td> <td>    0.094</td> <td>   32.035</td> <td> 0.000</td> <td>    2.834</td> <td>    3.203</td>\n",
       "</tr>\n",
       "<tr>\n",
       "  <th>PULocationID</th> <td>    0.2455</td> <td>    0.007</td> <td>   32.745</td> <td> 0.000</td> <td>    0.231</td> <td>    0.260</td>\n",
       "</tr>\n",
       "</table>\n",
       "<table class=\"simpletable\">\n",
       "<tr>\n",
       "  <th>Omnibus:</th>       <td>31058.230</td> <th>  Durbin-Watson:     </th>  <td>   1.991</td> \n",
       "</tr>\n",
       "<tr>\n",
       "  <th>Prob(Omnibus):</th>  <td> 0.000</td>   <th>  Jarque-Bera (JB):  </th> <td>287871.698</td>\n",
       "</tr>\n",
       "<tr>\n",
       "  <th>Skew:</th>           <td> 2.762</td>   <th>  Prob(JB):          </th>  <td>    0.00</td> \n",
       "</tr>\n",
       "<tr>\n",
       "  <th>Kurtosis:</th>       <td>13.029</td>   <th>  Cond. No.          </th>  <td>3.39e+03</td> \n",
       "</tr>\n",
       "</table><br/><br/>Notes:<br/>[1] Standard Errors assume that the covariance matrix of the errors is correctly specified.<br/>[2] The condition number is large, 3.39e+03. This might indicate that there are<br/>strong multicollinearity or other numerical problems."
      ],
      "text/plain": [
       "<class 'statsmodels.iolib.summary.Summary'>\n",
       "\"\"\"\n",
       "                            OLS Regression Results                            \n",
       "==============================================================================\n",
       "Dep. Variable:                  count   R-squared:                       0.043\n",
       "Model:                            OLS   Adj. R-squared:                  0.042\n",
       "Method:                 Least Squares   F-statistic:                     334.5\n",
       "Date:                Sun, 21 Aug 2022   Prob (F-statistic):               0.00\n",
       "Time:                        23:10:08   Log-Likelihood:            -3.3138e+05\n",
       "No. Observations:               52707   AIC:                         6.628e+05\n",
       "Df Residuals:                   52699   BIC:                         6.628e+05\n",
       "Df Model:                           7                                         \n",
       "Covariance Type:            nonrobust                                         \n",
       "================================================================================\n",
       "                   coef    std err          t      P>|t|      [0.025      0.975]\n",
       "--------------------------------------------------------------------------------\n",
       "Intercept       25.3565      5.715      4.437      0.000      14.155      36.558\n",
       "wnd              0.1355      0.032      4.298      0.000       0.074       0.197\n",
       "tmp             -0.0621      0.016     -3.932      0.000      -0.093      -0.031\n",
       "dew              0.0591      0.015      3.969      0.000       0.030       0.088\n",
       "PUMonth         -4.0255      0.755     -5.333      0.000      -5.505      -2.546\n",
       "PUWeekday        0.8561      0.283      3.025      0.002       0.301       1.411\n",
       "PUHour           3.0188      0.094     32.035      0.000       2.834       3.203\n",
       "PULocationID     0.2455      0.007     32.745      0.000       0.231       0.260\n",
       "==============================================================================\n",
       "Omnibus:                    31058.230   Durbin-Watson:                   1.991\n",
       "Prob(Omnibus):                  0.000   Jarque-Bera (JB):           287871.698\n",
       "Skew:                           2.762   Prob(JB):                         0.00\n",
       "Kurtosis:                      13.029   Cond. No.                     3.39e+03\n",
       "==============================================================================\n",
       "\n",
       "Notes:\n",
       "[1] Standard Errors assume that the covariance matrix of the errors is correctly specified.\n",
       "[2] The condition number is large, 3.39e+03. This might indicate that there are\n",
       "strong multicollinearity or other numerical problems.\n",
       "\"\"\""
      ]
     },
     "execution_count": 30,
     "metadata": {},
     "output_type": "execute_result"
    }
   ],
   "source": [
    "fit = smf.ols(\n",
    "    formula=\"count ~ wnd + tmp + dew + PUMonth + PUWeekday + PUHour + PULocationID\",\n",
    "    #formula=\"count ~ wnd + vis + tmp + dew + atm + cc + PUMonth + PUWeekday + PUDay + PUHour + PULocationID\",\n",
    "    data=dummy.sample(withReplacement=False, fraction=0.05, seed=42).toPandas()\n",
    ").fit()\n",
    "fit.summary()"
   ]
  },
  {
   "cell_type": "markdown",
   "metadata": {},
   "source": [
    "## Correllation matrix"
   ]
  },
  {
   "cell_type": "code",
   "execution_count": 4,
   "metadata": {},
   "outputs": [
    {
     "name": "stderr",
     "output_type": "stream",
     "text": [
      "[Stage 9:>                                                          (0 + 4) / 4]\r"
     ]
    },
    {
     "name": "stdout",
     "output_type": "stream",
     "text": [
      "22/08/21 22:59:59 WARN InstanceBuilder$NativeBLAS: Failed to load implementation from:dev.ludovic.netlib.blas.JNIBLAS\n",
      "22/08/21 22:59:59 WARN InstanceBuilder$NativeBLAS: Failed to load implementation from:dev.ludovic.netlib.blas.ForeignLinkerBLAS\n"
     ]
    },
    {
     "name": "stderr",
     "output_type": "stream",
     "text": [
      "                                                                                \r"
     ]
    }
   ],
   "source": [
    "from pyspark.ml.stat import Correlation\n",
    "from pyspark.ml.feature import VectorAssembler\n",
    "\n",
    "# convert to vector column first\n",
    "columns = ['PUWeekday', 'PUHour', 'PUMonth', 'PUDay', 'wnd', 'vis', 'tmp', 'dew', 'atm', 'cc']\n",
    "vector_col = \"corr_features\"\n",
    "assembler = VectorAssembler(inputCols=columns, outputCol=vector_col)\n",
    "df_vector = assembler.transform(sdf).select(vector_col)\n",
    "\n",
    "# get correlation matrix\n",
    "matrix = Correlation.corr(df_vector, vector_col)"
   ]
  },
  {
   "cell_type": "code",
   "execution_count": 42,
   "metadata": {},
   "outputs": [
    {
     "data": {
      "text/plain": [
       "<AxesSubplot:>"
      ]
     },
     "execution_count": 42,
     "metadata": {},
     "output_type": "execute_result"
    },
    {
     "data": {
      "image/png": "[encoded data removed]",
      "text/plain": [
       "<Figure size 1152x360 with 2 Axes>"
      ]
     },
     "metadata": {
      "needs_background": "light"
     },
     "output_type": "display_data"
    }
   ],
   "source": [
    "import seaborn as sns\n",
    "import matplotlib.pyplot as plt\n",
    "\n",
    "corr_matrix = matrix.collect()[0][0].toArray().tolist()\n",
    "\n",
    "corr_matrix_df = pd.DataFrame(\n",
    "    data=corr_matrix,\n",
    "    columns=columns,\n",
    "    index=columns\n",
    ")\n",
    "\n",
    "plt.figure(figsize=(16, 5))\n",
    "sns.heatmap(corr_matrix_df,\n",
    "            xticklabels=corr_matrix_df.columns.values,\n",
    "            yticklabels=corr_matrix_df.columns.values,  cmap=\"Greens\", annot=True)\n"
   ]
  },
  {
   "cell_type": "markdown",
   "metadata": {},
   "source": [
    "## Statsmodel by pyspark"
   ]
  },
  {
   "cell_type": "code",
   "execution_count": 7,
   "metadata": {},
   "outputs": [
    {
     "name": "stderr",
     "output_type": "stream",
     "text": [
      "[Stage 4:=================================================>         (5 + 1) / 6]\r"
     ]
    },
    {
     "name": "stdout",
     "output_type": "stream",
     "text": [
      "+--------------------------------------------------------------------------------------------+\n",
      "|features                                                                                    |\n",
      "+--------------------------------------------------------------------------------------------+\n",
      "|(274,[0,1,2,3,4,5,6,7,8,9,162],[21.0,16093.0,178.0,150.0,10139.0,2.0,6.0,5.0,1.0,12.0,1.0]) |\n",
      "|(274,[0,1,2,3,4,6,7,8,9,242],[41.0,16093.0,183.0,89.0,10143.0,6.0,6.0,2.0,6.0,1.0])         |\n",
      "|(274,[0,1,2,3,4,6,7,8,184],[67.0,16093.0,217.0,44.0,10126.0,6.0,7.0,3.0,1.0])               |\n",
      "|(274,[0,1,2,3,4,5,6,7,8,9,152],[26.0,16093.0,167.0,56.0,10145.0,4.0,6.0,7.0,3.0,8.0,1.0])   |\n",
      "|(274,[0,1,2,3,4,5,6,7,8,9,231],[31.0,16093.0,189.0,61.0,10158.0,2.0,6.0,1.0,4.0,5.0,1.0])   |\n",
      "|(274,[0,1,2,3,4,5,6,7,8,9,136],[41.0,16093.0,183.0,83.0,10152.0,2.0,6.0,1.0,4.0,18.0,1.0])  |\n",
      "|(274,[0,1,2,3,4,5,6,7,8,9,78],[15.0,16093.0,211.0,106.0,10126.0,2.0,6.0,7.0,10.0,8.0,1.0])  |\n",
      "|(274,[0,1,2,3,4,5,6,7,8,9,245],[57.0,16093.0,267.0,150.0,10163.0,2.0,6.0,1.0,11.0,3.0,1.0]) |\n",
      "|(274,[0,1,2,3,4,5,6,7,8,9,139],[26.0,16093.0,256.0,161.0,10180.0,2.0,6.0,1.0,11.0,12.0,1.0])|\n",
      "|(274,[0,1,2,3,4,6,7,8,9,167],[36.0,16093.0,261.0,156.0,10160.0,6.0,2.0,12.0,9.0,1.0])       |\n",
      "+--------------------------------------------------------------------------------------------+\n",
      "only showing top 10 rows\n",
      "\n"
     ]
    },
    {
     "name": "stderr",
     "output_type": "stream",
     "text": [
      "                                                                                \r"
     ]
    }
   ],
   "source": [
    "# VectorAssembler creates new vectors from existing columns\n",
    "from pyspark.ml.feature import VectorAssembler\n",
    "\n",
    "onehotdata = OneHotEncoder(\n",
    "    inputCol='PULocationID',\n",
    "    outputCol='location_vec',\n",
    "    dropLast = False\n",
    ").fit(sdf).transform(sdf)\n",
    "\n",
    "\n",
    "assembler = VectorAssembler(\n",
    "    inputCols=['wnd', 'vis', 'tmp', 'dew', 'atm', 'cc', 'PUMonth', 'PUWeekday', 'PUDay', 'PUHour', 'location_vec'],\n",
    "    outputCol='features')\n",
    "model_sdf = assembler.transform(onehotdata)\n",
    "model_sdf.select('features').show(10, truncate=False)\n",
    "\n",
    "# features = 'features'\n",
    "# input_cols = ['wnd', 'vis', 'tmp', 'dew', 'atm', 'cc',\n",
    "#               'PUMonth', 'PUWeekday', 'PUDay', 'PUHour', 'location_vec']\n",
    "# assembler = VectorAssembler(\n",
    "#     # which column to combine\n",
    "#     inputCols=input_cols,\n",
    "#     # How should the combined columns be named\n",
    "#     outputCol=features\n",
    "# )\n",
    "\n",
    "# model_sdf = assembler.transform(ohe_sdf)\n",
    "# # # Display the features and targets for our model\n",
    "# print(model_sdf.select('features').head(2))#, model_sdf.select('count').head(5)\n",
    "#model_sdf.show(200, False)"
   ]
  },
  {
   "cell_type": "code",
   "execution_count": 8,
   "metadata": {},
   "outputs": [],
   "source": [
    "df = model_sdf.sample(False, 1.0, 42)"
   ]
  },
  {
   "cell_type": "code",
   "execution_count": 183,
   "metadata": {},
   "outputs": [
    {
     "name": "stderr",
     "output_type": "stream",
     "text": [
      "                                                                                \r"
     ]
    },
    {
     "data": {
      "text/plain": [
       "1056542"
      ]
     },
     "execution_count": 183,
     "metadata": {},
     "output_type": "execute_result"
    }
   ],
   "source": [
    "df.count()"
   ]
  },
  {
   "cell_type": "code",
   "execution_count": 9,
   "metadata": {},
   "outputs": [
    {
     "name": "stderr",
     "output_type": "stream",
     "text": [
      "                                                                                \r"
     ]
    },
    {
     "name": "stdout",
     "output_type": "stream",
     "text": [
      "After Scaling :\n"
     ]
    },
    {
     "name": "stderr",
     "output_type": "stream",
     "text": [
      "[Stage 45:>                                                         (0 + 1) / 1]\r"
     ]
    },
    {
     "name": "stdout",
     "output_type": "stream",
     "text": [
      "+------------+---------+------+-------+-----+-----+----+-------+-----+-----+-------+---+-----------------+--------------------+----------+----------+----------+----------+----------+---------+\n",
      "|PULocationID|PUWeekday|PUHour|PUMonth|PUDay|count| wnd|    vis|  tmp|  dew|    atm| cc|     location_vec|            features|wnd_Scaled|vis_Scaled|tmp_Scaled|dew_Scaled|atm_Scaled|cc_Scaled|\n",
      "+------------+---------+------+-------+-----+-----+----+-------+-----+-----+-------+---+-----------------+--------------------+----------+----------+----------+----------+----------+---------+\n",
      "|         152|        5|    12|      6|    1|   27|21.0|16093.0|178.0|150.0|10139.0|2.0|(264,[152],[1.0])|(274,[0,1,2,3,4,5...|     0.157|       1.0|     0.251|     0.625|     0.552|    0.222|\n",
      "|         232|        6|     6|      6|    2|   10|41.0|16093.0|183.0| 89.0|10143.0|0.0|(264,[232],[1.0])|(274,[0,1,2,3,4,6...|     0.306|       1.0|      0.27|     0.397|     0.565|      0.0|\n",
      "|         174|        7|     0|      6|    3|    1|67.0|16093.0|217.0| 44.0|10126.0|0.0|(264,[174],[1.0])|(274,[0,1,2,3,4,6...|       0.5|       1.0|     0.397|     0.228|     0.512|      0.0|\n",
      "|         142|        7|     8|      6|    3|  246|26.0|16093.0|167.0| 56.0|10145.0|4.0|(264,[142],[1.0])|(274,[0,1,2,3,4,5...|     0.194|       1.0|      0.21|     0.273|     0.571|    0.444|\n",
      "|         221|        1|     5|      6|    4|    1|31.0|16093.0|189.0| 61.0|10158.0|2.0|(264,[221],[1.0])|(274,[0,1,2,3,4,5...|     0.231|       1.0|     0.292|     0.292|     0.612|    0.222|\n",
      "+------------+---------+------+-------+-----+-----+----+-------+-----+-----+-------+---+-----------------+--------------------+----------+----------+----------+----------+----------+---------+\n",
      "only showing top 5 rows\n",
      "\n"
     ]
    },
    {
     "name": "stderr",
     "output_type": "stream",
     "text": [
      "                                                                                \r"
     ]
    }
   ],
   "source": [
    "# NORMALIZING DATA\n",
    "# code from https://stackoverflow.com/questions/40337744/scalenormalise-a-column-in-spark-dataframe-pyspark\n",
    "from pyspark.ml.feature import MinMaxScaler\n",
    "from pyspark.ml.feature import VectorAssembler\n",
    "from pyspark.ml import Pipeline\n",
    "from pyspark.sql.functions import udf\n",
    "from pyspark.sql.types import DoubleType\n",
    "\n",
    "# UDF for converting column type from vector to double type\n",
    "unlist = udf(lambda x: round(float(list(x)[0]), 3), DoubleType())\n",
    "\n",
    "# Iterating over columns to be scaled\n",
    "for i in ['wnd', 'vis', 'tmp', 'dew', 'atm', 'cc']:\n",
    "    # VectorAssembler Transformation - Converting column to vector type\n",
    "    assembler = VectorAssembler(inputCols=[i], outputCol=i+\"_Vect\")\n",
    "\n",
    "    # MinMaxScaler Transformation\n",
    "    scaler = MinMaxScaler(inputCol=i+\"_Vect\", outputCol=i+\"_Scaled\")\n",
    "\n",
    "    # Pipeline of VectorAssembler and MinMaxScaler\n",
    "    pipeline = Pipeline(stages=[assembler, scaler])\n",
    "\n",
    "    # Fitting pipeline on dataframe\n",
    "    df = pipeline.fit(df).transform(df).withColumn(\n",
    "        i+\"_Scaled\", unlist(i+\"_Scaled\")).drop(i+\"_Vect\")\n",
    "\n",
    "print(\"After Scaling :\")\n",
    "df.show(5)\n"
   ]
  },
  {
   "cell_type": "code",
   "execution_count": 10,
   "metadata": {},
   "outputs": [],
   "source": [
    "df = df.drop('features')\n",
    "assembler = VectorAssembler(\n",
    "    inputCols=['wnd_Scaled', 'vis_Scaled', 'tmp_Scaled', 'dew_Scaled', 'atm_Scaled', 'cc_Scaled', 'PUMonth', 'PUWeekday', 'PUDay', 'PUHour', 'location_vec'],\n",
    "    outputCol='features')\n",
    "thing = assembler.transform(df)"
   ]
  },
  {
   "cell_type": "code",
   "execution_count": 11,
   "metadata": {},
   "outputs": [
    {
     "name": "stderr",
     "output_type": "stream",
     "text": [
      "[Stage 47:================================================>         (5 + 1) / 6]\r"
     ]
    },
    {
     "name": "stdout",
     "output_type": "stream",
     "text": [
      "22/08/22 00:48:45 WARN Instrumentation: [03dfc9b6] regParam is zero, which might cause numerical instability and overfitting.\n"
     ]
    },
    {
     "name": "stderr",
     "output_type": "stream",
     "text": [
      "[Stage 49:>                                                         (0 + 4) / 4]\r"
     ]
    },
    {
     "name": "stdout",
     "output_type": "stream",
     "text": [
      "22/08/22 00:49:40 WARN InstanceBuilder$NativeBLAS: Failed to load implementation from:dev.ludovic.netlib.blas.JNIBLAS\n",
      "22/08/22 00:49:40 WARN InstanceBuilder$NativeBLAS: Failed to load implementation from:dev.ludovic.netlib.blas.ForeignLinkerBLAS\n"
     ]
    },
    {
     "name": "stderr",
     "output_type": "stream",
     "text": [
      "                                                                                \r"
     ]
    },
    {
     "name": "stdout",
     "output_type": "stream",
     "text": [
      "22/08/22 00:49:41 WARN InstanceBuilder$NativeLAPACK: Failed to load implementation from:dev.ludovic.netlib.lapack.JNILAPACK\n",
      "22/08/22 00:49:41 WARN Instrumentation: [03dfc9b6] Cholesky solver failed due to singular covariance matrix. Retrying with Quasi-Newton solver.\n"
     ]
    },
    {
     "name": "stderr",
     "output_type": "stream",
     "text": [
      "                                                                                \r"
     ]
    }
   ],
   "source": [
    "from pyspark.ml.regression import LinearRegression\n",
    "\n",
    "lm = LinearRegression(\n",
    "    featuresCol='features', \n",
    "    labelCol='count'\n",
    ").fit(thing)"
   ]
  },
  {
   "cell_type": "code",
   "execution_count": 12,
   "metadata": {},
   "outputs": [
    {
     "name": "stdout",
     "output_type": "stream",
     "text": [
      "Coefficients: [-2.758239923593503,4.8220665256658295,-27.00040306141628,18.52384101581289,2.1638891515028402,-1.2283156469220902,-5.960223409392756,1.4258592062005162,0.005259479610487974,3.7971239442345346,0.0,-71.73035471696964,-73.17803937980386,-70.73620810190165,-46.710792027588155,-68.84358523078112,-67.20521542306363,-6.741168106523943,-74.3918214076744,-76.65742955483874,-67.93354188221942,-70.77241748389693,-66.06760549348206,34.78878773034103,-69.16400861233669,-71.66034754999826,-71.10699337283705,-58.44774610066788,-71.26170358430326,-71.33730885121551,-72.22791975221367,-70.56996150520195,-69.0684322042713,-70.98246200111116,-35.187760674221906,-36.74180044531219,-71.50220447110159,-78.21340212937643,-68.88823016792553,-71.97607856898918,-74.07223747146854,-76.6196636564905,-70.25118060738102,-32.996249493334965,-79.16131013377179,-68.95971360995634,-61.587186721002546,-63.00674602311011,-67.51807741275562,-68.77053843172315,-57.563438097253645,22.694161723142763,-17.95755342462822,95.72964608376394,-67.36348099010716,-44.0620830296738,-81.46883106736695,-70.19204836624272,270.0535251658519,-54.272780665398926,31.366640884140224,-69.92534218497566,-55.971507124958634,-71.17098095936267,-71.93437654385285,-67.74000496124027,-67.73991326953342,-71.41190970257395,-67.16786608979108,-74.87931906247883,-71.3064070833475,-56.65355534382514,-68.03070469772744,-70.73554700963162,-74.34014420870952,-34.131487621423304,-42.697437735144185,-71.20799024209902,181.70826350091508,-66.69433438494018,-66.023536497054,-68.77551073819934,-69.62990888216244,-71.1334521474207,36.92509426439798,55.307201943176175,-68.25033336665581,-70.36393199613745,-70.12812838731425,213.49401031588852,-56.205082976708,-70.51890174552328,-24.00530762630162,-61.24629049952034,-68.82137625039556,-69.20835058499422,-70.66687155887493,17.715666619099114,-23.13163697696383,-65.97462455864326,122.03290330993703,-68.36226162968708,-60.53548376817716,-65.20369975071257,-71.9610935641148,-41.16910648093389,-74.41086265121193,-31.95417212129064,-71.1265976430346,-85.77545882616896,159.74040904008834,-72.86957462883034,-71.8942048325684,0.0,-116.12429972747134,-82.09616847960214,-66.04966365010547,177.1208487874468,-69.25425750456517,-68.03939670693343,0.0,-76.11561045788628,-53.83551301890038,93.85822549084001,69.48081833576705,-73.96053189471715,-41.55373714773931,-70.8757581226484,-72.60780765064105,-69.74043259948462,-68.51778699318966,-71.38018788394226,-68.6729566850523,-70.72525616902992,-70.0420659515421,-6.659128585282262,-71.43187382839427,-64.23391375743405,-73.98763794295627,-36.08172917186468,-52.937036516393626,-70.6277724209576,227.5126608250536,-68.45702703742816,-61.016012426525904,-68.72912995129757,-68.72049317086545,63.57680013327107,239.72198583875434,-69.8702044289008,108.08673195172847,165.7037145815466,219.96891555468414,41.68708031536684,43.73970104261338,-46.00997278766944,-52.48101756631568,-70.44538511448573,76.94010568336925,-72.99919629311803,-72.2947772406128,19.939640612316172,-50.29581096331383,-73.27853942577703,-75.44017028759471,-71.63886321886707,-72.63694539738252,-69.04123287958821,46.420772819836415,-66.39582200075802,-70.30071103031644,351.031235647054,311.14996190829953,209.31508688417094,190.46125820408383,-70.87440669943982,11.908718192733692,-69.48251350735357,-64.15978869277086,-69.12082867551919,284.7441999366052,-69.76712471934718,-75.40503912588645,-65.53497186722336,-71.12908375169401,-68.31134905975972,-67.77702319444481,-69.93140678230031,-68.28952162130383,-56.541623929196064,-70.67950074242417,-33.584308294450665,-69.11237611569992,-71.68292189813118,-76.76930218978853,-73.25444635572867,311.1441999674285,-68.78983254253144,-64.54476360649734,-64.02237392593274,-72.96829644888791,-70.0415970173634,-72.30406054488924,-62.184632477110135,-73.86114561291258,-72.97476427044604,-60.32558638624162,-69.40937298145327,-67.37843162165049,-80.60881635088134,-70.60031299408104,-72.31518746824666,-74.3393698918442,-67.63309463563559,-79.24909368903927,-69.75605525499277,-77.00087856204087,-76.59236107503801,-70.8050379358321,-44.906139801094085,-67.513881028939,16.12720503756719,-69.53880282935891,-70.43422008356605,-70.94854512336043,-70.76645004597319,-68.46835351798076,-68.40761370532182,-68.4500644580345,-72.9224826423153,-71.76990693412772,-70.66575250130259,-69.55155519614765,-46.66888132988543,-43.30211692944949,-64.3041697288557,-42.495368967282,-70.81917233828736,-67.45772543765996,130.76376002975925,290.1068989572712,112.74920352654284,-50.684677302446154,79.6765727070343,259.1795297020566,-69.08670274635443,278.8448822648198,329.5554206106076,118.87141733202294,185.4416979252892,-71.0548054199154,-70.0636481575697,-70.61591386149004,-61.4950789803615,-34.88620907781701,-73.48181346489807,95.42653481791743,-62.66097436740314,-69.43917571543274,137.74465465504395,-70.98476572473989,-76.87647832513882,-72.38523966474762,-79.09691744137115,-70.43198095637253,-30.723830054921383,-49.08669621455329,-71.74453970221343,-68.85855282519718,-69.8679436166726,-40.69037208854194,-0.6443019789328049,47.00968554466283,114.32206175430797]\n",
      "Intercept: 56.78646812379983\n"
     ]
    }
   ],
   "source": [
    "print(\"Coefficients: \" + str(lm.coefficients))\n",
    "print(\"Intercept: \" + str(lm.intercept))"
   ]
  },
  {
   "cell_type": "code",
   "execution_count": 13,
   "metadata": {},
   "outputs": [
    {
     "name": "stdout",
     "output_type": "stream",
     "text": [
      "numIterations: 13\n",
      "objectiveHistory: [0.5000000000000001, 0.18271931788812346, 0.16380614604641935, 0.16336480272785125, 0.16318603576387963, 0.16310737861907992, 0.16309943357773465, 0.16309219942566455, 0.1630921167075951, 0.1630920761625782, 0.16309207556270977, 0.1630920755467017, 0.16309207554601923, 0.1630920755459151]\n"
     ]
    },
    {
     "name": "stderr",
     "output_type": "stream",
     "text": [
      "[Stage 55:>                                                         (0 + 1) / 1]\r"
     ]
    },
    {
     "name": "stdout",
     "output_type": "stream",
     "text": [
      "+-------------------+\n",
      "|          residuals|\n",
      "+-------------------+\n",
      "| -6.540462607699027|\n",
      "| 3.0466332368309352|\n",
      "|  43.05202965635403|\n",
      "|  -39.7319281514217|\n",
      "|  27.44673691494159|\n",
      "|-23.033258816531237|\n",
      "|  -71.9067003481779|\n",
      "|  35.64343753476154|\n",
      "|  6.827491066599009|\n",
      "|  9.680551606728478|\n",
      "|-14.026275858748122|\n",
      "|  51.63550311692121|\n",
      "|-24.764172700419323|\n",
      "|-28.567673857735976|\n",
      "|-278.33310290989647|\n",
      "| 6.2555744638016435|\n",
      "|  78.89858988127534|\n",
      "|  -5.45123378090905|\n",
      "| -22.19803044799807|\n",
      "| 31.130397689508932|\n",
      "+-------------------+\n",
      "only showing top 20 rows\n",
      "\n",
      "RMSE: 75.448551\n",
      "r2: 0.673816\n"
     ]
    },
    {
     "name": "stderr",
     "output_type": "stream",
     "text": [
      "                                                                                \r"
     ]
    }
   ],
   "source": [
    "print(\"Coefficients: \" + str(lm.coefficients))\n",
    "print(\"Intercept: \" + str(lm.intercept))\n",
    "trainingSummary = lm.summary\n",
    "print(\"numIterations: %d\" % trainingSummary.totalIterations)\n",
    "print(\"objectiveHistory: %s\" % str(trainingSummary.objectiveHistory))\n",
    "trainingSummary.residuals.show()\n",
    "print(\"RMSE: %f\" % trainingSummary.rootMeanSquaredError)\n",
    "print(\"r2: %f\" % trainingSummary.r2)"
   ]
  },
  {
   "cell_type": "code",
   "execution_count": 14,
   "metadata": {},
   "outputs": [
    {
     "name": "stdout",
     "output_type": "stream",
     "text": [
      "MSE: 5692.483895\n"
     ]
    },
    {
     "data": {
      "text/plain": [
       "41.49484527550178"
      ]
     },
     "execution_count": 14,
     "metadata": {},
     "output_type": "execute_result"
    }
   ],
   "source": [
    "# RMSE: 75.448525\n",
    "# r2: 0.673816\n",
    "print(\"MSE: %f\" % trainingSummary.meanSquaredError)\n",
    "trainingSummary.meanAbsoluteError\n"
   ]
  },
  {
   "cell_type": "code",
   "execution_count": 35,
   "metadata": {},
   "outputs": [
    {
     "name": "stderr",
     "output_type": "stream",
     "text": [
      "[Stage 64:================================================>         (5 + 1) / 6]\r"
     ]
    },
    {
     "name": "stdout",
     "output_type": "stream",
     "text": [
      "22/08/21 23:14:00 WARN Instrumentation: [03c03fac] regParam is zero, which might cause numerical instability and overfitting.\n"
     ]
    },
    {
     "name": "stderr",
     "output_type": "stream",
     "text": [
      "[Stage 66:>                                                         (0 + 4) / 4]\r"
     ]
    },
    {
     "name": "stdout",
     "output_type": "stream",
     "text": [
      "22/08/21 23:14:03 WARN Instrumentation: [03c03fac] Cholesky solver failed due to singular covariance matrix. Retrying with Quasi-Newton solver.\n"
     ]
    },
    {
     "name": "stderr",
     "output_type": "stream",
     "text": [
      "                                                                                \r"
     ]
    }
   ],
   "source": [
    "from pyspark.ml.regression import GeneralizedLinearRegression\n",
    "\n",
    "glm = GeneralizedLinearRegression(\n",
    "    featuresCol='features',\n",
    "    labelCol='count'\n",
    ").fit(model_sdf)"
   ]
  },
  {
   "cell_type": "code",
   "execution_count": 36,
   "metadata": {},
   "outputs": [
    {
     "name": "stderr",
     "output_type": "stream",
     "text": [
      "                                                                                \r"
     ]
    },
    {
     "name": "stdout",
     "output_type": "stream",
     "text": [
      "Dispersion: 5693.956600470586\n"
     ]
    },
    {
     "name": "stderr",
     "output_type": "stream",
     "text": [
      "                                                                                \r"
     ]
    },
    {
     "name": "stdout",
     "output_type": "stream",
     "text": [
      "Null Deviance: 18438505669.75255\n",
      "Residual Degree Of Freedom Null: 1056541\n",
      "Deviance: 6014344150.465864\n",
      "Residual Degree Of Freedom: 1056268\n"
     ]
    },
    {
     "name": "stderr",
     "output_type": "stream",
     "text": [
      "                                                                                \r"
     ]
    },
    {
     "name": "stdout",
     "output_type": "stream",
     "text": [
      "AIC: 12134700.679032985\n",
      "Deviance Residuals: \n"
     ]
    },
    {
     "name": "stderr",
     "output_type": "stream",
     "text": [
      "[Stage 79:================================================>         (5 + 1) / 6]\r"
     ]
    },
    {
     "name": "stdout",
     "output_type": "stream",
     "text": [
      "+-------------------+\n",
      "|  devianceResiduals|\n",
      "+-------------------+\n",
      "|-6.5538200005479155|\n",
      "| 3.0352928867120426|\n",
      "|  43.04191186260306|\n",
      "|  -39.7496486680277|\n",
      "| 27.446033287152517|\n",
      "| -23.03631618815072|\n",
      "|  -71.9158846177331|\n",
      "|  35.64459066348283|\n",
      "|  6.835503993476124|\n",
      "|  9.675370459458875|\n",
      "|-14.033113931787923|\n",
      "| 51.637155700582426|\n",
      "|-24.762485330210566|\n",
      "|-28.582318130649455|\n",
      "|  -278.341656877835|\n",
      "|  6.260449099064431|\n",
      "|  78.89309319804966|\n",
      "|-5.4471056092597365|\n",
      "|-22.188966110605023|\n",
      "|  31.13305648135892|\n",
      "+-------------------+\n",
      "only showing top 20 rows\n",
      "\n"
     ]
    },
    {
     "name": "stderr",
     "output_type": "stream",
     "text": [
      "                                                                                \r"
     ]
    }
   ],
   "source": [
    "summary = glm.summary\n",
    "# ei print(\"Coefficient Standard Errors: \" + str(summary.coefficientStandardErrors))\n",
    "# ei print(\"T Values: \" + str(summary.tValues))\n",
    "# ei print(\"P Values: \" + str(summary.pValues))\n",
    "\n",
    "print(\"Dispersion: \" + str(summary.dispersion)) # töötas\n",
    "print(\"Null Deviance: \" + str(summary.nullDeviance)) # töötas\n",
    "print(\"Residual Degree Of Freedom Null: \" + str(summary.residualDegreeOfFreedomNull)) # töödas\n",
    "print(\"Deviance: \" + str(summary.deviance)) # töödas\n",
    "print(\"Residual Degree Of Freedom: \" + str(summary.residualDegreeOfFreedom)) # töödas\n",
    "print(\"AIC: \" + str(summary.aic)) #täädas\n",
    "print(\"Deviance Residuals: \") \n",
    "summary.residuals().show() #täädas"
   ]
  },
  {
   "cell_type": "code",
   "execution_count": 44,
   "metadata": {},
   "outputs": [
    {
     "name": "stderr",
     "output_type": "stream",
     "text": [
      "                                                                                \r"
     ]
    },
    {
     "data": {
      "text/plain": [
       "1056542"
      ]
     },
     "execution_count": 44,
     "metadata": {},
     "output_type": "execute_result"
    }
   ],
   "source": [
    "model_sdf.count()"
   ]
  },
  {
   "cell_type": "code",
   "execution_count": 111,
   "metadata": {},
   "outputs": [
    {
     "name": "stderr",
     "output_type": "stream",
     "text": [
      "                                                                                \r"
     ]
    },
    {
     "data": {
      "text/plain": [
       "19911164"
      ]
     },
     "execution_count": 111,
     "metadata": {},
     "output_type": "execute_result"
    }
   ],
   "source": [
    "df2 = model_sdf.dropDuplicates()\n",
    "df2.count()"
   ]
  },
  {
   "cell_type": "markdown",
   "metadata": {},
   "source": [
    "## Correllation matrix with OHE"
   ]
  },
  {
   "cell_type": "code",
   "execution_count": 47,
   "metadata": {},
   "outputs": [
    {
     "name": "stderr",
     "output_type": "stream",
     "text": [
      "[Stage 120:>                                                        (0 + 4) / 4]\r"
     ]
    },
    {
     "name": "stdout",
     "output_type": "stream",
     "text": [
      "22/08/21 23:27:11 WARN PearsonCorrelation: Pearson correlation matrix contains NaN values.\n"
     ]
    },
    {
     "name": "stderr",
     "output_type": "stream",
     "text": [
      "                                                                                \r"
     ]
    }
   ],
   "source": [
    "# cov mat with locid as onehotencoded\n",
    "\n",
    "# convert to vector column first\n",
    "columns = ['PUWeekday', 'PUHour', 'PUMonth', 'PUDay', 'wnd', 'vis', 'tmp', 'dew', 'atm', 'cc', 'location_vec']\n",
    "vector_col = \"corr_features\"\n",
    "assembler = VectorAssembler(inputCols=columns, outputCol=vector_col)\n",
    "df_vector = assembler.transform(model_sdf).select(vector_col)\n",
    "\n",
    "# get correlation matrix\n",
    "matrix = Correlation.corr(df_vector, vector_col)\n"
   ]
  },
  {
   "cell_type": "code",
   "execution_count": 49,
   "metadata": {},
   "outputs": [],
   "source": [
    "corr_matrix = matrix.collect()[0][0].toArray().tolist()"
   ]
  },
  {
   "cell_type": "code",
   "execution_count": 79,
   "metadata": {},
   "outputs": [],
   "source": [
    "locs = ['loc'+str(i) for i in range(1, 264)]\n",
    "locs.remove('loc103')\n",
    "locs.remove('loc110')\n",
    "columns = ['PUWeekday', 'PUHour', 'PUMonth', 'PUDay', 'wnd', 'vis', 'tmp', 'dew', 'atm', 'cc'] + locs"
   ]
  },
  {
   "cell_type": "code",
   "execution_count": 80,
   "metadata": {},
   "outputs": [
    {
     "ename": "ValueError",
     "evalue": "271 columns passed, passed data had 273 columns",
     "output_type": "error",
     "traceback": [
      "\u001b[0;31m---------------------------------------------------------------------------\u001b[0m",
      "\u001b[0;31mAssertionError\u001b[0m                            Traceback (most recent call last)",
      "File \u001b[0;32m~/ADS/adsenv/lib/python3.8/site-packages/pandas/core/internals/construction.py:982\u001b[0m, in \u001b[0;36m_finalize_columns_and_data\u001b[0;34m(content, columns, dtype)\u001b[0m\n\u001b[1;32m    981\u001b[0m \u001b[39mtry\u001b[39;00m:\n\u001b[0;32m--> 982\u001b[0m     columns \u001b[39m=\u001b[39m _validate_or_indexify_columns(contents, columns)\n\u001b[1;32m    983\u001b[0m \u001b[39mexcept\u001b[39;00m \u001b[39mAssertionError\u001b[39;00m \u001b[39mas\u001b[39;00m err:\n\u001b[1;32m    984\u001b[0m     \u001b[39m# GH#26429 do not raise user-facing AssertionError\u001b[39;00m\n",
      "File \u001b[0;32m~/ADS/adsenv/lib/python3.8/site-packages/pandas/core/internals/construction.py:1030\u001b[0m, in \u001b[0;36m_validate_or_indexify_columns\u001b[0;34m(content, columns)\u001b[0m\n\u001b[1;32m   1028\u001b[0m \u001b[39mif\u001b[39;00m \u001b[39mnot\u001b[39;00m is_mi_list \u001b[39mand\u001b[39;00m \u001b[39mlen\u001b[39m(columns) \u001b[39m!=\u001b[39m \u001b[39mlen\u001b[39m(content):  \u001b[39m# pragma: no cover\u001b[39;00m\n\u001b[1;32m   1029\u001b[0m     \u001b[39m# caller's responsibility to check for this...\u001b[39;00m\n\u001b[0;32m-> 1030\u001b[0m     \u001b[39mraise\u001b[39;00m \u001b[39mAssertionError\u001b[39;00m(\n\u001b[1;32m   1031\u001b[0m         \u001b[39mf\u001b[39m\u001b[39m\"\u001b[39m\u001b[39m{\u001b[39;00m\u001b[39mlen\u001b[39m(columns)\u001b[39m}\u001b[39;00m\u001b[39m columns passed, passed data had \u001b[39m\u001b[39m\"\u001b[39m\n\u001b[1;32m   1032\u001b[0m         \u001b[39mf\u001b[39m\u001b[39m\"\u001b[39m\u001b[39m{\u001b[39;00m\u001b[39mlen\u001b[39m(content)\u001b[39m}\u001b[39;00m\u001b[39m columns\u001b[39m\u001b[39m\"\u001b[39m\n\u001b[1;32m   1033\u001b[0m     )\n\u001b[1;32m   1034\u001b[0m \u001b[39melif\u001b[39;00m is_mi_list:\n\u001b[1;32m   1035\u001b[0m \n\u001b[1;32m   1036\u001b[0m     \u001b[39m# check if nested list column, length of each sub-list should be equal\u001b[39;00m\n",
      "\u001b[0;31mAssertionError\u001b[0m: 271 columns passed, passed data had 273 columns",
      "\nThe above exception was the direct cause of the following exception:\n",
      "\u001b[0;31mValueError\u001b[0m                                Traceback (most recent call last)",
      "\u001b[1;32m/home/toomas/ADS/mast30034-project-1-ToomasRo/notebooks/modelling.ipynb Cell 35\u001b[0m in \u001b[0;36m<cell line: 1>\u001b[0;34m()\u001b[0m\n\u001b[0;32m----> <a href='vscode-notebook-cell://wsl%2Bubuntu-20.04/home/toomas/ADS/mast30034-project-1-ToomasRo/notebooks/modelling.ipynb#X60sdnNjb2RlLXJlbW90ZQ%3D%3D?line=0'>1</a>\u001b[0m corr_matrix_df \u001b[39m=\u001b[39m pd\u001b[39m.\u001b[39;49mDataFrame(\n\u001b[1;32m      <a href='vscode-notebook-cell://wsl%2Bubuntu-20.04/home/toomas/ADS/mast30034-project-1-ToomasRo/notebooks/modelling.ipynb#X60sdnNjb2RlLXJlbW90ZQ%3D%3D?line=1'>2</a>\u001b[0m     data\u001b[39m=\u001b[39;49mcorr_matrix,\n\u001b[1;32m      <a href='vscode-notebook-cell://wsl%2Bubuntu-20.04/home/toomas/ADS/mast30034-project-1-ToomasRo/notebooks/modelling.ipynb#X60sdnNjb2RlLXJlbW90ZQ%3D%3D?line=2'>3</a>\u001b[0m     columns\u001b[39m=\u001b[39;49mcolumns,\n\u001b[1;32m      <a href='vscode-notebook-cell://wsl%2Bubuntu-20.04/home/toomas/ADS/mast30034-project-1-ToomasRo/notebooks/modelling.ipynb#X60sdnNjb2RlLXJlbW90ZQ%3D%3D?line=3'>4</a>\u001b[0m     index\u001b[39m=\u001b[39;49mcolumns\n\u001b[1;32m      <a href='vscode-notebook-cell://wsl%2Bubuntu-20.04/home/toomas/ADS/mast30034-project-1-ToomasRo/notebooks/modelling.ipynb#X60sdnNjb2RlLXJlbW90ZQ%3D%3D?line=4'>5</a>\u001b[0m )\n",
      "File \u001b[0;32m~/ADS/adsenv/lib/python3.8/site-packages/pandas/core/frame.py:721\u001b[0m, in \u001b[0;36mDataFrame.__init__\u001b[0;34m(self, data, index, columns, dtype, copy)\u001b[0m\n\u001b[1;32m    716\u001b[0m     \u001b[39mif\u001b[39;00m columns \u001b[39mis\u001b[39;00m \u001b[39mnot\u001b[39;00m \u001b[39mNone\u001b[39;00m:\n\u001b[1;32m    717\u001b[0m         \u001b[39m# error: Argument 1 to \"ensure_index\" has incompatible type\u001b[39;00m\n\u001b[1;32m    718\u001b[0m         \u001b[39m# \"Collection[Any]\"; expected \"Union[Union[Union[ExtensionArray,\u001b[39;00m\n\u001b[1;32m    719\u001b[0m         \u001b[39m# ndarray], Index, Series], Sequence[Any]]\"\u001b[39;00m\n\u001b[1;32m    720\u001b[0m         columns \u001b[39m=\u001b[39m ensure_index(columns)  \u001b[39m# type: ignore[arg-type]\u001b[39;00m\n\u001b[0;32m--> 721\u001b[0m     arrays, columns, index \u001b[39m=\u001b[39m nested_data_to_arrays(\n\u001b[1;32m    722\u001b[0m         \u001b[39m# error: Argument 3 to \"nested_data_to_arrays\" has incompatible\u001b[39;49;00m\n\u001b[1;32m    723\u001b[0m         \u001b[39m# type \"Optional[Collection[Any]]\"; expected \"Optional[Index]\"\u001b[39;49;00m\n\u001b[1;32m    724\u001b[0m         data,\n\u001b[1;32m    725\u001b[0m         columns,\n\u001b[1;32m    726\u001b[0m         index,  \u001b[39m# type: ignore[arg-type]\u001b[39;49;00m\n\u001b[1;32m    727\u001b[0m         dtype,\n\u001b[1;32m    728\u001b[0m     )\n\u001b[1;32m    729\u001b[0m     mgr \u001b[39m=\u001b[39m arrays_to_mgr(\n\u001b[1;32m    730\u001b[0m         arrays,\n\u001b[1;32m    731\u001b[0m         columns,\n\u001b[0;32m   (...)\u001b[0m\n\u001b[1;32m    734\u001b[0m         typ\u001b[39m=\u001b[39mmanager,\n\u001b[1;32m    735\u001b[0m     )\n\u001b[1;32m    736\u001b[0m \u001b[39melse\u001b[39;00m:\n",
      "File \u001b[0;32m~/ADS/adsenv/lib/python3.8/site-packages/pandas/core/internals/construction.py:519\u001b[0m, in \u001b[0;36mnested_data_to_arrays\u001b[0;34m(data, columns, index, dtype)\u001b[0m\n\u001b[1;32m    516\u001b[0m \u001b[39mif\u001b[39;00m is_named_tuple(data[\u001b[39m0\u001b[39m]) \u001b[39mand\u001b[39;00m columns \u001b[39mis\u001b[39;00m \u001b[39mNone\u001b[39;00m:\n\u001b[1;32m    517\u001b[0m     columns \u001b[39m=\u001b[39m ensure_index(data[\u001b[39m0\u001b[39m]\u001b[39m.\u001b[39m_fields)\n\u001b[0;32m--> 519\u001b[0m arrays, columns \u001b[39m=\u001b[39m to_arrays(data, columns, dtype\u001b[39m=\u001b[39;49mdtype)\n\u001b[1;32m    520\u001b[0m columns \u001b[39m=\u001b[39m ensure_index(columns)\n\u001b[1;32m    522\u001b[0m \u001b[39mif\u001b[39;00m index \u001b[39mis\u001b[39;00m \u001b[39mNone\u001b[39;00m:\n",
      "File \u001b[0;32m~/ADS/adsenv/lib/python3.8/site-packages/pandas/core/internals/construction.py:883\u001b[0m, in \u001b[0;36mto_arrays\u001b[0;34m(data, columns, dtype)\u001b[0m\n\u001b[1;32m    880\u001b[0m     data \u001b[39m=\u001b[39m [\u001b[39mtuple\u001b[39m(x) \u001b[39mfor\u001b[39;00m x \u001b[39min\u001b[39;00m data]\n\u001b[1;32m    881\u001b[0m     arr \u001b[39m=\u001b[39m _list_to_arrays(data)\n\u001b[0;32m--> 883\u001b[0m content, columns \u001b[39m=\u001b[39m _finalize_columns_and_data(arr, columns, dtype)\n\u001b[1;32m    884\u001b[0m \u001b[39mreturn\u001b[39;00m content, columns\n",
      "File \u001b[0;32m~/ADS/adsenv/lib/python3.8/site-packages/pandas/core/internals/construction.py:985\u001b[0m, in \u001b[0;36m_finalize_columns_and_data\u001b[0;34m(content, columns, dtype)\u001b[0m\n\u001b[1;32m    982\u001b[0m     columns \u001b[39m=\u001b[39m _validate_or_indexify_columns(contents, columns)\n\u001b[1;32m    983\u001b[0m \u001b[39mexcept\u001b[39;00m \u001b[39mAssertionError\u001b[39;00m \u001b[39mas\u001b[39;00m err:\n\u001b[1;32m    984\u001b[0m     \u001b[39m# GH#26429 do not raise user-facing AssertionError\u001b[39;00m\n\u001b[0;32m--> 985\u001b[0m     \u001b[39mraise\u001b[39;00m \u001b[39mValueError\u001b[39;00m(err) \u001b[39mfrom\u001b[39;00m \u001b[39merr\u001b[39;00m\n\u001b[1;32m    987\u001b[0m \u001b[39mif\u001b[39;00m \u001b[39mlen\u001b[39m(contents) \u001b[39mand\u001b[39;00m contents[\u001b[39m0\u001b[39m]\u001b[39m.\u001b[39mdtype \u001b[39m==\u001b[39m np\u001b[39m.\u001b[39mobject_:\n\u001b[1;32m    988\u001b[0m     contents \u001b[39m=\u001b[39m _convert_object_array(contents, dtype\u001b[39m=\u001b[39mdtype)\n",
      "\u001b[0;31mValueError\u001b[0m: 271 columns passed, passed data had 273 columns"
     ]
    }
   ],
   "source": [
    "corr_matrix_df = pd.DataFrame(\n",
    "    data=corr_matrix,\n",
    "    columns=columns,\n",
    "    index=columns\n",
    ")"
   ]
  },
  {
   "cell_type": "code",
   "execution_count": 60,
   "metadata": {},
   "outputs": [
    {
     "data": {
      "text/plain": [
       "<AxesSubplot:>"
      ]
     },
     "execution_count": 60,
     "metadata": {},
     "output_type": "execute_result"
    },
    {
     "data": {
      "image/png": "[encoded data removed]",
      "text/plain": [
       "<Figure size 2304x864 with 2 Axes>"
      ]
     },
     "metadata": {
      "needs_background": "light"
     },
     "output_type": "display_data"
    }
   ],
   "source": [
    "plt.figure(figsize=(32, 12))\n",
    "sns.heatmap(corr_matrix_df,\n",
    "            xticklabels=corr_matrix_df.columns.values,\n",
    "            yticklabels=corr_matrix_df.columns.values,  cmap=\"Greens\", annot=False)"
   ]
  },
  {
   "cell_type": "code",
   "execution_count": 69,
   "metadata": {},
   "outputs": [
    {
     "name": "stderr",
     "output_type": "stream",
     "text": [
      "                                                                                \r"
     ]
    }
   ],
   "source": [
    "# finding if every location appears at least once\n",
    "lst = [x.PULocationID for x in model_sdf.select('PULocationID').dropDuplicates().collect()]"
   ]
  },
  {
   "cell_type": "code",
   "execution_count": 71,
   "metadata": {},
   "outputs": [
    {
     "data": {
      "text/plain": [
       "{0, 103, 110, 264}"
      ]
     },
     "execution_count": 71,
     "metadata": {},
     "output_type": "execute_result"
    }
   ],
   "source": [
    "set([x for x in range(0, 265)]) - set(lst)"
   ]
  },
  {
   "cell_type": "markdown",
   "metadata": {},
   "source": [
    "# Model 2"
   ]
  },
  {
   "cell_type": "code",
   "execution_count": null,
   "metadata": {},
   "outputs": [],
   "source": [
    "from pyspark.ml.regression import "
   ]
  },
  {
   "cell_type": "code",
   "execution_count": null,
   "metadata": {},
   "outputs": [],
   "source": [
    "mlpc=MultilayerPerceptronClassifier( featuresCol='features',labelCol='Class ',layers = [4,16,2],\\\n",
    "                                    maxIter=1000,blockSize=8,seed=7,solver='gd')"
   ]
  }
 ],
 "metadata": {
  "kernelspec": {
   "display_name": "Python 3.8.10 ('adsenv': venv)",
   "language": "python",
   "name": "python3"
  },
  "language_info": {
   "codemirror_mode": {
    "name": "ipython",
    "version": 3
   },
   "file_extension": ".py",
   "mimetype": "text/x-python",
   "name": "python",
   "nbconvert_exporter": "python",
   "pygments_lexer": "ipython3",
   "version": "3.8.10"
  },
  "orig_nbformat": 4,
  "vscode": {
   "interpreter": {
    "hash": "c5863b7319be0ba8d88ed95044dcfd002e9d5d183ede3cf6092c3150097f8482"
   }
  }
 },
 "nbformat": 4,
 "nbformat_minor": 2
}
